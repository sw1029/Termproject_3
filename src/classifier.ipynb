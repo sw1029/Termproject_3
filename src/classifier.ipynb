{
 "cells": [
  {
   "cell_type": "code",
   "execution_count": 1,
   "id": "2cf7d92edb9231de",
   "metadata": {},
   "outputs": [
    {
     "data": {
      "application/vnd.jupyter.widget-view+json": {
       "model_id": "b0350a3020d94298ab5072c6f52cc8da",
       "version_major": 2,
       "version_minor": 0
      },
      "text/plain": [
       "Loading checkpoint shards:   0%|          | 0/8 [00:00<?, ?it/s]"
      ]
     },
     "metadata": {},
     "output_type": "display_data"
    },
    {
     "name": "stdout",
     "output_type": "stream",
     "text": [
      "질문: 오늘 학식 뭐 나와?\n",
      "투표 결과: Counter({3: 5}), 최종 선택: 3\n",
      "입력: 오늘 학식 뭐 나와?\n",
      "예측: 3 (식단 안내)\n"
     ]
    }
   ],
   "source": [
    "import torch\n",
    "from transformers import AutoTokenizer, AutoModelForCausalLM, BitsAndBytesConfig\n",
    "import difflib\n",
    "import random\n",
    "from collections import Counter\n",
    "\n",
    "# 1. 모델 및 토크나이저 로드 (기존과 동일)\n",
    "model_name = \"Qwen/Qwen3-14B\"\n",
    "# model_name = \"dnotitia/DNA-R1\"\n",
    "\n",
    "bnb_config = BitsAndBytesConfig(\n",
    "    load_in_4bit=True,\n",
    "    bnb_4bit_use_double_quant=True,\n",
    "    bnb_4bit_quant_type=\"nf4\",\n",
    "    bnb_4bit_compute_dtype=torch.bfloat16\n",
    ")\n",
    "\n",
    "tokenizer = AutoTokenizer.from_pretrained(model_name)\n",
    "model = AutoModelForCausalLM.from_pretrained(\n",
    "    model_name,\n",
    "    quantization_config=bnb_config,\n",
    "    device_map=\"auto\"\n",
    ")\n",
    "\n",
    "# 'categories' 딕셔너리가 함수 외부 또는 전역 스코프에 정의되어 있어야 합니다.\n",
    "categories = {\n",
    "    0: \"졸업요건\",\n",
    "    1: \"학교 공지사항\",\n",
    "    2: \"학사일정\",\n",
    "    3: \"식단 안내\",\n",
    "    4: \"통학/셔틀 버스\"\n",
    "}\n",
    "\n",
    "def _get_single_llm_prediction(user_query):\n",
    "    # 1. 프롬프트를 'system'과 'user' 역할로 분리합니다.\n",
    "    system_prompt = \"당신은 주어진 학교 관련 질문을 사전 정의된 5개의 카테고리 중 하나로 분류하는 AI 분류기입니다. 오직 숫자 레이블 하나만 응답해야 합니다.\"\n",
    "\n",
    "    user_prompt = f\"\"\"다음은 사용자 질문과 관련된 카테고리 목록입니다:\n",
    "0: 졸업요건 (예: 졸업까지 몇 학점을 들어야 하나요?)\n",
    "1: 학교 공지사항 (예: 이번에 올라온 공지사항 어디서 볼 수 있어요?)\n",
    "2: 학사일정 (예: 이번 학기 수강신청은 언제 시작하나요?)\n",
    "3: 식단 안내 (예: 오늘 학식 뭐 나와요?)\n",
    "4: 통학/셔틀 버스 (예: 다음주에 셔틀버스는 정상 운행하나요?)\n",
    "\n",
    "사용자 질문: \"{user_query}\"\n",
    "\n",
    "위 질문은 어떤 카테고리에 가장 적합한가요? 숫자 레이블만 대답해주세요 (0, 1, 2, 3, 4 중 하나).\n",
    "\n",
    "가장 적합한 카테고리 번호:\"\"\"\n",
    "\n",
    "    messages = [\n",
    "        {\"role\": \"system\", \"content\": system_prompt},\n",
    "        {\"role\": \"user\", \"content\": user_prompt}\n",
    "    ]\n",
    "\n",
    "    # 2. Qwen2의 채팅 템플릿을 적용하여 모델이 이해하는 형식으로 변환합니다.\n",
    "    text = tokenizer.apply_chat_template(\n",
    "        messages,\n",
    "        tokenize=False,\n",
    "        add_generation_prompt=True,\n",
    "        enable_thinking=False\n",
    "    )\n",
    "\n",
    "    # 3. 변환된 텍스트를 토큰화합니다.\n",
    "    model_inputs = tokenizer([text], return_tensors=\"pt\").to(model.device)\n",
    "\n",
    "    # Qwen2 토크나이저에 pad_token이 없을 수 있으므로 eos_token으로 설정해주는 것이 안전합니다.\n",
    "    if tokenizer.pad_token is None:\n",
    "        tokenizer.pad_token = tokenizer.eos_token\n",
    "\n",
    "    # 4. 모델을 통해 답변을 생성합니다. (기존 generate 파라미터 유지)\n",
    "    generated_ids = model.generate(\n",
    "        model_inputs.input_ids,\n",
    "        max_new_tokens=5,\n",
    "        eos_token_id=tokenizer.eos_token_id,\n",
    "        pad_token_id=tokenizer.pad_token_id,\n",
    "        do_sample=True,\n",
    "        temperature=0.5,\n",
    "        top_p=0.9\n",
    "    )\n",
    "\n",
    "    # 5. 입력 부분을 제외하고 순수하게 생성된 부분만 디코딩합니다.\n",
    "    # 제공해주신 Qwen2 예제 코드의 디코딩 방식을 적용합니다.\n",
    "    input_ids_len = model_inputs.input_ids.shape[1]\n",
    "    response_ids = generated_ids[:, input_ids_len:]\n",
    "\n",
    "    response_text = tokenizer.batch_decode(response_ids, skip_special_tokens=True)[0].strip()\n",
    "\n",
    "    #print(f\"모델에서 추출한 response_text(label 파싱 전): {response_text}\")\n",
    "    \n",
    "    # 6. 응답에서 숫자 레이블을 파싱합니다. (기존 로직과 동일)\n",
    "    try:\n",
    "        predicted_label_str = ''.join(filter(str.isdigit, response_text))\n",
    "        if predicted_label_str:\n",
    "            predicted_label = int(predicted_label_str[0])\n",
    "            if predicted_label in categories:\n",
    "                return predicted_label\n",
    "    except (ValueError, IndexError):\n",
    "        # 파싱에 실패한 경우\n",
    "        return None\n",
    "\n",
    "    # 유효한 카테고리 번호가 아닌 경우\n",
    "    return None\n",
    "\n",
    "\n",
    "def _fallback_classify_by_similarity(user_query):\n",
    "    \"\"\"\n",
    "    LLM 예측 실패 시, 키워드 유사도 기반으로 분류하는 Fallback 함수입니다.\n",
    "    \"\"\"\n",
    "    category_examples = {\n",
    "        0: \"졸업 요건, 졸업 학점, 졸업 논문, 졸업 자격, 졸업 인증, 유예 신청, 졸업 필수 조건\",\n",
    "        1: \"학교 공지사항, 안내문, 공고, 공지 업데이트, 휴강 안내, 장학금 공지, 긴급 알림\",\n",
    "        2: \"수강 신청, 시험 기간, 성적 발표, 개강일, 종강일, 학사 일정, 수업 일정, 등록 일정\",\n",
    "        3: \"학식, 학생 식당, 식단표, 조식, 중식, 석식, 오늘 메뉴, 급식 시간, 식단 운영\",\n",
    "        4: \"셔틀버스, 통학버스, 운행 시간표, 버스 노선, 정류장 위치, 셔틀 예약, 통학 교통\"\n",
    "    }\n",
    "\n",
    "    best_score = -1\n",
    "    best_label = random.randint(0, 4) # 만약을 대비한 기본값\n",
    "    for label, example in category_examples.items():\n",
    "        score = difflib.SequenceMatcher(None, user_query, example).ratio()\n",
    "        if score > best_score:\n",
    "            best_score = score\n",
    "            best_label = label\n",
    "\n",
    "    return best_label\n",
    "\n",
    "\n",
    "def classify_query(user_query, num_votes=5):\n",
    "    \"\"\"\n",
    "    사용자 질의를 입력받아 Voting 앙상블 기법으로 카테고리를 분류합니다.\n",
    "\n",
    "    Args:\n",
    "        user_query (str): 사용자 질문\n",
    "        num_votes (int): 앙상블에 사용할 투표 횟수 (홀수를 추천)\n",
    "\n",
    "    Returns:\n",
    "        tuple: (예측된 레이블, 예측된 카테고리 이름)\n",
    "    \"\"\"\n",
    "    votes = []\n",
    "    # 1. 정해진 횟수만큼 LLM에게 예측을 요청하여 투표 수집\n",
    "    for _ in range(num_votes):\n",
    "        prediction = _get_single_llm_prediction(user_query)\n",
    "        #print(f\"get single llm prediction의 결과물: {prediction}\")\n",
    "        if prediction is not None:\n",
    "            votes.append(prediction)\n",
    "\n",
    "    # 2. 투표 결과 분석\n",
    "    if votes:\n",
    "        # 가장 많이 나온 투표 결과를 선택 (다수결)\n",
    "        counter = Counter(votes)\n",
    "        # most_common(1)은 [(가장 흔한 항목, 횟수)] 형태의 리스트를 반환\n",
    "        best_label = counter.most_common(1)[0][0]\n",
    "        print(f\"질문: {user_query}\")\n",
    "        print(f\"투표 결과: {counter}, 최종 선택: {best_label}\")\n",
    "    else:\n",
    "        # 3. LLM이 모든 예측에 실패한 경우, Fallback 로직 실행\n",
    "        print(\"LLM 예측이 모두 실패하여 유사도 기반 Fallback 로직을 실행합니다.\")\n",
    "        best_label = _fallback_classify_by_similarity(user_query)\n",
    "\n",
    "    return best_label, categories[best_label]\n",
    "\n",
    "if __name__ == \"__main__\":\n",
    "    q = \"오늘 학식 뭐 나와?\"\n",
    "    label, category = classify_query(q)\n",
    "    print(f\"입력: {q}\\n예측: {label} ({category})\")"
   ]
  },
  {
   "cell_type": "code",
   "execution_count": 2,
   "id": "5878a457-1f13-461a-941c-da451d268919",
   "metadata": {},
   "outputs": [
    {
     "name": "stdout",
     "output_type": "stream",
     "text": [
      "질문: 오늘 학식 뭐 나와?\n",
      "투표 결과: Counter({3: 5}), 최종 선택: 3\n",
      "2025-06-20 12:38:41.196 | INFO     | src.answers.meals_answer:get_context:184 - 20250620 날짜의 로컬 식단 정보를 사용합니다.\n",
      "찾은 식단 정보: 정식(1000)\n",
      "\n",
      "참치김치찌개\n",
      "돈탕수육(pork included)\n",
      "청경채겉절이\n",
      "깍두기, 정식(6000)\n",
      "\n",
      "보리열무비빔밥\n",
      "건새우아욱국\n",
      "왕떡갈비(pork included)\n",
      "쑥앙금절편\n",
      "배추김치, 정식(6000)\n",
      "\n",
      "물냉면\n",
      "삶은계란\n",
      "장떡전\n",
      "돈까스샐러드(pork included)\n",
      "냉면김치 등\n"
     ]
    }
   ],
   "source": [
    "import sys\n",
    "from pathlib import Path\n",
    "project_root = str(Path.cwd().parent)\n",
    "if project_root not in sys.path:\n",
    "    sys.path.insert(0, project_root)\n",
    "from src.answers import academic_calendar_answer,shuttle_bus_answer,graduation_req_answer,meals_answer,notices_answer\n",
    "\n",
    "from typing import List, Dict, Any\n",
    "import json\n",
    "import torch\n",
    "from threading import Thread\n",
    "from transformers import AutoTokenizer, AutoModelForCausalLM, TextIteratorStreamer, BitsAndBytesConfig\n",
    "from utils.config import settings\n",
    "\n",
    "\n",
    "def format_meals_context(docs: List[Dict[str, Any]]) -> List[str]:\n",
    "    formatted_texts = []\n",
    "    for doc in docs:\n",
    "        meal = doc.get(\"meal\", \"\")\n",
    "        menu = doc.get(\"menu\", \"운영안함\").replace(\"\\n\", \", \")\n",
    "        if menu != \"운영안함\":\n",
    "            formatted_texts.append(f\"[{meal}] {menu}\")\n",
    "    return formatted_texts\n",
    "\n",
    "\n",
    "class HybridRetriever:\n",
    "    def retrieve(self, query: str) -> List[str]:\n",
    "        return []\n",
    "\n",
    "\n",
    "class PromptBuilder:\n",
    "    def build(self, question: str, docs: List[str]) -> str:\n",
    "        context = \"\".join(docs) if docs else \"참고할 정보가 없습니다.\"\n",
    "        prompt = f\"\"\"당신은 충남대학교 관련 정보를 안내하는 챗봇입니다.\n",
    "주어진 '참고 자료'를 근거로 사용자의 질문에 명확하고 친절하게 답변해야 합니다.\n",
    "참고 자료에 없는 내용은 답변에 포함하지 마세요.\n",
    "\n",
    "[참고 자료]\n",
    "{context}\n",
    "\n",
    "[질문]\n",
    "{question}\n",
    "\n",
    "[답변]\n",
    "\"\"\"\n",
    "        return prompt.strip()\n",
    "\n",
    "\n",
    "class AnswerGenerator:\n",
    "    def __init__(self) -> None:\n",
    "        self.model_type = settings.generator_model_type\n",
    "        self.model = None\n",
    "        self.tokenizer = None\n",
    "        self.client = None\n",
    "        self.streamer = None\n",
    "        bnb_config = BitsAndBytesConfig(\n",
    "            load_in_4bit=True,\n",
    "            bnb_4bit_use_double_quant=True,\n",
    "            bnb_4bit_quant_type=\"nf4\",\n",
    "            bnb_4bit_compute_dtype=torch.bfloat16,\n",
    "        )\n",
    "        if self.model_type == \"local\":\n",
    "            model_name = settings.generator_model_name_or_path\n",
    "            self.tokenizer = AutoTokenizer.from_pretrained(model_name)\n",
    "            self.model = AutoModelForCausalLM.from_pretrained(\n",
    "                model_name,\n",
    "                device_map=\"auto\" if torch.cuda.is_available() else \"cpu\",\n",
    "                torch_dtype=torch.bfloat16,\n",
    "                use_safetensors=True,\n",
    "                quantization_config=bnb_config,\n",
    "            )\n",
    "            self.streamer = TextIteratorStreamer(\n",
    "                self.tokenizer, skip_prompt=True, skip_special_tokens=True\n",
    "            )\n",
    "            print(f\"✅ Local Generator Model Loaded: {model_name}\")\n",
    "\n",
    "    def generate(self, question: str, docs: List[Dict[str, Any]], max_new_tokens: int = 512, temperature: float = 0.0):\n",
    "        if docs and isinstance(docs[0], dict) and \"menu\" in docs[0]:\n",
    "            doc_texts = format_meals_context(docs)\n",
    "        else:\n",
    "            doc_texts = [json.dumps(d, ensure_ascii=False) for d in docs]\n",
    "        prompt = PromptBuilder().build(question, doc_texts)\n",
    "\n",
    "        if self.model_type == \"local\" and self.model and self.tokenizer:\n",
    "            inputs = self.tokenizer(prompt, return_tensors=\"pt\").to(self.model.device)\n",
    "            generation_kwargs = dict(\n",
    "                input_ids=inputs.input_ids,\n",
    "                streamer=self.streamer,\n",
    "                max_new_tokens=max_new_tokens,\n",
    "                do_sample=temperature > 0.0,\n",
    "                temperature=temperature if temperature > 0.0 else None,\n",
    "            )\n",
    "            thread = Thread(target=self.model.generate, kwargs=generation_kwargs)\n",
    "            thread.start()\n",
    "            for token in self.streamer:\n",
    "                yield token\n",
    "            return\n",
    "        yield \"답변 생성 모델이 올바르게 설정되지 않았습니다.\"\n",
    "\n",
    "\n",
    "ANSWER_HANDLERS = {\n",
    "    0: graduation_req_answer.generate_answer,\n",
    "    1: notices_answer.generate_answer,\n",
    "    2: academic_calendar_answer.generate_answer,\n",
    "    3: meals_answer.generate_answer,\n",
    "    4: shuttle_bus_answer.generate_answer,\n",
    "}\n",
    "\n",
    "def generate_response(question: str) -> str:\n",
    "    label, _ = classify_query(question)\n",
    "    handler = ANSWER_HANDLERS.get(label)\n",
    "    if handler:\n",
    "        return handler(question)\n",
    "    retriever = HybridRetriever()\n",
    "    docs = retriever.retrieve(question)\n",
    "    generator = AnswerGenerator()\n",
    "    return ''.join(generator.generate(question, docs))\n",
    "\n",
    "sample_question = '오늘 학식 뭐 나와?'\n",
    "print(generate_response(sample_question))\n"
   ]
  },
  {
   "cell_type": "code",
   "execution_count": 3,
   "id": "e421ce51-b4e7-44a1-8dfb-530191149afa",
   "metadata": {
    "id": "e421ce51-b4e7-44a1-8dfb-530191149afa",
    "scrolled": true
   },
   "outputs": [
    {
     "name": "stderr",
     "output_type": "stream",
     "text": [
      "randomized_korean_questions_result.json:   0%|                                      | 0/104 [00:00<?, ?it/s]"
     ]
    },
    {
     "name": "stdout",
     "output_type": "stream",
     "text": [
      "질문: 셔틀버스는 휴일에도 운행하나요?\n",
      "투표 결과: Counter({4: 5}), 최종 선택: 4\n"
     ]
    },
    {
     "name": "stderr",
     "output_type": "stream",
     "text": [
      "randomized_korean_questions_result.json:   1%|▎                             | 1/104 [00:04<07:16,  4.24s/it]"
     ]
    },
    {
     "name": "stdout",
     "output_type": "stream",
     "text": [
      "질문: 셔틀버스는 휴일에도 운행하나요?\n",
      "투표 결과: Counter({4: 5}), 최종 선택: 4\n",
      "생성된 대답: 셔틀버스 정보 예시: 교내 순환 (대덕캠퍼스 내) 08:20 (월평역) 등교 8:30 9:30 9:40 10:30 11:30 13:30 14:30 15:30 16:30 17:30; 캠퍼스 순환 (대덕캠퍼스 ↔ 보운캠퍼스) 8:10 (출발, 골프연습장) 8:50 (회차 보운캠퍼스) 미운영 등\n",
      "질문: 2학기 개강일은 언제예요?\n",
      "투표 결과: Counter({2: 5}), 최종 선택: 2\n"
     ]
    },
    {
     "name": "stderr",
     "output_type": "stream",
     "text": [
      "randomized_korean_questions_result.json:   2%|▌                             | 2/104 [00:08<07:19,  4.31s/it]"
     ]
    },
    {
     "name": "stdout",
     "output_type": "stream",
     "text": [
      "질문: 2학기 개강일은 언제예요?\n",
      "투표 결과: Counter({2: 5}), 최종 선택: 2\n",
      "생성된 대답: 학사일정 예시: 12.24(화) ~ 01.15(수) 동기 계절학기, 01.01(수) 신정, 01.14(화) 2학기 성적발표 등\n",
      "질문: 통학버스 요금은 얼마예요?\n",
      "투표 결과: Counter({4: 5}), 최종 선택: 4\n"
     ]
    },
    {
     "name": "stderr",
     "output_type": "stream",
     "text": [
      "randomized_korean_questions_result.json:   3%|▊                             | 3/104 [00:12<07:12,  4.28s/it]"
     ]
    },
    {
     "name": "stdout",
     "output_type": "stream",
     "text": [
      "질문: 통학버스 요금은 얼마예요?\n",
      "투표 결과: Counter({4: 5}), 최종 선택: 4\n",
      "생성된 대답: 셔틀버스 정보 예시: 교내 순환 (대덕캠퍼스 내) 08:20 (월평역) 등교 8:30 9:30 9:40 10:30 11:30 13:30 14:30 15:30 16:30 17:30; 캠퍼스 순환 (대덕캠퍼스 ↔ 보운캠퍼스) 8:10 (출발, 골프연습장) 8:50 (회차 보운캠퍼스) 미운영; 교내 순환 (유성캠퍼스 내) 08:30 17:30 ① 정심화 국제문화회관 ⟶ ② 사회과\n",
      "              학대학 입구(한누리회관 뒤) → ③ 서문(\n",
      "              공동실험실습관 앞) ⟶ ④ 음악 2호관 앞\n",
      "              ⟶ ⑤ 공동동물실험센터(회차) ⟶ ⑥ 체\n",
      "              육관 입구 → ⑦ 예술대학 앞 ⟶ ⑧ 도서\n",
      "              관 앞(대학본부 옆 농대방향) ⟶ ⑨ 학생\n",
      "              생활관 3거리 ⟶ ⑩ 농업생명과학대학\n",
      "              앞 ⟶ ⑪ 동문주차장 ⟶ ⑫ 농업생명과\n",
      "              학대학 앞 ⟶ ⑬ 도서관 앞(도서관삼거리\n",
      "              방향) ⟶ ⑭ 예술대학 앞 → ⑮ 서문(공동\n",
      "              실험실습관 앞) ⟶ ⑯ 사회과학대학 입\n",
      "              구(한누리회관 뒤) → ⑰ 산학연교육연 구관 앞 → ⑱ 정심화 국제문화회관 ※ 오전(등교) 1회만 월평역 출발(정심화 국제문화회관 하차(종점), 시간표 참조) 10회 학기 중 운영 (총 150일) 등\n",
      "질문: 학교 메인 공지사항 어디에 있나요?\n",
      "투표 결과: Counter({1: 5}), 최종 선택: 1\n",
      "질문: 학교 메인 공지사항 어디에 있나요?\n",
      "투표 결과: Counter({1: 5}), 최종 선택: 1\n"
     ]
    },
    {
     "name": "stderr",
     "output_type": "stream",
     "text": [
      "randomized_korean_questions_result.json:   4%|█                          | 4/104 [04:48<3:05:42, 111.43s/it]"
     ]
    },
    {
     "name": "stdout",
     "output_type": "stream",
     "text": [
      "생성된 대답: 죄송하지만 해당 정보는 직접 공지사항을 확인하셔야 합니다.\n",
      "최신 공지사항입니다\n",
      "- 2025학년도 제2학기 등록금 납부 안내\n",
      "- 2025학년도 제1학기 기말 강의평가 실시 안내\n",
      "- 2025학년도 제1학기 성적공시 안내\n",
      "질문: 계절학기 신청은 언제부터예요?\n",
      "투표 결과: Counter({2: 5}), 최종 선택: 2\n"
     ]
    },
    {
     "name": "stderr",
     "output_type": "stream",
     "text": [
      "randomized_korean_questions_result.json:   5%|█▎                          | 5/104 [04:51<1:59:07, 72.20s/it]"
     ]
    },
    {
     "name": "stdout",
     "output_type": "stream",
     "text": [
      "질문: 계절학기 신청은 언제부터예요?\n",
      "투표 결과: Counter({2: 5}), 최종 선택: 2\n",
      "생성된 대답: 학사일정 예시: 12.24(화) ~ 01.15(수) 동기 계절학기, 01.01(수) 신정, 01.14(화) 2학기 성적발표 등\n",
      "질문: 다음 주 셔틀버스 시간표 바뀌었나요?\n",
      "투표 결과: Counter({4: 5}), 최종 선택: 4\n"
     ]
    },
    {
     "name": "stderr",
     "output_type": "stream",
     "text": [
      "randomized_korean_questions_result.json:   6%|█▌                          | 6/104 [04:55<1:20:13, 49.11s/it]"
     ]
    },
    {
     "name": "stdout",
     "output_type": "stream",
     "text": [
      "질문: 다음 주 셔틀버스 시간표 바뀌었나요?\n",
      "투표 결과: Counter({4: 5}), 최종 선택: 4\n",
      "생성된 대답: 셔틀버스 정보 예시: 교내 순환 (대덕캠퍼스 내) 08:20 (월평역) 등교 8:30 9:30 9:40 10:30 11:30 13:30 14:30 15:30 16:30 17:30; 캠퍼스 순환 (대덕캠퍼스 ↔ 보운캠퍼스) 8:10 (출발, 골프연습장) 8:50 (회차 보운캠퍼스) 미운영 등\n",
      "질문: 오늘 학생회관 저녁은 뭐예요?\n",
      "투표 결과: Counter({3: 5}), 최종 선택: 3\n"
     ]
    },
    {
     "name": "stderr",
     "output_type": "stream",
     "text": [
      "randomized_korean_questions_result.json:   7%|██                            | 7/104 [04:59<55:41, 34.45s/it]"
     ]
    },
    {
     "name": "stdout",
     "output_type": "stream",
     "text": [
      "질문: 오늘 학생회관 저녁은 뭐예요?\n",
      "투표 결과: Counter({3: 5}), 최종 선택: 3\n",
      "2025-06-20 12:43:40.924 | INFO     | src.answers.meals_answer:get_context:184 - 20250620 날짜의 로컬 식단 정보를 사용합니다.\n",
      "생성된 대답: 찾은 식단 정보: 운영안함, 정식(6000)\n",
      "\n",
      "파인애플야채볶음밥(pork included)\n",
      "맑은장국\n",
      "치킨까스(chicken included)\n",
      "청양간장미니돈까스무침(pork included)\n",
      "리카토니바질톳샐러드\n",
      "배추김치, 운영안함 등\n",
      "질문: 졸업 심사 서류는 어디서 제출해요?\n",
      "투표 결과: Counter({0: 5}), 최종 선택: 0\n"
     ]
    },
    {
     "name": "stderr",
     "output_type": "stream",
     "text": [
      "randomized_korean_questions_result.json:   8%|██▎                           | 8/104 [05:04<39:47, 24.87s/it]"
     ]
    },
    {
     "name": "stdout",
     "output_type": "stream",
     "text": [
      "질문: 졸업 심사 서류는 어디서 제출해요?\n",
      "투표 결과: Counter({0: 5}), 최종 선택: 0\n",
      "생성된 대답: 졸업 필요 학점 외의 정보는 각 학과에 문의하시길 바랍니다.\n",
      "질문: 졸업이 연기되면 따로 신청해야 하나요?\n",
      "투표 결과: Counter({0: 5}), 최종 선택: 0\n"
     ]
    },
    {
     "name": "stderr",
     "output_type": "stream",
     "text": [
      "randomized_korean_questions_result.json:   9%|██▌                           | 9/104 [05:08<29:09, 18.42s/it]"
     ]
    },
    {
     "name": "stdout",
     "output_type": "stream",
     "text": [
      "질문: 졸업이 연기되면 따로 신청해야 하나요?\n",
      "투표 결과: Counter({0: 5}), 최종 선택: 0\n",
      "생성된 대답: 졸업 필요 학점 외의 정보는 각 학과에 문의하시길 바랍니다.\n",
      "질문: 오늘 식단 중에 채식 메뉴 있나요?\n",
      "투표 결과: Counter({3: 5}), 최종 선택: 3\n"
     ]
    },
    {
     "name": "stderr",
     "output_type": "stream",
     "text": [
      "randomized_korean_questions_result.json:  10%|██▊                          | 10/104 [05:12<22:00, 14.05s/it]"
     ]
    },
    {
     "name": "stdout",
     "output_type": "stream",
     "text": [
      "질문: 오늘 식단 중에 채식 메뉴 있나요?\n",
      "투표 결과: Counter({3: 5}), 최종 선택: 3\n",
      "2025-06-20 12:43:53.782 | INFO     | src.answers.meals_answer:get_context:184 - 20250620 날짜의 로컬 식단 정보를 사용합니다.\n",
      "생성된 대답: 찾은 식단 정보: 정식(1000)\n",
      "\n",
      "참치김치찌개\n",
      "돈탕수육(pork included)\n",
      "청경채겉절이\n",
      "깍두기, 정식(6000)\n",
      "\n",
      "보리열무비빔밥\n",
      "건새우아욱국\n",
      "왕떡갈비(pork included)\n",
      "쑥앙금절편\n",
      "배추김치, 정식(6000)\n",
      "\n",
      "물냉면\n",
      "삶은계란\n",
      "장떡전\n",
      "돈까스샐러드(pork included)\n",
      "냉면김치 등\n",
      "질문: 이번 주말 셔틀버스 배차 계획 있어요?\n",
      "투표 결과: Counter({4: 5}), 최종 선택: 4\n"
     ]
    },
    {
     "name": "stderr",
     "output_type": "stream",
     "text": [
      "randomized_korean_questions_result.json:  11%|███                          | 11/104 [05:16<17:10, 11.08s/it]"
     ]
    },
    {
     "name": "stdout",
     "output_type": "stream",
     "text": [
      "질문: 이번 주말 셔틀버스 배차 계획 있어요?\n",
      "투표 결과: Counter({4: 5}), 최종 선택: 4\n",
      "생성된 대답: 셔틀버스 정보 예시: 교내 순환 (대덕캠퍼스 내) 08:20 (월평역) 등교 8:30 9:30 9:40 10:30 11:30 13:30 14:30 15:30 16:30 17:30; 캠퍼스 순환 (대덕캠퍼스 ↔ 보운캠퍼스) 8:10 (출발, 골프연습장) 8:50 (회차 보운캠퍼스) 미운영; 교내 순환 (유성캠퍼스 내) 08:30 17:30 ① 정심화 국제문화회관 ⟶ ② 사회과\n",
      "              학대학 입구(한누리회관 뒤) → ③ 서문(\n",
      "              공동실험실습관 앞) ⟶ ④ 음악 2호관 앞\n",
      "              ⟶ ⑤ 공동동물실험센터(회차) ⟶ ⑥ 체\n",
      "              육관 입구 → ⑦ 예술대학 앞 ⟶ ⑧ 도서\n",
      "              관 앞(대학본부 옆 농대방향) ⟶ ⑨ 학생\n",
      "              생활관 3거리 ⟶ ⑩ 농업생명과학대학\n",
      "              앞 ⟶ ⑪ 동문주차장 ⟶ ⑫ 농업생명과\n",
      "              학대학 앞 ⟶ ⑬ 도서관 앞(도서관삼거리\n",
      "              방향) ⟶ ⑭ 예술대학 앞 → ⑮ 서문(공동\n",
      "              실험실습관 앞) ⟶ ⑯ 사회과학대학 입\n",
      "              구(한누리회관 뒤) → ⑰ 산학연교육연 구관 앞 → ⑱ 정심화 국제문화회관 ※ 오전(등교) 1회만 월평역 출발(정심화 국제문화회관 하차(종점), 시간표 참조) 10회 학기 중 운영 (총 150일) 등\n",
      "질문: 학기 중에 휴학할 수 있어요?\n",
      "투표 결과: Counter({0: 5}), 최종 선택: 0\n"
     ]
    },
    {
     "name": "stderr",
     "output_type": "stream",
     "text": [
      "randomized_korean_questions_result.json:  12%|███▎                         | 12/104 [05:19<12:59,  8.48s/it]"
     ]
    },
    {
     "name": "stdout",
     "output_type": "stream",
     "text": [
      "질문: 학기 중에 휴학할 수 있어요?\n",
      "투표 결과: Counter({0: 5}), 최종 선택: 0\n",
      "생성된 대답: 졸업 필요 학점 외의 정보는 각 학과에 문의하시길 바랍니다.\n",
      "질문: 학생 식당 오늘 메뉴 확인할 수 있어요?\n",
      "투표 결과: Counter({3: 5}), 최종 선택: 3\n"
     ]
    },
    {
     "name": "stderr",
     "output_type": "stream",
     "text": [
      "randomized_korean_questions_result.json:  12%|███▋                         | 13/104 [05:23<10:55,  7.20s/it]"
     ]
    },
    {
     "name": "stdout",
     "output_type": "stream",
     "text": [
      "질문: 학생 식당 오늘 메뉴 확인할 수 있어요?\n",
      "투표 결과: Counter({3: 5}), 최종 선택: 3\n",
      "2025-06-20 12:44:04.931 | INFO     | src.answers.meals_answer:get_context:184 - 20250620 날짜의 로컬 식단 정보를 사용합니다.\n",
      "생성된 대답: 찾은 식단 정보: 정식(1000)\n",
      "\n",
      "참치김치찌개\n",
      "돈탕수육(pork included)\n",
      "청경채겉절이\n",
      "깍두기, 정식(6000)\n",
      "\n",
      "보리열무비빔밥\n",
      "건새우아욱국\n",
      "왕떡갈비(pork included)\n",
      "쑥앙금절편\n",
      "배추김치, 정식(6000)\n",
      "\n",
      "물냉면\n",
      "삶은계란\n",
      "장떡전\n",
      "돈까스샐러드(pork included)\n",
      "냉면김치 등\n",
      "질문: 학교 공지사항 업데이트 시간은 정해져 있어요?\n",
      "투표 결과: Counter({1: 5}), 최종 선택: 1\n"
     ]
    },
    {
     "name": "stderr",
     "output_type": "stream",
     "text": [
      "randomized_korean_questions_result.json:  13%|███▉                         | 14/104 [05:28<09:28,  6.32s/it]"
     ]
    },
    {
     "name": "stdout",
     "output_type": "stream",
     "text": [
      "질문: 학교 공지사항 업데이트 시간은 정해져 있어요?\n",
      "투표 결과: Counter({1: 5}), 최종 선택: 1\n",
      "생성된 대답: 최신 공지사항입니다\n",
      "공지사항을 찾지 못했습니다.\n",
      "질문: 수강 정정 기간은 언제예요?\n",
      "투표 결과: Counter({2: 5}), 최종 선택: 2\n"
     ]
    },
    {
     "name": "stderr",
     "output_type": "stream",
     "text": [
      "randomized_korean_questions_result.json:  14%|████▏                        | 15/104 [05:32<08:27,  5.70s/it]"
     ]
    },
    {
     "name": "stdout",
     "output_type": "stream",
     "text": [
      "질문: 수강 정정 기간은 언제예요?\n",
      "투표 결과: Counter({2: 5}), 최종 선택: 2\n",
      "생성된 대답: 학사일정 예시: 12.24(화) ~ 01.15(수) 동기 계절학기, 01.01(수) 신정, 01.14(화) 2학기 성적발표 등\n",
      "질문: 이번 주에 셔틀버스 감차 운행하나요?\n",
      "투표 결과: Counter({4: 5}), 최종 선택: 4\n"
     ]
    },
    {
     "name": "stderr",
     "output_type": "stream",
     "text": [
      "randomized_korean_questions_result.json:  15%|████▍                        | 16/104 [05:36<07:45,  5.29s/it]"
     ]
    },
    {
     "name": "stdout",
     "output_type": "stream",
     "text": [
      "질문: 이번 주에 셔틀버스 감차 운행하나요?\n",
      "투표 결과: Counter({4: 5}), 최종 선택: 4\n",
      "생성된 대답: 셔틀버스 정보 예시: 교내 순환 (대덕캠퍼스 내) 08:20 (월평역) 등교 8:30 9:30 9:40 10:30 11:30 13:30 14:30 15:30 16:30 17:30; 캠퍼스 순환 (대덕캠퍼스 ↔ 보운캠퍼스) 8:10 (출발, 골프연습장) 8:50 (회차 보운캠퍼스) 미운영 등\n",
      "질문: 이번 학기 전과 신청 기간은 언제예요?\n",
      "투표 결과: Counter({2: 5}), 최종 선택: 2\n"
     ]
    },
    {
     "name": "stderr",
     "output_type": "stream",
     "text": [
      "randomized_korean_questions_result.json:  16%|████▋                        | 17/104 [05:40<07:15,  5.01s/it]"
     ]
    },
    {
     "name": "stdout",
     "output_type": "stream",
     "text": [
      "질문: 이번 학기 전과 신청 기간은 언제예요?\n",
      "투표 결과: Counter({2: 5}), 최종 선택: 2\n",
      "생성된 대답: 학사일정 예시: 12.24(화) ~ 01.15(수) 동기 계절학기, 01.01(수) 신정, 01.14(화) 2학기 성적발표 등\n",
      "질문: 이번 학기 등록금 납부 마감일이 언제예요?\n",
      "투표 결과: Counter({1: 3, 2: 2}), 최종 선택: 1\n"
     ]
    },
    {
     "name": "stderr",
     "output_type": "stream",
     "text": [
      "randomized_korean_questions_result.json:  17%|█████                        | 18/104 [05:45<06:55,  4.83s/it]"
     ]
    },
    {
     "name": "stdout",
     "output_type": "stream",
     "text": [
      "질문: 이번 학기 등록금 납부 마감일이 언제예요?\n",
      "투표 결과: Counter({1: 3, 2: 2}), 최종 선택: 1\n",
      "생성된 대답: 최신 공지사항입니다\n",
      "- 2025학년도 제2학기 등록금 납부 안내\n",
      "- 2025학년도 제1학기 기말 강의평가 실시 안내\n",
      "- 2025학년도 제1학기 성적공시 안내\n",
      "질문: 셔틀버스는 방학 때도 운행하나요?\n",
      "투표 결과: Counter({4: 5}), 최종 선택: 4\n"
     ]
    },
    {
     "name": "stderr",
     "output_type": "stream",
     "text": [
      "randomized_korean_questions_result.json:  18%|█████▎                       | 19/104 [05:49<06:37,  4.67s/it]"
     ]
    },
    {
     "name": "stdout",
     "output_type": "stream",
     "text": [
      "질문: 셔틀버스는 방학 때도 운행하나요?\n",
      "투표 결과: Counter({4: 5}), 최종 선택: 4\n",
      "생성된 대답: 셔틀버스 정보 예시: 교내 순환 (대덕캠퍼스 내) 08:20 (월평역) 등교 8:30 9:30 9:40 10:30 11:30 13:30 14:30 15:30 16:30 17:30; 캠퍼스 순환 (대덕캠퍼스 ↔ 보운캠퍼스) 8:10 (출발, 골프연습장) 8:50 (회차 보운캠퍼스) 미운영 등\n",
      "질문: 내일 학식 국이 뭔지 알 수 있어요?\n",
      "투표 결과: Counter({3: 5}), 최종 선택: 3\n"
     ]
    },
    {
     "name": "stderr",
     "output_type": "stream",
     "text": [
      "randomized_korean_questions_result.json:  19%|█████▌                       | 20/104 [05:52<05:36,  4.01s/it]"
     ]
    },
    {
     "name": "stdout",
     "output_type": "stream",
     "text": [
      "질문: 내일 학식 국이 뭔지 알 수 있어요?\n",
      "투표 결과: Counter({3: 5}), 최종 선택: 3\n",
      "2025-06-20 12:44:33.349 | INFO     | src.answers.meals_answer:get_context:184 - 20250621 날짜의 로컬 식단 정보를 사용합니다.\n",
      "생성된 대답: 찾은 식단 정보:  등\n",
      "질문: 오늘 2학생회관 메뉴는 뭐예요?\n",
      "투표 결과: Counter({3: 5}), 최종 선택: 3\n"
     ]
    },
    {
     "name": "stderr",
     "output_type": "stream",
     "text": [
      "randomized_korean_questions_result.json:  20%|█████▊                       | 21/104 [05:56<05:39,  4.09s/it]"
     ]
    },
    {
     "name": "stdout",
     "output_type": "stream",
     "text": [
      "질문: 오늘 2학생회관 메뉴는 뭐예요?\n",
      "투표 결과: Counter({3: 5}), 최종 선택: 3\n",
      "2025-06-20 12:44:37.624 | INFO     | src.answers.meals_answer:get_context:184 - 20250620 날짜의 로컬 식단 정보를 사용합니다.\n",
      "생성된 대답: 찾은 식단 정보: 정식(1000)\n",
      "\n",
      "참치김치찌개\n",
      "돈탕수육(pork included)\n",
      "청경채겉절이\n",
      "깍두기, 정식(6000)\n",
      "\n",
      "보리열무비빔밥\n",
      "건새우아욱국\n",
      "왕떡갈비(pork included)\n",
      "쑥앙금절편\n",
      "배추김치, 정식(4500)\n",
      "\n",
      "만두국(pork included)\n",
      "비엔나볶음(pork included)\n",
      "도시락김\n",
      "깍두기 등\n",
      "질문: 졸업인증 외국어 시험 필수예요?\n",
      "투표 결과: Counter({0: 5}), 최종 선택: 0\n"
     ]
    },
    {
     "name": "stderr",
     "output_type": "stream",
     "text": [
      "randomized_korean_questions_result.json:  21%|██████▏                      | 22/104 [06:00<05:44,  4.20s/it]"
     ]
    },
    {
     "name": "stdout",
     "output_type": "stream",
     "text": [
      "질문: 졸업인증 외국어 시험 필수예요?\n",
      "투표 결과: Counter({0: 5}), 최종 선택: 0\n",
      "생성된 대답: 졸업 필요 학점 외의 정보는 각 학과에 문의하시길 바랍니다.\n",
      "질문: 성적 발표일은 언제예요?\n",
      "투표 결과: Counter({2: 5}), 최종 선택: 2\n"
     ]
    },
    {
     "name": "stderr",
     "output_type": "stream",
     "text": [
      "randomized_korean_questions_result.json:  22%|██████▍                      | 23/104 [06:05<05:43,  4.24s/it]"
     ]
    },
    {
     "name": "stdout",
     "output_type": "stream",
     "text": [
      "질문: 성적 발표일은 언제예요?\n",
      "투표 결과: Counter({2: 5}), 최종 선택: 2\n",
      "생성된 대답: 학사일정 예시: 12.24(화) ~ 01.15(수) 동기 계절학기, 01.01(수) 신정, 01.14(화) 2학기 성적발표 등\n",
      "질문: 오늘 아침 학식 뭐 나왔어요?\n",
      "투표 결과: Counter({3: 5}), 최종 선택: 3\n"
     ]
    },
    {
     "name": "stderr",
     "output_type": "stream",
     "text": [
      "randomized_korean_questions_result.json:  23%|██████▋                      | 24/104 [06:09<05:40,  4.26s/it]"
     ]
    },
    {
     "name": "stdout",
     "output_type": "stream",
     "text": [
      "질문: 오늘 아침 학식 뭐 나왔어요?\n",
      "투표 결과: Counter({3: 5}), 최종 선택: 3\n",
      "2025-06-20 12:44:50.706 | INFO     | src.answers.meals_answer:get_context:184 - 20250620 날짜의 로컬 식단 정보를 사용합니다.\n",
      "생성된 대답: 찾은 식단 정보: 운영안함, 운영안함, 운영안함 등\n",
      "질문: 셔틀버스 예약 시스템 있어요?\n",
      "투표 결과: Counter({4: 5}), 최종 선택: 4\n"
     ]
    },
    {
     "name": "stderr",
     "output_type": "stream",
     "text": [
      "randomized_korean_questions_result.json:  24%|██████▉                      | 25/104 [06:13<05:35,  4.25s/it]"
     ]
    },
    {
     "name": "stdout",
     "output_type": "stream",
     "text": [
      "질문: 셔틀버스 예약 시스템 있어요?\n",
      "투표 결과: Counter({4: 5}), 최종 선택: 4\n",
      "생성된 대답: 셔틀버스 정보 예시: 교내 순환 (대덕캠퍼스 내) 08:20 (월평역) 등교 8:30 9:30 9:40 10:30 11:30 13:30 14:30 15:30 16:30 17:30; 캠퍼스 순환 (대덕캠퍼스 ↔ 보운캠퍼스) 8:10 (출발, 골프연습장) 8:50 (회차 보운캠퍼스) 미운영; 교내 순환 (유성캠퍼스 내) 08:30 17:30 ① 정심화 국제문화회관 ⟶ ② 사회과\n",
      "              학대학 입구(한누리회관 뒤) → ③ 서문(\n",
      "              공동실험실습관 앞) ⟶ ④ 음악 2호관 앞\n",
      "              ⟶ ⑤ 공동동물실험센터(회차) ⟶ ⑥ 체\n",
      "              육관 입구 → ⑦ 예술대학 앞 ⟶ ⑧ 도서\n",
      "              관 앞(대학본부 옆 농대방향) ⟶ ⑨ 학생\n",
      "              생활관 3거리 ⟶ ⑩ 농업생명과학대학\n",
      "              앞 ⟶ ⑪ 동문주차장 ⟶ ⑫ 농업생명과\n",
      "              학대학 앞 ⟶ ⑬ 도서관 앞(도서관삼거리\n",
      "              방향) ⟶ ⑭ 예술대학 앞 → ⑮ 서문(공동\n",
      "              실험실습관 앞) ⟶ ⑯ 사회과학대학 입\n",
      "              구(한누리회관 뒤) → ⑰ 산학연교육연 구관 앞 → ⑱ 정심화 국제문화회관 ※ 오전(등교) 1회만 월평역 출발(정심화 국제문화회관 하차(종점), 시간표 참조) 10회 학기 중 운영 (총 150일) 등\n",
      "질문: 통학버스 출발 시간은 어떻게 돼요?\n",
      "투표 결과: Counter({4: 5}), 최종 선택: 4\n"
     ]
    },
    {
     "name": "stderr",
     "output_type": "stream",
     "text": [
      "randomized_korean_questions_result.json:  25%|███████▎                     | 26/104 [06:18<05:33,  4.28s/it]"
     ]
    },
    {
     "name": "stdout",
     "output_type": "stream",
     "text": [
      "질문: 통학버스 출발 시간은 어떻게 돼요?\n",
      "투표 결과: Counter({4: 5}), 최종 선택: 4\n",
      "생성된 대답: 셔틀버스 정보 예시: 교내 순환 (대덕캠퍼스 내) 08:20 (월평역) 등교 8:30 9:30 9:40 10:30 11:30 13:30 14:30 15:30 16:30 17:30; 캠퍼스 순환 (대덕캠퍼스 ↔ 보운캠퍼스) 8:10 (출발, 골프연습장) 8:50 (회차 보운캠퍼스) 미운영 등\n",
      "질문: 다음 주 공지 중에 변경된 거 있어요?\n",
      "투표 결과: Counter({1: 5}), 최종 선택: 1\n"
     ]
    },
    {
     "name": "stderr",
     "output_type": "stream",
     "text": [
      "randomized_korean_questions_result.json:  26%|███████▌                     | 27/104 [06:20<04:49,  3.76s/it]"
     ]
    },
    {
     "name": "stdout",
     "output_type": "stream",
     "text": [
      "질문: 다음 주 공지 중에 변경된 거 있어요?\n",
      "투표 결과: Counter({1: 5}), 최종 선택: 1\n",
      "생성된 대답: 최신 공지사항입니다\n",
      "공지사항을 찾지 못했습니다.\n",
      "질문: 졸업 요건 중 영어 인증 기준은 뭐예요?\n",
      "투표 결과: Counter({0: 5}), 최종 선택: 0\n"
     ]
    },
    {
     "name": "stderr",
     "output_type": "stream",
     "text": [
      "randomized_korean_questions_result.json:  27%|███████▊                     | 28/104 [06:24<04:57,  3.92s/it]"
     ]
    },
    {
     "name": "stdout",
     "output_type": "stream",
     "text": [
      "질문: 졸업 요건 중 영어 인증 기준은 뭐예요?\n",
      "투표 결과: Counter({0: 5}), 최종 선택: 0\n",
      "생성된 대답: 졸업 필요 학점 외의 정보는 각 학과에 문의하시길 바랍니다.\n",
      "질문: 졸업 관련 상담은 어디서 받아요?\n",
      "투표 결과: Counter({0: 5}), 최종 선택: 0\n"
     ]
    },
    {
     "name": "stderr",
     "output_type": "stream",
     "text": [
      "randomized_korean_questions_result.json:  28%|████████                     | 29/104 [06:29<05:03,  4.05s/it]"
     ]
    },
    {
     "name": "stdout",
     "output_type": "stream",
     "text": [
      "질문: 졸업 관련 상담은 어디서 받아요?\n",
      "투표 결과: Counter({0: 5}), 최종 선택: 0\n",
      "생성된 대답: 졸업 필요 학점 외의 정보는 각 학과에 문의하시길 바랍니다.\n",
      "질문: 졸업 필수 자격증이 있나요?\n",
      "투표 결과: Counter({0: 5}), 최종 선택: 0\n"
     ]
    },
    {
     "name": "stderr",
     "output_type": "stream",
     "text": [
      "randomized_korean_questions_result.json:  29%|████████▎                    | 30/104 [06:33<05:09,  4.18s/it]"
     ]
    },
    {
     "name": "stdout",
     "output_type": "stream",
     "text": [
      "질문: 졸업 필수 자격증이 있나요?\n",
      "투표 결과: Counter({0: 5}), 최종 선택: 0\n",
      "생성된 대답: 졸업 필요 학점 외의 정보는 각 학과에 문의하시길 바랍니다.\n",
      "질문: 졸업 유예 신청은 어디서 해요?\n",
      "투표 결과: Counter({0: 5}), 최종 선택: 0\n"
     ]
    },
    {
     "name": "stderr",
     "output_type": "stream",
     "text": [
      "randomized_korean_questions_result.json:  30%|████████▋                    | 31/104 [06:37<05:06,  4.19s/it]"
     ]
    },
    {
     "name": "stdout",
     "output_type": "stream",
     "text": [
      "질문: 졸업 유예 신청은 어디서 해요?\n",
      "투표 결과: Counter({0: 5}), 최종 선택: 0\n",
      "생성된 대답: 졸업 필요 학점 외의 정보는 각 학과에 문의하시길 바랍니다.\n",
      "질문: 오늘 3학생회관 조식 나왔나요?\n",
      "투표 결과: Counter({3: 5}), 최종 선택: 3\n"
     ]
    },
    {
     "name": "stderr",
     "output_type": "stream",
     "text": [
      "randomized_korean_questions_result.json:  31%|████████▉                    | 32/104 [06:42<05:05,  4.25s/it]"
     ]
    },
    {
     "name": "stdout",
     "output_type": "stream",
     "text": [
      "질문: 오늘 3학생회관 조식 나왔나요?\n",
      "투표 결과: Counter({3: 5}), 최종 선택: 3\n",
      "2025-06-20 12:45:23.556 | INFO     | src.answers.meals_answer:get_context:184 - 20250620 날짜의 로컬 식단 정보를 사용합니다.\n",
      "생성된 대답: 찾은 식단 정보: 정식(4000)\n",
      "\n",
      "카레라이스\n",
      "맑은우동국물\n",
      "군만두(pork included)\n",
      "배추김치, 운영안함 등\n",
      "질문: 식당 운영 시간은 몇 시까지예요?\n",
      "투표 결과: Counter({3: 5}), 최종 선택: 3\n"
     ]
    },
    {
     "name": "stderr",
     "output_type": "stream",
     "text": [
      "randomized_korean_questions_result.json:  32%|█████████▏                   | 33/104 [06:46<05:01,  4.25s/it]"
     ]
    },
    {
     "name": "stdout",
     "output_type": "stream",
     "text": [
      "질문: 식당 운영 시간은 몇 시까지예요?\n",
      "투표 결과: Counter({3: 5}), 최종 선택: 3\n",
      "2025-06-20 12:45:27.822 | INFO     | src.answers.meals_answer:get_context:184 - 20250620 날짜의 로컬 식단 정보를 사용합니다.\n",
      "생성된 대답: 2025-06-20 일을 말씀하시는 게 맞을까요? 찾은 식단 정보: 정식(1000)\n",
      "\n",
      "참치김치찌개\n",
      "돈탕수육(pork included)\n",
      "청경채겉절이\n",
      "깍두기, 정식(6000)\n",
      "\n",
      "보리열무비빔밥\n",
      "건새우아욱국\n",
      "왕떡갈비(pork included)\n",
      "쑥앙금절편\n",
      "배추김치, 정식(6000)\n",
      "\n",
      "물냉면\n",
      "삶은계란\n",
      "장떡전\n",
      "돈까스샐러드(pork included)\n",
      "냉면김치 등\n",
      "질문: 학교 홈페이지에 공지 올리는 주체는 누구예요?\n",
      "투표 결과: Counter({1: 5}), 최종 선택: 1\n"
     ]
    },
    {
     "name": "stderr",
     "output_type": "stream",
     "text": [
      "randomized_korean_questions_result.json:  33%|█████████▍                   | 34/104 [06:51<05:01,  4.31s/it]"
     ]
    },
    {
     "name": "stdout",
     "output_type": "stream",
     "text": [
      "질문: 학교 홈페이지에 공지 올리는 주체는 누구예요?\n",
      "투표 결과: Counter({1: 5}), 최종 선택: 1\n",
      "생성된 대답: 최신 공지사항입니다\n",
      "- 2025학년도 제2학기 등록금 납부 안내\n",
      "- 2025학년도 제1학기 기말 강의평가 실시 안내\n",
      "- 2025학년도 제1학기 성적공시 안내\n",
      "질문: 기숙사 신청 공고 나왔나요?\n",
      "투표 결과: Counter({1: 5}), 최종 선택: 1\n"
     ]
    },
    {
     "name": "stderr",
     "output_type": "stream",
     "text": [
      "randomized_korean_questions_result.json:  34%|█████████▊                   | 35/104 [06:53<04:19,  3.76s/it]"
     ]
    },
    {
     "name": "stdout",
     "output_type": "stream",
     "text": [
      "질문: 기숙사 신청 공고 나왔나요?\n",
      "투표 결과: Counter({1: 5}), 최종 선택: 1\n",
      "생성된 대답: 최신 공지사항입니다\n",
      "- 2025학년도 제2학기 등록금 납부 안내\n",
      "- 2025학년도 제1학기 기말 강의평가 실시 안내\n",
      "- 2025학년도 제1학기 성적공시 안내\n",
      "질문: 기숙사 식단도 학생 식당이랑 같아요?\n",
      "투표 결과: Counter({3: 5}), 최종 선택: 3\n"
     ]
    },
    {
     "name": "stderr",
     "output_type": "stream",
     "text": [
      "randomized_korean_questions_result.json:  35%|██████████                   | 36/104 [06:57<04:28,  3.95s/it]"
     ]
    },
    {
     "name": "stdout",
     "output_type": "stream",
     "text": [
      "질문: 기숙사 식단도 학생 식당이랑 같아요?\n",
      "투표 결과: Counter({3: 5}), 최종 선택: 3\n",
      "2025-06-20 12:45:39.133 | INFO     | src.answers.meals_answer:get_context:184 - 20250620 날짜의 로컬 식단 정보를 사용합니다.\n",
      "생성된 대답: 2025-06-20 일을 말씀하시는 게 맞을까요? 찾은 식단 정보: 정식(1000)\n",
      "\n",
      "참치김치찌개\n",
      "돈탕수육(pork included)\n",
      "청경채겉절이\n",
      "깍두기, 정식(6000)\n",
      "\n",
      "보리열무비빔밥\n",
      "건새우아욱국\n",
      "왕떡갈비(pork included)\n",
      "쑥앙금절편\n",
      "배추김치, 정식(6000)\n",
      "\n",
      "물냉면\n",
      "삶은계란\n",
      "장떡전\n",
      "돈까스샐러드(pork included)\n",
      "냉면김치 등\n",
      "질문: 졸업 이수 학점 기준이 어떻게 돼요?\n",
      "투표 결과: Counter({0: 5}), 최종 선택: 0\n"
     ]
    },
    {
     "name": "stderr",
     "output_type": "stream",
     "text": [
      "randomized_korean_questions_result.json:  36%|██████████▎                  | 37/104 [07:02<04:32,  4.07s/it]"
     ]
    },
    {
     "name": "stdout",
     "output_type": "stream",
     "text": [
      "질문: 졸업 이수 학점 기준이 어떻게 돼요?\n",
      "투표 결과: Counter({0: 5}), 최종 선택: 0\n",
      "생성된 대답: 졸업요건 정보를 찾지 못했습니다.\n",
      "질문: 휴일엔 학식 운영 안 하나요?\n",
      "투표 결과: Counter({3: 5}), 최종 선택: 3\n"
     ]
    },
    {
     "name": "stderr",
     "output_type": "stream",
     "text": [
      "randomized_korean_questions_result.json:  37%|██████████▌                  | 38/104 [07:06<04:35,  4.18s/it]"
     ]
    },
    {
     "name": "stdout",
     "output_type": "stream",
     "text": [
      "질문: 휴일엔 학식 운영 안 하나요?\n",
      "투표 결과: Counter({3: 5}), 최종 선택: 3\n",
      "2025-06-20 12:45:47.928 | INFO     | src.answers.meals_answer:get_context:184 - 20250620 날짜의 로컬 식단 정보를 사용합니다.\n",
      "생성된 대답: 2025-06-20 일을 말씀하시는 게 맞을까요? 찾은 식단 정보: 정식(1000)\n",
      "\n",
      "참치김치찌개\n",
      "돈탕수육(pork included)\n",
      "청경채겉절이\n",
      "깍두기, 정식(6000)\n",
      "\n",
      "보리열무비빔밥\n",
      "건새우아욱국\n",
      "왕떡갈비(pork included)\n",
      "쑥앙금절편\n",
      "배추김치, 정식(6000)\n",
      "\n",
      "물냉면\n",
      "삶은계란\n",
      "장떡전\n",
      "돈까스샐러드(pork included)\n",
      "냉면김치 등\n",
      "질문: 학교 식단에 알레르기 정보도 나오나요?\n",
      "투표 결과: Counter({3: 5}), 최종 선택: 3\n"
     ]
    },
    {
     "name": "stderr",
     "output_type": "stream",
     "text": [
      "randomized_korean_questions_result.json:  38%|██████████▉                  | 39/104 [07:11<04:35,  4.24s/it]"
     ]
    },
    {
     "name": "stdout",
     "output_type": "stream",
     "text": [
      "질문: 학교 식단에 알레르기 정보도 나오나요?\n",
      "투표 결과: Counter({3: 5}), 최종 선택: 3\n",
      "2025-06-20 12:45:52.309 | INFO     | src.answers.meals_answer:get_context:184 - 20250620 날짜의 로컬 식단 정보를 사용합니다.\n",
      "생성된 대답: 2025-06-20 일을 말씀하시는 게 맞을까요? 찾은 식단 정보: 정식(1000)\n",
      "\n",
      "참치김치찌개\n",
      "돈탕수육(pork included)\n",
      "청경채겉절이\n",
      "깍두기, 정식(6000)\n",
      "\n",
      "보리열무비빔밥\n",
      "건새우아욱국\n",
      "왕떡갈비(pork included)\n",
      "쑥앙금절편\n",
      "배추김치, 정식(6000)\n",
      "\n",
      "물냉면\n",
      "삶은계란\n",
      "장떡전\n",
      "돈까스샐러드(pork included)\n",
      "냉면김치 등\n",
      "질문: 학교 통학버스 앱도 있어요?\n",
      "투표 결과: Counter({4: 5}), 최종 선택: 4\n"
     ]
    },
    {
     "name": "stderr",
     "output_type": "stream",
     "text": [
      "randomized_korean_questions_result.json:  38%|███████████▏                 | 40/104 [07:15<04:32,  4.26s/it]"
     ]
    },
    {
     "name": "stdout",
     "output_type": "stream",
     "text": [
      "질문: 학교 통학버스 앱도 있어요?\n",
      "투표 결과: Counter({4: 5}), 최종 선택: 4\n",
      "생성된 대답: 셔틀버스 정보 예시: 교내 순환 (대덕캠퍼스 내) 08:20 (월평역) 등교 8:30 9:30 9:40 10:30 11:30 13:30 14:30 15:30 16:30 17:30; 캠퍼스 순환 (대덕캠퍼스 ↔ 보운캠퍼스) 8:10 (출발, 골프연습장) 8:50 (회차 보운캠퍼스) 미운영; 교내 순환 (유성캠퍼스 내) 08:30 17:30 ① 정심화 국제문화회관 ⟶ ② 사회과\n",
      "              학대학 입구(한누리회관 뒤) → ③ 서문(\n",
      "              공동실험실습관 앞) ⟶ ④ 음악 2호관 앞\n",
      "              ⟶ ⑤ 공동동물실험센터(회차) ⟶ ⑥ 체\n",
      "              육관 입구 → ⑦ 예술대학 앞 ⟶ ⑧ 도서\n",
      "              관 앞(대학본부 옆 농대방향) ⟶ ⑨ 학생\n",
      "              생활관 3거리 ⟶ ⑩ 농업생명과학대학\n",
      "              앞 ⟶ ⑪ 동문주차장 ⟶ ⑫ 농업생명과\n",
      "              학대학 앞 ⟶ ⑬ 도서관 앞(도서관삼거리\n",
      "              방향) ⟶ ⑭ 예술대학 앞 → ⑮ 서문(공동\n",
      "              실험실습관 앞) ⟶ ⑯ 사회과학대학 입\n",
      "              구(한누리회관 뒤) → ⑰ 산학연교육연 구관 앞 → ⑱ 정심화 국제문화회관 ※ 오전(등교) 1회만 월평역 출발(정심화 국제문화회관 하차(종점), 시간표 참조) 10회 학기 중 운영 (총 150일) 등\n",
      "질문: 전공 필수 과목 목록은 어디서 확인해요?\n",
      "투표 결과: Counter({0: 5}), 최종 선택: 0\n"
     ]
    },
    {
     "name": "stderr",
     "output_type": "stream",
     "text": [
      "randomized_korean_questions_result.json:  39%|███████████▍                 | 41/104 [07:19<04:29,  4.28s/it]"
     ]
    },
    {
     "name": "stdout",
     "output_type": "stream",
     "text": [
      "질문: 전공 필수 과목 목록은 어디서 확인해요?\n",
      "투표 결과: Counter({0: 5}), 최종 선택: 0\n",
      "생성된 대답: 졸업 필요 학점 외의 정보는 각 학과에 문의하시길 바랍니다.\n",
      "질문: 전공 과목 이수 기준은 어떻게 돼요?\n",
      "투표 결과: Counter({0: 5}), 최종 선택: 0\n"
     ]
    },
    {
     "name": "stderr",
     "output_type": "stream",
     "text": [
      "randomized_korean_questions_result.json:  40%|███████████▋                 | 42/104 [07:22<03:52,  3.75s/it]"
     ]
    },
    {
     "name": "stdout",
     "output_type": "stream",
     "text": [
      "질문: 전공 과목 이수 기준은 어떻게 돼요?\n",
      "투표 결과: Counter({0: 5}), 최종 선택: 0\n",
      "생성된 대답: 졸업 필요 학점 외의 정보는 각 학과에 문의하시길 바랍니다.\n",
      "질문: 이번 주 학사 공지 어떤 게 있어요?\n",
      "투표 결과: Counter({1: 5}), 최종 선택: 1\n"
     ]
    },
    {
     "name": "stderr",
     "output_type": "stream",
     "text": [
      "randomized_korean_questions_result.json:  41%|███████████▉                 | 43/104 [07:26<04:00,  3.94s/it]"
     ]
    },
    {
     "name": "stdout",
     "output_type": "stream",
     "text": [
      "질문: 이번 주 학사 공지 어떤 게 있어요?\n",
      "투표 결과: Counter({1: 5}), 최종 선택: 1\n",
      "생성된 대답: 최신 공지사항입니다\n",
      "- 2025학년도 제2학기 등록금 납부 안내\n",
      "- 2025학년도 제1학기 기말 강의평가 실시 안내\n",
      "- 2025학년도 제1학기 성적공시 안내\n",
      "질문: 교내버스 노선도 어디서 봐요?\n",
      "투표 결과: Counter({4: 5}), 최종 선택: 4\n"
     ]
    },
    {
     "name": "stderr",
     "output_type": "stream",
     "text": [
      "randomized_korean_questions_result.json:  42%|████████████▎                | 44/104 [07:31<04:05,  4.09s/it]"
     ]
    },
    {
     "name": "stdout",
     "output_type": "stream",
     "text": [
      "질문: 교내버스 노선도 어디서 봐요?\n",
      "투표 결과: Counter({4: 5}), 최종 선택: 4\n",
      "생성된 대답: 셔틀버스 정보 예시: 교내 순환 (유성캠퍼스 내) 08:30 17:30 ① 정심화 국제문화회관 ⟶ ② 사회과\n",
      "              학대학 입구(한누리회관 뒤) → ③ 서문(\n",
      "              공동실험실습관 앞) ⟶ ④ 음악 2호관 앞\n",
      "              ⟶ ⑤ 공동동물실험센터(회차) ⟶ ⑥ 체\n",
      "              육관 입구 → ⑦ 예술대학 앞 ⟶ ⑧ 도서\n",
      "              관 앞(대학본부 옆 농대방향) ⟶ ⑨ 학생\n",
      "              생활관 3거리 ⟶ ⑩ 농업생명과학대학\n",
      "              앞 ⟶ ⑪ 동문주차장 ⟶ ⑫ 농업생명과\n",
      "              학대학 앞 ⟶ ⑬ 도서관 앞(도서관삼거리\n",
      "              방향) ⟶ ⑭ 예술대학 앞 → ⑮ 서문(공동\n",
      "              실험실습관 앞) ⟶ ⑯ 사회과학대학 입\n",
      "              구(한누리회관 뒤) → ⑰ 산학연교육연 구관 앞 → ⑱ 정심화 국제문화회관 ※ 오전(등교) 1회만 월평역 출발(정심화 국제문화회관 하차(종점), 시간표 참조) 10회 학기 중 운영 (총 150일); 캠퍼스 순환 (대덕↔보운) 08:10(대덕) 08:50(보운) ①골프연습장 출발(08:10) → ②중앙도 서관(08:11) → ③산학연교육연구관(08: 12) → ④충남대학교입구 버스정류장(홈 플러스유성점방면)(08:13) → ⑤월평역( 08:15) → ⑥보운캠퍼스(회차, 08:50) → ⑦다솔아파트 건너편 → 제2학생회관 →\n",
      "              중앙도서관 → 골프연습장 도착 1회 (회차) 학기 중 운영 (총 150일) 등\n",
      "질문: 계절학기 등록은 어디서 신청해요?\n",
      "투표 결과: Counter({2: 5}), 최종 선택: 2\n"
     ]
    },
    {
     "name": "stderr",
     "output_type": "stream",
     "text": [
      "randomized_korean_questions_result.json:  43%|████████████▌                | 45/104 [07:35<04:06,  4.17s/it]"
     ]
    },
    {
     "name": "stdout",
     "output_type": "stream",
     "text": [
      "질문: 계절학기 등록은 어디서 신청해요?\n",
      "투표 결과: Counter({2: 5}), 최종 선택: 2\n",
      "생성된 대답: 학사일정 예시: 12.24(화) ~ 01.15(수) 동기 계절학기, 01.01(수) 신정, 01.14(화) 2학기 성적발표 등\n",
      "질문: 이번 주말에도 셔틀버스 운행해요?\n",
      "투표 결과: Counter({4: 5}), 최종 선택: 4\n"
     ]
    },
    {
     "name": "stderr",
     "output_type": "stream",
     "text": [
      "randomized_korean_questions_result.json:  44%|████████████▊                | 46/104 [07:39<04:08,  4.29s/it]"
     ]
    },
    {
     "name": "stdout",
     "output_type": "stream",
     "text": [
      "질문: 이번 주말에도 셔틀버스 운행해요?\n",
      "투표 결과: Counter({4: 5}), 최종 선택: 4\n",
      "생성된 대답: 셔틀버스 정보 예시: 교내 순환 (대덕캠퍼스 내) 08:20 (월평역) 등교 8:30 9:30 9:40 10:30 11:30 13:30 14:30 15:30 16:30 17:30; 캠퍼스 순환 (대덕캠퍼스 ↔ 보운캠퍼스) 8:10 (출발, 골프연습장) 8:50 (회차 보운캠퍼스) 미운영 등\n",
      "질문: 다음 학기 개설 과목은 언제 확인 가능해요?\n",
      "투표 결과: Counter({2: 5}), 최종 선택: 2\n"
     ]
    },
    {
     "name": "stderr",
     "output_type": "stream",
     "text": [
      "randomized_korean_questions_result.json:  45%|█████████████                | 47/104 [07:44<04:04,  4.29s/it]"
     ]
    },
    {
     "name": "stdout",
     "output_type": "stream",
     "text": [
      "질문: 다음 학기 개설 과목은 언제 확인 가능해요?\n",
      "투표 결과: Counter({2: 5}), 최종 선택: 2\n",
      "생성된 대답: 학사일정 예시: 12.24(화) ~ 01.15(수) 동기 계절학기, 01.01(수) 신정, 01.14(화) 2학기 성적발표 등\n",
      "질문: 식단에 대한 피드백은 어디로 보내요?\n",
      "투표 결과: Counter({3: 5}), 최종 선택: 3\n"
     ]
    },
    {
     "name": "stderr",
     "output_type": "stream",
     "text": [
      "randomized_korean_questions_result.json:  46%|█████████████▍               | 48/104 [07:48<03:59,  4.29s/it]"
     ]
    },
    {
     "name": "stdout",
     "output_type": "stream",
     "text": [
      "질문: 식단에 대한 피드백은 어디로 보내요?\n",
      "투표 결과: Counter({3: 5}), 최종 선택: 3\n",
      "2025-06-20 12:46:29.764 | INFO     | src.answers.meals_answer:get_context:184 - 20250620 날짜의 로컬 식단 정보를 사용합니다.\n",
      "생성된 대답: 2025-06-20 일을 말씀하시는 게 맞을까요? 찾은 식단 정보: 정식(1000)\n",
      "\n",
      "참치김치찌개\n",
      "돈탕수육(pork included)\n",
      "청경채겉절이\n",
      "깍두기, 정식(6000)\n",
      "\n",
      "보리열무비빔밥\n",
      "건새우아욱국\n",
      "왕떡갈비(pork included)\n",
      "쑥앙금절편\n",
      "배추김치, 정식(6000)\n",
      "\n",
      "물냉면\n",
      "삶은계란\n",
      "장떡전\n",
      "돈까스샐러드(pork included)\n",
      "냉면김치 등\n",
      "질문: 학과 공지랑 학교 공지는 어디서 구분돼요?\n",
      "투표 결과: Counter({1: 5}), 최종 선택: 1\n"
     ]
    },
    {
     "name": "stderr",
     "output_type": "stream",
     "text": [
      "randomized_korean_questions_result.json:  47%|█████████████▋               | 49/104 [07:50<03:24,  3.71s/it]"
     ]
    },
    {
     "name": "stdout",
     "output_type": "stream",
     "text": [
      "질문: 학과 공지랑 학교 공지는 어디서 구분돼요?\n",
      "투표 결과: Counter({1: 5}), 최종 선택: 1\n",
      "생성된 대답: 최신 공지사항입니다\n",
      "- 2025학년도 제2학기 등록금 납부 안내\n",
      "- 2025학년도 제1학기 기말 강의평가 실시 안내\n",
      "- 2025학년도 제1학기 성적공시 안내\n",
      "질문: 이번 학기 공지 올라온 거 있어요?\n",
      "투표 결과: Counter({1: 5}), 최종 선택: 1\n"
     ]
    },
    {
     "name": "stderr",
     "output_type": "stream",
     "text": [
      "randomized_korean_questions_result.json:  48%|█████████████▉               | 50/104 [07:55<03:31,  3.91s/it]"
     ]
    },
    {
     "name": "stdout",
     "output_type": "stream",
     "text": [
      "질문: 이번 학기 공지 올라온 거 있어요?\n",
      "투표 결과: Counter({1: 5}), 최종 선택: 1\n",
      "생성된 대답: 최신 공지사항입니다\n",
      "- 2025학년도 제2학기 등록금 납부 안내\n",
      "- 2025학년도 제1학기 기말 강의평가 실시 안내\n",
      "- 2025학년도 제1학기 성적공시 안내\n",
      "질문: 학교 점심 메뉴 정기적으로 바뀌어요?\n",
      "투표 결과: Counter({3: 5}), 최종 선택: 3\n"
     ]
    },
    {
     "name": "stderr",
     "output_type": "stream",
     "text": [
      "randomized_korean_questions_result.json:  49%|██████████████▏              | 51/104 [07:59<03:35,  4.06s/it]"
     ]
    },
    {
     "name": "stdout",
     "output_type": "stream",
     "text": [
      "질문: 학교 점심 메뉴 정기적으로 바뀌어요?\n",
      "투표 결과: Counter({3: 5}), 최종 선택: 3\n",
      "2025-06-20 12:46:40.921 | INFO     | src.answers.meals_answer:get_context:184 - 20250620 날짜의 로컬 식단 정보를 사용합니다.\n",
      "생성된 대답: 2025-06-20 일을 말씀하시는 게 맞을까요? 찾은 식단 정보: 정식(6000)\n",
      "\n",
      "보리열무비빔밥\n",
      "건새우아욱국\n",
      "왕떡갈비(pork included)\n",
      "쑥앙금절편\n",
      "배추김치, 정식(6000)\n",
      "\n",
      "물냉면\n",
      "삶은계란\n",
      "장떡전\n",
      "돈까스샐러드(pork included)\n",
      "냉면김치, 운영안함 등\n",
      "질문: 조기 졸업 요건이 어떻게 돼요?\n",
      "투표 결과: Counter({0: 5}), 최종 선택: 0\n"
     ]
    },
    {
     "name": "stderr",
     "output_type": "stream",
     "text": [
      "randomized_korean_questions_result.json:  50%|██████████████▌              | 52/104 [08:03<03:33,  4.11s/it]"
     ]
    },
    {
     "name": "stdout",
     "output_type": "stream",
     "text": [
      "질문: 조기 졸업 요건이 어떻게 돼요?\n",
      "투표 결과: Counter({0: 5}), 최종 선택: 0\n",
      "생성된 대답: 졸업 필요 학점 외의 정보는 각 학과에 문의하시길 바랍니다.\n",
      "질문: 휴학 신청은 온라인으로 가능해요?\n",
      "투표 결과: Counter({0: 4, 1: 1}), 최종 선택: 0\n"
     ]
    },
    {
     "name": "stderr",
     "output_type": "stream",
     "text": [
      "randomized_korean_questions_result.json:  51%|██████████████▊              | 53/104 [08:08<03:33,  4.19s/it]"
     ]
    },
    {
     "name": "stdout",
     "output_type": "stream",
     "text": [
      "질문: 휴학 신청은 온라인으로 가능해요?\n",
      "투표 결과: Counter({0: 4, 1: 1}), 최종 선택: 0\n",
      "생성된 대답: 졸업 필요 학점 외의 정보는 각 학과에 문의하시길 바랍니다.\n",
      "질문: 학점 인정 기준은 어떻게 돼요?\n",
      "투표 결과: Counter({0: 5}), 최종 선택: 0\n"
     ]
    },
    {
     "name": "stderr",
     "output_type": "stream",
     "text": [
      "randomized_korean_questions_result.json:  52%|███████████████              | 54/104 [08:12<03:31,  4.23s/it]"
     ]
    },
    {
     "name": "stdout",
     "output_type": "stream",
     "text": [
      "질문: 학점 인정 기준은 어떻게 돼요?\n",
      "투표 결과: Counter({0: 5}), 최종 선택: 0\n",
      "생성된 대답: 졸업요건 정보를 찾지 못했습니다.\n",
      "질문: 공지사항 게시판 위치가 어디예요?\n",
      "투표 결과: Counter({1: 5}), 최종 선택: 1\n"
     ]
    },
    {
     "name": "stderr",
     "output_type": "stream",
     "text": [
      "randomized_korean_questions_result.json:  53%|███████████████▎             | 55/104 [08:16<03:28,  4.25s/it]"
     ]
    },
    {
     "name": "stdout",
     "output_type": "stream",
     "text": [
      "질문: 공지사항 게시판 위치가 어디예요?\n",
      "투표 결과: Counter({1: 5}), 최종 선택: 1\n",
      "생성된 대답: 최신 공지사항입니다\n",
      "- 2025학년도 제2학기 등록금 납부 안내\n",
      "- 2025학년도 제1학기 기말 강의평가 실시 안내\n",
      "- 2025학년도 제1학기 성적공시 안내\n",
      "질문: 이번 주 식단에 특식 있는 날 있어요?\n",
      "투표 결과: Counter({3: 5}), 최종 선택: 3\n"
     ]
    },
    {
     "name": "stderr",
     "output_type": "stream",
     "text": [
      "randomized_korean_questions_result.json:  54%|███████████████▌             | 56/104 [08:21<03:25,  4.29s/it]"
     ]
    },
    {
     "name": "stdout",
     "output_type": "stream",
     "text": [
      "질문: 이번 주 식단에 특식 있는 날 있어요?\n",
      "투표 결과: Counter({3: 5}), 최종 선택: 3\n",
      "2025-06-20 12:47:02.510 | INFO     | src.answers.meals_answer:get_context:184 - 20250620 날짜의 로컬 식단 정보를 사용합니다.\n",
      "생성된 대답: 2025-06-20 일을 말씀하시는 게 맞을까요? 찾은 식단 정보: 정식(1000)\n",
      "\n",
      "참치김치찌개\n",
      "돈탕수육(pork included)\n",
      "청경채겉절이\n",
      "깍두기, 정식(6000)\n",
      "\n",
      "보리열무비빔밥\n",
      "건새우아욱국\n",
      "왕떡갈비(pork included)\n",
      "쑥앙금절편\n",
      "배추김치, 정식(6000)\n",
      "\n",
      "물냉면\n",
      "삶은계란\n",
      "장떡전\n",
      "돈까스샐러드(pork included)\n",
      "냉면김치 등\n",
      "질문: 오늘 학식에 국 종류는 뭐예요?\n",
      "투표 결과: Counter({3: 5}), 최종 선택: 3\n"
     ]
    },
    {
     "name": "stderr",
     "output_type": "stream",
     "text": [
      "randomized_korean_questions_result.json:  55%|███████████████▉             | 57/104 [08:23<02:56,  3.75s/it]"
     ]
    },
    {
     "name": "stdout",
     "output_type": "stream",
     "text": [
      "질문: 오늘 학식에 국 종류는 뭐예요?\n",
      "투표 결과: Counter({3: 5}), 최종 선택: 3\n",
      "2025-06-20 12:47:05.023 | INFO     | src.answers.meals_answer:get_context:184 - 20250620 날짜의 로컬 식단 정보를 사용합니다.\n",
      "생성된 대답: 찾은 식단 정보: 정식(1000)\n",
      "\n",
      "참치김치찌개\n",
      "돈탕수육(pork included)\n",
      "청경채겉절이\n",
      "깍두기, 정식(6000)\n",
      "\n",
      "보리열무비빔밥\n",
      "건새우아욱국\n",
      "왕떡갈비(pork included)\n",
      "쑥앙금절편\n",
      "배추김치, 정식(6000)\n",
      "\n",
      "물냉면\n",
      "삶은계란\n",
      "장떡전\n",
      "돈까스샐러드(pork included)\n",
      "냉면김치 등\n",
      "질문: 수강 신청 오류 해결 방법 아세요?\n",
      "투표 결과: Counter({2: 5}), 최종 선택: 2\n"
     ]
    },
    {
     "name": "stderr",
     "output_type": "stream",
     "text": [
      "randomized_korean_questions_result.json:  56%|████████████████▏            | 58/104 [08:28<02:59,  3.90s/it]"
     ]
    },
    {
     "name": "stdout",
     "output_type": "stream",
     "text": [
      "질문: 수강 신청 오류 해결 방법 아세요?\n",
      "투표 결과: Counter({2: 5}), 최종 선택: 2\n",
      "생성된 대답: 학사일정 예시: 12.24(화) ~ 01.15(수) 동기 계절학기, 01.01(수) 신정, 01.14(화) 2학기 성적발표 등\n",
      "질문: 휴강 공지 어디서 보나요?\n",
      "투표 결과: Counter({1: 5}), 최종 선택: 1\n"
     ]
    },
    {
     "name": "stderr",
     "output_type": "stream",
     "text": [
      "randomized_korean_questions_result.json:  57%|████████████████▍            | 59/104 [08:32<03:01,  4.03s/it]"
     ]
    },
    {
     "name": "stdout",
     "output_type": "stream",
     "text": [
      "질문: 휴강 공지 어디서 보나요?\n",
      "투표 결과: Counter({1: 5}), 최종 선택: 1\n",
      "생성된 대답: 최신 공지사항입니다\n",
      "- 2025학년도 제2학기 등록금 납부 안내\n",
      "- 2025학년도 제1학기 기말 강의평가 실시 안내\n",
      "- 2025학년도 제1학기 성적공시 안내\n",
      "질문: 통학버스 타려면 신청해야 하나요?\n",
      "투표 결과: Counter({4: 5}), 최종 선택: 4\n"
     ]
    },
    {
     "name": "stderr",
     "output_type": "stream",
     "text": [
      "randomized_korean_questions_result.json:  58%|████████████████▋            | 60/104 [08:36<03:00,  4.11s/it]"
     ]
    },
    {
     "name": "stdout",
     "output_type": "stream",
     "text": [
      "질문: 통학버스 타려면 신청해야 하나요?\n",
      "투표 결과: Counter({4: 5}), 최종 선택: 4\n",
      "생성된 대답: 셔틀버스 정보 예시: 교내 순환 (대덕캠퍼스 내) 08:20 (월평역) 등교 8:30 9:30 9:40 10:30 11:30 13:30 14:30 15:30 16:30 17:30; 캠퍼스 순환 (대덕캠퍼스 ↔ 보운캠퍼스) 8:10 (출발, 골프연습장) 8:50 (회차 보운캠퍼스) 미운영; 교내 순환 (유성캠퍼스 내) 08:30 17:30 ① 정심화 국제문화회관 ⟶ ② 사회과\n",
      "              학대학 입구(한누리회관 뒤) → ③ 서문(\n",
      "              공동실험실습관 앞) ⟶ ④ 음악 2호관 앞\n",
      "              ⟶ ⑤ 공동동물실험센터(회차) ⟶ ⑥ 체\n",
      "              육관 입구 → ⑦ 예술대학 앞 ⟶ ⑧ 도서\n",
      "              관 앞(대학본부 옆 농대방향) ⟶ ⑨ 학생\n",
      "              생활관 3거리 ⟶ ⑩ 농업생명과학대학\n",
      "              앞 ⟶ ⑪ 동문주차장 ⟶ ⑫ 농업생명과\n",
      "              학대학 앞 ⟶ ⑬ 도서관 앞(도서관삼거리\n",
      "              방향) ⟶ ⑭ 예술대학 앞 → ⑮ 서문(공동\n",
      "              실험실습관 앞) ⟶ ⑯ 사회과학대학 입\n",
      "              구(한누리회관 뒤) → ⑰ 산학연교육연 구관 앞 → ⑱ 정심화 국제문화회관 ※ 오전(등교) 1회만 월평역 출발(정심화 국제문화회관 하차(종점), 시간표 참조) 10회 학기 중 운영 (총 150일) 등\n",
      "질문: 학교 식당은 주말에도 운영하나요?\n",
      "투표 결과: Counter({3: 5}), 최종 선택: 3\n"
     ]
    },
    {
     "name": "stderr",
     "output_type": "stream",
     "text": [
      "randomized_korean_questions_result.json:  59%|█████████████████            | 61/104 [08:41<03:00,  4.20s/it]"
     ]
    },
    {
     "name": "stdout",
     "output_type": "stream",
     "text": [
      "질문: 학교 식당은 주말에도 운영하나요?\n",
      "투표 결과: Counter({3: 5}), 최종 선택: 3\n",
      "2025-06-20 12:47:22.302 | INFO     | src.answers.meals_answer:get_context:184 - 20250620 날짜의 로컬 식단 정보를 사용합니다.\n",
      "생성된 대답: 2025-06-20 일을 말씀하시는 게 맞을까요? 찾은 식단 정보: 정식(1000)\n",
      "\n",
      "참치김치찌개\n",
      "돈탕수육(pork included)\n",
      "청경채겉절이\n",
      "깍두기, 정식(6000)\n",
      "\n",
      "보리열무비빔밥\n",
      "건새우아욱국\n",
      "왕떡갈비(pork included)\n",
      "쑥앙금절편\n",
      "배추김치, 정식(6000)\n",
      "\n",
      "물냉면\n",
      "삶은계란\n",
      "장떡전\n",
      "돈까스샐러드(pork included)\n",
      "냉면김치 등\n",
      "질문: 공지 알림 설정은 어디서 해요?\n",
      "투표 결과: Counter({1: 5}), 최종 선택: 1\n"
     ]
    },
    {
     "name": "stderr",
     "output_type": "stream",
     "text": [
      "randomized_korean_questions_result.json:  60%|█████████████████▎           | 62/104 [08:45<02:58,  4.25s/it]"
     ]
    },
    {
     "name": "stdout",
     "output_type": "stream",
     "text": [
      "질문: 공지 알림 설정은 어디서 해요?\n",
      "투표 결과: Counter({1: 5}), 최종 선택: 1\n",
      "생성된 대답: 최신 공지사항입니다\n",
      "- 2025학년도 제2학기 등록금 납부 안내\n",
      "- 2025학년도 제1학기 기말 강의평가 실시 안내\n",
      "- 2025학년도 제1학기 성적공시 안내\n",
      "질문: 캡스톤디자인 제출일은 언제예요?\n",
      "투표 결과: Counter({2: 5}), 최종 선택: 2\n"
     ]
    },
    {
     "name": "stderr",
     "output_type": "stream",
     "text": [
      "randomized_korean_questions_result.json:  61%|█████████████████▌           | 63/104 [08:49<02:55,  4.29s/it]"
     ]
    },
    {
     "name": "stdout",
     "output_type": "stream",
     "text": [
      "질문: 캡스톤디자인 제출일은 언제예요?\n",
      "투표 결과: Counter({2: 5}), 최종 선택: 2\n",
      "생성된 대답: 학사일정 예시: 12.24(화) ~ 01.15(수) 동기 계절학기, 01.01(수) 신정, 01.14(화) 2학기 성적발표 등\n",
      "질문: 1학기 개강일이 며칠이에요?\n",
      "투표 결과: Counter({2: 5}), 최종 선택: 2\n"
     ]
    },
    {
     "name": "stderr",
     "output_type": "stream",
     "text": [
      "randomized_korean_questions_result.json:  62%|█████████████████▊           | 64/104 [08:52<02:30,  3.76s/it]"
     ]
    },
    {
     "name": "stdout",
     "output_type": "stream",
     "text": [
      "질문: 1학기 개강일이 며칠이에요?\n",
      "투표 결과: Counter({2: 5}), 최종 선택: 2\n",
      "생성된 대답: 학사일정 예시: 12.24(화) ~ 01.15(수) 동기 계절학기, 01.01(수) 신정, 01.14(화) 2학기 성적발표 등\n",
      "질문: 이번 학기 공휴일은 어떻게 돼요?\n",
      "투표 결과: Counter({2: 5}), 최종 선택: 2\n"
     ]
    },
    {
     "name": "stderr",
     "output_type": "stream",
     "text": [
      "randomized_korean_questions_result.json:  62%|██████████████████▏          | 65/104 [08:56<02:33,  3.94s/it]"
     ]
    },
    {
     "name": "stdout",
     "output_type": "stream",
     "text": [
      "질문: 이번 학기 공휴일은 어떻게 돼요?\n",
      "투표 결과: Counter({2: 5}), 최종 선택: 2\n",
      "생성된 대답: 학사일정 예시: 12.24(화) ~ 01.15(수) 동기 계절학기, 01.01(수) 신정, 01.14(화) 2학기 성적발표 등\n",
      "질문: 2학기 중간고사 기간은 언제예요?\n",
      "투표 결과: Counter({2: 5}), 최종 선택: 2\n"
     ]
    },
    {
     "name": "stderr",
     "output_type": "stream",
     "text": [
      "randomized_korean_questions_result.json:  63%|██████████████████▍          | 66/104 [09:01<02:34,  4.06s/it]"
     ]
    },
    {
     "name": "stdout",
     "output_type": "stream",
     "text": [
      "질문: 2학기 중간고사 기간은 언제예요?\n",
      "투표 결과: Counter({2: 5}), 최종 선택: 2\n",
      "생성된 대답: 학사일정 예시: 12.24(화) ~ 01.15(수) 동기 계절학기, 01.01(수) 신정, 01.14(화) 2학기 성적발표 등\n",
      "질문: 이번 주 공지 중에 중요한 거 뭐 있어요?\n",
      "투표 결과: Counter({1: 5}), 최종 선택: 1\n"
     ]
    },
    {
     "name": "stderr",
     "output_type": "stream",
     "text": [
      "randomized_korean_questions_result.json:  64%|██████████████████▋          | 67/104 [09:05<02:34,  4.18s/it]"
     ]
    },
    {
     "name": "stdout",
     "output_type": "stream",
     "text": [
      "질문: 이번 주 공지 중에 중요한 거 뭐 있어요?\n",
      "투표 결과: Counter({1: 5}), 최종 선택: 1\n",
      "생성된 대답: 최신 공지사항입니다\n",
      "- 2025학년도 제2학기 등록금 납부 안내\n",
      "- 2025학년도 제1학기 기말 강의평가 실시 안내\n",
      "- 2025학년도 제1학기 성적공시 안내\n",
      "질문: 다음 주 학식에 특식 예정 있어요?\n",
      "투표 결과: Counter({3: 5}), 최종 선택: 3\n"
     ]
    },
    {
     "name": "stderr",
     "output_type": "stream",
     "text": [
      "randomized_korean_questions_result.json:  65%|██████████████████▉          | 68/104 [09:09<02:33,  4.26s/it]"
     ]
    },
    {
     "name": "stdout",
     "output_type": "stream",
     "text": [
      "질문: 다음 주 학식에 특식 예정 있어요?\n",
      "투표 결과: Counter({3: 5}), 최종 선택: 3\n",
      "2025-06-20 12:47:51.179 | INFO     | src.answers.meals_answer:get_context:184 - 20250627 날짜의 로컬 식단 정보를 사용합니다.\n",
      "생성된 대답: 찾은 식단 정보: 정식(6000)\n",
      "\n",
      "쌀밥\n",
      "등심돈까스(pork included)\n",
      "맑은장국\n",
      "로제소스팬네파스타(pork included)\n",
      "돗나물샐러드\n",
      "배추김치, 정식(4000)\n",
      "\n",
      "잔치국수\n",
      "참치마요주먹밥, 정식(6000)\n",
      "\n",
      "김치볶음밥&계란후라이(pork included)\n",
      "유부된장국\n",
      "새우튀김\n",
      "크림소스팬네파스타(pork included)\n",
      "단무지 등\n",
      "질문: 공지사항 알림은 문자로도 오나요?\n",
      "투표 결과: Counter({1: 5}), 최종 선택: 1\n"
     ]
    },
    {
     "name": "stderr",
     "output_type": "stream",
     "text": [
      "randomized_korean_questions_result.json:  66%|███████████████████▏         | 69/104 [09:14<02:28,  4.26s/it]"
     ]
    },
    {
     "name": "stdout",
     "output_type": "stream",
     "text": [
      "질문: 공지사항 알림은 문자로도 오나요?\n",
      "투표 결과: Counter({1: 5}), 최종 선택: 1\n",
      "생성된 대답: 최신 공지사항입니다\n",
      "- 2025학년도 제2학기 등록금 납부 안내\n",
      "- 2025학년도 제1학기 기말 강의평가 실시 안내\n",
      "- 2025학년도 제1학기 성적공시 안내\n",
      "질문: 학교 행사 일정은 어디에 올라와요?\n",
      "투표 결과: Counter({2: 3, 1: 2}), 최종 선택: 2\n"
     ]
    },
    {
     "name": "stderr",
     "output_type": "stream",
     "text": [
      "randomized_korean_questions_result.json:  67%|███████████████████▌         | 70/104 [09:18<02:25,  4.29s/it]"
     ]
    },
    {
     "name": "stdout",
     "output_type": "stream",
     "text": [
      "질문: 학교 행사 일정은 어디에 올라와요?\n",
      "투표 결과: Counter({1: 3, 2: 2}), 최종 선택: 1\n",
      "생성된 대답: 최신 공지사항입니다\n",
      "- 2025학년도 제2학기 등록금 납부 안내\n",
      "- 2025학년도 제1학기 기말 강의평가 실시 안내\n",
      "- 2025학년도 제1학기 성적공시 안내\n",
      "질문: 방학 중 식당 운영 하나요?\n",
      "투표 결과: Counter({3: 5}), 최종 선택: 3\n"
     ]
    },
    {
     "name": "stderr",
     "output_type": "stream",
     "text": [
      "randomized_korean_questions_result.json:  68%|███████████████████▊         | 71/104 [09:22<02:22,  4.31s/it]"
     ]
    },
    {
     "name": "stdout",
     "output_type": "stream",
     "text": [
      "질문: 방학 중 식당 운영 하나요?\n",
      "투표 결과: Counter({3: 5}), 최종 선택: 3\n",
      "2025-06-20 12:48:04.160 | INFO     | src.answers.meals_answer:get_context:184 - 20250620 날짜의 로컬 식단 정보를 사용합니다.\n",
      "생성된 대답: 2025-06-20 일을 말씀하시는 게 맞을까요? 찾은 식단 정보: 정식(1000)\n",
      "\n",
      "참치김치찌개\n",
      "돈탕수육(pork included)\n",
      "청경채겉절이\n",
      "깍두기, 정식(6000)\n",
      "\n",
      "보리열무비빔밥\n",
      "건새우아욱국\n",
      "왕떡갈비(pork included)\n",
      "쑥앙금절편\n",
      "배추김치, 정식(6000)\n",
      "\n",
      "물냉면\n",
      "삶은계란\n",
      "장떡전\n",
      "돈까스샐러드(pork included)\n",
      "냉면김치 등\n",
      "질문: 시간표 확인은 어디서 가능해요?\n",
      "투표 결과: Counter({2: 5}), 최종 선택: 2\n"
     ]
    },
    {
     "name": "stderr",
     "output_type": "stream",
     "text": [
      "randomized_korean_questions_result.json:  69%|████████████████████         | 72/104 [09:25<02:00,  3.75s/it]"
     ]
    },
    {
     "name": "stdout",
     "output_type": "stream",
     "text": [
      "질문: 시간표 확인은 어디서 가능해요?\n",
      "투표 결과: Counter({2: 5}), 최종 선택: 2\n",
      "생성된 대답: 학사일정 예시: 12.24(화) ~ 01.15(수) 동기 계절학기, 01.01(수) 신정, 01.14(화) 2학기 성적발표 등\n",
      "질문: 기말고사 기간은 언제예요?\n",
      "투표 결과: Counter({2: 5}), 최종 선택: 2\n"
     ]
    },
    {
     "name": "stderr",
     "output_type": "stream",
     "text": [
      "randomized_korean_questions_result.json:  70%|████████████████████▎        | 73/104 [09:29<02:01,  3.92s/it]"
     ]
    },
    {
     "name": "stdout",
     "output_type": "stream",
     "text": [
      "질문: 기말고사 기간은 언제예요?\n",
      "투표 결과: Counter({2: 5}), 최종 선택: 2\n",
      "생성된 대답: 학사일정 예시: 12.24(화) ~ 01.15(수) 동기 계절학기, 01.01(수) 신정, 01.14(화) 2학기 성적발표 등\n",
      "질문: 졸업하려면 몇 학기 이상 다녀야 해요?\n",
      "투표 결과: Counter({0: 5}), 최종 선택: 0\n"
     ]
    },
    {
     "name": "stderr",
     "output_type": "stream",
     "text": [
      "randomized_korean_questions_result.json:  71%|████████████████████▋        | 74/104 [09:33<02:00,  4.01s/it]"
     ]
    },
    {
     "name": "stdout",
     "output_type": "stream",
     "text": [
      "질문: 졸업하려면 몇 학기 이상 다녀야 해요?\n",
      "투표 결과: Counter({0: 5}), 최종 선택: 0\n",
      "생성된 대답: 졸업 필요 학점 외의 정보는 각 학과에 문의하시길 바랍니다.\n",
      "질문: 수강 철회 가능한 기간은 언제예요?\n",
      "투표 결과: Counter({2: 5}), 최종 선택: 2\n"
     ]
    },
    {
     "name": "stderr",
     "output_type": "stream",
     "text": [
      "randomized_korean_questions_result.json:  72%|████████████████████▉        | 75/104 [09:38<01:59,  4.10s/it]"
     ]
    },
    {
     "name": "stdout",
     "output_type": "stream",
     "text": [
      "질문: 수강 철회 가능한 기간은 언제예요?\n",
      "투표 결과: Counter({2: 5}), 최종 선택: 2\n",
      "생성된 대답: 학사일정 예시: 12.24(화) ~ 01.15(수) 동기 계절학기, 01.01(수) 신정, 01.14(화) 2학기 성적발표 등\n",
      "질문: 셔틀버스 노선 변경된 거 있어요?\n",
      "투표 결과: Counter({4: 5}), 최종 선택: 4\n",
      "질문: 셔틀버스 노선 변경된 거 있어요?\n",
      "투표 결과: Counter({4: 5}), 최종 선택: 4\n"
     ]
    },
    {
     "name": "stderr",
     "output_type": "stream",
     "text": [
      "randomized_korean_questions_result.json:  73%|█████████████████████▏       | 76/104 [09:42<01:59,  4.26s/it]"
     ]
    },
    {
     "name": "stdout",
     "output_type": "stream",
     "text": [
      "생성된 대답: 요청하신 셔틀버스 정보를 찾지 못했습니다.\n",
      "질문: 오늘 식단은 어디에서 확인해요?\n",
      "투표 결과: Counter({3: 5}), 최종 선택: 3\n"
     ]
    },
    {
     "name": "stderr",
     "output_type": "stream",
     "text": [
      "randomized_korean_questions_result.json:  74%|█████████████████████▍       | 77/104 [09:47<01:55,  4.28s/it]"
     ]
    },
    {
     "name": "stdout",
     "output_type": "stream",
     "text": [
      "질문: 오늘 식단은 어디에서 확인해요?\n",
      "투표 결과: Counter({3: 5}), 최종 선택: 3\n",
      "2025-06-20 12:48:28.415 | INFO     | src.answers.meals_answer:get_context:184 - 20250620 날짜의 로컬 식단 정보를 사용합니다.\n",
      "생성된 대답: 찾은 식단 정보: 정식(1000)\n",
      "\n",
      "참치김치찌개\n",
      "돈탕수육(pork included)\n",
      "청경채겉절이\n",
      "깍두기, 정식(6000)\n",
      "\n",
      "보리열무비빔밥\n",
      "건새우아욱국\n",
      "왕떡갈비(pork included)\n",
      "쑥앙금절편\n",
      "배추김치, 정식(6000)\n",
      "\n",
      "물냉면\n",
      "삶은계란\n",
      "장떡전\n",
      "돈까스샐러드(pork included)\n",
      "냉면김치 등\n",
      "질문: 수강신청 시 분반 선택은 어떻게 해요?\n",
      "투표 결과: Counter({2: 5}), 최종 선택: 2\n"
     ]
    },
    {
     "name": "stderr",
     "output_type": "stream",
     "text": [
      "randomized_korean_questions_result.json:  75%|█████████████████████▊       | 78/104 [09:51<01:52,  4.33s/it]"
     ]
    },
    {
     "name": "stdout",
     "output_type": "stream",
     "text": [
      "질문: 수강신청 시 분반 선택은 어떻게 해요?\n",
      "투표 결과: Counter({2: 5}), 최종 선택: 2\n",
      "생성된 대답: 학사일정 예시: 12.24(화) ~ 01.15(수) 동기 계절학기, 01.01(수) 신정, 01.14(화) 2학기 성적발표 등\n",
      "질문: 졸업요건 변경된 게 있나요?\n",
      "투표 결과: Counter({0: 5}), 최종 선택: 0\n"
     ]
    },
    {
     "name": "stderr",
     "output_type": "stream",
     "text": [
      "randomized_korean_questions_result.json:  76%|██████████████████████       | 79/104 [09:54<01:35,  3.80s/it]"
     ]
    },
    {
     "name": "stdout",
     "output_type": "stream",
     "text": [
      "질문: 졸업요건 변경된 게 있나요?\n",
      "투표 결과: Counter({0: 5}), 최종 선택: 0\n",
      "생성된 대답: 졸업 필요 학점 외의 정보는 각 학과에 문의하시길 바랍니다.\n",
      "질문: 학교 일정 캘린더는 어디 있어요?\n",
      "투표 결과: Counter({2: 5}), 최종 선택: 2\n"
     ]
    },
    {
     "name": "stderr",
     "output_type": "stream",
     "text": [
      "randomized_korean_questions_result.json:  77%|██████████████████████▎      | 80/104 [09:58<01:34,  3.95s/it]"
     ]
    },
    {
     "name": "stdout",
     "output_type": "stream",
     "text": [
      "질문: 학교 일정 캘린더는 어디 있어요?\n",
      "투표 결과: Counter({2: 5}), 최종 선택: 2\n",
      "생성된 대답: 학사일정 예시: 12.24(화) ~ 01.15(수) 동기 계절학기, 01.01(수) 신정, 01.14(화) 2학기 성적발표 등\n",
      "질문: 오늘 저녁 학식 메뉴는 뭐예요?\n",
      "투표 결과: Counter({3: 5}), 최종 선택: 3\n"
     ]
    },
    {
     "name": "stderr",
     "output_type": "stream",
     "text": [
      "randomized_korean_questions_result.json:  78%|██████████████████████▌      | 81/104 [10:02<01:33,  4.07s/it]"
     ]
    },
    {
     "name": "stdout",
     "output_type": "stream",
     "text": [
      "질문: 오늘 저녁 학식 메뉴는 뭐예요?\n",
      "투표 결과: Counter({3: 5}), 최종 선택: 3\n",
      "2025-06-20 12:48:44.069 | INFO     | src.answers.meals_answer:get_context:184 - 20250620 날짜의 로컬 식단 정보를 사용합니다.\n",
      "생성된 대답: 찾은 식단 정보: 운영안함, 정식(6000)\n",
      "\n",
      "파인애플야채볶음밥(pork included)\n",
      "맑은장국\n",
      "치킨까스(chicken included)\n",
      "청양간장미니돈까스무침(pork included)\n",
      "리카토니바질톳샐러드\n",
      "배추김치, 운영안함 등\n",
      "질문: 졸업 논문 안 내도 되는 전공이 있나요?\n",
      "투표 결과: Counter({0: 5}), 최종 선택: 0\n"
     ]
    },
    {
     "name": "stderr",
     "output_type": "stream",
     "text": [
      "randomized_korean_questions_result.json:  79%|██████████████████████▊      | 82/104 [10:07<01:30,  4.14s/it]"
     ]
    },
    {
     "name": "stdout",
     "output_type": "stream",
     "text": [
      "질문: 졸업 논문 안 내도 되는 전공이 있나요?\n",
      "투표 결과: Counter({0: 5}), 최종 선택: 0\n",
      "생성된 대답: 졸업 필요 학점 외의 정보는 각 학과에 문의하시길 바랍니다.\n",
      "질문: 교양과목은 몇 학점 들어야 졸업해요?\n",
      "투표 결과: Counter({0: 5}), 최종 선택: 0\n"
     ]
    },
    {
     "name": "stderr",
     "output_type": "stream",
     "text": [
      "randomized_korean_questions_result.json:  80%|███████████████████████▏     | 83/104 [10:11<01:28,  4.20s/it]"
     ]
    },
    {
     "name": "stdout",
     "output_type": "stream",
     "text": [
      "질문: 교양과목은 몇 학점 들어야 졸업해요?\n",
      "투표 결과: Counter({0: 5}), 최종 선택: 0\n",
      "생성된 대답: 졸업요건 정보를 찾지 못했습니다.\n",
      "질문: 2학기 종강일은 언제예요?\n",
      "투표 결과: Counter({2: 5}), 최종 선택: 2\n"
     ]
    },
    {
     "name": "stderr",
     "output_type": "stream",
     "text": [
      "randomized_korean_questions_result.json:  81%|███████████████████████▍     | 84/104 [10:15<01:24,  4.22s/it]"
     ]
    },
    {
     "name": "stdout",
     "output_type": "stream",
     "text": [
      "질문: 2학기 종강일은 언제예요?\n",
      "투표 결과: Counter({2: 5}), 최종 선택: 2\n",
      "생성된 대답: 학사일정 예시: 12.24(화) ~ 01.15(수) 동기 계절학기, 01.01(수) 신정, 01.14(화) 2학기 성적발표 등\n",
      "질문: 방학 중에도 학교 공지 올라오나요?\n",
      "투표 결과: Counter({1: 5}), 최종 선택: 1\n"
     ]
    },
    {
     "name": "stderr",
     "output_type": "stream",
     "text": [
      "randomized_korean_questions_result.json:  82%|███████████████████████▋     | 85/104 [10:20<01:21,  4.27s/it]"
     ]
    },
    {
     "name": "stdout",
     "output_type": "stream",
     "text": [
      "질문: 방학 중에도 학교 공지 올라오나요?\n",
      "투표 결과: Counter({1: 5}), 최종 선택: 1\n",
      "생성된 대답: 최신 공지사항입니다\n",
      "- 2025학년도 제2학기 등록금 납부 안내\n",
      "- 2025학년도 제1학기 기말 강의평가 실시 안내\n",
      "- 2025학년도 제1학기 성적공시 안내\n",
      "질문: 식단표는 어디서 확인할 수 있어요?\n",
      "투표 결과: Counter({3: 5}), 최종 선택: 3\n"
     ]
    },
    {
     "name": "stderr",
     "output_type": "stream",
     "text": [
      "randomized_korean_questions_result.json:  83%|███████████████████████▉     | 86/104 [10:24<01:17,  4.29s/it]"
     ]
    },
    {
     "name": "stdout",
     "output_type": "stream",
     "text": [
      "질문: 식단표는 어디서 확인할 수 있어요?\n",
      "투표 결과: Counter({3: 5}), 최종 선택: 3\n",
      "2025-06-20 12:49:05.687 | INFO     | src.answers.meals_answer:get_context:184 - 20250620 날짜의 로컬 식단 정보를 사용합니다.\n",
      "생성된 대답: 2025-06-20 일을 말씀하시는 게 맞을까요? 찾은 식단 정보: 정식(1000)\n",
      "\n",
      "참치김치찌개\n",
      "돈탕수육(pork included)\n",
      "청경채겉절이\n",
      "깍두기, 정식(6000)\n",
      "\n",
      "보리열무비빔밥\n",
      "건새우아욱국\n",
      "왕떡갈비(pork included)\n",
      "쑥앙금절편\n",
      "배추김치, 정식(6000)\n",
      "\n",
      "물냉면\n",
      "삶은계란\n",
      "장떡전\n",
      "돈까스샐러드(pork included)\n",
      "냉면김치 등\n",
      "질문: 신입생 오리엔테이션 일정 나왔어요?\n",
      "투표 결과: Counter({2: 5}), 최종 선택: 2\n"
     ]
    },
    {
     "name": "stderr",
     "output_type": "stream",
     "text": [
      "randomized_korean_questions_result.json:  84%|████████████████████████▎    | 87/104 [10:26<01:03,  3.75s/it]"
     ]
    },
    {
     "name": "stdout",
     "output_type": "stream",
     "text": [
      "질문: 신입생 오리엔테이션 일정 나왔어요?\n",
      "투표 결과: Counter({2: 5}), 최종 선택: 2\n",
      "생성된 대답: 학사일정 예시: 12.24(화) ~ 01.15(수) 동기 계절학기, 01.01(수) 신정, 01.14(화) 2학기 성적발표 등\n",
      "질문: 다음 주 점심 메뉴 알려줄 수 있어요?\n",
      "투표 결과: Counter({3: 5}), 최종 선택: 3\n"
     ]
    },
    {
     "name": "stderr",
     "output_type": "stream",
     "text": [
      "randomized_korean_questions_result.json:  85%|████████████████████████▌    | 88/104 [10:31<01:02,  3.92s/it]"
     ]
    },
    {
     "name": "stdout",
     "output_type": "stream",
     "text": [
      "질문: 다음 주 점심 메뉴 알려줄 수 있어요?\n",
      "투표 결과: Counter({3: 5}), 최종 선택: 3\n",
      "2025-06-20 12:49:12.490 | INFO     | src.answers.meals_answer:get_context:184 - 20250627 날짜의 로컬 식단 정보를 사용합니다.\n",
      "생성된 대답: 찾은 식단 정보: 운영안함, 정식(6000)\n",
      "\n",
      "쌀밥\n",
      "등심돈까스(pork included)\n",
      "맑은장국\n",
      "로제소스팬네파스타(pork included)\n",
      "돗나물샐러드\n",
      "배추김치, 운영안함 등\n",
      "질문: 학교 공지사항은 어디서 확인해요?\n",
      "투표 결과: Counter({1: 5}), 최종 선택: 1\n"
     ]
    },
    {
     "name": "stderr",
     "output_type": "stream",
     "text": [
      "randomized_korean_questions_result.json:  86%|████████████████████████▊    | 89/104 [10:35<01:00,  4.06s/it]"
     ]
    },
    {
     "name": "stdout",
     "output_type": "stream",
     "text": [
      "질문: 학교 공지사항은 어디서 확인해요?\n",
      "투표 결과: Counter({1: 5}), 최종 선택: 1\n",
      "생성된 대답: 최신 공지사항입니다\n",
      "- 2025학년도 제2학기 등록금 납부 안내\n",
      "- 2025학년도 제1학기 기말 강의평가 실시 안내\n",
      "- 2025학년도 제1학기 성적공시 안내\n",
      "질문: 이번 주 교직원 식단은 뭐예요?\n",
      "투표 결과: Counter({3: 5}), 최종 선택: 3\n"
     ]
    },
    {
     "name": "stderr",
     "output_type": "stream",
     "text": [
      "randomized_korean_questions_result.json:  87%|█████████████████████████    | 90/104 [10:40<00:58,  4.15s/it]"
     ]
    },
    {
     "name": "stdout",
     "output_type": "stream",
     "text": [
      "질문: 이번 주 교직원 식단은 뭐예요?\n",
      "투표 결과: Counter({3: 5}), 최종 선택: 3\n",
      "2025-06-20 12:49:21.238 | INFO     | src.answers.meals_answer:get_context:184 - 20250620 날짜의 로컬 식단 정보를 사용합니다.\n",
      "생성된 대답: 2025-06-20 일을 말씀하시는 게 맞을까요? 찾은 식단 정보: 정식(1000)\n",
      "\n",
      "참치김치찌개\n",
      "돈탕수육(pork included)\n",
      "청경채겉절이\n",
      "깍두기, 정식(6000)\n",
      "\n",
      "보리열무비빔밥\n",
      "건새우아욱국\n",
      "왕떡갈비(pork included)\n",
      "쑥앙금절편\n",
      "배추김치, 정식(6000)\n",
      "\n",
      "물냉면\n",
      "삶은계란\n",
      "장떡전\n",
      "돈까스샐러드(pork included)\n",
      "냉면김치 등\n",
      "질문: 다음 학기 시간표는 언제 확인할 수 있어요?\n",
      "투표 결과: Counter({2: 5}), 최종 선택: 2\n"
     ]
    },
    {
     "name": "stderr",
     "output_type": "stream",
     "text": [
      "randomized_korean_questions_result.json:  88%|█████████████████████████▍   | 91/104 [10:44<00:55,  4.23s/it]"
     ]
    },
    {
     "name": "stdout",
     "output_type": "stream",
     "text": [
      "질문: 다음 학기 시간표는 언제 확인할 수 있어요?\n",
      "투표 결과: Counter({2: 5}), 최종 선택: 2\n",
      "생성된 대답: 학사일정 예시: 12.24(화) ~ 01.15(수) 동기 계절학기, 01.01(수) 신정, 01.14(화) 2학기 성적발표 등\n",
      "질문: 통학버스 정류장은 어디에 있어요?\n",
      "투표 결과: Counter({4: 5}), 최종 선택: 4\n"
     ]
    },
    {
     "name": "stderr",
     "output_type": "stream",
     "text": [
      "randomized_korean_questions_result.json:  88%|█████████████████████████▋   | 92/104 [10:48<00:51,  4.26s/it]"
     ]
    },
    {
     "name": "stdout",
     "output_type": "stream",
     "text": [
      "질문: 통학버스 정류장은 어디에 있어요?\n",
      "투표 결과: Counter({4: 5}), 최종 선택: 4\n",
      "생성된 대답: 셔틀버스 정보 예시: 교내 순환 (대덕캠퍼스 내) 08:20 (월평역) 등교 8:30 9:30 9:40 10:30 11:30 13:30 14:30 15:30 16:30 17:30; 캠퍼스 순환 (대덕캠퍼스 ↔ 보운캠퍼스) 8:10 (출발, 골프연습장) 8:50 (회차 보운캠퍼스) 미운영; 교내 순환 (유성캠퍼스 내) 08:30 17:30 ① 정심화 국제문화회관 ⟶ ② 사회과\n",
      "              학대학 입구(한누리회관 뒤) → ③ 서문(\n",
      "              공동실험실습관 앞) ⟶ ④ 음악 2호관 앞\n",
      "              ⟶ ⑤ 공동동물실험센터(회차) ⟶ ⑥ 체\n",
      "              육관 입구 → ⑦ 예술대학 앞 ⟶ ⑧ 도서\n",
      "              관 앞(대학본부 옆 농대방향) ⟶ ⑨ 학생\n",
      "              생활관 3거리 ⟶ ⑩ 농업생명과학대학\n",
      "              앞 ⟶ ⑪ 동문주차장 ⟶ ⑫ 농업생명과\n",
      "              학대학 앞 ⟶ ⑬ 도서관 앞(도서관삼거리\n",
      "              방향) ⟶ ⑭ 예술대학 앞 → ⑮ 서문(공동\n",
      "              실험실습관 앞) ⟶ ⑯ 사회과학대학 입\n",
      "              구(한누리회관 뒤) → ⑰ 산학연교육연 구관 앞 → ⑱ 정심화 국제문화회관 ※ 오전(등교) 1회만 월평역 출발(정심화 국제문화회관 하차(종점), 시간표 참조) 10회 학기 중 운영 (총 150일) 등\n",
      "질문: 다음 주 저녁 식단 알려줄 수 있어요?\n",
      "투표 결과: Counter({3: 5}), 최종 선택: 3\n"
     ]
    },
    {
     "name": "stderr",
     "output_type": "stream",
     "text": [
      "randomized_korean_questions_result.json:  89%|█████████████████████████▉   | 93/104 [10:53<00:47,  4.31s/it]"
     ]
    },
    {
     "name": "stdout",
     "output_type": "stream",
     "text": [
      "질문: 다음 주 저녁 식단 알려줄 수 있어요?\n",
      "투표 결과: Counter({3: 5}), 최종 선택: 3\n",
      "2025-06-20 12:49:34.429 | INFO     | src.answers.meals_answer:get_context:184 - 20250627 날짜의 로컬 식단 정보를 사용합니다.\n",
      "생성된 대답: 찾은 식단 정보: 운영안함, 정식(6000)\n",
      "\n",
      "쌀밥\n",
      "닭다리백숙(chicken included)\n",
      "후랑크야채볶음(pork included)\n",
      "쌀국수샐러드(느억맘소스)\n",
      "깍두기, 운영안함 등\n",
      "질문: 장학금 신청 마감일은 언제예요?\n",
      "투표 결과: Counter({1: 5}), 최종 선택: 1\n"
     ]
    },
    {
     "name": "stderr",
     "output_type": "stream",
     "text": [
      "randomized_korean_questions_result.json:  90%|██████████████████████████▏  | 94/104 [10:55<00:37,  3.75s/it]"
     ]
    },
    {
     "name": "stdout",
     "output_type": "stream",
     "text": [
      "질문: 장학금 신청 마감일은 언제예요?\n",
      "투표 결과: Counter({1: 5}), 최종 선택: 1\n",
      "생성된 대답: 최신 공지사항입니다\n",
      "- 2025학년도 제2학기 등록금 납부 안내\n",
      "- 2025학년도 제1학기 기말 강의평가 실시 안내\n",
      "- 2025학년도 제1학기 성적공시 안내\n",
      "질문: 이번 학기 등록 일정은 나왔어요?\n",
      "투표 결과: Counter({2: 5}), 최종 선택: 2\n"
     ]
    },
    {
     "name": "stderr",
     "output_type": "stream",
     "text": [
      "randomized_korean_questions_result.json:  91%|██████████████████████████▍  | 95/104 [10:59<00:35,  3.91s/it]"
     ]
    },
    {
     "name": "stdout",
     "output_type": "stream",
     "text": [
      "질문: 이번 학기 등록 일정은 나왔어요?\n",
      "투표 결과: Counter({2: 5}), 최종 선택: 2\n",
      "생성된 대답: 학사일정 예시: 12.24(화) ~ 01.15(수) 동기 계절학기, 01.01(수) 신정, 01.14(화) 2학기 성적발표 등\n",
      "질문: 계절학기 일정은 어디서 봐요?\n",
      "투표 결과: Counter({2: 5}), 최종 선택: 2\n"
     ]
    },
    {
     "name": "stderr",
     "output_type": "stream",
     "text": [
      "randomized_korean_questions_result.json:  92%|██████████████████████████▊  | 96/104 [11:04<00:32,  4.03s/it]"
     ]
    },
    {
     "name": "stdout",
     "output_type": "stream",
     "text": [
      "질문: 계절학기 일정은 어디서 봐요?\n",
      "투표 결과: Counter({2: 5}), 최종 선택: 2\n",
      "생성된 대답: 학사일정 예시: 12.24(화) ~ 01.15(수) 동기 계절학기, 01.01(수) 신정, 01.14(화) 2학기 성적발표 등\n",
      "질문: 내일 점심에 뭐 나와요?\n",
      "투표 결과: Counter({3: 5}), 최종 선택: 3\n"
     ]
    },
    {
     "name": "stderr",
     "output_type": "stream",
     "text": [
      "randomized_korean_questions_result.json:  93%|███████████████████████████  | 97/104 [11:08<00:28,  4.13s/it]"
     ]
    },
    {
     "name": "stdout",
     "output_type": "stream",
     "text": [
      "질문: 내일 점심에 뭐 나와요?\n",
      "투표 결과: Counter({3: 5}), 최종 선택: 3\n",
      "2025-06-20 12:49:49.815 | INFO     | src.answers.meals_answer:get_context:184 - 20250621 날짜의 로컬 식단 정보를 사용합니다.\n",
      "생성된 대답: 찾은 식단 정보:  등\n",
      "질문: 학사 일정표는 어디서 받아요?\n",
      "투표 결과: Counter({2: 5}), 최종 선택: 2\n"
     ]
    },
    {
     "name": "stderr",
     "output_type": "stream",
     "text": [
      "randomized_korean_questions_result.json:  94%|███████████████████████████▎ | 98/104 [11:12<00:25,  4.17s/it]"
     ]
    },
    {
     "name": "stdout",
     "output_type": "stream",
     "text": [
      "질문: 학사 일정표는 어디서 받아요?\n",
      "투표 결과: Counter({2: 5}), 최종 선택: 2\n",
      "생성된 대답: 학사일정 예시: 12.24(화) ~ 01.15(수) 동기 계절학기, 01.01(수) 신정, 01.14(화) 2학기 성적발표 등\n",
      "질문: 조식은 몇 시부터 제공돼요?\n",
      "투표 결과: Counter({3: 5}), 최종 선택: 3\n"
     ]
    },
    {
     "name": "stderr",
     "output_type": "stream",
     "text": [
      "randomized_korean_questions_result.json:  95%|███████████████████████████▌ | 99/104 [11:17<00:20,  4.20s/it]"
     ]
    },
    {
     "name": "stdout",
     "output_type": "stream",
     "text": [
      "질문: 조식은 몇 시부터 제공돼요?\n",
      "투표 결과: Counter({3: 5}), 최종 선택: 3\n",
      "2025-06-20 12:49:58.347 | INFO     | src.answers.meals_answer:get_context:184 - 20250620 날짜의 로컬 식단 정보를 사용합니다.\n",
      "생성된 대답: 2025-06-20 일을 말씀하시는 게 맞을까요? 찾은 식단 정보: 운영안함, 운영안함, 운영안함 등\n",
      "질문: 졸업 유예 신청은 언제 해요?\n",
      "투표 결과: Counter({0: 5}), 최종 선택: 0\n"
     ]
    },
    {
     "name": "stderr",
     "output_type": "stream",
     "text": [
      "randomized_korean_questions_result.json:  96%|██████████████████████████▉ | 100/104 [11:21<00:16,  4.23s/it]"
     ]
    },
    {
     "name": "stdout",
     "output_type": "stream",
     "text": [
      "질문: 졸업 유예 신청은 언제 해요?\n",
      "투표 결과: Counter({0: 5}), 최종 선택: 0\n",
      "생성된 대답: 졸업 필요 학점 외의 정보는 각 학과에 문의하시길 바랍니다.\n",
      "질문: 수강 신청은 몇 시부터 시작돼요?\n",
      "투표 결과: Counter({2: 5}), 최종 선택: 2\n"
     ]
    },
    {
     "name": "stderr",
     "output_type": "stream",
     "text": [
      "randomized_korean_questions_result.json:  97%|███████████████████████████▏| 101/104 [11:25<00:12,  4.28s/it]"
     ]
    },
    {
     "name": "stdout",
     "output_type": "stream",
     "text": [
      "질문: 수강 신청은 몇 시부터 시작돼요?\n",
      "투표 결과: Counter({2: 5}), 최종 선택: 2\n",
      "생성된 대답: 학사일정 예시: 12.24(화) ~ 01.15(수) 동기 계절학기, 01.01(수) 신정, 01.14(화) 2학기 성적발표 등\n",
      "질문: 다음 학기 수업 평가는 언제예요?\n",
      "투표 결과: Counter({2: 5}), 최종 선택: 2\n"
     ]
    },
    {
     "name": "stderr",
     "output_type": "stream",
     "text": [
      "randomized_korean_questions_result.json:  98%|███████████████████████████▍| 102/104 [11:28<00:07,  3.71s/it]"
     ]
    },
    {
     "name": "stdout",
     "output_type": "stream",
     "text": [
      "질문: 다음 학기 수업 평가는 언제예요?\n",
      "투표 결과: Counter({2: 5}), 최종 선택: 2\n",
      "생성된 대답: 학사일정 예시: 12.24(화) ~ 01.15(수) 동기 계절학기, 01.01(수) 신정, 01.14(화) 2학기 성적발표 등\n",
      "질문: 오늘 급식 반찬에 고기 있나요?\n",
      "투표 결과: Counter({3: 5}), 최종 선택: 3\n"
     ]
    },
    {
     "name": "stderr",
     "output_type": "stream",
     "text": [
      "randomized_korean_questions_result.json:  99%|███████████████████████████▋| 103/104 [11:32<00:03,  3.89s/it]"
     ]
    },
    {
     "name": "stdout",
     "output_type": "stream",
     "text": [
      "질문: 오늘 급식 반찬에 고기 있나요?\n",
      "투표 결과: Counter({3: 5}), 최종 선택: 3\n",
      "2025-06-20 12:50:13.731 | INFO     | src.answers.meals_answer:get_context:184 - 20250620 날짜의 로컬 식단 정보를 사용합니다.\n",
      "생성된 대답: 찾은 식단 정보: 정식(1000)\n",
      "\n",
      "참치김치찌개\n",
      "돈탕수육(pork included)\n",
      "청경채겉절이\n",
      "깍두기, 정식(6000)\n",
      "\n",
      "보리열무비빔밥\n",
      "건새우아욱국\n",
      "왕떡갈비(pork included)\n",
      "쑥앙금절편\n",
      "배추김치, 정식(6000)\n",
      "\n",
      "물냉면\n",
      "삶은계란\n",
      "장떡전\n",
      "돈까스샐러드(pork included)\n",
      "냉면김치 등\n",
      "질문: 졸업 작품 제출은 어디서 해요?\n",
      "투표 결과: Counter({0: 5}), 최종 선택: 0\n"
     ]
    },
    {
     "name": "stderr",
     "output_type": "stream",
     "text": [
      "randomized_korean_questions_result.json: 100%|████████████████████████████| 104/104 [11:36<00:00,  6.70s/it]\n"
     ]
    },
    {
     "name": "stdout",
     "output_type": "stream",
     "text": [
      "질문: 졸업 작품 제출은 어디서 해요?\n",
      "투표 결과: Counter({0: 5}), 최종 선택: 0\n",
      "생성된 대답: 졸업 필요 학점 외의 정보는 각 학과에 문의하시길 바랍니다.\n",
      "✅ ../outputs/randomized_korean_questions_result_output.json 저장 완료\n",
      "✅ ../outputs/randomized_korean_questions_result_answer_output.json 저장 완료\n"
     ]
    },
    {
     "name": "stderr",
     "output_type": "stream",
     "text": [
      "classifier_questions_only_result.json:   0%|                                        | 0/147 [00:00<?, ?it/s]"
     ]
    },
    {
     "name": "stdout",
     "output_type": "stream",
     "text": [
      "질문: 졸업을 위해 필요한 학점이 몇 학점인가요?\n",
      "투표 결과: Counter({0: 5}), 최종 선택: 0\n"
     ]
    },
    {
     "name": "stderr",
     "output_type": "stream",
     "text": [
      "classifier_questions_only_result.json:   1%|▏                               | 1/147 [00:04<10:29,  4.31s/it]"
     ]
    },
    {
     "name": "stdout",
     "output_type": "stream",
     "text": [
      "질문: 졸업을 위해 필요한 학점이 몇 학점인가요?\n",
      "투표 결과: Counter({0: 5}), 최종 선택: 0\n",
      "생성된 대답: 졸업요건 정보를 찾지 못했습니다.\n",
      "질문: 졸업 논문 제출 기한이 언제인가요?\n",
      "투표 결과: Counter({2: 5}), 최종 선택: 2\n"
     ]
    },
    {
     "name": "stderr",
     "output_type": "stream",
     "text": [
      "classifier_questions_only_result.json:   1%|▍                               | 2/147 [00:08<10:25,  4.31s/it]"
     ]
    },
    {
     "name": "stdout",
     "output_type": "stream",
     "text": [
      "질문: 졸업 논문 제출 기한이 언제인가요?\n",
      "투표 결과: Counter({2: 5}), 최종 선택: 2\n",
      "생성된 대답: 학사일정 예시: 12.24(화) ~ 01.15(수) 동기 계절학기, 01.01(수) 신정, 01.14(화) 2학기 성적발표 등\n",
      "질문: 졸업 필수 과목에는 어떤 것들이 있나요?\n",
      "투표 결과: Counter({0: 5}), 최종 선택: 0\n"
     ]
    },
    {
     "name": "stderr",
     "output_type": "stream",
     "text": [
      "classifier_questions_only_result.json:   2%|▋                               | 3/147 [00:13<10:27,  4.36s/it]"
     ]
    },
    {
     "name": "stdout",
     "output_type": "stream",
     "text": [
      "질문: 졸업 필수 과목에는 어떤 것들이 있나요?\n",
      "투표 결과: Counter({0: 5}), 최종 선택: 0\n",
      "생성된 대답: 졸업 필요 학점 외의 정보는 각 학과에 문의하시길 바랍니다.\n",
      "질문: 졸업 요건 중 영어 인증은 어떻게 받나요?\n",
      "투표 결과: Counter({0: 5}), 최종 선택: 0\n"
     ]
    },
    {
     "name": "stderr",
     "output_type": "stream",
     "text": [
      "classifier_questions_only_result.json:   3%|▊                               | 4/147 [00:17<10:22,  4.35s/it]"
     ]
    },
    {
     "name": "stdout",
     "output_type": "stream",
     "text": [
      "질문: 졸업 요건 중 영어 인증은 어떻게 받나요?\n",
      "투표 결과: Counter({0: 5}), 최종 선택: 0\n",
      "생성된 대답: 졸업 필요 학점 외의 정보는 각 학과에 문의하시길 바랍니다.\n",
      "질문: 졸업 유예 신청 방법이 궁금해요.\n",
      "투표 결과: Counter({0: 5}), 최종 선택: 0\n"
     ]
    },
    {
     "name": "stderr",
     "output_type": "stream",
     "text": [
      "classifier_questions_only_result.json:   3%|█                               | 5/147 [00:19<08:45,  3.70s/it]"
     ]
    },
    {
     "name": "stdout",
     "output_type": "stream",
     "text": [
      "질문: 졸업 유예 신청 방법이 궁금해요.\n",
      "투표 결과: Counter({0: 5}), 최종 선택: 0\n",
      "생성된 대답: 졸업 필요 학점 외의 정보는 각 학과에 문의하시길 바랍니다.\n",
      "질문: 졸업 자격시험은 언제 치러지나요?\n",
      "투표 결과: Counter({0: 5}), 최종 선택: 0\n"
     ]
    },
    {
     "name": "stderr",
     "output_type": "stream",
     "text": [
      "classifier_questions_only_result.json:   4%|█▎                              | 6/147 [00:24<09:10,  3.91s/it]"
     ]
    },
    {
     "name": "stdout",
     "output_type": "stream",
     "text": [
      "질문: 졸업 자격시험은 언제 치러지나요?\n",
      "투표 결과: Counter({0: 5}), 최종 선택: 0\n",
      "생성된 대답: 졸업 필요 학점 외의 정보는 각 학과에 문의하시길 바랍니다.\n",
      "질문: 졸업에 필요한 봉사활동 시간은 몇 시간인가요?\n",
      "투표 결과: Counter({0: 5}), 최종 선택: 0\n"
     ]
    },
    {
     "name": "stderr",
     "output_type": "stream",
     "text": [
      "classifier_questions_only_result.json:   5%|█▌                              | 7/147 [00:28<09:23,  4.02s/it]"
     ]
    },
    {
     "name": "stdout",
     "output_type": "stream",
     "text": [
      "질문: 졸업에 필요한 봉사활동 시간은 몇 시간인가요?\n",
      "투표 결과: Counter({0: 5}), 최종 선택: 0\n",
      "생성된 대답: 졸업 필요 학점 외의 정보는 각 학과에 문의하시길 바랍니다.\n",
      "질문: 졸업요건 확인은 어디서 하나요?\n",
      "투표 결과: Counter({0: 5}), 최종 선택: 0\n"
     ]
    },
    {
     "name": "stderr",
     "output_type": "stream",
     "text": [
      "classifier_questions_only_result.json:   5%|█▋                              | 8/147 [00:32<09:31,  4.11s/it]"
     ]
    },
    {
     "name": "stdout",
     "output_type": "stream",
     "text": [
      "질문: 졸업요건 확인은 어디서 하나요?\n",
      "투표 결과: Counter({0: 5}), 최종 선택: 0\n",
      "생성된 대답: 졸업 필요 학점 외의 정보는 각 학과에 문의하시길 바랍니다.\n",
      "질문: 졸업 예정자 명단은 언제 발표되나요?\n",
      "투표 결과: Counter({0: 5}), 최종 선택: 0\n"
     ]
    },
    {
     "name": "stderr",
     "output_type": "stream",
     "text": [
      "classifier_questions_only_result.json:   6%|█▉                              | 9/147 [00:37<09:38,  4.19s/it]"
     ]
    },
    {
     "name": "stdout",
     "output_type": "stream",
     "text": [
      "질문: 졸업 예정자 명단은 언제 발표되나요?\n",
      "투표 결과: Counter({0: 5}), 최종 선택: 0\n",
      "생성된 대답: 졸업 필요 학점 외의 정보는 각 학과에 문의하시길 바랍니다.\n",
      "질문: 복수전공도 졸업요건에 포함되나요?\n",
      "투표 결과: Counter({0: 5}), 최종 선택: 0\n"
     ]
    },
    {
     "name": "stderr",
     "output_type": "stream",
     "text": [
      "classifier_questions_only_result.json:   7%|██                             | 10/147 [00:41<09:42,  4.25s/it]"
     ]
    },
    {
     "name": "stdout",
     "output_type": "stream",
     "text": [
      "질문: 복수전공도 졸업요건에 포함되나요?\n",
      "투표 결과: Counter({0: 5}), 최종 선택: 0\n",
      "생성된 대답: 졸업 필요 학점 외의 정보는 각 학과에 문의하시길 바랍니다.\n",
      "질문: 졸업에 필요한 전공 학점은 몇 학점인가요?\n",
      "투표 결과: Counter({0: 5}), 최종 선택: 0\n"
     ]
    },
    {
     "name": "stderr",
     "output_type": "stream",
     "text": [
      "classifier_questions_only_result.json:   7%|██▎                            | 11/147 [00:45<09:39,  4.26s/it]"
     ]
    },
    {
     "name": "stdout",
     "output_type": "stream",
     "text": [
      "질문: 졸업에 필요한 전공 학점은 몇 학점인가요?\n",
      "투표 결과: Counter({0: 5}), 최종 선택: 0\n",
      "생성된 대답: 졸업요건 정보를 찾지 못했습니다.\n",
      "질문: 졸업요건 중 비교과 활동은 무엇인가요?\n",
      "투표 결과: Counter({0: 5}), 최종 선택: 0\n"
     ]
    },
    {
     "name": "stderr",
     "output_type": "stream",
     "text": [
      "classifier_questions_only_result.json:   8%|██▌                            | 12/147 [00:50<09:38,  4.28s/it]"
     ]
    },
    {
     "name": "stdout",
     "output_type": "stream",
     "text": [
      "질문: 졸업요건 중 비교과 활동은 무엇인가요?\n",
      "투표 결과: Counter({0: 5}), 최종 선택: 0\n",
      "생성된 대답: 졸업 필요 학점 외의 정보는 각 학과에 문의하시길 바랍니다.\n",
      "질문: 졸업이수학점 부족 시 어떻게 해야 하나요?\n",
      "투표 결과: Counter({0: 5}), 최종 선택: 0\n"
     ]
    },
    {
     "name": "stderr",
     "output_type": "stream",
     "text": [
      "classifier_questions_only_result.json:   9%|██▋                            | 13/147 [00:52<08:27,  3.79s/it]"
     ]
    },
    {
     "name": "stdout",
     "output_type": "stream",
     "text": [
      "질문: 졸업이수학점 부족 시 어떻게 해야 하나요?\n",
      "투표 결과: Counter({0: 5}), 최종 선택: 0\n",
      "생성된 대답: 졸업요건 정보를 찾지 못했습니다.\n",
      "질문: 졸업논문 대체 과목이 있나요?\n",
      "투표 결과: Counter({0: 5}), 최종 선택: 0\n"
     ]
    },
    {
     "name": "stderr",
     "output_type": "stream",
     "text": [
      "classifier_questions_only_result.json:  10%|██▉                            | 14/147 [00:57<08:42,  3.93s/it]"
     ]
    },
    {
     "name": "stdout",
     "output_type": "stream",
     "text": [
      "질문: 졸업논문 대체 과목이 있나요?\n",
      "투표 결과: Counter({0: 5}), 최종 선택: 0\n",
      "생성된 대답: 졸업 필요 학점 외의 정보는 각 학과에 문의하시길 바랍니다.\n",
      "질문: 졸업 인증제란 무엇인가요?\n",
      "투표 결과: Counter({0: 5}), 최종 선택: 0\n"
     ]
    },
    {
     "name": "stderr",
     "output_type": "stream",
     "text": [
      "classifier_questions_only_result.json:  10%|███▏                           | 15/147 [01:01<08:58,  4.08s/it]"
     ]
    },
    {
     "name": "stdout",
     "output_type": "stream",
     "text": [
      "질문: 졸업 인증제란 무엇인가요?\n",
      "투표 결과: Counter({0: 5}), 최종 선택: 0\n",
      "생성된 대답: 졸업 필요 학점 외의 정보는 각 학과에 문의하시길 바랍니다.\n",
      "질문: 졸업요건 상담은 어디서 받나요?\n",
      "투표 결과: Counter({0: 5}), 최종 선택: 0\n"
     ]
    },
    {
     "name": "stderr",
     "output_type": "stream",
     "text": [
      "classifier_questions_only_result.json:  11%|███▎                           | 16/147 [01:05<09:07,  4.18s/it]"
     ]
    },
    {
     "name": "stdout",
     "output_type": "stream",
     "text": [
      "질문: 졸업요건 상담은 어디서 받나요?\n",
      "투표 결과: Counter({0: 5}), 최종 선택: 0\n",
      "생성된 대답: 졸업 필요 학점 외의 정보는 각 학과에 문의하시길 바랍니다.\n",
      "질문: 졸업식 일정은 언제인가요?\n",
      "투표 결과: Counter({2: 5}), 최종 선택: 2\n"
     ]
    },
    {
     "name": "stderr",
     "output_type": "stream",
     "text": [
      "classifier_questions_only_result.json:  12%|███▌                           | 17/147 [01:10<09:07,  4.21s/it]"
     ]
    },
    {
     "name": "stdout",
     "output_type": "stream",
     "text": [
      "질문: 졸업식 일정은 언제인가요?\n",
      "투표 결과: Counter({2: 5}), 최종 선택: 2\n",
      "생성된 대답: 학사일정 예시: 12.24(화) ~ 01.15(수) 동기 계절학기, 01.01(수) 신정, 01.14(화) 2학기 성적발표 등\n",
      "질문: 졸업요건 중 교양필수는 몇 학점인가요?\n",
      "투표 결과: Counter({0: 5}), 최종 선택: 0\n"
     ]
    },
    {
     "name": "stderr",
     "output_type": "stream",
     "text": [
      "classifier_questions_only_result.json:  12%|███▊                           | 18/147 [01:14<09:09,  4.26s/it]"
     ]
    },
    {
     "name": "stdout",
     "output_type": "stream",
     "text": [
      "질문: 졸업요건 중 교양필수는 몇 학점인가요?\n",
      "투표 결과: Counter({0: 5}), 최종 선택: 0\n",
      "생성된 대답: 졸업요건 정보를 찾지 못했습니다.\n",
      "질문: 졸업요건 미달 시 재학이 가능한가요?\n",
      "투표 결과: Counter({0: 5}), 최종 선택: 0\n"
     ]
    },
    {
     "name": "stderr",
     "output_type": "stream",
     "text": [
      "classifier_questions_only_result.json:  13%|████                           | 19/147 [01:18<09:10,  4.30s/it]"
     ]
    },
    {
     "name": "stdout",
     "output_type": "stream",
     "text": [
      "질문: 졸업요건 미달 시 재학이 가능한가요?\n",
      "투표 결과: Counter({0: 5}), 최종 선택: 0\n",
      "생성된 대답: 졸업 필요 학점 외의 정보는 각 학과에 문의하시길 바랍니다.\n",
      "질문: 졸업요건 확인 방법을 알려주세요.\n",
      "투표 결과: Counter({0: 5}), 최종 선택: 0\n"
     ]
    },
    {
     "name": "stderr",
     "output_type": "stream",
     "text": [
      "classifier_questions_only_result.json:  14%|████▏                          | 20/147 [01:21<07:54,  3.74s/it]"
     ]
    },
    {
     "name": "stdout",
     "output_type": "stream",
     "text": [
      "질문: 졸업요건 확인 방법을 알려주세요.\n",
      "투표 결과: Counter({0: 5}), 최종 선택: 0\n",
      "생성된 대답: 졸업 필요 학점 외의 정보는 각 학과에 문의하시길 바랍니다.\n",
      "질문: 졸업논문 지도교수는 어떻게 정하나요?\n",
      "투표 결과: Counter({0: 5}), 최종 선택: 0\n"
     ]
    },
    {
     "name": "stderr",
     "output_type": "stream",
     "text": [
      "classifier_questions_only_result.json:  14%|████▍                          | 21/147 [01:25<08:23,  3.99s/it]"
     ]
    },
    {
     "name": "stdout",
     "output_type": "stream",
     "text": [
      "질문: 졸업논문 지도교수는 어떻게 정하나요?\n",
      "투표 결과: Counter({0: 5}), 최종 선택: 0\n",
      "생성된 대답: 졸업 필요 학점 외의 정보는 각 학과에 문의하시길 바랍니다.\n",
      "질문: 졸업요건 중 자격증이 필요한가요?\n",
      "투표 결과: Counter({0: 5}), 최종 선택: 0\n"
     ]
    },
    {
     "name": "stderr",
     "output_type": "stream",
     "text": [
      "classifier_questions_only_result.json:  15%|████▋                          | 22/147 [01:30<08:28,  4.07s/it]"
     ]
    },
    {
     "name": "stdout",
     "output_type": "stream",
     "text": [
      "질문: 졸업요건 중 자격증이 필요한가요?\n",
      "투표 결과: Counter({0: 5}), 최종 선택: 0\n",
      "생성된 대답: 졸업 필요 학점 외의 정보는 각 학과에 문의하시길 바랍니다.\n",
      "질문: 졸업요건 충족 여부는 어디서 확인하나요?\n",
      "투표 결과: Counter({0: 5}), 최종 선택: 0\n"
     ]
    },
    {
     "name": "stderr",
     "output_type": "stream",
     "text": [
      "classifier_questions_only_result.json:  16%|████▊                          | 23/147 [01:34<08:38,  4.18s/it]"
     ]
    },
    {
     "name": "stdout",
     "output_type": "stream",
     "text": [
      "질문: 졸업요건 충족 여부는 어디서 확인하나요?\n",
      "투표 결과: Counter({0: 5}), 최종 선택: 0\n",
      "생성된 대답: 졸업 필요 학점 외의 정보는 각 학과에 문의하시길 바랍니다.\n",
      "질문: 졸업요건 관련 문의는 어디로 해야 하나요?\n",
      "투표 결과: Counter({0: 5}), 최종 선택: 0\n"
     ]
    },
    {
     "name": "stderr",
     "output_type": "stream",
     "text": [
      "classifier_questions_only_result.json:  16%|█████                          | 24/147 [01:38<08:39,  4.22s/it]"
     ]
    },
    {
     "name": "stdout",
     "output_type": "stream",
     "text": [
      "질문: 졸업요건 관련 문의는 어디로 해야 하나요?\n",
      "투표 결과: Counter({0: 5}), 최종 선택: 0\n",
      "생성된 대답: 졸업 필요 학점 외의 정보는 각 학과에 문의하시길 바랍니다.\n",
      "질문: 졸업요건 중 인턴십도 포함되나요?\n",
      "투표 결과: Counter({0: 5}), 최종 선택: 0\n"
     ]
    },
    {
     "name": "stderr",
     "output_type": "stream",
     "text": [
      "classifier_questions_only_result.json:  17%|█████▎                         | 25/147 [01:43<08:41,  4.27s/it]"
     ]
    },
    {
     "name": "stdout",
     "output_type": "stream",
     "text": [
      "질문: 졸업요건 중 인턴십도 포함되나요?\n",
      "투표 결과: Counter({0: 5}), 최종 선택: 0\n",
      "생성된 대답: 졸업 필요 학점 외의 정보는 각 학과에 문의하시길 바랍니다.\n",
      "질문: 졸업요건에 대해 자세히 설명해주세요.\n",
      "투표 결과: Counter({0: 5}), 최종 선택: 0\n"
     ]
    },
    {
     "name": "stderr",
     "output_type": "stream",
     "text": [
      "classifier_questions_only_result.json:  18%|█████▍                         | 26/147 [01:47<08:43,  4.32s/it]"
     ]
    },
    {
     "name": "stdout",
     "output_type": "stream",
     "text": [
      "질문: 졸업요건에 대해 자세히 설명해주세요.\n",
      "투표 결과: Counter({0: 5}), 최종 선택: 0\n",
      "생성된 대답: 졸업 필요 학점 외의 정보는 각 학과에 문의하시길 바랍니다.\n",
      "질문: 졸업요건 변경 시 기존 학생도 적용되나요?\n",
      "투표 결과: Counter({0: 5}), 최종 선택: 0\n"
     ]
    },
    {
     "name": "stderr",
     "output_type": "stream",
     "text": [
      "classifier_questions_only_result.json:  18%|█████▋                         | 27/147 [01:50<07:33,  3.78s/it]"
     ]
    },
    {
     "name": "stdout",
     "output_type": "stream",
     "text": [
      "질문: 졸업요건 변경 시 기존 학생도 적용되나요?\n",
      "투표 결과: Counter({0: 5}), 최종 선택: 0\n",
      "생성된 대답: 졸업 필요 학점 외의 정보는 각 학과에 문의하시길 바랍니다.\n",
      "질문: 최근 학교 공지사항은 어디서 확인하나요?\n",
      "투표 결과: Counter({1: 5}), 최종 선택: 1\n"
     ]
    },
    {
     "name": "stderr",
     "output_type": "stream",
     "text": [
      "classifier_questions_only_result.json:  19%|█████▉                         | 28/147 [01:54<07:48,  3.94s/it]"
     ]
    },
    {
     "name": "stdout",
     "output_type": "stream",
     "text": [
      "질문: 최근 학교 공지사항은 어디서 확인하나요?\n",
      "투표 결과: Counter({1: 5}), 최종 선택: 1\n",
      "생성된 대답: 최신 공지사항입니다\n",
      "- 2025학년도 제2학기 등록금 납부 안내\n",
      "- 2025학년도 제1학기 기말 강의평가 실시 안내\n",
      "- 2025학년도 제1학기 성적공시 안내\n",
      "질문: 학교에서 코로나19 관련 공지가 있나요?\n",
      "투표 결과: Counter({1: 5}), 최종 선택: 1\n"
     ]
    },
    {
     "name": "stderr",
     "output_type": "stream",
     "text": [
      "classifier_questions_only_result.json:  20%|██████                         | 29/147 [01:58<07:58,  4.05s/it]"
     ]
    },
    {
     "name": "stdout",
     "output_type": "stream",
     "text": [
      "질문: 학교에서 코로나19 관련 공지가 있나요?\n",
      "투표 결과: Counter({1: 5}), 최종 선택: 1\n",
      "생성된 대답: 죄송하지만 해당 정보는 직접 공지사항을 확인하셔야 합니다.\n",
      "최신 공지사항입니다\n",
      "- 2025학년도 제2학기 등록금 납부 안내\n",
      "- 2025학년도 제1학기 기말 강의평가 실시 안내\n",
      "- 2025학년도 제1학기 성적공시 안내\n",
      "질문: 장학금 신청 공지 언제 나오나요?\n",
      "투표 결과: Counter({1: 5}), 최종 선택: 1\n"
     ]
    },
    {
     "name": "stderr",
     "output_type": "stream",
     "text": [
      "classifier_questions_only_result.json:  20%|██████▎                        | 30/147 [02:03<08:05,  4.15s/it]"
     ]
    },
    {
     "name": "stdout",
     "output_type": "stream",
     "text": [
      "질문: 장학금 신청 공지 언제 나오나요?\n",
      "투표 결과: Counter({1: 5}), 최종 선택: 1\n",
      "생성된 대답: 최신 공지사항입니다\n",
      "- 2025학년도 제2학기 등록금 납부 안내\n",
      "- 2025학년도 제1학기 기말 강의평가 실시 안내\n",
      "- 2025학년도 제1학기 성적공시 안내\n",
      "질문: 휴강 공지사항은 어디에 올라오나요?\n",
      "투표 결과: Counter({1: 5}), 최종 선택: 1\n"
     ]
    },
    {
     "name": "stderr",
     "output_type": "stream",
     "text": [
      "classifier_questions_only_result.json:  21%|██████▌                        | 31/147 [02:07<08:06,  4.20s/it]"
     ]
    },
    {
     "name": "stdout",
     "output_type": "stream",
     "text": [
      "질문: 휴강 공지사항은 어디에 올라오나요?\n",
      "투표 결과: Counter({1: 5}), 최종 선택: 1\n",
      "생성된 대답: 최신 공지사항입니다\n",
      "- 2025학년도 제2학기 등록금 납부 안내\n",
      "- 2025학년도 제1학기 기말 강의평가 실시 안내\n",
      "- 2025학년도 제1학기 성적공시 안내\n",
      "질문: 학교에서 행사 관련 공지가 있나요?\n",
      "투표 결과: Counter({1: 5}), 최종 선택: 1\n"
     ]
    },
    {
     "name": "stderr",
     "output_type": "stream",
     "text": [
      "classifier_questions_only_result.json:  22%|██████▋                        | 32/147 [02:11<08:07,  4.24s/it]"
     ]
    },
    {
     "name": "stdout",
     "output_type": "stream",
     "text": [
      "질문: 학교에서 행사 관련 공지가 있나요?\n",
      "투표 결과: Counter({1: 5}), 최종 선택: 1\n",
      "생성된 대답: 죄송하지만 해당 정보는 직접 공지사항을 확인하셔야 합니다.\n",
      "최신 공지사항입니다\n",
      "- 2025학년도 제2학기 등록금 납부 안내\n",
      "- 2025학년도 제1학기 기말 강의평가 실시 안내\n",
      "- 2025학년도 제1학기 성적공시 안내\n",
      "질문: 학사 일정 변경 공지는 어디서 볼 수 있나요?\n",
      "투표 결과: Counter({1: 5}), 최종 선택: 1\n"
     ]
    },
    {
     "name": "stderr",
     "output_type": "stream",
     "text": [
      "classifier_questions_only_result.json:  22%|██████▉                        | 33/147 [02:16<08:06,  4.27s/it]"
     ]
    },
    {
     "name": "stdout",
     "output_type": "stream",
     "text": [
      "질문: 학사 일정 변경 공지는 어디서 볼 수 있나요?\n",
      "투표 결과: Counter({1: 5}), 최종 선택: 1\n",
      "생성된 대답: 죄송하지만 해당 정보는 직접 공지사항을 확인하셔야 합니다.\n",
      "최신 공지사항입니다\n",
      "공지사항을 찾지 못했습니다.\n",
      "질문: 학교 공지사항 알림을 받을 수 있나요?\n",
      "투표 결과: Counter({1: 5}), 최종 선택: 1\n"
     ]
    },
    {
     "name": "stderr",
     "output_type": "stream",
     "text": [
      "classifier_questions_only_result.json:  23%|███████▏                       | 34/147 [02:20<08:03,  4.28s/it]"
     ]
    },
    {
     "name": "stdout",
     "output_type": "stream",
     "text": [
      "질문: 학교 공지사항 알림을 받을 수 있나요?\n",
      "투표 결과: Counter({1: 5}), 최종 선택: 1\n",
      "생성된 대답: 죄송하지만 해당 정보는 직접 공지사항을 확인하셔야 합니다.\n",
      "최신 공지사항입니다\n",
      "- 2025학년도 제2학기 등록금 납부 안내\n",
      "- 2025학년도 제1학기 기말 강의평가 실시 안내\n",
      "- 2025학년도 제1학기 성적공시 안내\n",
      "질문: 학교 홈페이지 공지사항은 어디에 있나요?\n",
      "투표 결과: Counter({1: 5}), 최종 선택: 1\n"
     ]
    },
    {
     "name": "stderr",
     "output_type": "stream",
     "text": [
      "classifier_questions_only_result.json:  24%|███████▍                       | 35/147 [02:23<06:59,  3.75s/it]"
     ]
    },
    {
     "name": "stdout",
     "output_type": "stream",
     "text": [
      "질문: 학교 홈페이지 공지사항은 어디에 있나요?\n",
      "투표 결과: Counter({1: 5}), 최종 선택: 1\n",
      "생성된 대답: 죄송하지만 해당 정보는 직접 공지사항을 확인하셔야 합니다.\n",
      "최신 공지사항입니다\n",
      "- 2025학년도 제2학기 등록금 납부 안내\n",
      "- 2025학년도 제1학기 기말 강의평가 실시 안내\n",
      "- 2025학년도 제1학기 성적공시 안내\n",
      "질문: 신입생 오리엔테이션 공지가 궁금해요.\n",
      "투표 결과: Counter({1: 5}), 최종 선택: 1\n"
     ]
    },
    {
     "name": "stderr",
     "output_type": "stream",
     "text": [
      "classifier_questions_only_result.json:  24%|███████▌                       | 36/147 [02:27<07:19,  3.96s/it]"
     ]
    },
    {
     "name": "stdout",
     "output_type": "stream",
     "text": [
      "질문: 신입생 오리엔테이션 공지가 궁금해요.\n",
      "투표 결과: Counter({1: 5}), 최종 선택: 1\n",
      "생성된 대답: 최신 공지사항입니다\n",
      "- 2025학년도 제2학기 등록금 납부 안내\n",
      "- 2025학년도 제1학기 기말 강의평가 실시 안내\n",
      "- 2025학년도 제1학기 성적공시 안내\n",
      "질문: 기말고사 일정 공지는 언제 나오나요?\n",
      "투표 결과: Counter({2: 5}), 최종 선택: 2\n"
     ]
    },
    {
     "name": "stderr",
     "output_type": "stream",
     "text": [
      "classifier_questions_only_result.json:  25%|███████▊                       | 37/147 [02:32<07:31,  4.11s/it]"
     ]
    },
    {
     "name": "stdout",
     "output_type": "stream",
     "text": [
      "질문: 기말고사 일정 공지는 언제 나오나요?\n",
      "투표 결과: Counter({2: 5}), 최종 선택: 2\n",
      "생성된 대답: 학사일정 예시: 12.24(화) ~ 01.15(수) 동기 계절학기, 01.01(수) 신정, 01.14(화) 2학기 성적발표 등\n",
      "질문: 학교 공지사항에 자주 올라오는 내용은 무엇인가요?\n",
      "투표 결과: Counter({1: 5}), 최종 선택: 1\n"
     ]
    },
    {
     "name": "stderr",
     "output_type": "stream",
     "text": [
      "classifier_questions_only_result.json:  26%|████████                       | 38/147 [02:36<07:34,  4.17s/it]"
     ]
    },
    {
     "name": "stdout",
     "output_type": "stream",
     "text": [
      "질문: 학교 공지사항에 자주 올라오는 내용은 무엇인가요?\n",
      "투표 결과: Counter({1: 5}), 최종 선택: 1\n",
      "생성된 대답: 최신 공지사항입니다\n",
      "- 2025학년도 제2학기 등록금 납부 안내\n",
      "- 2025학년도 제1학기 기말 강의평가 실시 안내\n",
      "- 2025학년도 제1학기 성적공시 안내\n",
      "질문: 공지사항에 올라온 변경사항은 어디서 확인하나요?\n",
      "투표 결과: Counter({1: 5}), 최종 선택: 1\n"
     ]
    },
    {
     "name": "stderr",
     "output_type": "stream",
     "text": [
      "classifier_questions_only_result.json:  27%|████████▏                      | 39/147 [02:40<07:36,  4.23s/it]"
     ]
    },
    {
     "name": "stdout",
     "output_type": "stream",
     "text": [
      "질문: 공지사항에 올라온 변경사항은 어디서 확인하나요?\n",
      "투표 결과: Counter({1: 5}), 최종 선택: 1\n",
      "생성된 대답: 최신 공지사항입니다\n",
      "공지사항을 찾지 못했습니다.\n",
      "질문: 학교 공지사항에 문의는 어떻게 하나요?\n",
      "투표 결과: Counter({1: 5}), 최종 선택: 1\n"
     ]
    },
    {
     "name": "stderr",
     "output_type": "stream",
     "text": [
      "classifier_questions_only_result.json:  27%|████████▍                      | 40/147 [02:44<07:34,  4.25s/it]"
     ]
    },
    {
     "name": "stdout",
     "output_type": "stream",
     "text": [
      "질문: 학교 공지사항에 문의는 어떻게 하나요?\n",
      "투표 결과: Counter({1: 5}), 최종 선택: 1\n",
      "생성된 대답: 최신 공지사항입니다\n",
      "- 2025학년도 제2학기 등록금 납부 안내\n",
      "- 2025학년도 제1학기 기말 강의평가 실시 안내\n",
      "- 2025학년도 제1학기 성적공시 안내\n",
      "질문: 학교 공지사항은 모바일로도 볼 수 있나요?\n",
      "투표 결과: Counter({1: 5}), 최종 선택: 1\n"
     ]
    },
    {
     "name": "stderr",
     "output_type": "stream",
     "text": [
      "classifier_questions_only_result.json:  28%|████████▋                      | 41/147 [02:49<07:31,  4.26s/it]"
     ]
    },
    {
     "name": "stdout",
     "output_type": "stream",
     "text": [
      "질문: 학교 공지사항은 모바일로도 볼 수 있나요?\n",
      "투표 결과: Counter({1: 5}), 최종 선택: 1\n",
      "생성된 대답: 죄송하지만 해당 정보는 직접 공지사항을 확인하셔야 합니다.\n",
      "최신 공지사항입니다\n",
      "- 2025학년도 제2학기 등록금 납부 안내\n",
      "- 2025학년도 제1학기 기말 강의평가 실시 안내\n",
      "- 2025학년도 제1학기 성적공시 안내\n",
      "질문: 학교 공지사항에 대한 알림 설정 방법이 있나요?\n",
      "투표 결과: Counter({1: 5}), 최종 선택: 1\n"
     ]
    },
    {
     "name": "stderr",
     "output_type": "stream",
     "text": [
      "classifier_questions_only_result.json:  29%|████████▊                      | 42/147 [02:51<06:36,  3.78s/it]"
     ]
    },
    {
     "name": "stdout",
     "output_type": "stream",
     "text": [
      "질문: 학교 공지사항에 대한 알림 설정 방법이 있나요?\n",
      "투표 결과: Counter({1: 5}), 최종 선택: 1\n",
      "생성된 대답: 죄송하지만 해당 정보는 직접 공지사항을 확인하셔야 합니다.\n",
      "최신 공지사항입니다\n",
      "- 2025학년도 제2학기 등록금 납부 안내\n",
      "- 2025학년도 제1학기 기말 강의평가 실시 안내\n",
      "- 2025학년도 제1학기 성적공시 안내\n",
      "질문: 학교 행사 일정 공지는 어디에 올라오나요?\n",
      "투표 결과: Counter({1: 5}), 최종 선택: 1\n"
     ]
    },
    {
     "name": "stderr",
     "output_type": "stream",
     "text": [
      "classifier_questions_only_result.json:  29%|█████████                      | 43/147 [02:56<06:47,  3.92s/it]"
     ]
    },
    {
     "name": "stdout",
     "output_type": "stream",
     "text": [
      "질문: 학교 행사 일정 공지는 어디에 올라오나요?\n",
      "투표 결과: Counter({1: 5}), 최종 선택: 1\n",
      "생성된 대답: 최신 공지사항입니다\n",
      "- 2025학년도 제2학기 등록금 납부 안내\n",
      "- 2025학년도 제1학기 기말 강의평가 실시 안내\n",
      "- 2025학년도 제1학기 성적공시 안내\n",
      "질문: 학교 공지사항은 언제 업데이트 되나요?\n",
      "투표 결과: Counter({1: 5}), 최종 선택: 1\n"
     ]
    },
    {
     "name": "stderr",
     "output_type": "stream",
     "text": [
      "classifier_questions_only_result.json:  30%|█████████▎                     | 44/147 [03:00<06:55,  4.03s/it]"
     ]
    },
    {
     "name": "stdout",
     "output_type": "stream",
     "text": [
      "질문: 학교 공지사항은 언제 업데이트 되나요?\n",
      "투표 결과: Counter({1: 5}), 최종 선택: 1\n",
      "생성된 대답: 최신 공지사항입니다\n",
      "공지사항을 찾지 못했습니다.\n",
      "질문: 학교 공지사항에서 중요한 내용만 볼 수 있나요?\n",
      "투표 결과: Counter({1: 5}), 최종 선택: 1\n"
     ]
    },
    {
     "name": "stderr",
     "output_type": "stream",
     "text": [
      "classifier_questions_only_result.json:  31%|█████████▍                     | 45/147 [03:05<07:07,  4.19s/it]"
     ]
    },
    {
     "name": "stdout",
     "output_type": "stream",
     "text": [
      "질문: 학교 공지사항에서 중요한 내용만 볼 수 있나요?\n",
      "투표 결과: Counter({1: 5}), 최종 선택: 1\n",
      "생성된 대답: 죄송하지만 해당 정보는 직접 공지사항을 확인하셔야 합니다.\n",
      "최신 공지사항입니다\n",
      "- 2025학년도 제2학기 등록금 납부 안내\n",
      "- 2025학년도 제1학기 기말 강의평가 실시 안내\n",
      "- 2025학년도 제1학기 성적공시 안내\n",
      "질문: 학교 공지사항을 이메일로 받을 수 있나요?\n",
      "투표 결과: Counter({1: 5}), 최종 선택: 1\n"
     ]
    },
    {
     "name": "stderr",
     "output_type": "stream",
     "text": [
      "classifier_questions_only_result.json:  31%|█████████▋                     | 46/147 [03:09<07:05,  4.21s/it]"
     ]
    },
    {
     "name": "stdout",
     "output_type": "stream",
     "text": [
      "질문: 학교 공지사항을 이메일로 받을 수 있나요?\n",
      "투표 결과: Counter({1: 5}), 최종 선택: 1\n",
      "생성된 대답: 죄송하지만 해당 정보는 직접 공지사항을 확인하셔야 합니다.\n",
      "최신 공지사항입니다\n",
      "- 2025학년도 제2학기 등록금 납부 안내\n",
      "- 2025학년도 제1학기 기말 강의평가 실시 안내\n",
      "- 2025학년도 제1학기 성적공시 안내\n",
      "질문: 학교 공지사항에 누락된 내용이 있으면 어디에 문의하나요?\n",
      "투표 결과: Counter({1: 5}), 최종 선택: 1\n"
     ]
    },
    {
     "name": "stderr",
     "output_type": "stream",
     "text": [
      "classifier_questions_only_result.json:  32%|█████████▉                     | 47/147 [03:13<07:05,  4.25s/it]"
     ]
    },
    {
     "name": "stdout",
     "output_type": "stream",
     "text": [
      "질문: 학교 공지사항에 누락된 내용이 있으면 어디에 문의하나요?\n",
      "투표 결과: Counter({1: 5}), 최종 선택: 1\n",
      "생성된 대답: 최신 공지사항입니다\n",
      "- 2025학년도 제2학기 등록금 납부 안내\n",
      "- 2025학년도 제1학기 기말 강의평가 실시 안내\n",
      "- 2025학년도 제1학기 성적공시 안내\n",
      "질문: 학교 공지사항은 누가 작성하나요?\n",
      "투표 결과: Counter({1: 5}), 최종 선택: 1\n"
     ]
    },
    {
     "name": "stderr",
     "output_type": "stream",
     "text": [
      "classifier_questions_only_result.json:  33%|██████████                     | 48/147 [03:17<07:01,  4.26s/it]"
     ]
    },
    {
     "name": "stdout",
     "output_type": "stream",
     "text": [
      "질문: 학교 공지사항은 누가 작성하나요?\n",
      "투표 결과: Counter({1: 5}), 최종 선택: 1\n",
      "생성된 대답: 최신 공지사항입니다\n",
      "- 2025학년도 제2학기 등록금 납부 안내\n",
      "- 2025학년도 제1학기 기말 강의평가 실시 안내\n",
      "- 2025학년도 제1학기 성적공시 안내\n",
      "질문: 학교 공지사항에서 장학금 관련 정보는 어디서 찾나요?\n",
      "투표 결과: Counter({1: 5}), 최종 선택: 1\n"
     ]
    },
    {
     "name": "stderr",
     "output_type": "stream",
     "text": [
      "classifier_questions_only_result.json:  33%|██████████▎                    | 49/147 [03:22<06:59,  4.28s/it]"
     ]
    },
    {
     "name": "stdout",
     "output_type": "stream",
     "text": [
      "질문: 학교 공지사항에서 장학금 관련 정보는 어디서 찾나요?\n",
      "투표 결과: Counter({1: 5}), 최종 선택: 1\n",
      "생성된 대답: 최신 공지사항입니다\n",
      "- 2025학년도 제2학기 등록금 납부 안내\n",
      "- 2025학년도 제1학기 기말 강의평가 실시 안내\n",
      "- 2025학년도 제1학기 성적공시 안내\n",
      "질문: 학교 공지사항에 올라온 자료는 다운로드 가능한가요?\n",
      "투표 결과: Counter({1: 5}), 최종 선택: 1\n"
     ]
    },
    {
     "name": "stderr",
     "output_type": "stream",
     "text": [
      "classifier_questions_only_result.json:  34%|██████████▌                    | 50/147 [03:24<06:06,  3.78s/it]"
     ]
    },
    {
     "name": "stdout",
     "output_type": "stream",
     "text": [
      "질문: 학교 공지사항에 올라온 자료는 다운로드 가능한가요?\n",
      "투표 결과: Counter({1: 5}), 최종 선택: 1\n",
      "생성된 대답: 최신 공지사항입니다\n",
      "- 2025학년도 제2학기 등록금 납부 안내\n",
      "- 2025학년도 제1학기 기말 강의평가 실시 안내\n",
      "- 2025학년도 제1학기 성적공시 안내\n",
      "질문: 학교 공지사항에 대한 의견은 어디에 남기나요?\n",
      "투표 결과: Counter({1: 5}), 최종 선택: 1\n"
     ]
    },
    {
     "name": "stderr",
     "output_type": "stream",
     "text": [
      "classifier_questions_only_result.json:  35%|██████████▊                    | 51/147 [03:29<06:21,  3.97s/it]"
     ]
    },
    {
     "name": "stdout",
     "output_type": "stream",
     "text": [
      "질문: 학교 공지사항에 대한 의견은 어디에 남기나요?\n",
      "투표 결과: Counter({1: 5}), 최종 선택: 1\n",
      "생성된 대답: 최신 공지사항입니다\n",
      "- 2025학년도 제2학기 등록금 납부 안내\n",
      "- 2025학년도 제1학기 기말 강의평가 실시 안내\n",
      "- 2025학년도 제1학기 성적공시 안내\n",
      "질문: 학교 공지사항에 자주 나오는 질문이 있나요?\n",
      "투표 결과: Counter({1: 5}), 최종 선택: 1\n"
     ]
    },
    {
     "name": "stderr",
     "output_type": "stream",
     "text": [
      "classifier_questions_only_result.json:  35%|██████████▉                    | 52/147 [03:33<06:27,  4.07s/it]"
     ]
    },
    {
     "name": "stdout",
     "output_type": "stream",
     "text": [
      "질문: 학교 공지사항에 자주 나오는 질문이 있나요?\n",
      "투표 결과: Counter({1: 5}), 최종 선택: 1\n",
      "생성된 대답: 죄송하지만 해당 정보는 직접 공지사항을 확인하셔야 합니다.\n",
      "최신 공지사항입니다\n",
      "- 2025학년도 제2학기 등록금 납부 안내\n",
      "- 2025학년도 제1학기 기말 강의평가 실시 안내\n",
      "- 2025학년도 제1학기 성적공시 안내\n",
      "질문: 학교 공지사항은 어디서 검색하나요?\n",
      "투표 결과: Counter({1: 5}), 최종 선택: 1\n"
     ]
    },
    {
     "name": "stderr",
     "output_type": "stream",
     "text": [
      "classifier_questions_only_result.json:  36%|███████████▏                   | 53/147 [03:37<06:29,  4.14s/it]"
     ]
    },
    {
     "name": "stdout",
     "output_type": "stream",
     "text": [
      "질문: 학교 공지사항은 어디서 검색하나요?\n",
      "투표 결과: Counter({1: 5}), 최종 선택: 1\n",
      "생성된 대답: 최신 공지사항입니다\n",
      "- 2025학년도 제2학기 등록금 납부 안내\n",
      "- 2025학년도 제1학기 기말 강의평가 실시 안내\n",
      "- 2025학년도 제1학기 성적공시 안내\n",
      "질문: 학교 공지사항을 인쇄할 수 있나요?\n",
      "투표 결과: Counter({1: 5}), 최종 선택: 1\n"
     ]
    },
    {
     "name": "stderr",
     "output_type": "stream",
     "text": [
      "classifier_questions_only_result.json:  37%|███████████▍                   | 54/147 [03:42<06:28,  4.18s/it]"
     ]
    },
    {
     "name": "stdout",
     "output_type": "stream",
     "text": [
      "질문: 학교 공지사항을 인쇄할 수 있나요?\n",
      "투표 결과: Counter({1: 5}), 최종 선택: 1\n",
      "생성된 대답: 죄송하지만 해당 정보는 직접 공지사항을 확인하셔야 합니다.\n",
      "최신 공지사항입니다\n",
      "- 2025학년도 제2학기 등록금 납부 안내\n",
      "- 2025학년도 제1학기 기말 강의평가 실시 안내\n",
      "- 2025학년도 제1학기 성적공시 안내\n",
      "질문: 학교 공지사항은 외부인도 볼 수 있나요?\n",
      "투표 결과: Counter({1: 5}), 최종 선택: 1\n"
     ]
    },
    {
     "name": "stderr",
     "output_type": "stream",
     "text": [
      "classifier_questions_only_result.json:  37%|███████████▌                   | 55/147 [03:46<06:29,  4.24s/it]"
     ]
    },
    {
     "name": "stdout",
     "output_type": "stream",
     "text": [
      "질문: 학교 공지사항은 외부인도 볼 수 있나요?\n",
      "투표 결과: Counter({1: 5}), 최종 선택: 1\n",
      "생성된 대답: 죄송하지만 해당 정보는 직접 공지사항을 확인하셔야 합니다.\n",
      "최신 공지사항입니다\n",
      "- 2025학년도 제2학기 등록금 납부 안내\n",
      "- 2025학년도 제1학기 기말 강의평가 실시 안내\n",
      "- 2025학년도 제1학기 성적공시 안내\n",
      "질문: 학교 공지사항에 첨부파일이 있으면 어떻게 확인하나요?\n",
      "투표 결과: Counter({1: 5}), 최종 선택: 1\n"
     ]
    },
    {
     "name": "stderr",
     "output_type": "stream",
     "text": [
      "classifier_questions_only_result.json:  38%|███████████▊                   | 56/147 [03:51<06:32,  4.31s/it]"
     ]
    },
    {
     "name": "stdout",
     "output_type": "stream",
     "text": [
      "질문: 학교 공지사항에 첨부파일이 있으면 어떻게 확인하나요?\n",
      "투표 결과: Counter({1: 5}), 최종 선택: 1\n",
      "생성된 대답: 최신 공지사항입니다\n",
      "- 2025학년도 제2학기 등록금 납부 안내\n",
      "- 2025학년도 제1학기 기말 강의평가 실시 안내\n",
      "- 2025학년도 제1학기 성적공시 안내\n",
      "질문: 학교 공지사항은 언제까지 보관되나요?\n",
      "투표 결과: Counter({1: 5}), 최종 선택: 1\n"
     ]
    },
    {
     "name": "stderr",
     "output_type": "stream",
     "text": [
      "classifier_questions_only_result.json:  39%|████████████                   | 57/147 [03:53<05:37,  3.75s/it]"
     ]
    },
    {
     "name": "stdout",
     "output_type": "stream",
     "text": [
      "질문: 학교 공지사항은 언제까지 보관되나요?\n",
      "투표 결과: Counter({1: 5}), 최종 선택: 1\n",
      "생성된 대답: 최신 공지사항입니다\n",
      "- 2025학년도 제2학기 등록금 납부 안내\n",
      "- 2025학년도 제1학기 기말 강의평가 실시 안내\n",
      "- 2025학년도 제1학기 성적공시 안내\n",
      "질문: 이번 학기 학사일정은 어떻게 되나요?\n",
      "투표 결과: Counter({2: 5}), 최종 선택: 2\n"
     ]
    },
    {
     "name": "stderr",
     "output_type": "stream",
     "text": [
      "classifier_questions_only_result.json:  39%|████████████▏                  | 58/147 [03:57<05:50,  3.94s/it]"
     ]
    },
    {
     "name": "stdout",
     "output_type": "stream",
     "text": [
      "질문: 이번 학기 학사일정은 어떻게 되나요?\n",
      "투표 결과: Counter({2: 5}), 최종 선택: 2\n",
      "생성된 대답: 학사일정 예시: 12.24(화) ~ 01.15(수) 동기 계절학기, 01.01(수) 신정, 01.14(화) 2학기 성적발표 등\n",
      "질문: 수강신청 기간은 언제인가요?\n",
      "투표 결과: Counter({2: 5}), 최종 선택: 2\n"
     ]
    },
    {
     "name": "stderr",
     "output_type": "stream",
     "text": [
      "classifier_questions_only_result.json:  40%|████████████▍                  | 59/147 [04:02<05:55,  4.04s/it]"
     ]
    },
    {
     "name": "stdout",
     "output_type": "stream",
     "text": [
      "질문: 수강신청 기간은 언제인가요?\n",
      "투표 결과: Counter({2: 5}), 최종 선택: 2\n",
      "생성된 대답: 학사일정 예시: 12.24(화) ~ 01.15(수) 동기 계절학기, 01.01(수) 신정, 01.14(화) 2학기 성적발표 등\n",
      "질문: 중간고사 일정이 궁금해요.\n",
      "투표 결과: Counter({2: 5}), 최종 선택: 2\n"
     ]
    },
    {
     "name": "stderr",
     "output_type": "stream",
     "text": [
      "classifier_questions_only_result.json:  41%|████████████▋                  | 60/147 [04:06<06:00,  4.15s/it]"
     ]
    },
    {
     "name": "stdout",
     "output_type": "stream",
     "text": [
      "질문: 중간고사 일정이 궁금해요.\n",
      "투표 결과: Counter({2: 5}), 최종 선택: 2\n",
      "생성된 대답: 학사일정 예시: 12.24(화) ~ 01.15(수) 동기 계절학기, 01.01(수) 신정, 01.14(화) 2학기 성적발표 등\n",
      "질문: 기말고사 일정은 언제인가요?\n",
      "투표 결과: Counter({2: 5}), 최종 선택: 2\n"
     ]
    },
    {
     "name": "stderr",
     "output_type": "stream",
     "text": [
      "classifier_questions_only_result.json:  41%|████████████▊                  | 61/147 [04:10<06:02,  4.21s/it]"
     ]
    },
    {
     "name": "stdout",
     "output_type": "stream",
     "text": [
      "질문: 기말고사 일정은 언제인가요?\n",
      "투표 결과: Counter({2: 5}), 최종 선택: 2\n",
      "생성된 대답: 학사일정 예시: 12.24(화) ~ 01.15(수) 동기 계절학기, 01.01(수) 신정, 01.14(화) 2학기 성적발표 등\n",
      "질문: 방학 시작일은 언제인가요?\n",
      "투표 결과: Counter({2: 5}), 최종 선택: 2\n"
     ]
    },
    {
     "name": "stderr",
     "output_type": "stream",
     "text": [
      "classifier_questions_only_result.json:  42%|█████████████                  | 62/147 [04:15<06:01,  4.25s/it]"
     ]
    },
    {
     "name": "stdout",
     "output_type": "stream",
     "text": [
      "질문: 방학 시작일은 언제인가요?\n",
      "투표 결과: Counter({2: 5}), 최종 선택: 2\n",
      "생성된 대답: 학사일정 예시: 12.24(화) ~ 01.15(수) 동기 계절학기, 01.01(수) 신정, 01.14(화) 2학기 성적발표 등\n",
      "질문: 개강일은 언제인가요?\n",
      "투표 결과: Counter({2: 5}), 최종 선택: 2\n"
     ]
    },
    {
     "name": "stderr",
     "output_type": "stream",
     "text": [
      "classifier_questions_only_result.json:  43%|█████████████▎                 | 63/147 [04:19<05:58,  4.27s/it]"
     ]
    },
    {
     "name": "stdout",
     "output_type": "stream",
     "text": [
      "질문: 개강일은 언제인가요?\n",
      "투표 결과: Counter({2: 5}), 최종 선택: 2\n",
      "생성된 대답: 학사일정 예시: 12.24(화) ~ 01.15(수) 동기 계절학기, 01.01(수) 신정, 01.14(화) 2학기 성적발표 등\n",
      "질문: 학사일정 변경이 있나요?\n",
      "투표 결과: Counter({2: 5}), 최종 선택: 2\n",
      "질문: 학사일정 변경이 있나요?\n",
      "투표 결과: Counter({2: 5}), 최종 선택: 2\n"
     ]
    },
    {
     "name": "stderr",
     "output_type": "stream",
     "text": [
      "classifier_questions_only_result.json:  44%|█████████████▍                 | 64/147 [04:22<05:19,  3.85s/it]"
     ]
    },
    {
     "name": "stdout",
     "output_type": "stream",
     "text": [
      "생성된 대답: 학사일정 정보를 찾지 못했습니다.\n",
      "질문: 수료식 일정은 언제인가요?\n",
      "투표 결과: Counter({2: 5}), 최종 선택: 2\n"
     ]
    },
    {
     "name": "stderr",
     "output_type": "stream",
     "text": [
      "classifier_questions_only_result.json:  44%|█████████████▋                 | 65/147 [04:26<05:27,  4.00s/it]"
     ]
    },
    {
     "name": "stdout",
     "output_type": "stream",
     "text": [
      "질문: 수료식 일정은 언제인가요?\n",
      "투표 결과: Counter({2: 5}), 최종 선택: 2\n",
      "생성된 대답: 학사일정 예시: 12.24(화) ~ 01.15(수) 동기 계절학기, 01.01(수) 신정, 01.14(화) 2학기 성적발표 등\n",
      "질문: 휴학 신청 기간은 언제인가요?\n",
      "투표 결과: Counter({2: 5}), 최종 선택: 2\n"
     ]
    },
    {
     "name": "stderr",
     "output_type": "stream",
     "text": [
      "classifier_questions_only_result.json:  45%|█████████████▉                 | 66/147 [04:31<05:34,  4.12s/it]"
     ]
    },
    {
     "name": "stdout",
     "output_type": "stream",
     "text": [
      "질문: 휴학 신청 기간은 언제인가요?\n",
      "투표 결과: Counter({2: 5}), 최종 선택: 2\n",
      "생성된 대답: 학사일정 예시: 12.24(화) ~ 01.15(수) 동기 계절학기, 01.01(수) 신정, 01.14(화) 2학기 성적발표 등\n",
      "질문: 복학 신청 일정이 궁금해요.\n",
      "투표 결과: Counter({2: 5}), 최종 선택: 2\n"
     ]
    },
    {
     "name": "stderr",
     "output_type": "stream",
     "text": [
      "classifier_questions_only_result.json:  46%|██████████████▏                | 67/147 [04:35<05:37,  4.21s/it]"
     ]
    },
    {
     "name": "stdout",
     "output_type": "stream",
     "text": [
      "질문: 복학 신청 일정이 궁금해요.\n",
      "투표 결과: Counter({2: 5}), 최종 선택: 2\n",
      "생성된 대답: 학사일정 예시: 12.24(화) ~ 01.15(수) 동기 계절학기, 01.01(수) 신정, 01.14(화) 2학기 성적발표 등\n",
      "질문: 성적 발표일은 언제인가요?\n",
      "투표 결과: Counter({2: 5}), 최종 선택: 2\n"
     ]
    },
    {
     "name": "stderr",
     "output_type": "stream",
     "text": [
      "classifier_questions_only_result.json:  46%|██████████████▎                | 68/147 [04:40<05:38,  4.28s/it]"
     ]
    },
    {
     "name": "stdout",
     "output_type": "stream",
     "text": [
      "질문: 성적 발표일은 언제인가요?\n",
      "투표 결과: Counter({2: 5}), 최종 선택: 2\n",
      "생성된 대답: 학사일정 예시: 12.24(화) ~ 01.15(수) 동기 계절학기, 01.01(수) 신정, 01.14(화) 2학기 성적발표 등\n",
      "질문: 수강철회 기간은 언제인가요?\n",
      "투표 결과: Counter({2: 5}), 최종 선택: 2\n"
     ]
    },
    {
     "name": "stderr",
     "output_type": "stream",
     "text": [
      "classifier_questions_only_result.json:  47%|██████████████▌                | 69/147 [04:44<05:34,  4.29s/it]"
     ]
    },
    {
     "name": "stdout",
     "output_type": "stream",
     "text": [
      "질문: 수강철회 기간은 언제인가요?\n",
      "투표 결과: Counter({2: 5}), 최종 선택: 2\n",
      "생성된 대답: 학사일정 예시: 12.24(화) ~ 01.15(수) 동기 계절학기, 01.01(수) 신정, 01.14(화) 2학기 성적발표 등\n",
      "질문: 등록금 납부 일정은 어떻게 되나요?\n",
      "투표 결과: Counter({2: 5}), 최종 선택: 2\n"
     ]
    },
    {
     "name": "stderr",
     "output_type": "stream",
     "text": [
      "classifier_questions_only_result.json:  48%|██████████████▊                | 70/147 [04:48<05:31,  4.31s/it]"
     ]
    },
    {
     "name": "stdout",
     "output_type": "stream",
     "text": [
      "질문: 등록금 납부 일정은 어떻게 되나요?\n",
      "투표 결과: Counter({2: 5}), 최종 선택: 2\n",
      "생성된 대답: 학사일정 예시: 12.24(화) ~ 01.15(수) 동기 계절학기, 01.01(수) 신정, 01.14(화) 2학기 성적발표 등\n",
      "질문: 학사일정은 어디서 확인하나요?\n",
      "투표 결과: Counter({2: 5}), 최종 선택: 2\n"
     ]
    },
    {
     "name": "stderr",
     "output_type": "stream",
     "text": [
      "classifier_questions_only_result.json:  48%|██████████████▉                | 71/147 [04:53<05:28,  4.33s/it]"
     ]
    },
    {
     "name": "stdout",
     "output_type": "stream",
     "text": [
      "질문: 학사일정은 어디서 확인하나요?\n",
      "투표 결과: Counter({2: 5}), 최종 선택: 2\n",
      "생성된 대답: 학사일정 예시: 12.24(화) ~ 01.15(수) 동기 계절학기, 01.01(수) 신정, 01.14(화) 2학기 성적발표 등\n",
      "질문: 졸업식 일정이 궁금해요.\n",
      "투표 결과: Counter({2: 5}), 최종 선택: 2\n"
     ]
    },
    {
     "name": "stderr",
     "output_type": "stream",
     "text": [
      "classifier_questions_only_result.json:  49%|███████████████▏               | 72/147 [04:55<04:41,  3.75s/it]"
     ]
    },
    {
     "name": "stdout",
     "output_type": "stream",
     "text": [
      "질문: 졸업식 일정이 궁금해요.\n",
      "투표 결과: Counter({2: 5}), 최종 선택: 2\n",
      "생성된 대답: 학사일정 예시: 12.24(화) ~ 01.15(수) 동기 계절학기, 01.01(수) 신정, 01.14(화) 2학기 성적발표 등\n",
      "질문: 학사일정표는 어디서 다운받나요?\n",
      "투표 결과: Counter({2: 5}), 최종 선택: 2\n"
     ]
    },
    {
     "name": "stderr",
     "output_type": "stream",
     "text": [
      "classifier_questions_only_result.json:  50%|███████████████▍               | 73/147 [04:59<04:48,  3.90s/it]"
     ]
    },
    {
     "name": "stdout",
     "output_type": "stream",
     "text": [
      "질문: 학사일정표는 어디서 다운받나요?\n",
      "투표 결과: Counter({2: 5}), 최종 선택: 2\n",
      "생성된 대답: 학사일정 예시: 12.24(화) ~ 01.15(수) 동기 계절학기, 01.01(수) 신정, 01.14(화) 2학기 성적발표 등\n",
      "질문: 학사일정에 변경사항이 생기면 어디서 확인하나요?\n",
      "투표 결과: Counter({2: 5}), 최종 선택: 2\n",
      "질문: 학사일정에 변경사항이 생기면 어디서 확인하나요?\n",
      "투표 결과: Counter({2: 5}), 최종 선택: 2\n"
     ]
    },
    {
     "name": "stderr",
     "output_type": "stream",
     "text": [
      "classifier_questions_only_result.json:  50%|███████████████▌               | 74/147 [05:04<05:04,  4.17s/it]"
     ]
    },
    {
     "name": "stdout",
     "output_type": "stream",
     "text": [
      "생성된 대답: 학사일정 정보를 찾지 못했습니다.\n",
      "질문: 신입생 입학식 일정은 언제인가요?\n",
      "투표 결과: Counter({2: 5}), 최종 선택: 2\n"
     ]
    },
    {
     "name": "stderr",
     "output_type": "stream",
     "text": [
      "classifier_questions_only_result.json:  51%|███████████████▊               | 75/147 [05:08<05:03,  4.22s/it]"
     ]
    },
    {
     "name": "stdout",
     "output_type": "stream",
     "text": [
      "질문: 신입생 입학식 일정은 언제인가요?\n",
      "투표 결과: Counter({2: 5}), 최종 선택: 2\n",
      "생성된 대답: 학사일정 예시: 12.24(화) ~ 01.15(수) 동기 계절학기, 01.01(수) 신정, 01.14(화) 2학기 성적발표 등\n",
      "질문: 학사일정에 포함된 주요 행사는 무엇인가요?\n",
      "투표 결과: Counter({2: 5}), 최종 선택: 2\n"
     ]
    },
    {
     "name": "stderr",
     "output_type": "stream",
     "text": [
      "classifier_questions_only_result.json:  52%|████████████████               | 76/147 [05:13<05:03,  4.28s/it]"
     ]
    },
    {
     "name": "stdout",
     "output_type": "stream",
     "text": [
      "질문: 학사일정에 포함된 주요 행사는 무엇인가요?\n",
      "투표 결과: Counter({2: 5}), 최종 선택: 2\n",
      "생성된 대답: 학사일정 예시: 12.24(화) ~ 01.15(수) 동기 계절학기, 01.01(수) 신정, 01.14(화) 2학기 성적발표 등\n",
      "질문: 계절학기 일정이 궁금해요.\n",
      "투표 결과: Counter({2: 5}), 최종 선택: 2\n"
     ]
    },
    {
     "name": "stderr",
     "output_type": "stream",
     "text": [
      "classifier_questions_only_result.json:  52%|████████████████▏              | 77/147 [05:17<05:00,  4.29s/it]"
     ]
    },
    {
     "name": "stdout",
     "output_type": "stream",
     "text": [
      "질문: 계절학기 일정이 궁금해요.\n",
      "투표 결과: Counter({2: 5}), 최종 선택: 2\n",
      "생성된 대답: 학사일정 예시: 12.24(화) ~ 01.15(수) 동기 계절학기, 01.01(수) 신정, 01.14(화) 2학기 성적발표 등\n",
      "질문: 학사일정 관련 공지는 어디에 올라오나요?\n",
      "투표 결과: Counter({1: 5}), 최종 선택: 1\n"
     ]
    },
    {
     "name": "stderr",
     "output_type": "stream",
     "text": [
      "classifier_questions_only_result.json:  53%|████████████████▍              | 78/147 [05:21<04:55,  4.29s/it]"
     ]
    },
    {
     "name": "stdout",
     "output_type": "stream",
     "text": [
      "질문: 학사일정 관련 공지는 어디에 올라오나요?\n",
      "투표 결과: Counter({1: 5}), 최종 선택: 1\n",
      "생성된 대답: 최신 공지사항입니다\n",
      "- 2025학년도 제2학기 등록금 납부 안내\n",
      "- 2025학년도 제1학기 기말 강의평가 실시 안내\n",
      "- 2025학년도 제1학기 성적공시 안내\n",
      "질문: 학사일정은 매년 같나요?\n",
      "투표 결과: Counter({2: 5}), 최종 선택: 2\n"
     ]
    },
    {
     "name": "stderr",
     "output_type": "stream",
     "text": [
      "classifier_questions_only_result.json:  54%|████████████████▋              | 79/147 [05:24<04:19,  3.81s/it]"
     ]
    },
    {
     "name": "stdout",
     "output_type": "stream",
     "text": [
      "질문: 학사일정은 매년 같나요?\n",
      "투표 결과: Counter({2: 5}), 최종 선택: 2\n",
      "생성된 대답: 학사일정 예시: 12.24(화) ~ 01.15(수) 동기 계절학기, 01.01(수) 신정, 01.14(화) 2학기 성적발표 등\n",
      "질문: 학사일정에 대한 문의는 어디서 하나요?\n",
      "투표 결과: Counter({2: 5}), 최종 선택: 2\n"
     ]
    },
    {
     "name": "stderr",
     "output_type": "stream",
     "text": [
      "classifier_questions_only_result.json:  54%|████████████████▊              | 80/147 [05:28<04:27,  3.99s/it]"
     ]
    },
    {
     "name": "stdout",
     "output_type": "stream",
     "text": [
      "질문: 학사일정에 대한 문의는 어디서 하나요?\n",
      "투표 결과: Counter({2: 5}), 최종 선택: 2\n",
      "생성된 대답: 학사일정 예시: 12.24(화) ~ 01.15(수) 동기 계절학기, 01.01(수) 신정, 01.14(화) 2학기 성적발표 등\n",
      "질문: 학사일정 변경 시 알림을 받을 수 있나요?\n",
      "투표 결과: Counter({2: 5}), 최종 선택: 2\n",
      "질문: 학사일정 변경 시 알림을 받을 수 있나요?\n",
      "투표 결과: Counter({2: 5}), 최종 선택: 2\n"
     ]
    },
    {
     "name": "stderr",
     "output_type": "stream",
     "text": [
      "classifier_questions_only_result.json:  55%|█████████████████              | 81/147 [05:33<04:37,  4.20s/it]"
     ]
    },
    {
     "name": "stdout",
     "output_type": "stream",
     "text": [
      "생성된 대답: 학사일정 정보를 찾지 못했습니다.\n",
      "질문: 학사일정에 시험 일정도 포함되나요?\n",
      "투표 결과: Counter({2: 5}), 최종 선택: 2\n"
     ]
    },
    {
     "name": "stderr",
     "output_type": "stream",
     "text": [
      "classifier_questions_only_result.json:  56%|█████████████████▎             | 82/147 [05:37<04:35,  4.23s/it]"
     ]
    },
    {
     "name": "stdout",
     "output_type": "stream",
     "text": [
      "질문: 학사일정에 시험 일정도 포함되나요?\n",
      "투표 결과: Counter({2: 5}), 최종 선택: 2\n",
      "생성된 대답: 학사일정 예시: 12.24(화) ~ 01.15(수) 동기 계절학기, 01.01(수) 신정, 01.14(화) 2학기 성적발표 등\n",
      "질문: 학사일정은 학과마다 다른가요?\n",
      "투표 결과: Counter({2: 5}), 최종 선택: 2\n"
     ]
    },
    {
     "name": "stderr",
     "output_type": "stream",
     "text": [
      "classifier_questions_only_result.json:  56%|█████████████████▌             | 83/147 [05:42<04:33,  4.27s/it]"
     ]
    },
    {
     "name": "stdout",
     "output_type": "stream",
     "text": [
      "질문: 학사일정은 학과마다 다른가요?\n",
      "투표 결과: Counter({2: 5}), 최종 선택: 2\n",
      "생성된 대답: 학사일정 예시: 12.24(화) ~ 01.15(수) 동기 계절학기, 01.01(수) 신정, 01.14(화) 2학기 성적발표 등\n",
      "질문: 학사일정에 공휴일도 포함되나요?\n",
      "투표 결과: Counter({2: 5}), 최종 선택: 2\n"
     ]
    },
    {
     "name": "stderr",
     "output_type": "stream",
     "text": [
      "classifier_questions_only_result.json:  57%|█████████████████▋             | 84/147 [05:46<04:30,  4.30s/it]"
     ]
    },
    {
     "name": "stdout",
     "output_type": "stream",
     "text": [
      "질문: 학사일정에 공휴일도 포함되나요?\n",
      "투표 결과: Counter({2: 5}), 최종 선택: 2\n",
      "생성된 대답: 학사일정 예시: 12.24(화) ~ 01.15(수) 동기 계절학기, 01.01(수) 신정, 01.14(화) 2학기 성적발표 등\n",
      "질문: 학사일정에 대한 자세한 설명이 필요해요.\n",
      "투표 결과: Counter({2: 5}), 최종 선택: 2\n"
     ]
    },
    {
     "name": "stderr",
     "output_type": "stream",
     "text": [
      "classifier_questions_only_result.json:  58%|█████████████████▉             | 85/147 [05:51<04:27,  4.31s/it]"
     ]
    },
    {
     "name": "stdout",
     "output_type": "stream",
     "text": [
      "질문: 학사일정에 대한 자세한 설명이 필요해요.\n",
      "투표 결과: Counter({2: 5}), 최종 선택: 2\n",
      "생성된 대답: 학사일정 예시: 12.24(화) ~ 01.15(수) 동기 계절학기, 01.01(수) 신정, 01.14(화) 2학기 성적발표 등\n",
      "질문: 학사일정에 따라 수업이 변경되나요?\n",
      "투표 결과: Counter({2: 5}), 최종 선택: 2\n",
      "질문: 학사일정에 따라 수업이 변경되나요?\n",
      "투표 결과: Counter({2: 5}), 최종 선택: 2\n"
     ]
    },
    {
     "name": "stderr",
     "output_type": "stream",
     "text": [
      "classifier_questions_only_result.json:  59%|██████████████████▏            | 86/147 [05:53<03:56,  3.87s/it]"
     ]
    },
    {
     "name": "stdout",
     "output_type": "stream",
     "text": [
      "생성된 대답: 학사일정 정보를 찾지 못했습니다.\n",
      "질문: 학사일정은 어디서 공지하나요?\n",
      "투표 결과: Counter({1: 5}), 최종 선택: 1\n"
     ]
    },
    {
     "name": "stderr",
     "output_type": "stream",
     "text": [
      "classifier_questions_only_result.json:  59%|██████████████████▎            | 87/147 [05:58<04:01,  4.02s/it]"
     ]
    },
    {
     "name": "stdout",
     "output_type": "stream",
     "text": [
      "질문: 학사일정은 어디서 공지하나요?\n",
      "투표 결과: Counter({1: 5}), 최종 선택: 1\n",
      "생성된 대답: 최신 공지사항입니다\n",
      "- 2025학년도 제2학기 등록금 납부 안내\n",
      "- 2025학년도 제1학기 기말 강의평가 실시 안내\n",
      "- 2025학년도 제1학기 성적공시 안내\n",
      "질문: 오늘 학생식당 메뉴가 궁금해요.\n",
      "투표 결과: Counter({3: 5}), 최종 선택: 3\n"
     ]
    },
    {
     "name": "stderr",
     "output_type": "stream",
     "text": [
      "classifier_questions_only_result.json:  60%|██████████████████▌            | 88/147 [06:02<04:05,  4.16s/it]"
     ]
    },
    {
     "name": "stdout",
     "output_type": "stream",
     "text": [
      "질문: 오늘 학생식당 메뉴가 궁금해요.\n",
      "투표 결과: Counter({3: 5}), 최종 선택: 3\n",
      "2025-06-20 12:56:20.799 | INFO     | src.answers.meals_answer:get_context:184 - 20250620 날짜의 로컬 식단 정보를 사용합니다.\n",
      "생성된 대답: 찾은 식단 정보: 정식(1000)\n",
      "\n",
      "참치김치찌개\n",
      "돈탕수육(pork included)\n",
      "청경채겉절이\n",
      "깍두기, 정식(6000)\n",
      "\n",
      "보리열무비빔밥\n",
      "건새우아욱국\n",
      "왕떡갈비(pork included)\n",
      "쑥앙금절편\n",
      "배추김치, 정식(6000)\n",
      "\n",
      "물냉면\n",
      "삶은계란\n",
      "장떡전\n",
      "돈까스샐러드(pork included)\n",
      "냉면김치 등\n",
      "질문: 이번 주 식단표는 어디서 볼 수 있나요?\n",
      "투표 결과: Counter({3: 5}), 최종 선택: 3\n"
     ]
    },
    {
     "name": "stderr",
     "output_type": "stream",
     "text": [
      "classifier_questions_only_result.json:  61%|██████████████████▊            | 89/147 [06:07<04:05,  4.24s/it]"
     ]
    },
    {
     "name": "stdout",
     "output_type": "stream",
     "text": [
      "질문: 이번 주 식단표는 어디서 볼 수 있나요?\n",
      "투표 결과: Counter({3: 5}), 최종 선택: 3\n",
      "2025-06-20 12:56:25.228 | INFO     | src.answers.meals_answer:get_context:184 - 20250620 날짜의 로컬 식단 정보를 사용합니다.\n",
      "생성된 대답: 2025-06-20 일을 말씀하시는 게 맞을까요? 찾은 식단 정보: 정식(1000)\n",
      "\n",
      "참치김치찌개\n",
      "돈탕수육(pork included)\n",
      "청경채겉절이\n",
      "깍두기, 정식(6000)\n",
      "\n",
      "보리열무비빔밥\n",
      "건새우아욱국\n",
      "왕떡갈비(pork included)\n",
      "쑥앙금절편\n",
      "배추김치, 정식(6000)\n",
      "\n",
      "물냉면\n",
      "삶은계란\n",
      "장떡전\n",
      "돈까스샐러드(pork included)\n",
      "냉면김치 등\n",
      "질문: 학생식당 식단은 언제 업데이트 되나요?\n",
      "투표 결과: Counter({3: 5}), 최종 선택: 3\n"
     ]
    },
    {
     "name": "stderr",
     "output_type": "stream",
     "text": [
      "classifier_questions_only_result.json:  61%|██████████████████▉            | 90/147 [06:11<04:02,  4.26s/it]"
     ]
    },
    {
     "name": "stdout",
     "output_type": "stream",
     "text": [
      "질문: 학생식당 식단은 언제 업데이트 되나요?\n",
      "투표 결과: Counter({3: 5}), 최종 선택: 3\n",
      "2025-06-20 12:56:29.533 | INFO     | src.answers.meals_answer:get_context:184 - 20250620 날짜의 로컬 식단 정보를 사용합니다.\n",
      "생성된 대답: 식단 정보가 없습니다.\n",
      "질문: 채식 메뉴도 제공되나요?\n",
      "투표 결과: Counter({3: 5}), 최종 선택: 3\n"
     ]
    },
    {
     "name": "stderr",
     "output_type": "stream",
     "text": [
      "classifier_questions_only_result.json:  62%|███████████████████▏           | 91/147 [06:15<04:03,  4.34s/it]"
     ]
    },
    {
     "name": "stdout",
     "output_type": "stream",
     "text": [
      "질문: 채식 메뉴도 제공되나요?\n",
      "투표 결과: Counter({3: 5}), 최종 선택: 3\n",
      "2025-06-20 12:56:34.077 | INFO     | src.answers.meals_answer:get_context:184 - 20250620 날짜의 로컬 식단 정보를 사용합니다.\n",
      "생성된 대답: 2025-06-20 일을 말씀하시는 게 맞을까요? 찾은 식단 정보: 정식(1000)\n",
      "\n",
      "참치김치찌개\n",
      "돈탕수육(pork included)\n",
      "청경채겉절이\n",
      "깍두기, 정식(6000)\n",
      "\n",
      "보리열무비빔밥\n",
      "건새우아욱국\n",
      "왕떡갈비(pork included)\n",
      "쑥앙금절편\n",
      "배추김치, 정식(6000)\n",
      "\n",
      "물냉면\n",
      "삶은계란\n",
      "장떡전\n",
      "돈까스샐러드(pork included)\n",
      "냉면김치 등\n",
      "질문: 식단에 알레르기 정보가 포함되어 있나요?\n",
      "투표 결과: Counter({3: 5}), 최종 선택: 3\n"
     ]
    },
    {
     "name": "stderr",
     "output_type": "stream",
     "text": [
      "classifier_questions_only_result.json:  63%|███████████████████▍           | 92/147 [06:20<03:58,  4.34s/it]"
     ]
    },
    {
     "name": "stdout",
     "output_type": "stream",
     "text": [
      "질문: 식단에 알레르기 정보가 포함되어 있나요?\n",
      "투표 결과: Counter({3: 5}), 최종 선택: 3\n",
      "2025-06-20 12:56:38.405 | INFO     | src.answers.meals_answer:get_context:184 - 20250620 날짜의 로컬 식단 정보를 사용합니다.\n",
      "생성된 대답: 2025-06-20 일을 말씀하시는 게 맞을까요? 찾은 식단 정보: 정식(1000)\n",
      "\n",
      "참치김치찌개\n",
      "돈탕수육(pork included)\n",
      "청경채겉절이\n",
      "깍두기, 정식(6000)\n",
      "\n",
      "보리열무비빔밥\n",
      "건새우아욱국\n",
      "왕떡갈비(pork included)\n",
      "쑥앙금절편\n",
      "배추김치, 정식(6000)\n",
      "\n",
      "물냉면\n",
      "삶은계란\n",
      "장떡전\n",
      "돈까스샐러드(pork included)\n",
      "냉면김치 등\n",
      "질문: 학생식당 운영 시간은 어떻게 되나요?\n",
      "투표 결과: Counter({3: 5}), 최종 선택: 3\n"
     ]
    },
    {
     "name": "stderr",
     "output_type": "stream",
     "text": [
      "classifier_questions_only_result.json:  63%|███████████████████▌           | 93/147 [06:24<03:54,  4.35s/it]"
     ]
    },
    {
     "name": "stdout",
     "output_type": "stream",
     "text": [
      "질문: 학생식당 운영 시간은 어떻게 되나요?\n",
      "투표 결과: Counter({3: 5}), 최종 선택: 3\n",
      "2025-06-20 12:56:42.773 | INFO     | src.answers.meals_answer:get_context:184 - 20250620 날짜의 로컬 식단 정보를 사용합니다.\n",
      "생성된 대답: 2025-06-20 일을 말씀하시는 게 맞을까요? 찾은 식단 정보: 정식(1000)\n",
      "\n",
      "참치김치찌개\n",
      "돈탕수육(pork included)\n",
      "청경채겉절이\n",
      "깍두기, 정식(6000)\n",
      "\n",
      "보리열무비빔밥\n",
      "건새우아욱국\n",
      "왕떡갈비(pork included)\n",
      "쑥앙금절편\n",
      "배추김치, 정식(6000)\n",
      "\n",
      "물냉면\n",
      "삶은계란\n",
      "장떡전\n",
      "돈까스샐러드(pork included)\n",
      "냉면김치 등\n",
      "질문: 식단표는 어디에서 확인하나요?\n",
      "투표 결과: Counter({3: 5}), 최종 선택: 3\n"
     ]
    },
    {
     "name": "stderr",
     "output_type": "stream",
     "text": [
      "classifier_questions_only_result.json:  64%|███████████████████▊           | 94/147 [06:27<03:21,  3.81s/it]"
     ]
    },
    {
     "name": "stdout",
     "output_type": "stream",
     "text": [
      "질문: 식단표는 어디에서 확인하나요?\n",
      "투표 결과: Counter({3: 5}), 최종 선택: 3\n",
      "2025-06-20 12:56:45.330 | INFO     | src.answers.meals_answer:get_context:184 - 20250620 날짜의 로컬 식단 정보를 사용합니다.\n",
      "생성된 대답: 2025-06-20 일을 말씀하시는 게 맞을까요? 찾은 식단 정보: 정식(1000)\n",
      "\n",
      "참치김치찌개\n",
      "돈탕수육(pork included)\n",
      "청경채겉절이\n",
      "깍두기, 정식(6000)\n",
      "\n",
      "보리열무비빔밥\n",
      "건새우아욱국\n",
      "왕떡갈비(pork included)\n",
      "쑥앙금절편\n",
      "배추김치, 정식(6000)\n",
      "\n",
      "물냉면\n",
      "삶은계란\n",
      "장떡전\n",
      "돈까스샐러드(pork included)\n",
      "냉면김치 등\n",
      "질문: 학생식당 가격이 궁금해요.\n",
      "투표 결과: Counter({3: 5}), 최종 선택: 3\n"
     ]
    },
    {
     "name": "stderr",
     "output_type": "stream",
     "text": [
      "classifier_questions_only_result.json:  65%|████████████████████           | 95/147 [06:31<03:28,  4.01s/it]"
     ]
    },
    {
     "name": "stdout",
     "output_type": "stream",
     "text": [
      "질문: 학생식당 가격이 궁금해요.\n",
      "투표 결과: Counter({3: 5}), 최종 선택: 3\n",
      "2025-06-20 12:56:49.811 | INFO     | src.answers.meals_answer:get_context:184 - 20250620 날짜의 로컬 식단 정보를 사용합니다.\n",
      "생성된 대답: 2025-06-20 일을 말씀하시는 게 맞을까요? 찾은 식단 정보: 정식(1000)\n",
      "\n",
      "참치김치찌개\n",
      "돈탕수육(pork included)\n",
      "청경채겉절이\n",
      "깍두기, 정식(6000)\n",
      "\n",
      "보리열무비빔밥\n",
      "건새우아욱국\n",
      "왕떡갈비(pork included)\n",
      "쑥앙금절편\n",
      "배추김치, 정식(6000)\n",
      "\n",
      "물냉면\n",
      "삶은계란\n",
      "장떡전\n",
      "돈까스샐러드(pork included)\n",
      "냉면김치 등\n",
      "질문: 식단에 영양 정보가 제공되나요?\n",
      "투표 결과: Counter({3: 5}), 최종 선택: 3\n"
     ]
    },
    {
     "name": "stderr",
     "output_type": "stream",
     "text": [
      "classifier_questions_only_result.json:  65%|████████████████████▏          | 96/147 [06:36<03:29,  4.12s/it]"
     ]
    },
    {
     "name": "stdout",
     "output_type": "stream",
     "text": [
      "질문: 식단에 영양 정보가 제공되나요?\n",
      "투표 결과: Counter({3: 5}), 최종 선택: 3\n",
      "2025-06-20 12:56:54.173 | INFO     | src.answers.meals_answer:get_context:184 - 20250620 날짜의 로컬 식단 정보를 사용합니다.\n",
      "생성된 대답: 2025-06-20 일을 말씀하시는 게 맞을까요? 찾은 식단 정보: 정식(1000)\n",
      "\n",
      "참치김치찌개\n",
      "돈탕수육(pork included)\n",
      "청경채겉절이\n",
      "깍두기, 정식(6000)\n",
      "\n",
      "보리열무비빔밥\n",
      "건새우아욱국\n",
      "왕떡갈비(pork included)\n",
      "쑥앙금절편\n",
      "배추김치, 정식(6000)\n",
      "\n",
      "물냉면\n",
      "삶은계란\n",
      "장떡전\n",
      "돈까스샐러드(pork included)\n",
      "냉면김치 등\n",
      "질문: 식단 안내는 어디서 받을 수 있나요?\n",
      "투표 결과: Counter({3: 5}), 최종 선택: 3\n"
     ]
    },
    {
     "name": "stderr",
     "output_type": "stream",
     "text": [
      "classifier_questions_only_result.json:  66%|████████████████████▍          | 97/147 [06:40<03:29,  4.18s/it]"
     ]
    },
    {
     "name": "stdout",
     "output_type": "stream",
     "text": [
      "질문: 식단 안내는 어디서 받을 수 있나요?\n",
      "투표 결과: Counter({3: 5}), 최종 선택: 3\n",
      "2025-06-20 12:56:58.510 | INFO     | src.answers.meals_answer:get_context:184 - 20250620 날짜의 로컬 식단 정보를 사용합니다.\n",
      "생성된 대답: 2025-06-20 일을 말씀하시는 게 맞을까요? 찾은 식단 정보: 정식(1000)\n",
      "\n",
      "참치김치찌개\n",
      "돈탕수육(pork included)\n",
      "청경채겉절이\n",
      "깍두기, 정식(6000)\n",
      "\n",
      "보리열무비빔밥\n",
      "건새우아욱국\n",
      "왕떡갈비(pork included)\n",
      "쑥앙금절편\n",
      "배추김치, 정식(6000)\n",
      "\n",
      "물냉면\n",
      "삶은계란\n",
      "장떡전\n",
      "돈까스샐러드(pork included)\n",
      "냉면김치 등\n",
      "질문: 식단에 대한 건의는 어디에 하나요?\n",
      "투표 결과: Counter({3: 5}), 최종 선택: 3\n"
     ]
    },
    {
     "name": "stderr",
     "output_type": "stream",
     "text": [
      "classifier_questions_only_result.json:  67%|████████████████████▋          | 98/147 [06:44<03:28,  4.25s/it]"
     ]
    },
    {
     "name": "stdout",
     "output_type": "stream",
     "text": [
      "질문: 식단에 대한 건의는 어디에 하나요?\n",
      "투표 결과: Counter({3: 5}), 최종 선택: 3\n",
      "2025-06-20 12:57:02.917 | INFO     | src.answers.meals_answer:get_context:184 - 20250620 날짜의 로컬 식단 정보를 사용합니다.\n",
      "생성된 대답: 2025-06-20 일을 말씀하시는 게 맞을까요? 찾은 식단 정보: 정식(1000)\n",
      "\n",
      "참치김치찌개\n",
      "돈탕수육(pork included)\n",
      "청경채겉절이\n",
      "깍두기, 정식(6000)\n",
      "\n",
      "보리열무비빔밥\n",
      "건새우아욱국\n",
      "왕떡갈비(pork included)\n",
      "쑥앙금절편\n",
      "배추김치, 정식(6000)\n",
      "\n",
      "물냉면\n",
      "삶은계란\n",
      "장떡전\n",
      "돈까스샐러드(pork included)\n",
      "냉면김치 등\n",
      "질문: 학생식당에서 특별식이 제공되나요?\n",
      "투표 결과: Counter({3: 5}), 최종 선택: 3\n"
     ]
    },
    {
     "name": "stderr",
     "output_type": "stream",
     "text": [
      "classifier_questions_only_result.json:  67%|████████████████████▉          | 99/147 [06:49<03:27,  4.33s/it]"
     ]
    },
    {
     "name": "stdout",
     "output_type": "stream",
     "text": [
      "질문: 학생식당에서 특별식이 제공되나요?\n",
      "투표 결과: Counter({3: 5}), 최종 선택: 3\n",
      "2025-06-20 12:57:07.424 | INFO     | src.answers.meals_answer:get_context:184 - 20250620 날짜의 로컬 식단 정보를 사용합니다.\n",
      "생성된 대답: 2025-06-20 일을 말씀하시는 게 맞을까요? 찾은 식단 정보: 정식(1000)\n",
      "\n",
      "참치김치찌개\n",
      "돈탕수육(pork included)\n",
      "청경채겉절이\n",
      "깍두기, 정식(6000)\n",
      "\n",
      "보리열무비빔밥\n",
      "건새우아욱국\n",
      "왕떡갈비(pork included)\n",
      "쑥앙금절편\n",
      "배추김치, 정식(6000)\n",
      "\n",
      "물냉면\n",
      "삶은계란\n",
      "장떡전\n",
      "돈까스샐러드(pork included)\n",
      "냉면김치 등\n",
      "질문: 식단표는 매주 바뀌나요?\n",
      "투표 결과: Counter({3: 5}), 최종 선택: 3\n"
     ]
    },
    {
     "name": "stderr",
     "output_type": "stream",
     "text": [
      "classifier_questions_only_result.json:  68%|████████████████████▍         | 100/147 [06:53<03:23,  4.33s/it]"
     ]
    },
    {
     "name": "stdout",
     "output_type": "stream",
     "text": [
      "질문: 식단표는 매주 바뀌나요?\n",
      "투표 결과: Counter({3: 5}), 최종 선택: 3\n",
      "2025-06-20 12:57:11.751 | INFO     | src.answers.meals_answer:get_context:184 - 20250620 날짜의 로컬 식단 정보를 사용합니다.\n",
      "생성된 대답: 2025-06-20 일을 말씀하시는 게 맞을까요? 찾은 식단 정보: 정식(1000)\n",
      "\n",
      "참치김치찌개\n",
      "돈탕수육(pork included)\n",
      "청경채겉절이\n",
      "깍두기, 정식(6000)\n",
      "\n",
      "보리열무비빔밥\n",
      "건새우아욱국\n",
      "왕떡갈비(pork included)\n",
      "쑥앙금절편\n",
      "배추김치, 정식(6000)\n",
      "\n",
      "물냉면\n",
      "삶은계란\n",
      "장떡전\n",
      "돈까스샐러드(pork included)\n",
      "냉면김치 등\n",
      "질문: 학생식당에 할랄 메뉴가 있나요?\n",
      "투표 결과: Counter({3: 5}), 최종 선택: 3\n"
     ]
    },
    {
     "name": "stderr",
     "output_type": "stream",
     "text": [
      "classifier_questions_only_result.json:  69%|████████████████████▌         | 101/147 [06:56<02:54,  3.79s/it]"
     ]
    },
    {
     "name": "stdout",
     "output_type": "stream",
     "text": [
      "질문: 학생식당에 할랄 메뉴가 있나요?\n",
      "투표 결과: Counter({3: 5}), 최종 선택: 3\n",
      "2025-06-20 12:57:14.281 | INFO     | src.answers.meals_answer:get_context:184 - 20250620 날짜의 로컬 식단 정보를 사용합니다.\n",
      "생성된 대답: 2025-06-20 일을 말씀하시는 게 맞을까요? 찾은 식단 정보: 정식(1000)\n",
      "\n",
      "참치김치찌개\n",
      "돈탕수육(pork included)\n",
      "청경채겉절이\n",
      "깍두기, 정식(6000)\n",
      "\n",
      "보리열무비빔밥\n",
      "건새우아욱국\n",
      "왕떡갈비(pork included)\n",
      "쑥앙금절편\n",
      "배추김치, 정식(6000)\n",
      "\n",
      "물냉면\n",
      "삶은계란\n",
      "장떡전\n",
      "돈까스샐러드(pork included)\n",
      "냉면김치 등\n",
      "질문: 식단에 포함된 음식의 칼로리가 궁금해요.\n",
      "투표 결과: Counter({3: 5}), 최종 선택: 3\n"
     ]
    },
    {
     "name": "stderr",
     "output_type": "stream",
     "text": [
      "classifier_questions_only_result.json:  69%|████████████████████▊         | 102/147 [07:00<02:59,  3.98s/it]"
     ]
    },
    {
     "name": "stdout",
     "output_type": "stream",
     "text": [
      "질문: 식단에 포함된 음식의 칼로리가 궁금해요.\n",
      "투표 결과: Counter({3: 5}), 최종 선택: 3\n",
      "2025-06-20 12:57:18.721 | INFO     | src.answers.meals_answer:get_context:184 - 20250620 날짜의 로컬 식단 정보를 사용합니다.\n",
      "생성된 대답: 2025-06-20 일을 말씀하시는 게 맞을까요? 찾은 식단 정보: 정식(1000)\n",
      "\n",
      "참치김치찌개\n",
      "돈탕수육(pork included)\n",
      "청경채겉절이\n",
      "깍두기, 정식(6000)\n",
      "\n",
      "보리열무비빔밥\n",
      "건새우아욱국\n",
      "왕떡갈비(pork included)\n",
      "쑥앙금절편\n",
      "배추김치, 정식(6000)\n",
      "\n",
      "물냉면\n",
      "삶은계란\n",
      "장떡전\n",
      "돈까스샐러드(pork included)\n",
      "냉면김치 등\n",
      "질문: 학생식당 식단은 어디서 공지하나요?\n",
      "투표 결과: Counter({3: 5}), 최종 선택: 3\n"
     ]
    },
    {
     "name": "stderr",
     "output_type": "stream",
     "text": [
      "classifier_questions_only_result.json:  70%|█████████████████████         | 103/147 [07:04<03:00,  4.10s/it]"
     ]
    },
    {
     "name": "stdout",
     "output_type": "stream",
     "text": [
      "질문: 학생식당 식단은 어디서 공지하나요?\n",
      "투표 결과: Counter({3: 5}), 최종 선택: 3\n",
      "2025-06-20 12:57:23.079 | INFO     | src.answers.meals_answer:get_context:184 - 20250620 날짜의 로컬 식단 정보를 사용합니다.\n",
      "생성된 대답: 2025-06-20 일을 말씀하시는 게 맞을까요? 찾은 식단 정보: 정식(1000)\n",
      "\n",
      "참치김치찌개\n",
      "돈탕수육(pork included)\n",
      "청경채겉절이\n",
      "깍두기, 정식(6000)\n",
      "\n",
      "보리열무비빔밥\n",
      "건새우아욱국\n",
      "왕떡갈비(pork included)\n",
      "쑥앙금절편\n",
      "배추김치, 정식(6000)\n",
      "\n",
      "물냉면\n",
      "삶은계란\n",
      "장떡전\n",
      "돈까스샐러드(pork included)\n",
      "냉면김치 등\n",
      "질문: 식단표는 언제 공지되나요?\n",
      "투표 결과: Counter({3: 5}), 최종 선택: 3\n"
     ]
    },
    {
     "name": "stderr",
     "output_type": "stream",
     "text": [
      "classifier_questions_only_result.json:  71%|█████████████████████▏        | 104/147 [07:09<03:00,  4.20s/it]"
     ]
    },
    {
     "name": "stdout",
     "output_type": "stream",
     "text": [
      "질문: 식단표는 언제 공지되나요?\n",
      "투표 결과: Counter({3: 5}), 최종 선택: 3\n",
      "2025-06-20 12:57:27.533 | INFO     | src.answers.meals_answer:get_context:184 - 20250620 날짜의 로컬 식단 정보를 사용합니다.\n",
      "생성된 대답: 2025-06-20 일을 말씀하시는 게 맞을까요? 찾은 식단 정보: 정식(1000)\n",
      "\n",
      "참치김치찌개\n",
      "돈탕수육(pork included)\n",
      "청경채겉절이\n",
      "깍두기, 정식(6000)\n",
      "\n",
      "보리열무비빔밥\n",
      "건새우아욱국\n",
      "왕떡갈비(pork included)\n",
      "쑥앙금절편\n",
      "배추김치, 정식(6000)\n",
      "\n",
      "물냉면\n",
      "삶은계란\n",
      "장떡전\n",
      "돈까스샐러드(pork included)\n",
      "냉면김치 등\n",
      "질문: 학생식당에서 아침도 제공하나요?\n",
      "투표 결과: Counter({3: 5}), 최종 선택: 3\n"
     ]
    },
    {
     "name": "stderr",
     "output_type": "stream",
     "text": [
      "classifier_questions_only_result.json:  71%|█████████████████████▍        | 105/147 [07:13<02:58,  4.25s/it]"
     ]
    },
    {
     "name": "stdout",
     "output_type": "stream",
     "text": [
      "질문: 학생식당에서 아침도 제공하나요?\n",
      "투표 결과: Counter({3: 5}), 최종 선택: 3\n",
      "2025-06-20 12:57:31.878 | INFO     | src.answers.meals_answer:get_context:184 - 20250620 날짜의 로컬 식단 정보를 사용합니다.\n",
      "생성된 대답: 2025-06-20 일을 말씀하시는 게 맞을까요? 찾은 식단 정보: 운영안함, 운영안함, 운영안함 등\n",
      "질문: 식단 안내를 문자로 받을 수 있나요?\n",
      "투표 결과: Counter({3: 5}), 최종 선택: 3\n"
     ]
    },
    {
     "name": "stderr",
     "output_type": "stream",
     "text": [
      "classifier_questions_only_result.json:  72%|█████████████████████▋        | 106/147 [07:18<02:54,  4.27s/it]"
     ]
    },
    {
     "name": "stdout",
     "output_type": "stream",
     "text": [
      "질문: 식단 안내를 문자로 받을 수 있나요?\n",
      "투표 결과: Counter({3: 5}), 최종 선택: 3\n",
      "2025-06-20 12:57:36.195 | INFO     | src.answers.meals_answer:get_context:184 - 20250620 날짜의 로컬 식단 정보를 사용합니다.\n",
      "생성된 대답: 2025-06-20 일을 말씀하시는 게 맞을까요? 찾은 식단 정보: 정식(1000)\n",
      "\n",
      "참치김치찌개\n",
      "돈탕수육(pork included)\n",
      "청경채겉절이\n",
      "깍두기, 정식(6000)\n",
      "\n",
      "보리열무비빔밥\n",
      "건새우아욱국\n",
      "왕떡갈비(pork included)\n",
      "쑥앙금절편\n",
      "배추김치, 정식(6000)\n",
      "\n",
      "물냉면\n",
      "삶은계란\n",
      "장떡전\n",
      "돈까스샐러드(pork included)\n",
      "냉면김치 등\n",
      "질문: 식단표에 없는 메뉴가 제공될 때도 있나요?\n",
      "투표 결과: Counter({3: 5}), 최종 선택: 3\n"
     ]
    },
    {
     "name": "stderr",
     "output_type": "stream",
     "text": [
      "classifier_questions_only_result.json:  73%|█████████████████████▊        | 107/147 [07:22<02:52,  4.31s/it]"
     ]
    },
    {
     "name": "stdout",
     "output_type": "stream",
     "text": [
      "질문: 식단표에 없는 메뉴가 제공될 때도 있나요?\n",
      "투표 결과: Counter({3: 5}), 최종 선택: 3\n",
      "2025-06-20 12:57:40.600 | INFO     | src.answers.meals_answer:get_context:184 - 20250620 날짜의 로컬 식단 정보를 사용합니다.\n",
      "생성된 대답: 2025-06-20 일을 말씀하시는 게 맞을까요? 찾은 식단 정보: 정식(1000)\n",
      "\n",
      "참치김치찌개\n",
      "돈탕수육(pork included)\n",
      "청경채겉절이\n",
      "깍두기, 정식(6000)\n",
      "\n",
      "보리열무비빔밥\n",
      "건새우아욱국\n",
      "왕떡갈비(pork included)\n",
      "쑥앙금절편\n",
      "배추김치, 정식(6000)\n",
      "\n",
      "물냉면\n",
      "삶은계란\n",
      "장떡전\n",
      "돈까스샐러드(pork included)\n",
      "냉면김치 등\n",
      "질문: 학생식당에 다이어트 식단이 있나요?\n",
      "투표 결과: Counter({3: 5}), 최종 선택: 3\n"
     ]
    },
    {
     "name": "stderr",
     "output_type": "stream",
     "text": [
      "classifier_questions_only_result.json:  73%|██████████████████████        | 108/147 [07:24<02:25,  3.73s/it]"
     ]
    },
    {
     "name": "stdout",
     "output_type": "stream",
     "text": [
      "질문: 학생식당에 다이어트 식단이 있나요?\n",
      "투표 결과: Counter({3: 5}), 최종 선택: 3\n",
      "2025-06-20 12:57:42.975 | INFO     | src.answers.meals_answer:get_context:184 - 20250620 날짜의 로컬 식단 정보를 사용합니다.\n",
      "생성된 대답: 2025-06-20 일을 말씀하시는 게 맞을까요? 찾은 식단 정보: 정식(1000)\n",
      "\n",
      "참치김치찌개\n",
      "돈탕수육(pork included)\n",
      "청경채겉절이\n",
      "깍두기, 정식(6000)\n",
      "\n",
      "보리열무비빔밥\n",
      "건새우아욱국\n",
      "왕떡갈비(pork included)\n",
      "쑥앙금절편\n",
      "배추김치, 정식(6000)\n",
      "\n",
      "물냉면\n",
      "삶은계란\n",
      "장떡전\n",
      "돈까스샐러드(pork included)\n",
      "냉면김치 등\n",
      "질문: 식단 안내 앱이 있나요?\n",
      "투표 결과: Counter({3: 5}), 최종 선택: 3\n"
     ]
    },
    {
     "name": "stderr",
     "output_type": "stream",
     "text": [
      "classifier_questions_only_result.json:  74%|██████████████████████▏       | 109/147 [07:29<02:28,  3.90s/it]"
     ]
    },
    {
     "name": "stdout",
     "output_type": "stream",
     "text": [
      "질문: 식단 안내 앱이 있나요?\n",
      "투표 결과: Counter({3: 5}), 최종 선택: 3\n",
      "2025-06-20 12:57:47.282 | INFO     | src.answers.meals_answer:get_context:184 - 20250620 날짜의 로컬 식단 정보를 사용합니다.\n",
      "생성된 대답: 2025-06-20 일을 말씀하시는 게 맞을까요? 찾은 식단 정보: 정식(1000)\n",
      "\n",
      "참치김치찌개\n",
      "돈탕수육(pork included)\n",
      "청경채겉절이\n",
      "깍두기, 정식(6000)\n",
      "\n",
      "보리열무비빔밥\n",
      "건새우아욱국\n",
      "왕떡갈비(pork included)\n",
      "쑥앙금절편\n",
      "배추김치, 정식(6000)\n",
      "\n",
      "물냉면\n",
      "삶은계란\n",
      "장떡전\n",
      "돈까스샐러드(pork included)\n",
      "냉면김치 등\n",
      "질문: 식단표에 있는 음식이 다 떨어지면 어떻게 하나요?\n",
      "투표 결과: Counter({3: 5}), 최종 선택: 3\n"
     ]
    },
    {
     "name": "stderr",
     "output_type": "stream",
     "text": [
      "classifier_questions_only_result.json:  75%|██████████████████████▍       | 110/147 [07:33<02:29,  4.04s/it]"
     ]
    },
    {
     "name": "stdout",
     "output_type": "stream",
     "text": [
      "질문: 식단표에 있는 음식이 다 떨어지면 어떻게 하나요?\n",
      "투표 결과: Counter({3: 5}), 최종 선택: 3\n",
      "2025-06-20 12:57:51.646 | INFO     | src.answers.meals_answer:get_context:184 - 20250620 날짜의 로컬 식단 정보를 사용합니다.\n",
      "생성된 대답: 2025-06-20 일을 말씀하시는 게 맞을까요? 찾은 식단 정보: 정식(1000)\n",
      "\n",
      "참치김치찌개\n",
      "돈탕수육(pork included)\n",
      "청경채겉절이\n",
      "깍두기, 정식(6000)\n",
      "\n",
      "보리열무비빔밥\n",
      "건새우아욱국\n",
      "왕떡갈비(pork included)\n",
      "쑥앙금절편\n",
      "배추김치, 정식(6000)\n",
      "\n",
      "물냉면\n",
      "삶은계란\n",
      "장떡전\n",
      "돈까스샐러드(pork included)\n",
      "냉면김치 등\n",
      "질문: 식단표에 사진도 있나요?\n",
      "투표 결과: Counter({3: 5}), 최종 선택: 3\n"
     ]
    },
    {
     "name": "stderr",
     "output_type": "stream",
     "text": [
      "classifier_questions_only_result.json:  76%|██████████████████████▋       | 111/147 [07:37<02:29,  4.14s/it]"
     ]
    },
    {
     "name": "stdout",
     "output_type": "stream",
     "text": [
      "질문: 식단표에 사진도 있나요?\n",
      "투표 결과: Counter({3: 5}), 최종 선택: 3\n",
      "2025-06-20 12:57:56.029 | INFO     | src.answers.meals_answer:get_context:184 - 20250620 날짜의 로컬 식단 정보를 사용합니다.\n",
      "생성된 대답: 2025-06-20 일을 말씀하시는 게 맞을까요? 찾은 식단 정보: 정식(1000)\n",
      "\n",
      "참치김치찌개\n",
      "돈탕수육(pork included)\n",
      "청경채겉절이\n",
      "깍두기, 정식(6000)\n",
      "\n",
      "보리열무비빔밥\n",
      "건새우아욱국\n",
      "왕떡갈비(pork included)\n",
      "쑥앙금절편\n",
      "배추김치, 정식(6000)\n",
      "\n",
      "물냉면\n",
      "삶은계란\n",
      "장떡전\n",
      "돈까스샐러드(pork included)\n",
      "냉면김치 등\n",
      "질문: 학생식당 식단은 누가 정하나요?\n",
      "투표 결과: Counter({3: 5}), 최종 선택: 3\n"
     ]
    },
    {
     "name": "stderr",
     "output_type": "stream",
     "text": [
      "classifier_questions_only_result.json:  76%|██████████████████████▊       | 112/147 [07:42<02:27,  4.21s/it]"
     ]
    },
    {
     "name": "stdout",
     "output_type": "stream",
     "text": [
      "질문: 학생식당 식단은 누가 정하나요?\n",
      "투표 결과: Counter({3: 5}), 최종 선택: 3\n",
      "2025-06-20 12:58:00.392 | INFO     | src.answers.meals_answer:get_context:184 - 20250620 날짜의 로컬 식단 정보를 사용합니다.\n",
      "생성된 대답: 2025-06-20 일을 말씀하시는 게 맞을까요? 찾은 식단 정보: 정식(1000)\n",
      "\n",
      "참치김치찌개\n",
      "돈탕수육(pork included)\n",
      "청경채겉절이\n",
      "깍두기, 정식(6000)\n",
      "\n",
      "보리열무비빔밥\n",
      "건새우아욱국\n",
      "왕떡갈비(pork included)\n",
      "쑥앙금절편\n",
      "배추김치, 정식(6000)\n",
      "\n",
      "물냉면\n",
      "삶은계란\n",
      "장떡전\n",
      "돈까스샐러드(pork included)\n",
      "냉면김치 등\n",
      "질문: 식단 안내는 영어로도 제공되나요?\n",
      "투표 결과: Counter({3: 5}), 최종 선택: 3\n"
     ]
    },
    {
     "name": "stderr",
     "output_type": "stream",
     "text": [
      "classifier_questions_only_result.json:  77%|███████████████████████       | 113/147 [07:46<02:24,  4.25s/it]"
     ]
    },
    {
     "name": "stdout",
     "output_type": "stream",
     "text": [
      "질문: 식단 안내는 영어로도 제공되나요?\n",
      "투표 결과: Counter({3: 5}), 최종 선택: 3\n",
      "2025-06-20 12:58:04.750 | INFO     | src.answers.meals_answer:get_context:184 - 20250620 날짜의 로컬 식단 정보를 사용합니다.\n",
      "생성된 대답: 2025-06-20 일을 말씀하시는 게 맞을까요? 찾은 식단 정보: 정식(1000)\n",
      "\n",
      "참치김치찌개\n",
      "돈탕수육(pork included)\n",
      "청경채겉절이\n",
      "깍두기, 정식(6000)\n",
      "\n",
      "보리열무비빔밥\n",
      "건새우아욱국\n",
      "왕떡갈비(pork included)\n",
      "쑥앙금절편\n",
      "배추김치, 정식(6000)\n",
      "\n",
      "물냉면\n",
      "삶은계란\n",
      "장떡전\n",
      "돈까스샐러드(pork included)\n",
      "냉면김치 등\n",
      "질문: 식단표에 있는 음식 중 인기 메뉴는 무엇인가요?\n",
      "투표 결과: Counter({3: 5}), 최종 선택: 3\n"
     ]
    },
    {
     "name": "stderr",
     "output_type": "stream",
     "text": [
      "classifier_questions_only_result.json:  78%|███████████████████████▎      | 114/147 [07:51<02:21,  4.29s/it]"
     ]
    },
    {
     "name": "stdout",
     "output_type": "stream",
     "text": [
      "질문: 식단표에 있는 음식 중 인기 메뉴는 무엇인가요?\n",
      "투표 결과: Counter({3: 5}), 최종 선택: 3\n",
      "2025-06-20 12:58:09.132 | INFO     | src.answers.meals_answer:get_context:184 - 20250620 날짜의 로컬 식단 정보를 사용합니다.\n",
      "생성된 대답: 2025-06-20 일을 말씀하시는 게 맞을까요? 찾은 식단 정보: 정식(1000)\n",
      "\n",
      "참치김치찌개\n",
      "돈탕수육(pork included)\n",
      "청경채겉절이\n",
      "깍두기, 정식(6000)\n",
      "\n",
      "보리열무비빔밥\n",
      "건새우아욱국\n",
      "왕떡갈비(pork included)\n",
      "쑥앙금절편\n",
      "배추김치, 정식(6000)\n",
      "\n",
      "물냉면\n",
      "삶은계란\n",
      "장떡전\n",
      "돈까스샐러드(pork included)\n",
      "냉면김치 등\n",
      "질문: 학생식당 식단은 어디서 평가하나요?\n",
      "투표 결과: Counter({3: 5}), 최종 선택: 3\n"
     ]
    },
    {
     "name": "stderr",
     "output_type": "stream",
     "text": [
      "classifier_questions_only_result.json:  78%|███████████████████████▍      | 115/147 [07:55<02:17,  4.29s/it]"
     ]
    },
    {
     "name": "stdout",
     "output_type": "stream",
     "text": [
      "질문: 학생식당 식단은 어디서 평가하나요?\n",
      "투표 결과: Counter({3: 5}), 최종 선택: 3\n",
      "2025-06-20 12:58:13.428 | INFO     | src.answers.meals_answer:get_context:184 - 20250620 날짜의 로컬 식단 정보를 사용합니다.\n",
      "생성된 대답: 2025-06-20 일을 말씀하시는 게 맞을까요? 찾은 식단 정보: 정식(1000)\n",
      "\n",
      "참치김치찌개\n",
      "돈탕수육(pork included)\n",
      "청경채겉절이\n",
      "깍두기, 정식(6000)\n",
      "\n",
      "보리열무비빔밥\n",
      "건새우아욱국\n",
      "왕떡갈비(pork included)\n",
      "쑥앙금절편\n",
      "배추김치, 정식(6000)\n",
      "\n",
      "물냉면\n",
      "삶은계란\n",
      "장떡전\n",
      "돈까스샐러드(pork included)\n",
      "냉면김치 등\n",
      "질문: 식단표에 없는 메뉴를 요청할 수 있나요?\n",
      "투표 결과: Counter({3: 5}), 최종 선택: 3\n"
     ]
    },
    {
     "name": "stderr",
     "output_type": "stream",
     "text": [
      "classifier_questions_only_result.json:  79%|███████████████████████▋      | 116/147 [07:57<01:57,  3.77s/it]"
     ]
    },
    {
     "name": "stdout",
     "output_type": "stream",
     "text": [
      "질문: 식단표에 없는 메뉴를 요청할 수 있나요?\n",
      "투표 결과: Counter({3: 5}), 최종 선택: 3\n",
      "2025-06-20 12:58:15.992 | INFO     | src.answers.meals_answer:get_context:184 - 20250620 날짜의 로컬 식단 정보를 사용합니다.\n",
      "생성된 대답: 2025-06-20 일을 말씀하시는 게 맞을까요? 찾은 식단 정보: 정식(1000)\n",
      "\n",
      "참치김치찌개\n",
      "돈탕수육(pork included)\n",
      "청경채겉절이\n",
      "깍두기, 정식(6000)\n",
      "\n",
      "보리열무비빔밥\n",
      "건새우아욱국\n",
      "왕떡갈비(pork included)\n",
      "쑥앙금절편\n",
      "배추김치, 정식(6000)\n",
      "\n",
      "물냉면\n",
      "삶은계란\n",
      "장떡전\n",
      "돈까스샐러드(pork included)\n",
      "냉면김치 등\n",
      "질문: 식단 안내는 어디에 문의하나요?\n",
      "투표 결과: Counter({3: 5}), 최종 선택: 3\n"
     ]
    },
    {
     "name": "stderr",
     "output_type": "stream",
     "text": [
      "classifier_questions_only_result.json:  80%|███████████████████████▉      | 117/147 [08:02<01:58,  3.96s/it]"
     ]
    },
    {
     "name": "stdout",
     "output_type": "stream",
     "text": [
      "질문: 식단 안내는 어디에 문의하나요?\n",
      "투표 결과: Counter({3: 5}), 최종 선택: 3\n",
      "2025-06-20 12:58:20.398 | INFO     | src.answers.meals_answer:get_context:184 - 20250620 날짜의 로컬 식단 정보를 사용합니다.\n",
      "생성된 대답: 2025-06-20 일을 말씀하시는 게 맞을까요? 찾은 식단 정보: 정식(1000)\n",
      "\n",
      "참치김치찌개\n",
      "돈탕수육(pork included)\n",
      "청경채겉절이\n",
      "깍두기, 정식(6000)\n",
      "\n",
      "보리열무비빔밥\n",
      "건새우아욱국\n",
      "왕떡갈비(pork included)\n",
      "쑥앙금절편\n",
      "배추김치, 정식(6000)\n",
      "\n",
      "물냉면\n",
      "삶은계란\n",
      "장떡전\n",
      "돈까스샐러드(pork included)\n",
      "냉면김치 등\n",
      "질문: 학교 셔틀버스 운행 시간표가 궁금해요.\n",
      "투표 결과: Counter({4: 5}), 최종 선택: 4\n"
     ]
    },
    {
     "name": "stderr",
     "output_type": "stream",
     "text": [
      "classifier_questions_only_result.json:  80%|████████████████████████      | 118/147 [08:06<01:58,  4.08s/it]"
     ]
    },
    {
     "name": "stdout",
     "output_type": "stream",
     "text": [
      "질문: 학교 셔틀버스 운행 시간표가 궁금해요.\n",
      "투표 결과: Counter({4: 5}), 최종 선택: 4\n",
      "생성된 대답: 셔틀버스 정보 예시: 교내 순환 (대덕캠퍼스 내) 08:20 (월평역) 등교 8:30 9:30 9:40 10:30 11:30 13:30 14:30 15:30 16:30 17:30; 캠퍼스 순환 (대덕캠퍼스 ↔ 보운캠퍼스) 8:10 (출발, 골프연습장) 8:50 (회차 보운캠퍼스) 미운영 등\n",
      "질문: 셔틀버스 정류장은 어디에 있나요?\n",
      "투표 결과: Counter({4: 5}), 최종 선택: 4\n"
     ]
    },
    {
     "name": "stderr",
     "output_type": "stream",
     "text": [
      "classifier_questions_only_result.json:  81%|████████████████████████▎     | 119/147 [08:11<01:56,  4.18s/it]"
     ]
    },
    {
     "name": "stdout",
     "output_type": "stream",
     "text": [
      "질문: 셔틀버스 정류장은 어디에 있나요?\n",
      "투표 결과: Counter({4: 5}), 최종 선택: 4\n",
      "생성된 대답: 셔틀버스 정보 예시: 교내 순환 (대덕캠퍼스 내) 08:20 (월평역) 등교 8:30 9:30 9:40 10:30 11:30 13:30 14:30 15:30 16:30 17:30; 캠퍼스 순환 (대덕캠퍼스 ↔ 보운캠퍼스) 8:10 (출발, 골프연습장) 8:50 (회차 보운캠퍼스) 미운영; 교내 순환 (유성캠퍼스 내) 08:30 17:30 ① 정심화 국제문화회관 ⟶ ② 사회과\n",
      "              학대학 입구(한누리회관 뒤) → ③ 서문(\n",
      "              공동실험실습관 앞) ⟶ ④ 음악 2호관 앞\n",
      "              ⟶ ⑤ 공동동물실험센터(회차) ⟶ ⑥ 체\n",
      "              육관 입구 → ⑦ 예술대학 앞 ⟶ ⑧ 도서\n",
      "              관 앞(대학본부 옆 농대방향) ⟶ ⑨ 학생\n",
      "              생활관 3거리 ⟶ ⑩ 농업생명과학대학\n",
      "              앞 ⟶ ⑪ 동문주차장 ⟶ ⑫ 농업생명과\n",
      "              학대학 앞 ⟶ ⑬ 도서관 앞(도서관삼거리\n",
      "              방향) ⟶ ⑭ 예술대학 앞 → ⑮ 서문(공동\n",
      "              실험실습관 앞) ⟶ ⑯ 사회과학대학 입\n",
      "              구(한누리회관 뒤) → ⑰ 산학연교육연 구관 앞 → ⑱ 정심화 국제문화회관 ※ 오전(등교) 1회만 월평역 출발(정심화 국제문화회관 하차(종점), 시간표 참조) 10회 학기 중 운영 (총 150일) 등\n",
      "질문: 셔틀버스 노선도는 어디서 확인하나요?\n",
      "투표 결과: Counter({4: 5}), 최종 선택: 4\n"
     ]
    },
    {
     "name": "stderr",
     "output_type": "stream",
     "text": [
      "classifier_questions_only_result.json:  82%|████████████████████████▍     | 120/147 [08:15<01:53,  4.20s/it]"
     ]
    },
    {
     "name": "stdout",
     "output_type": "stream",
     "text": [
      "질문: 셔틀버스 노선도는 어디서 확인하나요?\n",
      "투표 결과: Counter({4: 5}), 최종 선택: 4\n",
      "생성된 대답: 셔틀버스 정보 예시: 교내 순환 (유성캠퍼스 내) 08:30 17:30 ① 정심화 국제문화회관 ⟶ ② 사회과\n",
      "              학대학 입구(한누리회관 뒤) → ③ 서문(\n",
      "              공동실험실습관 앞) ⟶ ④ 음악 2호관 앞\n",
      "              ⟶ ⑤ 공동동물실험센터(회차) ⟶ ⑥ 체\n",
      "              육관 입구 → ⑦ 예술대학 앞 ⟶ ⑧ 도서\n",
      "              관 앞(대학본부 옆 농대방향) ⟶ ⑨ 학생\n",
      "              생활관 3거리 ⟶ ⑩ 농업생명과학대학\n",
      "              앞 ⟶ ⑪ 동문주차장 ⟶ ⑫ 농업생명과\n",
      "              학대학 앞 ⟶ ⑬ 도서관 앞(도서관삼거리\n",
      "              방향) ⟶ ⑭ 예술대학 앞 → ⑮ 서문(공동\n",
      "              실험실습관 앞) ⟶ ⑯ 사회과학대학 입\n",
      "              구(한누리회관 뒤) → ⑰ 산학연교육연 구관 앞 → ⑱ 정심화 국제문화회관 ※ 오전(등교) 1회만 월평역 출발(정심화 국제문화회관 하차(종점), 시간표 참조) 10회 학기 중 운영 (총 150일); 캠퍼스 순환 (대덕↔보운) 08:10(대덕) 08:50(보운) ①골프연습장 출발(08:10) → ②중앙도 서관(08:11) → ③산학연교육연구관(08: 12) → ④충남대학교입구 버스정류장(홈 플러스유성점방면)(08:13) → ⑤월평역( 08:15) → ⑥보운캠퍼스(회차, 08:50) → ⑦다솔아파트 건너편 → 제2학생회관 →\n",
      "              중앙도서관 → 골프연습장 도착 1회 (회차) 학기 중 운영 (총 150일) 등\n",
      "질문: 통학버스 예약은 어떻게 하나요?\n",
      "투표 결과: Counter({4: 5}), 최종 선택: 4\n"
     ]
    },
    {
     "name": "stderr",
     "output_type": "stream",
     "text": [
      "classifier_questions_only_result.json:  82%|████████████████████████▋     | 121/147 [08:19<01:50,  4.24s/it]"
     ]
    },
    {
     "name": "stdout",
     "output_type": "stream",
     "text": [
      "질문: 통학버스 예약은 어떻게 하나요?\n",
      "투표 결과: Counter({4: 5}), 최종 선택: 4\n",
      "생성된 대답: 셔틀버스 정보 예시: 교내 순환 (대덕캠퍼스 내) 08:20 (월평역) 등교 8:30 9:30 9:40 10:30 11:30 13:30 14:30 15:30 16:30 17:30; 캠퍼스 순환 (대덕캠퍼스 ↔ 보운캠퍼스) 8:10 (출발, 골프연습장) 8:50 (회차 보운캠퍼스) 미운영; 교내 순환 (유성캠퍼스 내) 08:30 17:30 ① 정심화 국제문화회관 ⟶ ② 사회과\n",
      "              학대학 입구(한누리회관 뒤) → ③ 서문(\n",
      "              공동실험실습관 앞) ⟶ ④ 음악 2호관 앞\n",
      "              ⟶ ⑤ 공동동물실험센터(회차) ⟶ ⑥ 체\n",
      "              육관 입구 → ⑦ 예술대학 앞 ⟶ ⑧ 도서\n",
      "              관 앞(대학본부 옆 농대방향) ⟶ ⑨ 학생\n",
      "              생활관 3거리 ⟶ ⑩ 농업생명과학대학\n",
      "              앞 ⟶ ⑪ 동문주차장 ⟶ ⑫ 농업생명과\n",
      "              학대학 앞 ⟶ ⑬ 도서관 앞(도서관삼거리\n",
      "              방향) ⟶ ⑭ 예술대학 앞 → ⑮ 서문(공동\n",
      "              실험실습관 앞) ⟶ ⑯ 사회과학대학 입\n",
      "              구(한누리회관 뒤) → ⑰ 산학연교육연 구관 앞 → ⑱ 정심화 국제문화회관 ※ 오전(등교) 1회만 월평역 출발(정심화 국제문화회관 하차(종점), 시간표 참조) 10회 학기 중 운영 (총 150일) 등\n",
      "질문: 셔틀버스 요금이 있나요?\n",
      "투표 결과: Counter({4: 5}), 최종 선택: 4\n"
     ]
    },
    {
     "name": "stderr",
     "output_type": "stream",
     "text": [
      "classifier_questions_only_result.json:  83%|████████████████████████▉     | 122/147 [08:24<01:47,  4.29s/it]"
     ]
    },
    {
     "name": "stdout",
     "output_type": "stream",
     "text": [
      "질문: 셔틀버스 요금이 있나요?\n",
      "투표 결과: Counter({4: 5}), 최종 선택: 4\n",
      "생성된 대답: 셔틀버스 정보 예시: 교내 순환 (대덕캠퍼스 내) 08:20 (월평역) 등교 8:30 9:30 9:40 10:30 11:30 13:30 14:30 15:30 16:30 17:30; 캠퍼스 순환 (대덕캠퍼스 ↔ 보운캠퍼스) 8:10 (출발, 골프연습장) 8:50 (회차 보운캠퍼스) 미운영; 교내 순환 (유성캠퍼스 내) 08:30 17:30 ① 정심화 국제문화회관 ⟶ ② 사회과\n",
      "              학대학 입구(한누리회관 뒤) → ③ 서문(\n",
      "              공동실험실습관 앞) ⟶ ④ 음악 2호관 앞\n",
      "              ⟶ ⑤ 공동동물실험센터(회차) ⟶ ⑥ 체\n",
      "              육관 입구 → ⑦ 예술대학 앞 ⟶ ⑧ 도서\n",
      "              관 앞(대학본부 옆 농대방향) ⟶ ⑨ 학생\n",
      "              생활관 3거리 ⟶ ⑩ 농업생명과학대학\n",
      "              앞 ⟶ ⑪ 동문주차장 ⟶ ⑫ 농업생명과\n",
      "              학대학 앞 ⟶ ⑬ 도서관 앞(도서관삼거리\n",
      "              방향) ⟶ ⑭ 예술대학 앞 → ⑮ 서문(공동\n",
      "              실험실습관 앞) ⟶ ⑯ 사회과학대학 입\n",
      "              구(한누리회관 뒤) → ⑰ 산학연교육연 구관 앞 → ⑱ 정심화 국제문화회관 ※ 오전(등교) 1회만 월평역 출발(정심화 국제문화회관 하차(종점), 시간표 참조) 10회 학기 중 운영 (총 150일) 등\n",
      "질문: 셔틀버스 첫차와 막차 시간은 언제인가요?\n",
      "투표 결과: Counter({4: 5}), 최종 선택: 4\n"
     ]
    },
    {
     "name": "stderr",
     "output_type": "stream",
     "text": [
      "classifier_questions_only_result.json:  84%|█████████████████████████     | 123/147 [08:26<01:29,  3.74s/it]"
     ]
    },
    {
     "name": "stdout",
     "output_type": "stream",
     "text": [
      "질문: 셔틀버스 첫차와 막차 시간은 언제인가요?\n",
      "투표 결과: Counter({4: 5}), 최종 선택: 4\n",
      "생성된 대답: 셔틀버스 정보 예시: 교내 순환 (대덕캠퍼스 내) 08:20 (월평역) 등교 8:30 9:30 9:40 10:30 11:30 13:30 14:30 15:30 16:30 17:30; 캠퍼스 순환 (대덕캠퍼스 ↔ 보운캠퍼스) 8:10 (출발, 골프연습장) 8:50 (회차 보운캠퍼스) 미운영 등\n",
      "질문: 셔틀버스 운행이 중단되는 경우가 있나요?\n",
      "투표 결과: Counter({4: 5}), 최종 선택: 4\n"
     ]
    },
    {
     "name": "stderr",
     "output_type": "stream",
     "text": [
      "classifier_questions_only_result.json:  84%|█████████████████████████▎    | 124/147 [08:30<01:29,  3.91s/it]"
     ]
    },
    {
     "name": "stdout",
     "output_type": "stream",
     "text": [
      "질문: 셔틀버스 운행이 중단되는 경우가 있나요?\n",
      "투표 결과: Counter({4: 5}), 최종 선택: 4\n",
      "생성된 대답: 셔틀버스 정보 예시: 교내 순환 (대덕캠퍼스 내) 08:20 (월평역) 등교 8:30 9:30 9:40 10:30 11:30 13:30 14:30 15:30 16:30 17:30; 캠퍼스 순환 (대덕캠퍼스 ↔ 보운캠퍼스) 8:10 (출발, 골프연습장) 8:50 (회차 보운캠퍼스) 미운영 등\n",
      "질문: 셔틀버스 실시간 위치를 알 수 있나요?\n",
      "투표 결과: Counter({4: 5}), 최종 선택: 4\n"
     ]
    },
    {
     "name": "stderr",
     "output_type": "stream",
     "text": [
      "classifier_questions_only_result.json:  85%|█████████████████████████▌    | 125/147 [08:35<01:28,  4.04s/it]"
     ]
    },
    {
     "name": "stdout",
     "output_type": "stream",
     "text": [
      "질문: 셔틀버스 실시간 위치를 알 수 있나요?\n",
      "투표 결과: Counter({4: 5}), 최종 선택: 4\n",
      "생성된 대답: 셔틀버스 정보 예시: 교내 순환 (대덕캠퍼스 내) 08:20 (월평역) 등교 8:30 9:30 9:40 10:30 11:30 13:30 14:30 15:30 16:30 17:30; 캠퍼스 순환 (대덕캠퍼스 ↔ 보운캠퍼스) 8:10 (출발, 골프연습장) 8:50 (회차 보운캠퍼스) 미운영 등\n",
      "질문: 통학버스 노선이 변경될 때는 어떻게 알 수 있나요?\n",
      "투표 결과: Counter({4: 5}), 최종 선택: 4\n",
      "질문: 통학버스 노선이 변경될 때는 어떻게 알 수 있나요?\n",
      "투표 결과: Counter({4: 5}), 최종 선택: 4\n"
     ]
    },
    {
     "name": "stderr",
     "output_type": "stream",
     "text": [
      "classifier_questions_only_result.json:  86%|█████████████████████████▋    | 126/147 [08:40<01:30,  4.30s/it]"
     ]
    },
    {
     "name": "stdout",
     "output_type": "stream",
     "text": [
      "생성된 대답: 요청하신 셔틀버스 정보를 찾지 못했습니다.\n",
      "질문: 셔틀버스 승차권은 어디서 구입하나요?\n",
      "투표 결과: Counter({4: 5}), 최종 선택: 4\n"
     ]
    },
    {
     "name": "stderr",
     "output_type": "stream",
     "text": [
      "classifier_questions_only_result.json:  86%|█████████████████████████▉    | 127/147 [08:44<01:26,  4.31s/it]"
     ]
    },
    {
     "name": "stdout",
     "output_type": "stream",
     "text": [
      "질문: 셔틀버스 승차권은 어디서 구입하나요?\n",
      "투표 결과: Counter({4: 5}), 최종 선택: 4\n",
      "생성된 대답: 셔틀버스 정보 예시: 교내 순환 (대덕캠퍼스 내) 08:20 (월평역) 등교 8:30 9:30 9:40 10:30 11:30 13:30 14:30 15:30 16:30 17:30; 캠퍼스 순환 (대덕캠퍼스 ↔ 보운캠퍼스) 8:10 (출발, 골프연습장) 8:50 (회차 보운캠퍼스) 미운영; 교내 순환 (유성캠퍼스 내) 08:30 17:30 ① 정심화 국제문화회관 ⟶ ② 사회과\n",
      "              학대학 입구(한누리회관 뒤) → ③ 서문(\n",
      "              공동실험실습관 앞) ⟶ ④ 음악 2호관 앞\n",
      "              ⟶ ⑤ 공동동물실험센터(회차) ⟶ ⑥ 체\n",
      "              육관 입구 → ⑦ 예술대학 앞 ⟶ ⑧ 도서\n",
      "              관 앞(대학본부 옆 농대방향) ⟶ ⑨ 학생\n",
      "              생활관 3거리 ⟶ ⑩ 농업생명과학대학\n",
      "              앞 ⟶ ⑪ 동문주차장 ⟶ ⑫ 농업생명과\n",
      "              학대학 앞 ⟶ ⑬ 도서관 앞(도서관삼거리\n",
      "              방향) ⟶ ⑭ 예술대학 앞 → ⑮ 서문(공동\n",
      "              실험실습관 앞) ⟶ ⑯ 사회과학대학 입\n",
      "              구(한누리회관 뒤) → ⑰ 산학연교육연 구관 앞 → ⑱ 정심화 국제문화회관 ※ 오전(등교) 1회만 월평역 출발(정심화 국제문화회관 하차(종점), 시간표 참조) 10회 학기 중 운영 (총 150일) 등\n",
      "질문: 셔틀버스 이용 시 주의사항이 있나요?\n",
      "투표 결과: Counter({4: 5}), 최종 선택: 4\n"
     ]
    },
    {
     "name": "stderr",
     "output_type": "stream",
     "text": [
      "classifier_questions_only_result.json:  87%|██████████████████████████    | 128/147 [08:48<01:21,  4.31s/it]"
     ]
    },
    {
     "name": "stdout",
     "output_type": "stream",
     "text": [
      "질문: 셔틀버스 이용 시 주의사항이 있나요?\n",
      "투표 결과: Counter({4: 5}), 최종 선택: 4\n",
      "생성된 대답: 셔틀버스 정보 예시: 교내 순환 (대덕캠퍼스 내) 08:20 (월평역) 등교 8:30 9:30 9:40 10:30 11:30 13:30 14:30 15:30 16:30 17:30; 캠퍼스 순환 (대덕캠퍼스 ↔ 보운캠퍼스) 8:10 (출발, 골프연습장) 8:50 (회차 보운캠퍼스) 미운영; 교내 순환 (유성캠퍼스 내) 08:30 17:30 ① 정심화 국제문화회관 ⟶ ② 사회과\n",
      "              학대학 입구(한누리회관 뒤) → ③ 서문(\n",
      "              공동실험실습관 앞) ⟶ ④ 음악 2호관 앞\n",
      "              ⟶ ⑤ 공동동물실험센터(회차) ⟶ ⑥ 체\n",
      "              육관 입구 → ⑦ 예술대학 앞 ⟶ ⑧ 도서\n",
      "              관 앞(대학본부 옆 농대방향) ⟶ ⑨ 학생\n",
      "              생활관 3거리 ⟶ ⑩ 농업생명과학대학\n",
      "              앞 ⟶ ⑪ 동문주차장 ⟶ ⑫ 농업생명과\n",
      "              학대학 앞 ⟶ ⑬ 도서관 앞(도서관삼거리\n",
      "              방향) ⟶ ⑭ 예술대학 앞 → ⑮ 서문(공동\n",
      "              실험실습관 앞) ⟶ ⑯ 사회과학대학 입\n",
      "              구(한누리회관 뒤) → ⑰ 산학연교육연 구관 앞 → ⑱ 정심화 국제문화회관 ※ 오전(등교) 1회만 월평역 출발(정심화 국제문화회관 하차(종점), 시간표 참조) 10회 학기 중 운영 (총 150일) 등\n",
      "질문: 셔틀버스 문의는 어디로 하나요?\n",
      "투표 결과: Counter({4: 5}), 최종 선택: 4\n"
     ]
    },
    {
     "name": "stderr",
     "output_type": "stream",
     "text": [
      "classifier_questions_only_result.json:  88%|██████████████████████████▎   | 129/147 [08:53<01:17,  4.32s/it]"
     ]
    },
    {
     "name": "stdout",
     "output_type": "stream",
     "text": [
      "질문: 셔틀버스 문의는 어디로 하나요?\n",
      "투표 결과: Counter({4: 5}), 최종 선택: 4\n",
      "생성된 대답: 셔틀버스 정보 예시: 교내 순환 (대덕캠퍼스 내) 08:20 (월평역) 등교 8:30 9:30 9:40 10:30 11:30 13:30 14:30 15:30 16:30 17:30; 캠퍼스 순환 (대덕캠퍼스 ↔ 보운캠퍼스) 8:10 (출발, 골프연습장) 8:50 (회차 보운캠퍼스) 미운영; 교내 순환 (유성캠퍼스 내) 08:30 17:30 ① 정심화 국제문화회관 ⟶ ② 사회과\n",
      "              학대학 입구(한누리회관 뒤) → ③ 서문(\n",
      "              공동실험실습관 앞) ⟶ ④ 음악 2호관 앞\n",
      "              ⟶ ⑤ 공동동물실험센터(회차) ⟶ ⑥ 체\n",
      "              육관 입구 → ⑦ 예술대학 앞 ⟶ ⑧ 도서\n",
      "              관 앞(대학본부 옆 농대방향) ⟶ ⑨ 학생\n",
      "              생활관 3거리 ⟶ ⑩ 농업생명과학대학\n",
      "              앞 ⟶ ⑪ 동문주차장 ⟶ ⑫ 농업생명과\n",
      "              학대학 앞 ⟶ ⑬ 도서관 앞(도서관삼거리\n",
      "              방향) ⟶ ⑭ 예술대학 앞 → ⑮ 서문(공동\n",
      "              실험실습관 앞) ⟶ ⑯ 사회과학대학 입\n",
      "              구(한누리회관 뒤) → ⑰ 산학연교육연 구관 앞 → ⑱ 정심화 국제문화회관 ※ 오전(등교) 1회만 월평역 출발(정심화 국제문화회관 하차(종점), 시간표 참조) 10회 학기 중 운영 (총 150일) 등\n",
      "질문: 셔틀버스가 만차일 때는 어떻게 해야 하나요?\n",
      "투표 결과: Counter({4: 5}), 최종 선택: 4\n"
     ]
    },
    {
     "name": "stderr",
     "output_type": "stream",
     "text": [
      "classifier_questions_only_result.json:  88%|██████████████████████████▌   | 130/147 [08:55<01:04,  3.79s/it]"
     ]
    },
    {
     "name": "stdout",
     "output_type": "stream",
     "text": [
      "질문: 셔틀버스가 만차일 때는 어떻게 해야 하나요?\n",
      "투표 결과: Counter({4: 5}), 최종 선택: 4\n",
      "생성된 대답: 셔틀버스 정보 예시: 교내 순환 (대덕캠퍼스 내) 08:20 (월평역) 등교 8:30 9:30 9:40 10:30 11:30 13:30 14:30 15:30 16:30 17:30; 캠퍼스 순환 (대덕캠퍼스 ↔ 보운캠퍼스) 8:10 (출발, 골프연습장) 8:50 (회차 보운캠퍼스) 미운영; 교내 순환 (유성캠퍼스 내) 08:30 17:30 ① 정심화 국제문화회관 ⟶ ② 사회과\n",
      "              학대학 입구(한누리회관 뒤) → ③ 서문(\n",
      "              공동실험실습관 앞) ⟶ ④ 음악 2호관 앞\n",
      "              ⟶ ⑤ 공동동물실험센터(회차) ⟶ ⑥ 체\n",
      "              육관 입구 → ⑦ 예술대학 앞 ⟶ ⑧ 도서\n",
      "              관 앞(대학본부 옆 농대방향) ⟶ ⑨ 학생\n",
      "              생활관 3거리 ⟶ ⑩ 농업생명과학대학\n",
      "              앞 ⟶ ⑪ 동문주차장 ⟶ ⑫ 농업생명과\n",
      "              학대학 앞 ⟶ ⑬ 도서관 앞(도서관삼거리\n",
      "              방향) ⟶ ⑭ 예술대학 앞 → ⑮ 서문(공동\n",
      "              실험실습관 앞) ⟶ ⑯ 사회과학대학 입\n",
      "              구(한누리회관 뒤) → ⑰ 산학연교육연 구관 앞 → ⑱ 정심화 국제문화회관 ※ 오전(등교) 1회만 월평역 출발(정심화 국제문화회관 하차(종점), 시간표 참조) 10회 학기 중 운영 (총 150일) 등\n",
      "질문: 셔틀버스 정기권이 있나요?\n",
      "투표 결과: Counter({4: 5}), 최종 선택: 4\n"
     ]
    },
    {
     "name": "stderr",
     "output_type": "stream",
     "text": [
      "classifier_questions_only_result.json:  89%|██████████████████████████▋   | 131/147 [08:59<01:02,  3.94s/it]"
     ]
    },
    {
     "name": "stdout",
     "output_type": "stream",
     "text": [
      "질문: 셔틀버스 정기권이 있나요?\n",
      "투표 결과: Counter({4: 5}), 최종 선택: 4\n",
      "생성된 대답: 셔틀버스 정보 예시: 교내 순환 (대덕캠퍼스 내) 08:20 (월평역) 등교 8:30 9:30 9:40 10:30 11:30 13:30 14:30 15:30 16:30 17:30; 캠퍼스 순환 (대덕캠퍼스 ↔ 보운캠퍼스) 8:10 (출발, 골프연습장) 8:50 (회차 보운캠퍼스) 미운영; 교내 순환 (유성캠퍼스 내) 08:30 17:30 ① 정심화 국제문화회관 ⟶ ② 사회과\n",
      "              학대학 입구(한누리회관 뒤) → ③ 서문(\n",
      "              공동실험실습관 앞) ⟶ ④ 음악 2호관 앞\n",
      "              ⟶ ⑤ 공동동물실험센터(회차) ⟶ ⑥ 체\n",
      "              육관 입구 → ⑦ 예술대학 앞 ⟶ ⑧ 도서\n",
      "              관 앞(대학본부 옆 농대방향) ⟶ ⑨ 학생\n",
      "              생활관 3거리 ⟶ ⑩ 농업생명과학대학\n",
      "              앞 ⟶ ⑪ 동문주차장 ⟶ ⑫ 농업생명과\n",
      "              학대학 앞 ⟶ ⑬ 도서관 앞(도서관삼거리\n",
      "              방향) ⟶ ⑭ 예술대학 앞 → ⑮ 서문(공동\n",
      "              실험실습관 앞) ⟶ ⑯ 사회과학대학 입\n",
      "              구(한누리회관 뒤) → ⑰ 산학연교육연 구관 앞 → ⑱ 정심화 국제문화회관 ※ 오전(등교) 1회만 월평역 출발(정심화 국제문화회관 하차(종점), 시간표 참조) 10회 학기 중 운영 (총 150일) 등\n",
      "질문: 통학버스 운행 노선은 어떻게 되나요?\n",
      "투표 결과: Counter({4: 5}), 최종 선택: 4\n"
     ]
    },
    {
     "name": "stderr",
     "output_type": "stream",
     "text": [
      "classifier_questions_only_result.json:  90%|██████████████████████████▉   | 132/147 [09:04<01:00,  4.07s/it]"
     ]
    },
    {
     "name": "stdout",
     "output_type": "stream",
     "text": [
      "질문: 통학버스 운행 노선은 어떻게 되나요?\n",
      "투표 결과: Counter({4: 5}), 최종 선택: 4\n",
      "생성된 대답: 셔틀버스 정보 예시: 교내 순환 (유성캠퍼스 내) 08:30 17:30 ① 정심화 국제문화회관 ⟶ ② 사회과\n",
      "              학대학 입구(한누리회관 뒤) → ③ 서문(\n",
      "              공동실험실습관 앞) ⟶ ④ 음악 2호관 앞\n",
      "              ⟶ ⑤ 공동동물실험센터(회차) ⟶ ⑥ 체\n",
      "              육관 입구 → ⑦ 예술대학 앞 ⟶ ⑧ 도서\n",
      "              관 앞(대학본부 옆 농대방향) ⟶ ⑨ 학생\n",
      "              생활관 3거리 ⟶ ⑩ 농업생명과학대학\n",
      "              앞 ⟶ ⑪ 동문주차장 ⟶ ⑫ 농업생명과\n",
      "              학대학 앞 ⟶ ⑬ 도서관 앞(도서관삼거리\n",
      "              방향) ⟶ ⑭ 예술대학 앞 → ⑮ 서문(공동\n",
      "              실험실습관 앞) ⟶ ⑯ 사회과학대학 입\n",
      "              구(한누리회관 뒤) → ⑰ 산학연교육연 구관 앞 → ⑱ 정심화 국제문화회관 ※ 오전(등교) 1회만 월평역 출발(정심화 국제문화회관 하차(종점), 시간표 참조) 10회 학기 중 운영 (총 150일); 캠퍼스 순환 (대덕↔보운) 08:10(대덕) 08:50(보운) ①골프연습장 출발(08:10) → ②중앙도 서관(08:11) → ③산학연교육연구관(08: 12) → ④충남대학교입구 버스정류장(홈 플러스유성점방면)(08:13) → ⑤월평역( 08:15) → ⑥보운캠퍼스(회차, 08:50) → ⑦다솔아파트 건너편 → 제2학생회관 →\n",
      "              중앙도서관 → 골프연습장 도착 1회 (회차) 학기 중 운영 (총 150일) 등\n",
      "질문: 셔틀버스 운행 시간은 자주 변경되나요?\n",
      "투표 결과: Counter({4: 5}), 최종 선택: 4\n",
      "질문: 셔틀버스 운행 시간은 자주 변경되나요?\n",
      "투표 결과: Counter({4: 5}), 최종 선택: 4\n"
     ]
    },
    {
     "name": "stderr",
     "output_type": "stream",
     "text": [
      "classifier_questions_only_result.json:  90%|███████████████████████████▏  | 133/147 [09:08<00:59,  4.24s/it]"
     ]
    },
    {
     "name": "stdout",
     "output_type": "stream",
     "text": [
      "생성된 대답: 요청하신 셔틀버스 정보를 찾지 못했습니다.\n",
      "질문: 셔틀버스 운행 정보는 어디서 확인하나요?\n",
      "투표 결과: Counter({4: 5}), 최종 선택: 4\n"
     ]
    },
    {
     "name": "stderr",
     "output_type": "stream",
     "text": [
      "classifier_questions_only_result.json:  91%|███████████████████████████▎  | 134/147 [09:13<00:56,  4.31s/it]"
     ]
    },
    {
     "name": "stdout",
     "output_type": "stream",
     "text": [
      "질문: 셔틀버스 운행 정보는 어디서 확인하나요?\n",
      "투표 결과: Counter({4: 5}), 최종 선택: 4\n",
      "생성된 대답: 셔틀버스 정보 예시: 교내 순환 (대덕캠퍼스 내) 08:20 (월평역) 등교 8:30 9:30 9:40 10:30 11:30 13:30 14:30 15:30 16:30 17:30; 캠퍼스 순환 (대덕캠퍼스 ↔ 보운캠퍼스) 8:10 (출발, 골프연습장) 8:50 (회차 보운캠퍼스) 미운영 등\n",
      "질문: 셔틀버스에 짐을 실을 수 있나요?\n",
      "투표 결과: Counter({4: 5}), 최종 선택: 4\n"
     ]
    },
    {
     "name": "stderr",
     "output_type": "stream",
     "text": [
      "classifier_questions_only_result.json:  92%|███████████████████████████▌  | 135/147 [09:17<00:51,  4.30s/it]"
     ]
    },
    {
     "name": "stdout",
     "output_type": "stream",
     "text": [
      "질문: 셔틀버스에 짐을 실을 수 있나요?\n",
      "투표 결과: Counter({4: 5}), 최종 선택: 4\n",
      "생성된 대답: 셔틀버스 정보 예시: 교내 순환 (대덕캠퍼스 내) 08:20 (월평역) 등교 8:30 9:30 9:40 10:30 11:30 13:30 14:30 15:30 16:30 17:30; 캠퍼스 순환 (대덕캠퍼스 ↔ 보운캠퍼스) 8:10 (출발, 골프연습장) 8:50 (회차 보운캠퍼스) 미운영; 교내 순환 (유성캠퍼스 내) 08:30 17:30 ① 정심화 국제문화회관 ⟶ ② 사회과\n",
      "              학대학 입구(한누리회관 뒤) → ③ 서문(\n",
      "              공동실험실습관 앞) ⟶ ④ 음악 2호관 앞\n",
      "              ⟶ ⑤ 공동동물실험센터(회차) ⟶ ⑥ 체\n",
      "              육관 입구 → ⑦ 예술대학 앞 ⟶ ⑧ 도서\n",
      "              관 앞(대학본부 옆 농대방향) ⟶ ⑨ 학생\n",
      "              생활관 3거리 ⟶ ⑩ 농업생명과학대학\n",
      "              앞 ⟶ ⑪ 동문주차장 ⟶ ⑫ 농업생명과\n",
      "              학대학 앞 ⟶ ⑬ 도서관 앞(도서관삼거리\n",
      "              방향) ⟶ ⑭ 예술대학 앞 → ⑮ 서문(공동\n",
      "              실험실습관 앞) ⟶ ⑯ 사회과학대학 입\n",
      "              구(한누리회관 뒤) → ⑰ 산학연교육연 구관 앞 → ⑱ 정심화 국제문화회관 ※ 오전(등교) 1회만 월평역 출발(정심화 국제문화회관 하차(종점), 시간표 참조) 10회 학기 중 운영 (총 150일) 등\n",
      "질문: 셔틀버스 운행 중 정차하는 곳이 궁금해요.\n",
      "투표 결과: Counter({4: 5}), 최종 선택: 4\n"
     ]
    },
    {
     "name": "stderr",
     "output_type": "stream",
     "text": [
      "classifier_questions_only_result.json:  93%|███████████████████████████▊  | 136/147 [09:21<00:47,  4.30s/it]"
     ]
    },
    {
     "name": "stdout",
     "output_type": "stream",
     "text": [
      "질문: 셔틀버스 운행 중 정차하는 곳이 궁금해요.\n",
      "투표 결과: Counter({4: 5}), 최종 선택: 4\n",
      "생성된 대답: 셔틀버스 정보 예시: 교내 순환 (대덕캠퍼스 내) 08:20 (월평역) 등교 8:30 9:30 9:40 10:30 11:30 13:30 14:30 15:30 16:30 17:30; 캠퍼스 순환 (대덕캠퍼스 ↔ 보운캠퍼스) 8:10 (출발, 골프연습장) 8:50 (회차 보운캠퍼스) 미운영 등\n",
      "질문: 셔틀버스 탑승 시 학생증이 필요한가요?\n",
      "투표 결과: Counter({4: 5}), 최종 선택: 4\n"
     ]
    },
    {
     "name": "stderr",
     "output_type": "stream",
     "text": [
      "classifier_questions_only_result.json:  93%|███████████████████████████▉  | 137/147 [09:26<00:43,  4.31s/it]"
     ]
    },
    {
     "name": "stdout",
     "output_type": "stream",
     "text": [
      "질문: 셔틀버스 탑승 시 학생증이 필요한가요?\n",
      "투표 결과: Counter({4: 5}), 최종 선택: 4\n",
      "생성된 대답: 셔틀버스 정보 예시: 교내 순환 (대덕캠퍼스 내) 08:20 (월평역) 등교 8:30 9:30 9:40 10:30 11:30 13:30 14:30 15:30 16:30 17:30; 캠퍼스 순환 (대덕캠퍼스 ↔ 보운캠퍼스) 8:10 (출발, 골프연습장) 8:50 (회차 보운캠퍼스) 미운영; 교내 순환 (유성캠퍼스 내) 08:30 17:30 ① 정심화 국제문화회관 ⟶ ② 사회과\n",
      "              학대학 입구(한누리회관 뒤) → ③ 서문(\n",
      "              공동실험실습관 앞) ⟶ ④ 음악 2호관 앞\n",
      "              ⟶ ⑤ 공동동물실험센터(회차) ⟶ ⑥ 체\n",
      "              육관 입구 → ⑦ 예술대학 앞 ⟶ ⑧ 도서\n",
      "              관 앞(대학본부 옆 농대방향) ⟶ ⑨ 학생\n",
      "              생활관 3거리 ⟶ ⑩ 농업생명과학대학\n",
      "              앞 ⟶ ⑪ 동문주차장 ⟶ ⑫ 농업생명과\n",
      "              학대학 앞 ⟶ ⑬ 도서관 앞(도서관삼거리\n",
      "              방향) ⟶ ⑭ 예술대학 앞 → ⑮ 서문(공동\n",
      "              실험실습관 앞) ⟶ ⑯ 사회과학대학 입\n",
      "              구(한누리회관 뒤) → ⑰ 산학연교육연 구관 앞 → ⑱ 정심화 국제문화회관 ※ 오전(등교) 1회만 월평역 출발(정심화 국제문화회관 하차(종점), 시간표 참조) 10회 학기 중 운영 (총 150일) 등\n",
      "질문: 셔틀버스 운행이 연장되는 경우가 있나요?\n",
      "투표 결과: Counter({4: 5}), 최종 선택: 4\n"
     ]
    },
    {
     "name": "stderr",
     "output_type": "stream",
     "text": [
      "classifier_questions_only_result.json:  94%|████████████████████████████▏ | 138/147 [09:28<00:33,  3.74s/it]"
     ]
    },
    {
     "name": "stdout",
     "output_type": "stream",
     "text": [
      "질문: 셔틀버스 운행이 연장되는 경우가 있나요?\n",
      "투표 결과: Counter({4: 5}), 최종 선택: 4\n",
      "생성된 대답: 셔틀버스 정보 예시: 교내 순환 (대덕캠퍼스 내) 08:20 (월평역) 등교 8:30 9:30 9:40 10:30 11:30 13:30 14:30 15:30 16:30 17:30; 캠퍼스 순환 (대덕캠퍼스 ↔ 보운캠퍼스) 8:10 (출발, 골프연습장) 8:50 (회차 보운캠퍼스) 미운영 등\n",
      "질문: 셔틀버스 이용 시 마스크 착용이 필수인가요?\n",
      "투표 결과: Counter({4: 5}), 최종 선택: 4\n"
     ]
    },
    {
     "name": "stderr",
     "output_type": "stream",
     "text": [
      "classifier_questions_only_result.json:  95%|████████████████████████████▎ | 139/147 [09:33<00:31,  3.91s/it]"
     ]
    },
    {
     "name": "stdout",
     "output_type": "stream",
     "text": [
      "질문: 셔틀버스 이용 시 마스크 착용이 필수인가요?\n",
      "투표 결과: Counter({4: 5}), 최종 선택: 4\n",
      "생성된 대답: 셔틀버스 정보 예시: 교내 순환 (대덕캠퍼스 내) 08:20 (월평역) 등교 8:30 9:30 9:40 10:30 11:30 13:30 14:30 15:30 16:30 17:30; 캠퍼스 순환 (대덕캠퍼스 ↔ 보운캠퍼스) 8:10 (출발, 골프연습장) 8:50 (회차 보운캠퍼스) 미운영; 교내 순환 (유성캠퍼스 내) 08:30 17:30 ① 정심화 국제문화회관 ⟶ ② 사회과\n",
      "              학대학 입구(한누리회관 뒤) → ③ 서문(\n",
      "              공동실험실습관 앞) ⟶ ④ 음악 2호관 앞\n",
      "              ⟶ ⑤ 공동동물실험센터(회차) ⟶ ⑥ 체\n",
      "              육관 입구 → ⑦ 예술대학 앞 ⟶ ⑧ 도서\n",
      "              관 앞(대학본부 옆 농대방향) ⟶ ⑨ 학생\n",
      "              생활관 3거리 ⟶ ⑩ 농업생명과학대학\n",
      "              앞 ⟶ ⑪ 동문주차장 ⟶ ⑫ 농업생명과\n",
      "              학대학 앞 ⟶ ⑬ 도서관 앞(도서관삼거리\n",
      "              방향) ⟶ ⑭ 예술대학 앞 → ⑮ 서문(공동\n",
      "              실험실습관 앞) ⟶ ⑯ 사회과학대학 입\n",
      "              구(한누리회관 뒤) → ⑰ 산학연교육연 구관 앞 → ⑱ 정심화 국제문화회관 ※ 오전(등교) 1회만 월평역 출발(정심화 국제문화회관 하차(종점), 시간표 참조) 10회 학기 중 운영 (총 150일) 등\n",
      "질문: 셔틀버스 운행 시간표는 어디서 받을 수 있나요?\n",
      "투표 결과: Counter({4: 5}), 최종 선택: 4\n"
     ]
    },
    {
     "name": "stderr",
     "output_type": "stream",
     "text": [
      "classifier_questions_only_result.json:  95%|████████████████████████████▌ | 140/147 [09:37<00:28,  4.04s/it]"
     ]
    },
    {
     "name": "stdout",
     "output_type": "stream",
     "text": [
      "질문: 셔틀버스 운행 시간표는 어디서 받을 수 있나요?\n",
      "투표 결과: Counter({4: 5}), 최종 선택: 4\n",
      "생성된 대답: 셔틀버스 정보 예시: 교내 순환 (대덕캠퍼스 내) 08:20 (월평역) 등교 8:30 9:30 9:40 10:30 11:30 13:30 14:30 15:30 16:30 17:30; 캠퍼스 순환 (대덕캠퍼스 ↔ 보운캠퍼스) 8:10 (출발, 골프연습장) 8:50 (회차 보운캠퍼스) 미운영 등\n",
      "질문: 셔틀버스 관련 불편사항은 어디에 신고하나요?\n",
      "투표 결과: Counter({4: 5}), 최종 선택: 4\n"
     ]
    },
    {
     "name": "stderr",
     "output_type": "stream",
     "text": [
      "classifier_questions_only_result.json:  96%|████████████████████████████▊ | 141/147 [09:41<00:24,  4.11s/it]"
     ]
    },
    {
     "name": "stdout",
     "output_type": "stream",
     "text": [
      "질문: 셔틀버스 관련 불편사항은 어디에 신고하나요?\n",
      "투표 결과: Counter({4: 5}), 최종 선택: 4\n",
      "생성된 대답: 셔틀버스 정보 예시: 교내 순환 (대덕캠퍼스 내) 08:20 (월평역) 등교 8:30 9:30 9:40 10:30 11:30 13:30 14:30 15:30 16:30 17:30; 캠퍼스 순환 (대덕캠퍼스 ↔ 보운캠퍼스) 8:10 (출발, 골프연습장) 8:50 (회차 보운캠퍼스) 미운영; 교내 순환 (유성캠퍼스 내) 08:30 17:30 ① 정심화 국제문화회관 ⟶ ② 사회과\n",
      "              학대학 입구(한누리회관 뒤) → ③ 서문(\n",
      "              공동실험실습관 앞) ⟶ ④ 음악 2호관 앞\n",
      "              ⟶ ⑤ 공동동물실험센터(회차) ⟶ ⑥ 체\n",
      "              육관 입구 → ⑦ 예술대학 앞 ⟶ ⑧ 도서\n",
      "              관 앞(대학본부 옆 농대방향) ⟶ ⑨ 학생\n",
      "              생활관 3거리 ⟶ ⑩ 농업생명과학대학\n",
      "              앞 ⟶ ⑪ 동문주차장 ⟶ ⑫ 농업생명과\n",
      "              학대학 앞 ⟶ ⑬ 도서관 앞(도서관삼거리\n",
      "              방향) ⟶ ⑭ 예술대학 앞 → ⑮ 서문(공동\n",
      "              실험실습관 앞) ⟶ ⑯ 사회과학대학 입\n",
      "              구(한누리회관 뒤) → ⑰ 산학연교육연 구관 앞 → ⑱ 정심화 국제문화회관 ※ 오전(등교) 1회만 월평역 출발(정심화 국제문화회관 하차(종점), 시간표 참조) 10회 학기 중 운영 (총 150일) 등\n",
      "질문: 셔틀버스 노선 추가 요청이 가능한가요?\n",
      "투표 결과: Counter({4: 5}), 최종 선택: 4\n"
     ]
    },
    {
     "name": "stderr",
     "output_type": "stream",
     "text": [
      "classifier_questions_only_result.json:  97%|████████████████████████████▉ | 142/147 [09:45<00:20,  4.16s/it]"
     ]
    },
    {
     "name": "stdout",
     "output_type": "stream",
     "text": [
      "질문: 셔틀버스 노선 추가 요청이 가능한가요?\n",
      "투표 결과: Counter({4: 5}), 최종 선택: 4\n",
      "생성된 대답: 셔틀버스 정보 예시: 교내 순환 (유성캠퍼스 내) 08:30 17:30 ① 정심화 국제문화회관 ⟶ ② 사회과\n",
      "              학대학 입구(한누리회관 뒤) → ③ 서문(\n",
      "              공동실험실습관 앞) ⟶ ④ 음악 2호관 앞\n",
      "              ⟶ ⑤ 공동동물실험센터(회차) ⟶ ⑥ 체\n",
      "              육관 입구 → ⑦ 예술대학 앞 ⟶ ⑧ 도서\n",
      "              관 앞(대학본부 옆 농대방향) ⟶ ⑨ 학생\n",
      "              생활관 3거리 ⟶ ⑩ 농업생명과학대학\n",
      "              앞 ⟶ ⑪ 동문주차장 ⟶ ⑫ 농업생명과\n",
      "              학대학 앞 ⟶ ⑬ 도서관 앞(도서관삼거리\n",
      "              방향) ⟶ ⑭ 예술대학 앞 → ⑮ 서문(공동\n",
      "              실험실습관 앞) ⟶ ⑯ 사회과학대학 입\n",
      "              구(한누리회관 뒤) → ⑰ 산학연교육연 구관 앞 → ⑱ 정심화 국제문화회관 ※ 오전(등교) 1회만 월평역 출발(정심화 국제문화회관 하차(종점), 시간표 참조) 10회 학기 중 운영 (총 150일); 캠퍼스 순환 (대덕↔보운) 08:10(대덕) 08:50(보운) ①골프연습장 출발(08:10) → ②중앙도 서관(08:11) → ③산학연교육연구관(08: 12) → ④충남대학교입구 버스정류장(홈 플러스유성점방면)(08:13) → ⑤월평역( 08:15) → ⑥보운캠퍼스(회차, 08:50) → ⑦다솔아파트 건너편 → 제2학생회관 →\n",
      "              중앙도서관 → 골프연습장 도착 1회 (회차) 학기 중 운영 (총 150일) 등\n",
      "질문: 셔틀버스 운행 정보는 실시간으로 확인 가능한가요?\n",
      "투표 결과: Counter({4: 5}), 최종 선택: 4\n"
     ]
    },
    {
     "name": "stderr",
     "output_type": "stream",
     "text": [
      "classifier_questions_only_result.json:  97%|█████████████████████████████▏| 143/147 [09:50<00:16,  4.22s/it]"
     ]
    },
    {
     "name": "stdout",
     "output_type": "stream",
     "text": [
      "질문: 셔틀버스 운행 정보는 실시간으로 확인 가능한가요?\n",
      "투표 결과: Counter({4: 5}), 최종 선택: 4\n",
      "생성된 대답: 셔틀버스 정보 예시: 교내 순환 (대덕캠퍼스 내) 08:20 (월평역) 등교 8:30 9:30 9:40 10:30 11:30 13:30 14:30 15:30 16:30 17:30; 캠퍼스 순환 (대덕캠퍼스 ↔ 보운캠퍼스) 8:10 (출발, 골프연습장) 8:50 (회차 보운캠퍼스) 미운영 등\n",
      "질문: 셔틀버스 이용 시 할인 혜택이 있나요?\n",
      "투표 결과: Counter({4: 5}), 최종 선택: 4\n"
     ]
    },
    {
     "name": "stderr",
     "output_type": "stream",
     "text": [
      "classifier_questions_only_result.json:  98%|█████████████████████████████▍| 144/147 [09:54<00:12,  4.27s/it]"
     ]
    },
    {
     "name": "stdout",
     "output_type": "stream",
     "text": [
      "질문: 셔틀버스 이용 시 할인 혜택이 있나요?\n",
      "투표 결과: Counter({4: 5}), 최종 선택: 4\n",
      "생성된 대답: 셔틀버스 정보 예시: 교내 순환 (대덕캠퍼스 내) 08:20 (월평역) 등교 8:30 9:30 9:40 10:30 11:30 13:30 14:30 15:30 16:30 17:30; 캠퍼스 순환 (대덕캠퍼스 ↔ 보운캠퍼스) 8:10 (출발, 골프연습장) 8:50 (회차 보운캠퍼스) 미운영; 교내 순환 (유성캠퍼스 내) 08:30 17:30 ① 정심화 국제문화회관 ⟶ ② 사회과\n",
      "              학대학 입구(한누리회관 뒤) → ③ 서문(\n",
      "              공동실험실습관 앞) ⟶ ④ 음악 2호관 앞\n",
      "              ⟶ ⑤ 공동동물실험센터(회차) ⟶ ⑥ 체\n",
      "              육관 입구 → ⑦ 예술대학 앞 ⟶ ⑧ 도서\n",
      "              관 앞(대학본부 옆 농대방향) ⟶ ⑨ 학생\n",
      "              생활관 3거리 ⟶ ⑩ 농업생명과학대학\n",
      "              앞 ⟶ ⑪ 동문주차장 ⟶ ⑫ 농업생명과\n",
      "              학대학 앞 ⟶ ⑬ 도서관 앞(도서관삼거리\n",
      "              방향) ⟶ ⑭ 예술대학 앞 → ⑮ 서문(공동\n",
      "              실험실습관 앞) ⟶ ⑯ 사회과학대학 입\n",
      "              구(한누리회관 뒤) → ⑰ 산학연교육연 구관 앞 → ⑱ 정심화 국제문화회관 ※ 오전(등교) 1회만 월평역 출발(정심화 국제문화회관 하차(종점), 시간표 참조) 10회 학기 중 운영 (총 150일) 등\n",
      "질문: 셔틀버스 운행이 없는 날도 있나요?\n",
      "투표 결과: Counter({4: 5}), 최종 선택: 4\n"
     ]
    },
    {
     "name": "stderr",
     "output_type": "stream",
     "text": [
      "classifier_questions_only_result.json:  99%|█████████████████████████████▌| 145/147 [09:57<00:07,  3.79s/it]"
     ]
    },
    {
     "name": "stdout",
     "output_type": "stream",
     "text": [
      "질문: 셔틀버스 운행이 없는 날도 있나요?\n",
      "투표 결과: Counter({4: 5}), 최종 선택: 4\n",
      "생성된 대답: 셔틀버스 정보 예시: 교내 순환 (대덕캠퍼스 내) 08:20 (월평역) 등교 8:30 9:30 9:40 10:30 11:30 13:30 14:30 15:30 16:30 17:30; 캠퍼스 순환 (대덕캠퍼스 ↔ 보운캠퍼스) 8:10 (출발, 골프연습장) 8:50 (회차 보운캠퍼스) 미운영 등\n",
      "질문: 셔틀버스 운행 시간 변경은 어디서 확인하나요?\n",
      "투표 결과: Counter({4: 5}), 최종 선택: 4\n",
      "질문: 셔틀버스 운행 시간 변경은 어디서 확인하나요?\n",
      "투표 결과: Counter({4: 5}), 최종 선택: 4\n"
     ]
    },
    {
     "name": "stderr",
     "output_type": "stream",
     "text": [
      "classifier_questions_only_result.json:  99%|█████████████████████████████▊| 146/147 [10:02<00:04,  4.09s/it]"
     ]
    },
    {
     "name": "stdout",
     "output_type": "stream",
     "text": [
      "생성된 대답: 요청하신 셔틀버스 정보를 찾지 못했습니다.\n",
      "질문: 셔틀버스 운행 관련 문의는 어디로 하나요?\n",
      "투표 결과: Counter({4: 5}), 최종 선택: 4\n"
     ]
    },
    {
     "name": "stderr",
     "output_type": "stream",
     "text": [
      "classifier_questions_only_result.json: 100%|██████████████████████████████| 147/147 [10:06<00:00,  4.13s/it]"
     ]
    },
    {
     "name": "stdout",
     "output_type": "stream",
     "text": [
      "질문: 셔틀버스 운행 관련 문의는 어디로 하나요?\n",
      "투표 결과: Counter({4: 5}), 최종 선택: 4\n",
      "생성된 대답: 셔틀버스 정보 예시: 교내 순환 (대덕캠퍼스 내) 08:20 (월평역) 등교 8:30 9:30 9:40 10:30 11:30 13:30 14:30 15:30 16:30 17:30; 캠퍼스 순환 (대덕캠퍼스 ↔ 보운캠퍼스) 8:10 (출발, 골프연습장) 8:50 (회차 보운캠퍼스) 미운영 등\n",
      "✅ ../outputs/classifier_questions_only_result_output.json 저장 완료\n",
      "✅ ../outputs/classifier_questions_only_result_answer_output.json 저장 완료\n"
     ]
    },
    {
     "name": "stderr",
     "output_type": "stream",
     "text": [
      "\n"
     ]
    }
   ],
   "source": [
    "import json\n",
    "from pathlib import Path\n",
    "from tqdm import tqdm\n",
    "\n",
    "# data/question directory relative to this notebook\n",
    "base_dir = Path('../data/question') if Path('../data/question').exists() else Path('data/question')\n",
    "output_dir = Path('../outputs') if Path('../outputs').exists() else Path('outputs')\n",
    "output_dir.mkdir(parents=True, exist_ok=True)\n",
    "\n",
    "for path in base_dir.glob('*.json'):\n",
    "    with path.open('r', encoding='utf-8') as f:\n",
    "        questions_data = json.load(f)\n",
    "    results = []  # question-label pairs\n",
    "    qa_results = []  # question-answer pairs\n",
    "    for item in tqdm(questions_data, desc=path.name):\n",
    "        question = item['question']\n",
    "        label, _ = classify_query(question)  # VARCO 모델 사용\n",
    "        answer = generate_response(question)  # 모델이 생성한 대답\n",
    "        print(f\"생성된 대답: {answer}\")\n",
    "        results.append({'question': question, 'label': label})\n",
    "        qa_results.append({'question': question, 'answer': answer})\n",
    "    out_file = output_dir / f\"{path.stem}_output.json\"\n",
    "    qa_file = output_dir / f\"{path.stem}_answer_output.json\"\n",
    "    with out_file.open('w', encoding='utf-8') as f:\n",
    "        json.dump(results, f, ensure_ascii=False, indent=2)\n",
    "    with qa_file.open('w', encoding='utf-8') as f:\n",
    "        json.dump(qa_results, f, ensure_ascii=False, indent=2)\n",
    "    print(f'✅ {out_file} 저장 완료')\n",
    "    print(f'✅ {qa_file} 저장 완료')\n"
   ]
  },
  {
   "cell_type": "code",
   "execution_count": null,
   "id": "7b84323d-ee2f-4f72-9239-58ee5ce85aa5",
   "metadata": {},
   "outputs": [
    {
     "name": "stdout",
     "output_type": "stream",
     "text": [
      "'../question' 폴더를 실시간으로 감지합니다...\n",
      "노트북 셀을 중단(Interrupt)하면 감지가 종료됩니다.\n",
      "\n",
      "[2025-06-20 13:13:12] 처리 완료:\n",
      "  - 질문 ID: q_20250620131306_6f66\n",
      "  - 내   용: \"인공지능학과 공지사항\"\n",
      "  - 분   류: 1 (학교 공지사항)\n",
      "  - 답변 파일: ../answer/a_20250620131306_6f66.json\n",
      "\n",
      "다음 질문을 기다립니다...\n"
     ]
    }
   ],
   "source": [
    "import time\n",
    "import json\n",
    "from pathlib import Path\n",
    "import shutil\n",
    "from IPython.display import display, clear_output\n",
    "from datetime import datetime\n",
    "\n",
    "# --- 1. 경로 설정 ---\n",
    "# 웹 UI가 질문을 저장하는 폴더 (입력)\n",
    "QUESTION_DIR = Path('../question')\n",
    "\n",
    "# 분류된 답변을 저장하는 폴더 (출력)\n",
    "ANSWER_DIR = Path('../answer')\n",
    "\n",
    "# 처리가 완료된 질문을 옮길 폴더\n",
    "PROCESSED_DIR = QUESTION_DIR / 'processed'\n",
    "\n",
    "# 오류 발생 시 질문을 옮길 폴더\n",
    "ERROR_DIR = QUESTION_DIR / 'error'\n",
    "\n",
    "# 폴더가 없는 경우 생성\n",
    "QUESTION_DIR.mkdir(exist_ok=True)\n",
    "ANSWER_DIR.mkdir(exist_ok=True)\n",
    "PROCESSED_DIR.mkdir(exist_ok=True)\n",
    "ERROR_DIR.mkdir(exist_ok=True)\n",
    "\n",
    "\n",
    "print(f\"'{QUESTION_DIR}' 폴더를 실시간으로 감지합니다...\")\n",
    "print(\"노트북 셀을 중단(Interrupt)하면 감지가 종료됩니다.\")\n",
    "\n",
    "# --- 2. 실시간 감지 및 처리 루프 ---\n",
    "try:\n",
    "    while True:\n",
    "        # question 폴더에서 아직 처리되지 않은 질문 파일 목록을 가져옴\n",
    "        # 파일 이름이 'q_'로 시작하는 json 파일만 대상으로 함\n",
    "        question_files = list(QUESTION_DIR.glob('q_*.json'))\n",
    "\n",
    "        # 처리할 파일이 없으면 5초 대기 후 다시 확인\n",
    "        if not question_files:\n",
    "            time.sleep(5)\n",
    "            continue\n",
    "\n",
    "        # 새로운 질문 파일을 하나씩 처리\n",
    "        for q_path in question_files:\n",
    "            try:\n",
    "                # 1. 질문 파일 읽기\n",
    "                with q_path.open('r', encoding='utf-8') as f:\n",
    "                    q_data = json.load(f)\n",
    "                \n",
    "                question_text = q_data.get('text', '')\n",
    "                question_id = q_data.get('question_id', q_path.stem)\n",
    "\n",
    "                # 2. 질문 분류 (기존에 정의된 classify_query 함수 사용)\n",
    "                label, label_text = classify_query(question_text)\n",
    "\n",
    "                # 3. 답변 파일 생성\n",
    "                # 웹 UI가 질문(q_id)에 맞는 답변(a_id)을 찾을 수 있도록 파일 이름을 맞춤\n",
    "                answer_id = question_id.replace('q_', 'a_')\n",
    "                answer_path = ANSWER_DIR / f\"{answer_id}.json\"\n",
    "                \n",
    "                answer_data = {\n",
    "                    'question_id': question_id,\n",
    "                    'original_question': question_text,\n",
    "                    'label': label,\n",
    "                    'label_text': label_text,\n",
    "                    'classified_at': datetime.now().isoformat()\n",
    "                }\n",
    "\n",
    "                # 답변 파일을 JSON 형식으로 저장\n",
    "                with answer_path.open('w', encoding='utf-8') as f:\n",
    "                    json.dump(answer_data, f, ensure_ascii=False, indent=2)\n",
    "\n",
    "                # 4. 처리 완료된 질문 파일을 processed 폴더로 이동\n",
    "                shutil.move(str(q_path), PROCESSED_DIR / q_path.name)\n",
    "                \n",
    "                # 5. 노트북에 처리 로그 출력\n",
    "                clear_output(wait=True) # 이전 출력 지우기\n",
    "                print(f\"'{QUESTION_DIR}' 폴더를 실시간으로 감지합니다...\")\n",
    "                print(\"노트북 셀을 중단(Interrupt)하면 감지가 종료됩니다.\\n\")\n",
    "                print(f\"[{datetime.now().strftime('%Y-%m-%d %H:%M:%S')}] 처리 완료:\")\n",
    "                print(f\"  - 질문 ID: {question_id}\")\n",
    "                print(f\"  - 내   용: \\\"{question_text}\\\"\")\n",
    "                print(f\"  - 분   류: {label} ({label_text})\")\n",
    "                print(f\"  - 답변 파일: {answer_path}\\n\")\n",
    "                print(\"다음 질문을 기다립니다...\")\n",
    "\n",
    "            except Exception as e:\n",
    "                print(f\"파일 처리 중 오류 발생: {q_path.name}, 오류: {e}\")\n",
    "                # 오류 발생 시 해당 파일을 error 폴더로 이동\n",
    "                shutil.move(str(q_path), ERROR_DIR / q_path.name)\n",
    "\n",
    "# 사용자가 직접 셀 실행을 중단할 경우 (KeyboardInterrupt) 루프 종료\n",
    "except KeyboardInterrupt:\n",
    "    print(\"\\n실시간 분류 프로세스를 중단합니다.\")"
   ]
  }
 ],
 "metadata": {
  "accelerator": "GPU",
  "colab": {
   "gpuType": "T4",
   "provenance": []
  },
  "kernelspec": {
   "display_name": "Python 3 (ipykernel)",
   "language": "python",
   "name": "python3"
  },
  "language_info": {
   "codemirror_mode": {
    "name": "ipython",
    "version": 3
   },
   "file_extension": ".py",
   "mimetype": "text/x-python",
   "name": "python",
   "nbconvert_exporter": "python",
   "pygments_lexer": "ipython3",
   "version": "3.10.12"
  }
 },
 "nbformat": 4,
 "nbformat_minor": 5
}
