{
 "cells": [
  {
   "cell_type": "code",
   "execution_count": null,
   "metadata": {},
   "outputs": [],
   "source": [
    "# generate cls_output.json from test_cls.json\n",
    "import subprocess\n",
    "subprocess.run(['python', '-m', 'src.evaluation.generate_cls_output'], check=True)"
   ]
  }
 ],
 "metadata": {},
 "nbformat": 4,
 "nbformat_minor": 5
}
