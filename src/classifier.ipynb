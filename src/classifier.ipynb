{
 "cells": [
  {
   "cell_type": "code",
   "execution_count": 1,
   "id": "2cf7d92edb9231de",
   "metadata": {},
   "outputs": [
    {
     "data": {
      "application/vnd.jupyter.widget-view+json": {
       "model_id": "a4bb625e54f447ca9ffafc82827a3e46",
       "version_major": 2,
       "version_minor": 0
      },
      "text/plain": [
       "Loading checkpoint shards:   0%|          | 0/8 [00:00<?, ?it/s]"
      ]
     },
     "metadata": {},
     "output_type": "display_data"
    },
    {
     "name": "stdout",
     "output_type": "stream",
     "text": [
      "질문: 오늘 학식 뭐 나와?\n",
      "투표 결과: Counter({3: 5}), 최종 선택: 3\n",
      "입력: 오늘 학식 뭐 나와?\n",
      "예측: 3 (식단 안내)\n"
     ]
    }
   ],
   "source": [
    "import torch\n",
    "from transformers import AutoTokenizer, AutoModelForCausalLM, BitsAndBytesConfig\n",
    "import difflib\n",
    "import random\n",
    "from collections import Counter\n",
    "\n",
    "# 1. 모델 및 토크나이저 로드 (기존과 동일)\n",
    "model_name = \"Qwen/Qwen3-14B\"\n",
    "# model_name = \"dnotitia/DNA-R1\"\n",
    "\n",
    "bnb_config = BitsAndBytesConfig(\n",
    "    load_in_4bit=True,\n",
    "    bnb_4bit_use_double_quant=True,\n",
    "    bnb_4bit_quant_type=\"nf4\",\n",
    "    bnb_4bit_compute_dtype=torch.bfloat16\n",
    ")\n",
    "\n",
    "tokenizer = AutoTokenizer.from_pretrained(model_name)\n",
    "model = AutoModelForCausalLM.from_pretrained(\n",
    "    model_name,\n",
    "    quantization_config=bnb_config,\n",
    "    device_map=\"auto\"\n",
    ")\n",
    "\n",
    "# 'categories' 딕셔너리가 함수 외부 또는 전역 스코프에 정의되어 있어야 합니다.\n",
    "categories = {\n",
    "    0: \"졸업요건\",\n",
    "    1: \"학교 공지사항\",\n",
    "    2: \"학사일정\",\n",
    "    3: \"식단 안내\",\n",
    "    4: \"통학/셔틀 버스\"\n",
    "}\n",
    "\n",
    "def _get_single_llm_prediction(user_query):\n",
    "    # 1. 프롬프트를 'system'과 'user' 역할로 분리합니다.\n",
    "    system_prompt = \"당신은 주어진 학교 관련 질문을 사전 정의된 5개의 카테고리 중 하나로 분류하는 AI 분류기입니다. 오직 숫자 레이블 하나만 응답해야 합니다.\"\n",
    "\n",
    "    user_prompt = f\"\"\"다음은 사용자 질문과 관련된 카테고리 목록입니다:\n",
    "0: 졸업요건 (예: 졸업까지 몇 학점을 들어야 하나요?)\n",
    "1: 학교 공지사항 (예: 이번에 올라온 공지사항 어디서 볼 수 있어요?)\n",
    "2: 학사일정 (예: 이번 학기 수강신청은 언제 시작하나요?)\n",
    "3: 식단 안내 (예: 오늘 학식 뭐 나와요?)\n",
    "4: 통학/셔틀 버스 (예: 다음주에 셔틀버스는 정상 운행하나요?)\n",
    "\n",
    "사용자 질문: \"{user_query}\"\n",
    "\n",
    "위 질문은 어떤 카테고리에 가장 적합한가요? 숫자 레이블만 대답해주세요 (0, 1, 2, 3, 4 중 하나).\n",
    "\n",
    "가장 적합한 카테고리 번호:\"\"\"\n",
    "\n",
    "    messages = [\n",
    "        {\"role\": \"system\", \"content\": system_prompt},\n",
    "        {\"role\": \"user\", \"content\": user_prompt}\n",
    "    ]\n",
    "\n",
    "    # 2. Qwen2의 채팅 템플릿을 적용하여 모델이 이해하는 형식으로 변환합니다.\n",
    "    text = tokenizer.apply_chat_template(\n",
    "        messages,\n",
    "        tokenize=False,\n",
    "        add_generation_prompt=True,\n",
    "        enable_thinking=False\n",
    "    )\n",
    "\n",
    "    # 3. 변환된 텍스트를 토큰화합니다.\n",
    "    model_inputs = tokenizer([text], return_tensors=\"pt\").to(model.device)\n",
    "\n",
    "    # Qwen2 토크나이저에 pad_token이 없을 수 있으므로 eos_token으로 설정해주는 것이 안전합니다.\n",
    "    if tokenizer.pad_token is None:\n",
    "        tokenizer.pad_token = tokenizer.eos_token\n",
    "\n",
    "    # 4. 모델을 통해 답변을 생성합니다. (기존 generate 파라미터 유지)\n",
    "    generated_ids = model.generate(\n",
    "        model_inputs.input_ids,\n",
    "        max_new_tokens=5,\n",
    "        eos_token_id=tokenizer.eos_token_id,\n",
    "        pad_token_id=tokenizer.pad_token_id,\n",
    "        do_sample=True,\n",
    "        temperature=0.5,\n",
    "        top_p=0.9\n",
    "    )\n",
    "\n",
    "    # 5. 입력 부분을 제외하고 순수하게 생성된 부분만 디코딩합니다.\n",
    "    # 제공해주신 Qwen2 예제 코드의 디코딩 방식을 적용합니다.\n",
    "    input_ids_len = model_inputs.input_ids.shape[1]\n",
    "    response_ids = generated_ids[:, input_ids_len:]\n",
    "\n",
    "    response_text = tokenizer.batch_decode(response_ids, skip_special_tokens=True)[0].strip()\n",
    "\n",
    "    #print(f\"모델에서 추출한 response_text(label 파싱 전): {response_text}\")\n",
    "    \n",
    "    # 6. 응답에서 숫자 레이블을 파싱합니다. (기존 로직과 동일)\n",
    "    try:\n",
    "        predicted_label_str = ''.join(filter(str.isdigit, response_text))\n",
    "        if predicted_label_str:\n",
    "            predicted_label = int(predicted_label_str[0])\n",
    "            if predicted_label in categories:\n",
    "                return predicted_label\n",
    "    except (ValueError, IndexError):\n",
    "        # 파싱에 실패한 경우\n",
    "        return None\n",
    "\n",
    "    # 유효한 카테고리 번호가 아닌 경우\n",
    "    return None\n",
    "\n",
    "\n",
    "def _fallback_classify_by_similarity(user_query):\n",
    "    \"\"\"\n",
    "    LLM 예측 실패 시, 키워드 유사도 기반으로 분류하는 Fallback 함수입니다.\n",
    "    \"\"\"\n",
    "    category_examples = {\n",
    "        0: \"졸업 요건, 졸업 학점, 졸업 논문, 졸업 자격, 졸업 인증, 유예 신청, 졸업 필수 조건\",\n",
    "        1: \"학교 공지사항, 안내문, 공고, 공지 업데이트, 휴강 안내, 장학금 공지, 긴급 알림\",\n",
    "        2: \"수강 신청, 시험 기간, 성적 발표, 개강일, 종강일, 학사 일정, 수업 일정, 등록 일정\",\n",
    "        3: \"학식, 학생 식당, 식단표, 조식, 중식, 석식, 오늘 메뉴, 급식 시간, 식단 운영\",\n",
    "        4: \"셔틀버스, 통학버스, 운행 시간표, 버스 노선, 정류장 위치, 셔틀 예약, 통학 교통\"\n",
    "    }\n",
    "\n",
    "    best_score = -1\n",
    "    best_label = random.randint(0, 4) # 만약을 대비한 기본값\n",
    "    for label, example in category_examples.items():\n",
    "        score = difflib.SequenceMatcher(None, user_query, example).ratio()\n",
    "        if score > best_score:\n",
    "            best_score = score\n",
    "            best_label = label\n",
    "\n",
    "    return best_label\n",
    "\n",
    "\n",
    "def classify_query(user_query, num_votes=5):\n",
    "    \"\"\"\n",
    "    사용자 질의를 입력받아 Voting 앙상블 기법으로 카테고리를 분류합니다.\n",
    "\n",
    "    Args:\n",
    "        user_query (str): 사용자 질문\n",
    "        num_votes (int): 앙상블에 사용할 투표 횟수 (홀수를 추천)\n",
    "\n",
    "    Returns:\n",
    "        tuple: (예측된 레이블, 예측된 카테고리 이름)\n",
    "    \"\"\"\n",
    "    votes = []\n",
    "    # 1. 정해진 횟수만큼 LLM에게 예측을 요청하여 투표 수집\n",
    "    for _ in range(num_votes):\n",
    "        prediction = _get_single_llm_prediction(user_query)\n",
    "        #print(f\"get single llm prediction의 결과물: {prediction}\")\n",
    "        if prediction is not None:\n",
    "            votes.append(prediction)\n",
    "\n",
    "    # 2. 투표 결과 분석\n",
    "    if votes:\n",
    "        # 가장 많이 나온 투표 결과를 선택 (다수결)\n",
    "        counter = Counter(votes)\n",
    "        # most_common(1)은 [(가장 흔한 항목, 횟수)] 형태의 리스트를 반환\n",
    "        best_label = counter.most_common(1)[0][0]\n",
    "        print(f\"질문: {user_query}\")\n",
    "        print(f\"투표 결과: {counter}, 최종 선택: {best_label}\")\n",
    "    else:\n",
    "        # 3. LLM이 모든 예측에 실패한 경우, Fallback 로직 실행\n",
    "        print(\"LLM 예측이 모두 실패하여 유사도 기반 Fallback 로직을 실행합니다.\")\n",
    "        best_label = _fallback_classify_by_similarity(user_query)\n",
    "\n",
    "    return best_label, categories[best_label]\n",
    "\n",
    "if __name__ == \"__main__\":\n",
    "    q = \"오늘 학식 뭐 나와?\"\n",
    "    label, category = classify_query(q)\n",
    "    print(f\"입력: {q}\\n예측: {label} ({category})\")"
   ]
  },
  {
   "cell_type": "code",
   "execution_count": 2,
   "id": "5878a457-1f13-461a-941c-da451d268919",
   "metadata": {},
   "outputs": [
    {
     "name": "stdout",
     "output_type": "stream",
     "text": [
      "질문: 오늘 학식 뭐 나와?\n",
      "투표 결과: Counter({3: 5}), 최종 선택: 3\n",
      "2025-06-20 09:16:19.869 | INFO     | src.answers.meals_answer:get_context:184 - 20250620 날짜의 로컬 식단 정보를 사용합니다.\n",
      "찾은 식단 정보: 메뉴운영내역, 운영안함, 운영안함 등\n"
     ]
    }
   ],
   "source": [
    "import sys\n",
    "from pathlib import Path\n",
    "project_root = str(Path.cwd().parent)\n",
    "if project_root not in sys.path:\n",
    "    sys.path.insert(0, project_root)\n",
    "from src.answers import academic_calendar_answer,shuttle_bus_answer,graduation_req_answer,meals_answer,notices_answer\n",
    "\n",
    "from typing import List, Dict, Any\n",
    "import json\n",
    "import torch\n",
    "from threading import Thread\n",
    "from transformers import AutoTokenizer, AutoModelForCausalLM, TextIteratorStreamer, BitsAndBytesConfig\n",
    "from utils.config import settings\n",
    "\n",
    "\n",
    "def format_meals_context(docs: List[Dict[str, Any]]) -> List[str]:\n",
    "    formatted_texts = []\n",
    "    for doc in docs:\n",
    "        meal = doc.get(\"meal\", \"\")\n",
    "        menu = doc.get(\"menu\", \"운영안함\").replace(\"\\n\", \", \")\n",
    "        if menu != \"운영안함\":\n",
    "            formatted_texts.append(f\"[{meal}] {menu}\")\n",
    "    return formatted_texts\n",
    "\n",
    "\n",
    "class HybridRetriever:\n",
    "    def retrieve(self, query: str) -> List[str]:\n",
    "        return []\n",
    "\n",
    "\n",
    "class PromptBuilder:\n",
    "    def build(self, question: str, docs: List[str]) -> str:\n",
    "        context = \"\".join(docs) if docs else \"참고할 정보가 없습니다.\"\n",
    "        prompt = f\"\"\"당신은 충남대학교 관련 정보를 안내하는 챗봇입니다.\n",
    "주어진 '참고 자료'를 근거로 사용자의 질문에 명확하고 친절하게 답변해야 합니다.\n",
    "참고 자료에 없는 내용은 답변에 포함하지 마세요.\n",
    "\n",
    "[참고 자료]\n",
    "{context}\n",
    "\n",
    "[질문]\n",
    "{question}\n",
    "\n",
    "[답변]\n",
    "\"\"\"\n",
    "        return prompt.strip()\n",
    "\n",
    "\n",
    "class AnswerGenerator:\n",
    "    def __init__(self) -> None:\n",
    "        self.model_type = settings.generator_model_type\n",
    "        self.model = None\n",
    "        self.tokenizer = None\n",
    "        self.client = None\n",
    "        self.streamer = None\n",
    "        bnb_config = BitsAndBytesConfig(\n",
    "            load_in_4bit=True,\n",
    "            bnb_4bit_use_double_quant=True,\n",
    "            bnb_4bit_quant_type=\"nf4\",\n",
    "            bnb_4bit_compute_dtype=torch.bfloat16,\n",
    "        )\n",
    "        if self.model_type == \"local\":\n",
    "            model_name = settings.generator_model_name_or_path\n",
    "            self.tokenizer = AutoTokenizer.from_pretrained(model_name)\n",
    "            self.model = AutoModelForCausalLM.from_pretrained(\n",
    "                model_name,\n",
    "                device_map=\"auto\" if torch.cuda.is_available() else \"cpu\",\n",
    "                torch_dtype=torch.bfloat16,\n",
    "                use_safetensors=True,\n",
    "                quantization_config=bnb_config,\n",
    "            )\n",
    "            self.streamer = TextIteratorStreamer(\n",
    "                self.tokenizer, skip_prompt=True, skip_special_tokens=True\n",
    "            )\n",
    "            print(f\"✅ Local Generator Model Loaded: {model_name}\")\n",
    "\n",
    "    def generate(self, question: str, docs: List[Dict[str, Any]], max_new_tokens: int = 512, temperature: float = 0.0):\n",
    "        if docs and isinstance(docs[0], dict) and \"menu\" in docs[0]:\n",
    "            doc_texts = format_meals_context(docs)\n",
    "        else:\n",
    "            doc_texts = [json.dumps(d, ensure_ascii=False) for d in docs]\n",
    "        prompt = PromptBuilder().build(question, doc_texts)\n",
    "\n",
    "        if self.model_type == \"local\" and self.model and self.tokenizer:\n",
    "            inputs = self.tokenizer(prompt, return_tensors=\"pt\").to(self.model.device)\n",
    "            generation_kwargs = dict(\n",
    "                input_ids=inputs.input_ids,\n",
    "                streamer=self.streamer,\n",
    "                max_new_tokens=max_new_tokens,\n",
    "                do_sample=temperature > 0.0,\n",
    "                temperature=temperature if temperature > 0.0 else None,\n",
    "            )\n",
    "            thread = Thread(target=self.model.generate, kwargs=generation_kwargs)\n",
    "            thread.start()\n",
    "            for token in self.streamer:\n",
    "                yield token\n",
    "            return\n",
    "        yield \"답변 생성 모델이 올바르게 설정되지 않았습니다.\"\n",
    "\n",
    "\n",
    "ANSWER_HANDLERS = {\n",
    "    0: graduation_req_answer.generate_answer,\n",
    "    1: notices_answer.generate_answer,\n",
    "    2: academic_calendar_answer.generate_answer,\n",
    "    3: meals_answer.generate_answer,\n",
    "    4: shuttle_bus_answer.generate_answer,\n",
    "}\n",
    "\n",
    "def generate_response(question: str) -> str:\n",
    "    label, _ = classify_query(question)\n",
    "    handler = ANSWER_HANDLERS.get(label)\n",
    "    if handler:\n",
    "        return handler(question)\n",
    "    retriever = HybridRetriever()\n",
    "    docs = retriever.retrieve(question)\n",
    "    generator = AnswerGenerator()\n",
    "    return ''.join(generator.generate(question, docs))\n",
    "\n",
    "sample_question = '오늘 학식 뭐 나와?'\n",
    "print(generate_response(sample_question))\n"
   ]
  },
  {
   "cell_type": "code",
   "execution_count": null,
   "id": "e421ce51-b4e7-44a1-8dfb-530191149afa",
   "metadata": {
    "id": "e421ce51-b4e7-44a1-8dfb-530191149afa",
    "scrolled": true
   },
   "outputs": [
    {
     "name": "stderr",
     "output_type": "stream",
     "text": [
      "randomized_korean_questions_result.json:   0%|                                      | 0/104 [00:00<?, ?it/s]"
     ]
    },
    {
     "name": "stdout",
     "output_type": "stream",
     "text": [
      "질문: 셔틀버스는 휴일에도 운행하나요?\n",
      "투표 결과: Counter({4: 5}), 최종 선택: 4\n"
     ]
    },
    {
     "name": "stderr",
     "output_type": "stream",
     "text": [
      "randomized_korean_questions_result.json:   1%|▎                             | 1/104 [00:04<07:20,  4.28s/it]"
     ]
    },
    {
     "name": "stdout",
     "output_type": "stream",
     "text": [
      "질문: 셔틀버스는 휴일에도 운행하나요?\n",
      "투표 결과: Counter({4: 5}), 최종 선택: 4\n",
      "생성된 대답: 셔틀버스 정보 예시: 교내 순환 (대덕캠퍼스 내) 08:20 (월평역) 등교 8:30 9:30 9:40 10:30 11:30 13:30 14:30 15:30 16:30 17:30; 캠퍼스 순환 (대덕캠퍼스 ↔ 보운캠퍼스) 8:10 (출발, 골프연습장) 8:50 (회차 보운캠퍼스) 미운영 등\n",
      "질문: 2학기 개강일은 언제예요?\n",
      "투표 결과: Counter({2: 5}), 최종 선택: 2\n",
      "질문: 2학기 개강일은 언제예요?\n",
      "투표 결과: Counter({2: 5}), 최종 선택: 2\n"
     ]
    },
    {
     "name": "stderr",
     "output_type": "stream",
     "text": [
      "randomized_korean_questions_result.json:   2%|▌                             | 2/104 [00:08<07:41,  4.53s/it]"
     ]
    },
    {
     "name": "stdout",
     "output_type": "stream",
     "text": [
      "생성된 대답: 학사일정 정보를 찾지 못했습니다.\n",
      "질문: 통학버스 요금은 얼마예요?\n",
      "투표 결과: Counter({4: 5}), 최종 선택: 4\n"
     ]
    },
    {
     "name": "stderr",
     "output_type": "stream",
     "text": [
      "randomized_korean_questions_result.json:   3%|▊                             | 3/104 [00:11<06:12,  3.69s/it]"
     ]
    },
    {
     "name": "stdout",
     "output_type": "stream",
     "text": [
      "질문: 통학버스 요금은 얼마예요?\n",
      "투표 결과: Counter({4: 5}), 최종 선택: 4\n",
      "생성된 대답: 셔틀버스 정보 예시: 교내 순환 (대덕캠퍼스 내) 08:20 (월평역) 등교 8:30 9:30 9:40 10:30 11:30 13:30 14:30 15:30 16:30 17:30; 캠퍼스 순환 (대덕캠퍼스 ↔ 보운캠퍼스) 8:10 (출발, 골프연습장) 8:50 (회차 보운캠퍼스) 미운영; 교내 순환 (유성캠퍼스 내) 08:30 17:30 ① 정심화 국제문화회관 ⟶ ② 사회과\n",
      "              학대학 입구(한누리회관 뒤) → ③ 서문(\n",
      "              공동실험실습관 앞) ⟶ ④ 음악 2호관 앞\n",
      "              ⟶ ⑤ 공동동물실험센터(회차) ⟶ ⑥ 체\n",
      "              육관 입구 → ⑦ 예술대학 앞 ⟶ ⑧ 도서\n",
      "              관 앞(대학본부 옆 농대방향) ⟶ ⑨ 학생\n",
      "              생활관 3거리 ⟶ ⑩ 농업생명과학대학\n",
      "              앞 ⟶ ⑪ 동문주차장 ⟶ ⑫ 농업생명과\n",
      "              학대학 앞 ⟶ ⑬ 도서관 앞(도서관삼거리\n",
      "              방향) ⟶ ⑭ 예술대학 앞 → ⑮ 서문(공동\n",
      "              실험실습관 앞) ⟶ ⑯ 사회과학대학 입\n",
      "              구(한누리회관 뒤) → ⑰ 산학연교육연 구관 앞 → ⑱ 정심화 국제문화회관 ※ 오전(등교) 1회만 월평역 출발(정심화 국제문화회관 하차(종점), 시간표 참조) 10회 학기 중 운영 (총 150일) 등\n",
      "질문: 학교 메인 공지사항 어디에 있나요?\n",
      "투표 결과: Counter({1: 5}), 최종 선택: 1\n",
      "질문: 학교 메인 공지사항 어디에 있나요?\n",
      "투표 결과: Counter({1: 5}), 최종 선택: 1\n"
     ]
    },
    {
     "name": "stderr",
     "output_type": "stream",
     "text": [
      "randomized_korean_questions_result.json:   4%|█                          | 4/104 [07:04<4:35:13, 165.14s/it]"
     ]
    },
    {
     "name": "stdout",
     "output_type": "stream",
     "text": [
      "생성된 대답: 죄송하지만 해당 정보는 직접 공지사항을 확인하셔야 합니다.\n",
      "최신 공지사항입니다\n",
      "- 2025학년도 제2학기 등록금 납부 안내\n",
      "- 2025학년도 제1학기 기말 강의평가 실시 안내\n",
      "- 2025학년도 제1학기 성적공시 안내\n",
      "질문: 계절학기 신청은 언제부터예요?\n",
      "투표 결과: Counter({2: 5}), 최종 선택: 2\n",
      "질문: 계절학기 신청은 언제부터예요?\n",
      "투표 결과: Counter({2: 5}), 최종 선택: 2\n"
     ]
    },
    {
     "name": "stderr",
     "output_type": "stream",
     "text": [
      "randomized_korean_questions_result.json:   5%|█▎                         | 5/104 [07:09<2:57:10, 107.38s/it]"
     ]
    },
    {
     "name": "stdout",
     "output_type": "stream",
     "text": [
      "생성된 대답: 학사일정 정보를 찾지 못했습니다.\n",
      "질문: 다음 주 셔틀버스 시간표 바뀌었나요?\n",
      "투표 결과: Counter({4: 5}), 최종 선택: 4\n"
     ]
    },
    {
     "name": "stderr",
     "output_type": "stream",
     "text": [
      "randomized_korean_questions_result.json:   6%|█▌                          | 6/104 [07:13<1:58:05, 72.30s/it]"
     ]
    },
    {
     "name": "stdout",
     "output_type": "stream",
     "text": [
      "질문: 다음 주 셔틀버스 시간표 바뀌었나요?\n",
      "투표 결과: Counter({4: 5}), 최종 선택: 4\n",
      "생성된 대답: 셔틀버스 정보 예시: 교내 순환 (대덕캠퍼스 내) 08:20 (월평역) 등교 8:30 9:30 9:40 10:30 11:30 13:30 14:30 15:30 16:30 17:30; 캠퍼스 순환 (대덕캠퍼스 ↔ 보운캠퍼스) 8:10 (출발, 골프연습장) 8:50 (회차 보운캠퍼스) 미운영 등\n",
      "질문: 오늘 학생회관 저녁은 뭐예요?\n",
      "투표 결과: Counter({3: 5}), 최종 선택: 3\n"
     ]
    },
    {
     "name": "stderr",
     "output_type": "stream",
     "text": [
      "randomized_korean_questions_result.json:   7%|█▉                          | 7/104 [07:17<1:20:57, 50.07s/it]"
     ]
    },
    {
     "name": "stdout",
     "output_type": "stream",
     "text": [
      "질문: 오늘 학생회관 저녁은 뭐예요?\n",
      "투표 결과: Counter({3: 5}), 최종 선택: 3\n",
      "2025-06-20 09:23:37.667 | INFO     | src.answers.meals_answer:get_context:184 - 20250620 날짜의 로컬 식단 정보를 사용합니다.\n",
      "생성된 대답: 찾은 식단 정보: 운영안함, 정식(6000)\n",
      "\n",
      "파인애플야채볶음밥(pork included)\n",
      "맑은장국\n",
      "치킨까스(chicken included)\n",
      "청양간장미니돈까스무침(pork included)\n",
      "리카토니바질톳샐러드\n",
      "배추김치, 운영안함 등\n",
      "질문: 졸업 심사 서류는 어디서 제출해요?\n",
      "투표 결과: Counter({0: 5}), 최종 선택: 0\n"
     ]
    },
    {
     "name": "stderr",
     "output_type": "stream",
     "text": [
      "randomized_korean_questions_result.json:   8%|██▎                           | 8/104 [07:21<56:44, 35.46s/it]"
     ]
    },
    {
     "name": "stdout",
     "output_type": "stream",
     "text": [
      "질문: 졸업 심사 서류는 어디서 제출해요?\n",
      "투표 결과: Counter({0: 5}), 최종 선택: 0\n",
      "생성된 대답: 졸업요건 정보를 찾지 못했습니다.\n",
      "질문: 졸업이 연기되면 따로 신청해야 하나요?\n",
      "투표 결과: Counter({0: 5}), 최종 선택: 0\n"
     ]
    },
    {
     "name": "stderr",
     "output_type": "stream",
     "text": [
      "randomized_korean_questions_result.json:   9%|██▌                           | 9/104 [07:24<39:54, 25.20s/it]"
     ]
    },
    {
     "name": "stdout",
     "output_type": "stream",
     "text": [
      "질문: 졸업이 연기되면 따로 신청해야 하나요?\n",
      "투표 결과: Counter({0: 5}), 최종 선택: 0\n",
      "생성된 대답: 졸업요건 정보를 찾지 못했습니다.\n",
      "질문: 오늘 식단 중에 채식 메뉴 있나요?\n",
      "투표 결과: Counter({3: 5}), 최종 선택: 3\n"
     ]
    },
    {
     "name": "stderr",
     "output_type": "stream",
     "text": [
      "randomized_korean_questions_result.json:  10%|██▊                          | 10/104 [07:28<29:18, 18.70s/it]"
     ]
    },
    {
     "name": "stdout",
     "output_type": "stream",
     "text": [
      "질문: 오늘 식단 중에 채식 메뉴 있나요?\n",
      "투표 결과: Counter({3: 5}), 최종 선택: 3\n",
      "2025-06-20 09:23:48.640 | INFO     | src.answers.meals_answer:get_context:184 - 20250620 날짜의 로컬 식단 정보를 사용합니다.\n",
      "생성된 대답: 찾은 식단 정보: 메뉴운영내역, 운영안함, 운영안함 등\n",
      "질문: 이번 주말 셔틀버스 배차 계획 있어요?\n",
      "투표 결과: Counter({4: 5}), 최종 선택: 4\n"
     ]
    },
    {
     "name": "stderr",
     "output_type": "stream",
     "text": [
      "randomized_korean_questions_result.json:  11%|███                          | 11/104 [07:32<22:03, 14.24s/it]"
     ]
    },
    {
     "name": "stdout",
     "output_type": "stream",
     "text": [
      "질문: 이번 주말 셔틀버스 배차 계획 있어요?\n",
      "투표 결과: Counter({4: 5}), 최종 선택: 4\n",
      "생성된 대답: 셔틀버스 정보 예시: 교내 순환 (대덕캠퍼스 내) 08:20 (월평역) 등교 8:30 9:30 9:40 10:30 11:30 13:30 14:30 15:30 16:30 17:30; 캠퍼스 순환 (대덕캠퍼스 ↔ 보운캠퍼스) 8:10 (출발, 골프연습장) 8:50 (회차 보운캠퍼스) 미운영; 교내 순환 (유성캠퍼스 내) 08:30 17:30 ① 정심화 국제문화회관 ⟶ ② 사회과\n",
      "              학대학 입구(한누리회관 뒤) → ③ 서문(\n",
      "              공동실험실습관 앞) ⟶ ④ 음악 2호관 앞\n",
      "              ⟶ ⑤ 공동동물실험센터(회차) ⟶ ⑥ 체\n",
      "              육관 입구 → ⑦ 예술대학 앞 ⟶ ⑧ 도서\n",
      "              관 앞(대학본부 옆 농대방향) ⟶ ⑨ 학생\n",
      "              생활관 3거리 ⟶ ⑩ 농업생명과학대학\n",
      "              앞 ⟶ ⑪ 동문주차장 ⟶ ⑫ 농업생명과\n",
      "              학대학 앞 ⟶ ⑬ 도서관 앞(도서관삼거리\n",
      "              방향) ⟶ ⑭ 예술대학 앞 → ⑮ 서문(공동\n",
      "              실험실습관 앞) ⟶ ⑯ 사회과학대학 입\n",
      "              구(한누리회관 뒤) → ⑰ 산학연교육연 구관 앞 → ⑱ 정심화 국제문화회관 ※ 오전(등교) 1회만 월평역 출발(정심화 국제문화회관 하차(종점), 시간표 참조) 10회 학기 중 운영 (총 150일) 등\n",
      "질문: 학기 중에 휴학할 수 있어요?\n",
      "투표 결과: Counter({0: 5}), 최종 선택: 0\n"
     ]
    },
    {
     "name": "stderr",
     "output_type": "stream",
     "text": [
      "randomized_korean_questions_result.json:  12%|███▎                         | 12/104 [07:37<17:11, 11.21s/it]"
     ]
    },
    {
     "name": "stdout",
     "output_type": "stream",
     "text": [
      "질문: 학기 중에 휴학할 수 있어요?\n",
      "투표 결과: Counter({0: 5}), 최종 선택: 0\n",
      "생성된 대답: 졸업요건 정보를 찾지 못했습니다.\n",
      "질문: 학생 식당 오늘 메뉴 확인할 수 있어요?\n",
      "투표 결과: Counter({3: 5}), 최종 선택: 3\n"
     ]
    },
    {
     "name": "stderr",
     "output_type": "stream",
     "text": [
      "randomized_korean_questions_result.json:  12%|███▋                         | 13/104 [07:41<13:49,  9.11s/it]"
     ]
    },
    {
     "name": "stdout",
     "output_type": "stream",
     "text": [
      "질문: 학생 식당 오늘 메뉴 확인할 수 있어요?\n",
      "투표 결과: Counter({3: 5}), 최종 선택: 3\n",
      "2025-06-20 09:24:01.315 | INFO     | src.answers.meals_answer:get_context:184 - 20250620 날짜의 로컬 식단 정보를 사용합니다.\n",
      "생성된 대답: 찾은 식단 정보: 메뉴운영내역, 운영안함, 운영안함 등\n",
      "질문: 학교 공지사항 업데이트 시간은 정해져 있어요?\n",
      "투표 결과: Counter({1: 5}), 최종 선택: 1\n",
      "질문: 학교 공지사항 업데이트 시간은 정해져 있어요?\n",
      "투표 결과: Counter({1: 5}), 최종 선택: 1\n"
     ]
    },
    {
     "name": "stderr",
     "output_type": "stream",
     "text": [
      "randomized_korean_questions_result.json:  13%|███▌                      | 14/104 [14:42<3:20:27, 133.64s/it]"
     ]
    },
    {
     "name": "stdout",
     "output_type": "stream",
     "text": [
      "생성된 대답: 최신 공지사항입니다\n",
      "- 2025학년도 제2학기 등록금 납부 안내\n",
      "- 2025학년도 대전혜광학교 여름계절학교 교육봉사자 모집\n",
      "- 2025학년도 후기 에너지과학기술대학원 면접고사 일정 및 장소안내\n",
      "질문: 수강 정정 기간은 언제예요?\n",
      "투표 결과: Counter({2: 5}), 최종 선택: 2\n",
      "질문: 수강 정정 기간은 언제예요?\n",
      "투표 결과: Counter({2: 5}), 최종 선택: 2\n"
     ]
    },
    {
     "name": "stderr",
     "output_type": "stream",
     "text": [
      "randomized_korean_questions_result.json:  14%|███▉                       | 15/104 [14:47<2:20:37, 94.80s/it]"
     ]
    },
    {
     "name": "stdout",
     "output_type": "stream",
     "text": [
      "생성된 대답: 학사일정 정보를 찾지 못했습니다.\n",
      "질문: 이번 주에 셔틀버스 감차 운행하나요?\n",
      "투표 결과: Counter({4: 5}), 최종 선택: 4\n"
     ]
    },
    {
     "name": "stderr",
     "output_type": "stream",
     "text": [
      "randomized_korean_questions_result.json:  15%|████▏                      | 16/104 [14:51<1:39:03, 67.54s/it]"
     ]
    },
    {
     "name": "stdout",
     "output_type": "stream",
     "text": [
      "질문: 이번 주에 셔틀버스 감차 운행하나요?\n",
      "투표 결과: Counter({4: 5}), 최종 선택: 4\n",
      "생성된 대답: 셔틀버스 정보 예시: 교내 순환 (대덕캠퍼스 내) 08:20 (월평역) 등교 8:30 9:30 9:40 10:30 11:30 13:30 14:30 15:30 16:30 17:30; 캠퍼스 순환 (대덕캠퍼스 ↔ 보운캠퍼스) 8:10 (출발, 골프연습장) 8:50 (회차 보운캠퍼스) 미운영 등\n",
      "질문: 이번 학기 전과 신청 기간은 언제예요?\n",
      "투표 결과: Counter({2: 5}), 최종 선택: 2\n",
      "질문: 이번 학기 전과 신청 기간은 언제예요?\n",
      "투표 결과: Counter({2: 5}), 최종 선택: 2\n"
     ]
    },
    {
     "name": "stderr",
     "output_type": "stream",
     "text": [
      "randomized_korean_questions_result.json:  16%|████▍                      | 17/104 [14:56<1:10:28, 48.60s/it]"
     ]
    },
    {
     "name": "stdout",
     "output_type": "stream",
     "text": [
      "생성된 대답: 학사일정 정보를 찾지 못했습니다.\n",
      "질문: 이번 학기 등록금 납부 마감일이 언제예요?\n",
      "투표 결과: Counter({1: 5}), 최종 선택: 1\n",
      "질문: 이번 학기 등록금 납부 마감일이 언제예요?\n",
      "투표 결과: Counter({1: 3, 2: 2}), 최종 선택: 1\n"
     ]
    },
    {
     "name": "stderr",
     "output_type": "stream",
     "text": [
      "randomized_korean_questions_result.json:  17%|████▌                     | 18/104 [23:17<4:24:43, 184.69s/it]"
     ]
    },
    {
     "name": "stdout",
     "output_type": "stream",
     "text": [
      "생성된 대답: 최신 공지사항입니다\n",
      "- 2025학년도 제2학기 등록금 납부 안내\n",
      "- 2025학년도 제1학기 기말 강의평가 실시 안내\n",
      "- 2025학년도 제1학기 성적공시 안내\n",
      "질문: 셔틀버스는 방학 때도 운행하나요?\n",
      "투표 결과: Counter({4: 5}), 최종 선택: 4\n"
     ]
    },
    {
     "name": "stderr",
     "output_type": "stream",
     "text": [
      "randomized_korean_questions_result.json:  18%|████▊                     | 19/104 [23:22<3:04:58, 130.57s/it]"
     ]
    },
    {
     "name": "stdout",
     "output_type": "stream",
     "text": [
      "질문: 셔틀버스는 방학 때도 운행하나요?\n",
      "투표 결과: Counter({4: 5}), 최종 선택: 4\n",
      "생성된 대답: 셔틀버스 정보 예시: 교내 순환 (대덕캠퍼스 내) 08:20 (월평역) 등교 8:30 9:30 9:40 10:30 11:30 13:30 14:30 15:30 16:30 17:30; 캠퍼스 순환 (대덕캠퍼스 ↔ 보운캠퍼스) 8:10 (출발, 골프연습장) 8:50 (회차 보운캠퍼스) 미운영 등\n",
      "질문: 내일 학식 국이 뭔지 알 수 있어요?\n",
      "투표 결과: Counter({3: 5}), 최종 선택: 3\n"
     ]
    },
    {
     "name": "stderr",
     "output_type": "stream",
     "text": [
      "randomized_korean_questions_result.json:  19%|█████▏                     | 20/104 [23:25<2:09:05, 92.21s/it]"
     ]
    },
    {
     "name": "stdout",
     "output_type": "stream",
     "text": [
      "질문: 내일 학식 국이 뭔지 알 수 있어요?\n",
      "투표 결과: Counter({3: 5}), 최종 선택: 3\n",
      "2025-06-20 09:39:45.069 | INFO     | src.answers.meals_answer:get_context:184 - 20250621 날짜의 로컬 식단 정보를 사용합니다.\n",
      "생성된 대답: 찾은 식단 정보:  등\n",
      "질문: 오늘 2학생회관 메뉴는 뭐예요?\n",
      "투표 결과: Counter({3: 5}), 최종 선택: 3\n"
     ]
    },
    {
     "name": "stderr",
     "output_type": "stream",
     "text": [
      "randomized_korean_questions_result.json:  20%|█████▍                     | 21/104 [23:29<1:31:00, 65.79s/it]"
     ]
    },
    {
     "name": "stdout",
     "output_type": "stream",
     "text": [
      "질문: 오늘 2학생회관 메뉴는 뭐예요?\n",
      "투표 결과: Counter({3: 5}), 최종 선택: 3\n",
      "2025-06-20 09:39:49.268 | INFO     | src.answers.meals_answer:get_context:184 - 20250620 날짜의 로컬 식단 정보를 사용합니다.\n",
      "생성된 대답: 찾은 식단 정보: 메뉴운영내역, 정식(1000)\n",
      "\n",
      "참치김치찌개\n",
      "돈탕수육(pork included)\n",
      "청경채겉절이\n",
      "깍두기, 정식(6000)\n",
      "\n",
      "보리열무비빔밥\n",
      "건새우아욱국\n",
      "왕떡갈비(pork included)\n",
      "쑥앙금절편\n",
      "배추김치 등\n",
      "질문: 졸업인증 외국어 시험 필수예요?\n",
      "투표 결과: Counter({0: 5}), 최종 선택: 0\n"
     ]
    },
    {
     "name": "stderr",
     "output_type": "stream",
     "text": [
      "randomized_korean_questions_result.json:  21%|█████▋                     | 22/104 [23:33<1:04:40, 47.32s/it]"
     ]
    },
    {
     "name": "stdout",
     "output_type": "stream",
     "text": [
      "질문: 졸업인증 외국어 시험 필수예요?\n",
      "투표 결과: Counter({0: 5}), 최종 선택: 0\n",
      "생성된 대답: 졸업요건 정보를 찾지 못했습니다.\n",
      "질문: 성적 발표일은 언제예요?\n",
      "투표 결과: Counter({2: 5}), 최종 선택: 2\n",
      "질문: 성적 발표일은 언제예요?\n",
      "투표 결과: Counter({2: 5}), 최종 선택: 2\n"
     ]
    },
    {
     "name": "stderr",
     "output_type": "stream",
     "text": [
      "randomized_korean_questions_result.json:  22%|██████▍                      | 23/104 [23:38<46:34, 34.50s/it]"
     ]
    },
    {
     "name": "stdout",
     "output_type": "stream",
     "text": [
      "생성된 대답: 학사일정 정보를 찾지 못했습니다.\n",
      "질문: 오늘 아침 학식 뭐 나왔어요?\n",
      "투표 결과: Counter({3: 5}), 최종 선택: 3\n"
     ]
    },
    {
     "name": "stderr",
     "output_type": "stream",
     "text": [
      "randomized_korean_questions_result.json:  23%|██████▋                      | 24/104 [23:42<33:55, 25.44s/it]"
     ]
    },
    {
     "name": "stdout",
     "output_type": "stream",
     "text": [
      "질문: 오늘 아침 학식 뭐 나왔어요?\n",
      "투표 결과: Counter({3: 5}), 최종 선택: 3\n",
      "2025-06-20 09:40:02.414 | INFO     | src.answers.meals_answer:get_context:184 - 20250620 날짜의 로컬 식단 정보를 사용합니다.\n",
      "생성된 대답: 찾은 식단 정보: 메뉴운영내역, 운영안함, 운영안함 등\n",
      "질문: 셔틀버스 예약 시스템 있어요?\n",
      "투표 결과: Counter({4: 5}), 최종 선택: 4\n"
     ]
    },
    {
     "name": "stderr",
     "output_type": "stream",
     "text": [
      "randomized_korean_questions_result.json:  24%|██████▉                      | 25/104 [23:46<25:06, 19.07s/it]"
     ]
    },
    {
     "name": "stdout",
     "output_type": "stream",
     "text": [
      "질문: 셔틀버스 예약 시스템 있어요?\n",
      "투표 결과: Counter({4: 5}), 최종 선택: 4\n",
      "생성된 대답: 셔틀버스 정보 예시: 교내 순환 (대덕캠퍼스 내) 08:20 (월평역) 등교 8:30 9:30 9:40 10:30 11:30 13:30 14:30 15:30 16:30 17:30; 캠퍼스 순환 (대덕캠퍼스 ↔ 보운캠퍼스) 8:10 (출발, 골프연습장) 8:50 (회차 보운캠퍼스) 미운영; 교내 순환 (유성캠퍼스 내) 08:30 17:30 ① 정심화 국제문화회관 ⟶ ② 사회과\n",
      "              학대학 입구(한누리회관 뒤) → ③ 서문(\n",
      "              공동실험실습관 앞) ⟶ ④ 음악 2호관 앞\n",
      "              ⟶ ⑤ 공동동물실험센터(회차) ⟶ ⑥ 체\n",
      "              육관 입구 → ⑦ 예술대학 앞 ⟶ ⑧ 도서\n",
      "              관 앞(대학본부 옆 농대방향) ⟶ ⑨ 학생\n",
      "              생활관 3거리 ⟶ ⑩ 농업생명과학대학\n",
      "              앞 ⟶ ⑪ 동문주차장 ⟶ ⑫ 농업생명과\n",
      "              학대학 앞 ⟶ ⑬ 도서관 앞(도서관삼거리\n",
      "              방향) ⟶ ⑭ 예술대학 앞 → ⑮ 서문(공동\n",
      "              실험실습관 앞) ⟶ ⑯ 사회과학대학 입\n",
      "              구(한누리회관 뒤) → ⑰ 산학연교육연 구관 앞 → ⑱ 정심화 국제문화회관 ※ 오전(등교) 1회만 월평역 출발(정심화 국제문화회관 하차(종점), 시간표 참조) 10회 학기 중 운영 (총 150일) 등\n",
      "질문: 통학버스 출발 시간은 어떻게 돼요?\n",
      "투표 결과: Counter({4: 5}), 최종 선택: 4\n"
     ]
    },
    {
     "name": "stderr",
     "output_type": "stream",
     "text": [
      "randomized_korean_questions_result.json:  25%|███████▎                     | 26/104 [23:50<18:59, 14.61s/it]"
     ]
    },
    {
     "name": "stdout",
     "output_type": "stream",
     "text": [
      "질문: 통학버스 출발 시간은 어떻게 돼요?\n",
      "투표 결과: Counter({4: 5}), 최종 선택: 4\n",
      "생성된 대답: 셔틀버스 정보 예시: 교내 순환 (대덕캠퍼스 내) 08:20 (월평역) 등교 8:30 9:30 9:40 10:30 11:30 13:30 14:30 15:30 16:30 17:30; 캠퍼스 순환 (대덕캠퍼스 ↔ 보운캠퍼스) 8:10 (출발, 골프연습장) 8:50 (회차 보운캠퍼스) 미운영 등\n",
      "질문: 다음 주 공지 중에 변경된 거 있어요?\n",
      "투표 결과: Counter({1: 5}), 최종 선택: 1\n",
      "질문: 다음 주 공지 중에 변경된 거 있어요?\n",
      "투표 결과: Counter({1: 5}), 최종 선택: 1\n"
     ]
    },
    {
     "name": "stderr",
     "output_type": "stream",
     "text": [
      "randomized_korean_questions_result.json:  26%|██████▊                   | 27/104 [29:42<2:28:38, 115.82s/it]"
     ]
    },
    {
     "name": "stdout",
     "output_type": "stream",
     "text": [
      "생성된 대답: 최신 공지사항입니다\n",
      "- CNU포털\n",
      "- 교직부\n",
      "- 산학종합정보시스템\n",
      "질문: 졸업 요건 중 영어 인증 기준은 뭐예요?\n",
      "투표 결과: Counter({0: 5}), 최종 선택: 0\n"
     ]
    },
    {
     "name": "stderr",
     "output_type": "stream",
     "text": [
      "randomized_korean_questions_result.json:  27%|███████▎                   | 28/104 [29:47<1:44:24, 82.43s/it]"
     ]
    },
    {
     "name": "stdout",
     "output_type": "stream",
     "text": [
      "질문: 졸업 요건 중 영어 인증 기준은 뭐예요?\n",
      "투표 결과: Counter({0: 5}), 최종 선택: 0\n",
      "생성된 대답: 졸업요건 정보를 찾지 못했습니다.\n",
      "질문: 졸업 관련 상담은 어디서 받아요?\n",
      "투표 결과: Counter({0: 5}), 최종 선택: 0\n"
     ]
    },
    {
     "name": "stderr",
     "output_type": "stream",
     "text": [
      "randomized_korean_questions_result.json:  28%|███████▌                   | 29/104 [29:51<1:13:42, 58.97s/it]"
     ]
    },
    {
     "name": "stdout",
     "output_type": "stream",
     "text": [
      "질문: 졸업 관련 상담은 어디서 받아요?\n",
      "투표 결과: Counter({0: 5}), 최종 선택: 0\n",
      "생성된 대답: 졸업요건 정보를 찾지 못했습니다.\n",
      "질문: 졸업 필수 자격증이 있나요?\n",
      "투표 결과: Counter({0: 5}), 최종 선택: 0\n"
     ]
    },
    {
     "name": "stderr",
     "output_type": "stream",
     "text": [
      "randomized_korean_questions_result.json:  29%|████████▎                    | 30/104 [29:54<51:55, 42.10s/it]"
     ]
    },
    {
     "name": "stdout",
     "output_type": "stream",
     "text": [
      "질문: 졸업 필수 자격증이 있나요?\n",
      "투표 결과: Counter({0: 5}), 최종 선택: 0\n",
      "생성된 대답: 졸업요건 정보를 찾지 못했습니다.\n",
      "질문: 졸업 유예 신청은 어디서 해요?\n",
      "투표 결과: Counter({0: 5}), 최종 선택: 0\n"
     ]
    },
    {
     "name": "stderr",
     "output_type": "stream",
     "text": [
      "randomized_korean_questions_result.json:  30%|████████▋                    | 31/104 [29:58<37:25, 30.75s/it]"
     ]
    },
    {
     "name": "stdout",
     "output_type": "stream",
     "text": [
      "질문: 졸업 유예 신청은 어디서 해요?\n",
      "투표 결과: Counter({0: 5}), 최종 선택: 0\n",
      "생성된 대답: 졸업요건 정보를 찾지 못했습니다.\n",
      "질문: 오늘 3학생회관 조식 나왔나요?\n",
      "투표 결과: Counter({3: 5}), 최종 선택: 3\n",
      "질문: 오늘 3학생회관 조식 나왔나요?\n",
      "투표 결과: Counter({3: 5}), 최종 선택: 3\n",
      "2025-06-20 09:46:22.782 | INFO     | src.answers.meals_answer:get_context:184 - 20250620 날짜의 로컬 식단 정보를 사용합니다.\n"
     ]
    },
    {
     "name": "stderr",
     "output_type": "stream",
     "text": [
      "randomized_korean_questions_result.json:  31%|████████▉                    | 32/104 [30:04<27:44, 23.12s/it]"
     ]
    },
    {
     "name": "stdout",
     "output_type": "stream",
     "text": [
      "생성된 대답: 찾은 식단 정보: 정식(4000)\n",
      "\n",
      "카레라이스\n",
      "맑은우동국물\n",
      "군만두(pork included)\n",
      "배추김치, 운영안함 등\n",
      "질문: 식당 운영 시간은 몇 시까지예요?\n",
      "투표 결과: Counter({3: 5}), 최종 선택: 3\n"
     ]
    },
    {
     "name": "stderr",
     "output_type": "stream",
     "text": [
      "randomized_korean_questions_result.json:  32%|█████████▏                   | 33/104 [30:08<20:42, 17.51s/it]"
     ]
    },
    {
     "name": "stdout",
     "output_type": "stream",
     "text": [
      "질문: 식당 운영 시간은 몇 시까지예요?\n",
      "투표 결과: Counter({3: 5}), 최종 선택: 3\n",
      "2025-06-20 09:46:28.288 | INFO     | src.answers.meals_answer:get_context:184 - 20250620 날짜의 로컬 식단 정보를 사용합니다.\n",
      "생성된 대답: 2025-06-20 일을 말씀하시는 게 맞을까요?\n",
      "질문: 학교 홈페이지에 공지 올리는 주체는 누구예요?\n",
      "투표 결과: Counter({1: 5}), 최종 선택: 1\n",
      "질문: 학교 홈페이지에 공지 올리는 주체는 누구예요?\n",
      "투표 결과: Counter({1: 5}), 최종 선택: 1\n"
     ]
    },
    {
     "name": "stderr",
     "output_type": "stream",
     "text": [
      "randomized_korean_questions_result.json:  33%|████████▌                 | 34/104 [36:33<2:28:58, 127.69s/it]"
     ]
    },
    {
     "name": "stdout",
     "output_type": "stream",
     "text": [
      "생성된 대답: 최신 공지사항입니다\n",
      "- 2025학년도 제2학기 등록금 납부 안내\n",
      "- 2025학년도 제1학기 기말 강의평가 실시 안내\n",
      "- 2025학년도 제1학기 성적공시 안내\n",
      "질문: 기숙사 신청 공고 나왔나요?\n",
      "투표 결과: Counter({1: 5}), 최종 선택: 1\n",
      "질문: 기숙사 신청 공고 나왔나요?\n",
      "투표 결과: Counter({1: 5}), 최종 선택: 1\n"
     ]
    },
    {
     "name": "stderr",
     "output_type": "stream",
     "text": [
      "randomized_korean_questions_result.json:  34%|████████▊                 | 35/104 [42:18<3:42:00, 193.05s/it]"
     ]
    },
    {
     "name": "stdout",
     "output_type": "stream",
     "text": [
      "생성된 대답: 최신 공지사항입니다\n",
      "- 2025학년도 제2학기 등록금 납부 안내\n",
      "- 2025학년도 제1학기 기말 강의평가 실시 안내\n",
      "- 2025학년도 제1학기 성적공시 안내\n",
      "질문: 기숙사 식단도 학생 식당이랑 같아요?\n",
      "투표 결과: Counter({3: 5}), 최종 선택: 3\n"
     ]
    },
    {
     "name": "stderr",
     "output_type": "stream",
     "text": [
      "randomized_korean_questions_result.json:  35%|█████████                 | 36/104 [42:23<2:34:40, 136.47s/it]"
     ]
    },
    {
     "name": "stdout",
     "output_type": "stream",
     "text": [
      "질문: 기숙사 식단도 학생 식당이랑 같아요?\n",
      "투표 결과: Counter({3: 5}), 최종 선택: 3\n",
      "2025-06-20 09:58:43.090 | INFO     | src.answers.meals_answer:get_context:184 - 20250620 날짜의 로컬 식단 정보를 사용합니다.\n",
      "생성된 대답: 2025-06-20 일을 말씀하시는 게 맞을까요?\n",
      "질문: 졸업 이수 학점 기준이 어떻게 돼요?\n",
      "투표 결과: Counter({0: 5}), 최종 선택: 0\n"
     ]
    },
    {
     "name": "stderr",
     "output_type": "stream",
     "text": [
      "randomized_korean_questions_result.json:  36%|█████████▌                 | 37/104 [42:27<1:48:06, 96.81s/it]"
     ]
    },
    {
     "name": "stdout",
     "output_type": "stream",
     "text": [
      "질문: 졸업 이수 학점 기준이 어떻게 돼요?\n",
      "투표 결과: Counter({0: 5}), 최종 선택: 0\n",
      "생성된 대답: 졸업요건 정보를 찾지 못했습니다.\n",
      "질문: 휴일엔 학식 운영 안 하나요?\n",
      "투표 결과: Counter({3: 5}), 최종 선택: 3\n"
     ]
    },
    {
     "name": "stderr",
     "output_type": "stream",
     "text": [
      "randomized_korean_questions_result.json:  37%|█████████▊                 | 38/104 [42:31<1:15:55, 69.02s/it]"
     ]
    },
    {
     "name": "stdout",
     "output_type": "stream",
     "text": [
      "질문: 휴일엔 학식 운영 안 하나요?\n",
      "투표 결과: Counter({3: 5}), 최종 선택: 3\n",
      "2025-06-20 09:58:51.537 | INFO     | src.answers.meals_answer:get_context:184 - 20250620 날짜의 로컬 식단 정보를 사용합니다.\n",
      "생성된 대답: 2025-06-20 일을 말씀하시는 게 맞을까요?\n",
      "질문: 학교 식단에 알레르기 정보도 나오나요?\n",
      "투표 결과: Counter({3: 5}), 최종 선택: 3\n"
     ]
    },
    {
     "name": "stderr",
     "output_type": "stream",
     "text": [
      "randomized_korean_questions_result.json:  38%|██████████▉                  | 39/104 [42:35<53:41, 49.57s/it]"
     ]
    },
    {
     "name": "stdout",
     "output_type": "stream",
     "text": [
      "질문: 학교 식단에 알레르기 정보도 나오나요?\n",
      "투표 결과: Counter({3: 5}), 최종 선택: 3\n",
      "2025-06-20 09:58:55.716 | INFO     | src.answers.meals_answer:get_context:184 - 20250620 날짜의 로컬 식단 정보를 사용합니다.\n",
      "생성된 대답: 2025-06-20 일을 말씀하시는 게 맞을까요?\n",
      "질문: 학교 통학버스 앱도 있어요?\n",
      "투표 결과: Counter({4: 5}), 최종 선택: 4\n"
     ]
    },
    {
     "name": "stderr",
     "output_type": "stream",
     "text": [
      "randomized_korean_questions_result.json:  38%|███████████▏                 | 40/104 [42:40<38:22, 35.97s/it]"
     ]
    },
    {
     "name": "stdout",
     "output_type": "stream",
     "text": [
      "질문: 학교 통학버스 앱도 있어요?\n",
      "투표 결과: Counter({4: 5}), 최종 선택: 4\n",
      "생성된 대답: 셔틀버스 정보 예시: 교내 순환 (대덕캠퍼스 내) 08:20 (월평역) 등교 8:30 9:30 9:40 10:30 11:30 13:30 14:30 15:30 16:30 17:30; 캠퍼스 순환 (대덕캠퍼스 ↔ 보운캠퍼스) 8:10 (출발, 골프연습장) 8:50 (회차 보운캠퍼스) 미운영; 교내 순환 (유성캠퍼스 내) 08:30 17:30 ① 정심화 국제문화회관 ⟶ ② 사회과\n",
      "              학대학 입구(한누리회관 뒤) → ③ 서문(\n",
      "              공동실험실습관 앞) ⟶ ④ 음악 2호관 앞\n",
      "              ⟶ ⑤ 공동동물실험센터(회차) ⟶ ⑥ 체\n",
      "              육관 입구 → ⑦ 예술대학 앞 ⟶ ⑧ 도서\n",
      "              관 앞(대학본부 옆 농대방향) ⟶ ⑨ 학생\n",
      "              생활관 3거리 ⟶ ⑩ 농업생명과학대학\n",
      "              앞 ⟶ ⑪ 동문주차장 ⟶ ⑫ 농업생명과\n",
      "              학대학 앞 ⟶ ⑬ 도서관 앞(도서관삼거리\n",
      "              방향) ⟶ ⑭ 예술대학 앞 → ⑮ 서문(공동\n",
      "              실험실습관 앞) ⟶ ⑯ 사회과학대학 입\n",
      "              구(한누리회관 뒤) → ⑰ 산학연교육연 구관 앞 → ⑱ 정심화 국제문화회관 ※ 오전(등교) 1회만 월평역 출발(정심화 국제문화회관 하차(종점), 시간표 참조) 10회 학기 중 운영 (총 150일) 등\n",
      "질문: 전공 필수 과목 목록은 어디서 확인해요?\n",
      "투표 결과: Counter({0: 5}), 최종 선택: 0\n"
     ]
    },
    {
     "name": "stderr",
     "output_type": "stream",
     "text": [
      "randomized_korean_questions_result.json:  39%|███████████▍                 | 41/104 [42:44<27:46, 26.45s/it]"
     ]
    },
    {
     "name": "stdout",
     "output_type": "stream",
     "text": [
      "질문: 전공 필수 과목 목록은 어디서 확인해요?\n",
      "투표 결과: Counter({0: 5}), 최종 선택: 0\n",
      "생성된 대답: 졸업요건 정보를 찾지 못했습니다.\n",
      "질문: 전공 과목 이수 기준은 어떻게 돼요?\n",
      "투표 결과: Counter({0: 5}), 최종 선택: 0\n"
     ]
    },
    {
     "name": "stderr",
     "output_type": "stream",
     "text": [
      "randomized_korean_questions_result.json:  40%|███████████▋                 | 42/104 [42:47<19:58, 19.33s/it]"
     ]
    },
    {
     "name": "stdout",
     "output_type": "stream",
     "text": [
      "질문: 전공 과목 이수 기준은 어떻게 돼요?\n",
      "투표 결과: Counter({0: 5}), 최종 선택: 0\n",
      "생성된 대답: 졸업요건 정보를 찾지 못했습니다.\n",
      "질문: 이번 주 학사 공지 어떤 게 있어요?\n",
      "투표 결과: Counter({1: 5}), 최종 선택: 1\n",
      "질문: 이번 주 학사 공지 어떤 게 있어요?\n",
      "투표 결과: Counter({1: 5}), 최종 선택: 1\n"
     ]
    },
    {
     "name": "stderr",
     "output_type": "stream",
     "text": [
      "randomized_korean_questions_result.json:  41%|██████████▊               | 43/104 [48:07<1:51:24, 109.57s/it]"
     ]
    },
    {
     "name": "stdout",
     "output_type": "stream",
     "text": [
      "생성된 대답: 최신 공지사항입니다\n",
      "- 2025학년도 제2학기 등록금 납부 안내\n",
      "- 2025학년도 제1학기 기말 강의평가 실시 안내\n",
      "- 2025학년도 제1학기 성적공시 안내\n",
      "질문: 교내버스 노선도 어디서 봐요?\n",
      "투표 결과: Counter({4: 5}), 최종 선택: 4\n"
     ]
    },
    {
     "name": "stderr",
     "output_type": "stream",
     "text": [
      "randomized_korean_questions_result.json:  42%|███████████▍               | 44/104 [48:11<1:18:01, 78.02s/it]"
     ]
    },
    {
     "name": "stdout",
     "output_type": "stream",
     "text": [
      "질문: 교내버스 노선도 어디서 봐요?\n",
      "투표 결과: Counter({4: 5}), 최종 선택: 4\n",
      "생성된 대답: 셔틀버스 정보 예시: 교내 순환 (유성캠퍼스 내) 08:30 17:30 ① 정심화 국제문화회관 ⟶ ② 사회과\n",
      "              학대학 입구(한누리회관 뒤) → ③ 서문(\n",
      "              공동실험실습관 앞) ⟶ ④ 음악 2호관 앞\n",
      "              ⟶ ⑤ 공동동물실험센터(회차) ⟶ ⑥ 체\n",
      "              육관 입구 → ⑦ 예술대학 앞 ⟶ ⑧ 도서\n",
      "              관 앞(대학본부 옆 농대방향) ⟶ ⑨ 학생\n",
      "              생활관 3거리 ⟶ ⑩ 농업생명과학대학\n",
      "              앞 ⟶ ⑪ 동문주차장 ⟶ ⑫ 농업생명과\n",
      "              학대학 앞 ⟶ ⑬ 도서관 앞(도서관삼거리\n",
      "              방향) ⟶ ⑭ 예술대학 앞 → ⑮ 서문(공동\n",
      "              실험실습관 앞) ⟶ ⑯ 사회과학대학 입\n",
      "              구(한누리회관 뒤) → ⑰ 산학연교육연 구관 앞 → ⑱ 정심화 국제문화회관 ※ 오전(등교) 1회만 월평역 출발(정심화 국제문화회관 하차(종점), 시간표 참조) 10회 학기 중 운영 (총 150일); 캠퍼스 순환 (대덕↔보운) 08:10(대덕) 08:50(보운) ①골프연습장 출발(08:10) → ②중앙도 서관(08:11) → ③산학연교육연구관(08: 12) → ④충남대학교입구 버스정류장(홈 플러스유성점방면)(08:13) → ⑤월평역( 08:15) → ⑥보운캠퍼스(회차, 08:50) → ⑦다솔아파트 건너편 → 제2학생회관 →\n",
      "              중앙도서관 → 골프연습장 도착 1회 (회차) 학기 중 운영 (총 150일) 등\n",
      "질문: 계절학기 등록은 어디서 신청해요?\n",
      "투표 결과: Counter({2: 5}), 최종 선택: 2\n",
      "질문: 계절학기 등록은 어디서 신청해요?\n",
      "투표 결과: Counter({2: 5}), 최종 선택: 2\n"
     ]
    },
    {
     "name": "stderr",
     "output_type": "stream",
     "text": [
      "randomized_korean_questions_result.json:  43%|████████████▌                | 45/104 [48:16<55:04, 56.01s/it]"
     ]
    },
    {
     "name": "stdout",
     "output_type": "stream",
     "text": [
      "생성된 대답: 학사일정 정보를 찾지 못했습니다.\n",
      "질문: 이번 주말에도 셔틀버스 운행해요?\n",
      "투표 결과: Counter({4: 5}), 최종 선택: 4\n"
     ]
    },
    {
     "name": "stderr",
     "output_type": "stream",
     "text": [
      "randomized_korean_questions_result.json:  44%|████████████▊                | 46/104 [48:20<39:06, 40.47s/it]"
     ]
    },
    {
     "name": "stdout",
     "output_type": "stream",
     "text": [
      "질문: 이번 주말에도 셔틀버스 운행해요?\n",
      "투표 결과: Counter({4: 5}), 최종 선택: 4\n",
      "생성된 대답: 셔틀버스 정보 예시: 교내 순환 (대덕캠퍼스 내) 08:20 (월평역) 등교 8:30 9:30 9:40 10:30 11:30 13:30 14:30 15:30 16:30 17:30; 캠퍼스 순환 (대덕캠퍼스 ↔ 보운캠퍼스) 8:10 (출발, 골프연습장) 8:50 (회차 보운캠퍼스) 미운영 등\n",
      "질문: 다음 학기 개설 과목은 언제 확인 가능해요?\n",
      "투표 결과: Counter({2: 5}), 최종 선택: 2\n",
      "질문: 다음 학기 개설 과목은 언제 확인 가능해요?\n",
      "투표 결과: Counter({2: 5}), 최종 선택: 2\n"
     ]
    },
    {
     "name": "stderr",
     "output_type": "stream",
     "text": [
      "randomized_korean_questions_result.json:  45%|█████████████                | 47/104 [48:23<27:45, 29.22s/it]"
     ]
    },
    {
     "name": "stdout",
     "output_type": "stream",
     "text": [
      "생성된 대답: 학사일정 정보를 찾지 못했습니다.\n",
      "질문: 식단에 대한 피드백은 어디로 보내요?\n",
      "투표 결과: Counter({3: 5}), 최종 선택: 3\n"
     ]
    },
    {
     "name": "stderr",
     "output_type": "stream",
     "text": [
      "randomized_korean_questions_result.json:  46%|█████████████▍               | 48/104 [48:27<20:17, 21.74s/it]"
     ]
    },
    {
     "name": "stdout",
     "output_type": "stream",
     "text": [
      "질문: 식단에 대한 피드백은 어디로 보내요?\n",
      "투표 결과: Counter({3: 5}), 최종 선택: 3\n",
      "2025-06-20 10:04:47.571 | INFO     | src.answers.meals_answer:get_context:184 - 20250620 날짜의 로컬 식단 정보를 사용합니다.\n",
      "생성된 대답: 2025-06-20 일을 말씀하시는 게 맞을까요?\n",
      "질문: 학과 공지랑 학교 공지는 어디서 구분돼요?\n",
      "투표 결과: Counter({1: 5}), 최종 선택: 1\n",
      "질문: 학과 공지랑 학교 공지는 어디서 구분돼요?\n",
      "투표 결과: Counter({1: 5}), 최종 선택: 1\n"
     ]
    },
    {
     "name": "stderr",
     "output_type": "stream",
     "text": [
      "randomized_korean_questions_result.json:  47%|████████████▎             | 49/104 [54:13<1:49:01, 118.93s/it]"
     ]
    },
    {
     "name": "stdout",
     "output_type": "stream",
     "text": [
      "생성된 대답: 최신 공지사항입니다\n",
      "- 2025학년도 제2학기 등록금 납부 안내\n",
      "- 2025학년도 제1학기 기말 강의평가 실시 안내\n",
      "- 2025학년도 제1학기 성적공시 안내\n",
      "질문: 이번 학기 공지 올라온 거 있어요?\n",
      "투표 결과: Counter({1: 5}), 최종 선택: 1\n",
      "질문: 이번 학기 공지 올라온 거 있어요?\n",
      "투표 결과: Counter({1: 5}), 최종 선택: 1\n"
     ]
    },
    {
     "name": "stderr",
     "output_type": "stream",
     "text": [
      "randomized_korean_questions_result.json:  48%|████████████▌             | 50/104 [57:43<2:11:43, 146.35s/it]"
     ]
    },
    {
     "name": "stdout",
     "output_type": "stream",
     "text": [
      "생성된 대답: 최신 공지사항입니다\n",
      "- 2025학년도 제2학기 등록금 납부 안내\n",
      "- 2025학년도 제1학기 기말 강의평가 실시 안내\n",
      "- 2025학년도 제1학기 성적공시 안내\n",
      "질문: 학교 점심 메뉴 정기적으로 바뀌어요?\n",
      "투표 결과: Counter({3: 5}), 최종 선택: 3\n"
     ]
    },
    {
     "name": "stderr",
     "output_type": "stream",
     "text": [
      "randomized_korean_questions_result.json:  49%|████████████▊             | 51/104 [57:48<1:31:38, 103.75s/it]"
     ]
    },
    {
     "name": "stdout",
     "output_type": "stream",
     "text": [
      "질문: 학교 점심 메뉴 정기적으로 바뀌어요?\n",
      "투표 결과: Counter({3: 5}), 최종 선택: 3\n",
      "2025-06-20 10:14:07.971 | INFO     | src.answers.meals_answer:get_context:184 - 20250620 날짜의 로컬 식단 정보를 사용합니다.\n",
      "생성된 대답: 2025-06-20 일을 말씀하시는 게 맞을까요?\n",
      "질문: 조기 졸업 요건이 어떻게 돼요?\n",
      "투표 결과: Counter({0: 5}), 최종 선택: 0\n"
     ]
    },
    {
     "name": "stderr",
     "output_type": "stream",
     "text": [
      "randomized_korean_questions_result.json:  50%|█████████████▌             | 52/104 [57:50<1:03:36, 73.40s/it]"
     ]
    },
    {
     "name": "stdout",
     "output_type": "stream",
     "text": [
      "질문: 조기 졸업 요건이 어떻게 돼요?\n",
      "투표 결과: Counter({0: 5}), 최종 선택: 0\n",
      "생성된 대답: 졸업요건 정보를 찾지 못했습니다.\n",
      "질문: 휴학 신청은 온라인으로 가능해요?\n",
      "투표 결과: Counter({0: 4, 1: 1}), 최종 선택: 0\n"
     ]
    },
    {
     "name": "stderr",
     "output_type": "stream",
     "text": [
      "randomized_korean_questions_result.json:  51%|██████████████▊              | 53/104 [57:54<44:44, 52.64s/it]"
     ]
    },
    {
     "name": "stdout",
     "output_type": "stream",
     "text": [
      "질문: 휴학 신청은 온라인으로 가능해요?\n",
      "투표 결과: Counter({0: 4, 1: 1}), 최종 선택: 0\n",
      "생성된 대답: 졸업요건 정보를 찾지 못했습니다.\n",
      "질문: 학점 인정 기준은 어떻게 돼요?\n",
      "투표 결과: Counter({0: 5}), 최종 선택: 0\n"
     ]
    },
    {
     "name": "stderr",
     "output_type": "stream",
     "text": [
      "randomized_korean_questions_result.json:  52%|███████████████              | 54/104 [57:59<31:46, 38.13s/it]"
     ]
    },
    {
     "name": "stdout",
     "output_type": "stream",
     "text": [
      "질문: 학점 인정 기준은 어떻게 돼요?\n",
      "투표 결과: Counter({0: 5}), 최종 선택: 0\n",
      "생성된 대답: 졸업요건 정보를 찾지 못했습니다.\n",
      "질문: 공지사항 게시판 위치가 어디예요?\n",
      "투표 결과: Counter({1: 5}), 최종 선택: 1\n",
      "질문: 공지사항 게시판 위치가 어디예요?\n",
      "투표 결과: Counter({1: 5}), 최종 선택: 1\n"
     ]
    },
    {
     "name": "stderr",
     "output_type": "stream",
     "text": [
      "randomized_korean_questions_result.json:  53%|█████████████▏           | 55/104 [1:01:55<1:19:35, 97.45s/it]"
     ]
    },
    {
     "name": "stdout",
     "output_type": "stream",
     "text": [
      "생성된 대답: 최신 공지사항입니다\n",
      "- 2025학년도 제2학기 등록금 납부 안내\n",
      "- 2025학년도 제1학기 기말 강의평가 실시 안내\n",
      "- 2025학년도 제1학기 성적공시 안내\n",
      "질문: 이번 주 식단에 특식 있는 날 있어요?\n",
      "투표 결과: Counter({3: 5}), 최종 선택: 3\n"
     ]
    },
    {
     "name": "stderr",
     "output_type": "stream",
     "text": [
      "randomized_korean_questions_result.json:  54%|██████████████▌            | 56/104 [1:01:57<55:13, 69.04s/it]"
     ]
    },
    {
     "name": "stdout",
     "output_type": "stream",
     "text": [
      "질문: 이번 주 식단에 특식 있는 날 있어요?\n",
      "투표 결과: Counter({3: 5}), 최종 선택: 3\n",
      "2025-06-20 10:18:17.626 | INFO     | src.answers.meals_answer:get_context:184 - 20250620 날짜의 로컬 식단 정보를 사용합니다.\n",
      "생성된 대답: 2025-06-20 일을 말씀하시는 게 맞을까요?\n",
      "질문: 오늘 학식에 국 종류는 뭐예요?\n",
      "투표 결과: Counter({3: 5}), 최종 선택: 3\n"
     ]
    },
    {
     "name": "stderr",
     "output_type": "stream",
     "text": [
      "randomized_korean_questions_result.json:  55%|██████████████▊            | 57/104 [1:02:01<38:50, 49.58s/it]"
     ]
    },
    {
     "name": "stdout",
     "output_type": "stream",
     "text": [
      "질문: 오늘 학식에 국 종류는 뭐예요?\n",
      "투표 결과: Counter({3: 5}), 최종 선택: 3\n",
      "2025-06-20 10:18:21.808 | INFO     | src.answers.meals_answer:get_context:184 - 20250620 날짜의 로컬 식단 정보를 사용합니다.\n",
      "생성된 대답: 찾은 식단 정보: 메뉴운영내역, 운영안함, 운영안함 등\n",
      "질문: 수강 신청 오류 해결 방법 아세요?\n",
      "투표 결과: Counter({2: 5}), 최종 선택: 2\n",
      "질문: 수강 신청 오류 해결 방법 아세요?\n",
      "투표 결과: Counter({2: 5}), 최종 선택: 2\n"
     ]
    },
    {
     "name": "stderr",
     "output_type": "stream",
     "text": [
      "randomized_korean_questions_result.json:  56%|███████████████            | 58/104 [1:02:06<27:44, 36.18s/it]"
     ]
    },
    {
     "name": "stdout",
     "output_type": "stream",
     "text": [
      "생성된 대답: 학사일정 정보를 찾지 못했습니다.\n",
      "질문: 휴강 공지 어디서 보나요?\n",
      "투표 결과: Counter({1: 5}), 최종 선택: 1\n",
      "질문: 휴강 공지 어디서 보나요?\n",
      "투표 결과: Counter({1: 5}), 최종 선택: 1\n"
     ]
    },
    {
     "name": "stderr",
     "output_type": "stream",
     "text": [
      "randomized_korean_questions_result.json:  57%|██████████████▏          | 59/104 [1:05:39<1:06:53, 89.19s/it]"
     ]
    },
    {
     "name": "stdout",
     "output_type": "stream",
     "text": [
      "생성된 대답: 최신 공지사항입니다\n",
      "- 2025학년도 제2학기 등록금 납부 안내\n",
      "- 2025학년도 제1학기 기말 강의평가 실시 안내\n",
      "- 2025학년도 제1학기 성적공시 안내\n",
      "질문: 통학버스 타려면 신청해야 하나요?\n",
      "투표 결과: Counter({4: 5}), 최종 선택: 4\n"
     ]
    },
    {
     "name": "stderr",
     "output_type": "stream",
     "text": [
      "randomized_korean_questions_result.json:  58%|███████████████▌           | 60/104 [1:05:43<46:42, 63.70s/it]"
     ]
    },
    {
     "name": "stdout",
     "output_type": "stream",
     "text": [
      "질문: 통학버스 타려면 신청해야 하나요?\n",
      "투표 결과: Counter({4: 5}), 최종 선택: 4\n",
      "생성된 대답: 셔틀버스 정보 예시: 교내 순환 (대덕캠퍼스 내) 08:20 (월평역) 등교 8:30 9:30 9:40 10:30 11:30 13:30 14:30 15:30 16:30 17:30; 캠퍼스 순환 (대덕캠퍼스 ↔ 보운캠퍼스) 8:10 (출발, 골프연습장) 8:50 (회차 보운캠퍼스) 미운영; 교내 순환 (유성캠퍼스 내) 08:30 17:30 ① 정심화 국제문화회관 ⟶ ② 사회과\n",
      "              학대학 입구(한누리회관 뒤) → ③ 서문(\n",
      "              공동실험실습관 앞) ⟶ ④ 음악 2호관 앞\n",
      "              ⟶ ⑤ 공동동물실험센터(회차) ⟶ ⑥ 체\n",
      "              육관 입구 → ⑦ 예술대학 앞 ⟶ ⑧ 도서\n",
      "              관 앞(대학본부 옆 농대방향) ⟶ ⑨ 학생\n",
      "              생활관 3거리 ⟶ ⑩ 농업생명과학대학\n",
      "              앞 ⟶ ⑪ 동문주차장 ⟶ ⑫ 농업생명과\n",
      "              학대학 앞 ⟶ ⑬ 도서관 앞(도서관삼거리\n",
      "              방향) ⟶ ⑭ 예술대학 앞 → ⑮ 서문(공동\n",
      "              실험실습관 앞) ⟶ ⑯ 사회과학대학 입\n",
      "              구(한누리회관 뒤) → ⑰ 산학연교육연 구관 앞 → ⑱ 정심화 국제문화회관 ※ 오전(등교) 1회만 월평역 출발(정심화 국제문화회관 하차(종점), 시간표 참조) 10회 학기 중 운영 (총 150일) 등\n",
      "질문: 학교 식당은 주말에도 운영하나요?\n",
      "투표 결과: Counter({3: 5}), 최종 선택: 3\n"
     ]
    },
    {
     "name": "stderr",
     "output_type": "stream",
     "text": [
      "randomized_korean_questions_result.json:  59%|███████████████▊           | 61/104 [1:05:48<32:53, 45.89s/it]"
     ]
    },
    {
     "name": "stdout",
     "output_type": "stream",
     "text": [
      "질문: 학교 식당은 주말에도 운영하나요?\n",
      "투표 결과: Counter({3: 5}), 최종 선택: 3\n",
      "2025-06-20 10:22:08.142 | INFO     | src.answers.meals_answer:get_context:184 - 20250620 날짜의 로컬 식단 정보를 사용합니다.\n",
      "생성된 대답: 2025-06-20 일을 말씀하시는 게 맞을까요?\n",
      "질문: 공지 알림 설정은 어디서 해요?\n",
      "투표 결과: Counter({1: 5}), 최종 선택: 1\n",
      "질문: 공지 알림 설정은 어디서 해요?\n",
      "투표 결과: Counter({1: 5}), 최종 선택: 1\n"
     ]
    },
    {
     "name": "stderr",
     "output_type": "stream",
     "text": [
      "randomized_korean_questions_result.json:  60%|██████████████▎         | 62/104 [1:09:42<1:11:44, 102.48s/it]"
     ]
    },
    {
     "name": "stdout",
     "output_type": "stream",
     "text": [
      "생성된 대답: 최신 공지사항입니다\n",
      "- 2025학년도 제2학기 등록금 납부 안내\n",
      "- 2025학년도 제1학기 기말 강의평가 실시 안내\n",
      "- 2025학년도 제1학기 성적공시 안내\n",
      "질문: 캡스톤디자인 제출일은 언제예요?\n",
      "투표 결과: Counter({2: 5}), 최종 선택: 2\n",
      "질문: 캡스톤디자인 제출일은 언제예요?\n",
      "투표 결과: Counter({2: 5}), 최종 선택: 2\n"
     ]
    },
    {
     "name": "stderr",
     "output_type": "stream",
     "text": [
      "randomized_korean_questions_result.json:  61%|████████████████▎          | 63/104 [1:09:47<50:01, 73.20s/it]"
     ]
    },
    {
     "name": "stdout",
     "output_type": "stream",
     "text": [
      "생성된 대답: 학사일정 정보를 찾지 못했습니다.\n",
      "질문: 1학기 개강일이 며칠이에요?\n",
      "투표 결과: Counter({2: 5}), 최종 선택: 2\n",
      "질문: 1학기 개강일이 며칠이에요?\n",
      "투표 결과: Counter({2: 5}), 최종 선택: 2\n"
     ]
    },
    {
     "name": "stderr",
     "output_type": "stream",
     "text": [
      "randomized_korean_questions_result.json:  62%|████████████████▌          | 64/104 [1:09:52<35:05, 52.64s/it]"
     ]
    },
    {
     "name": "stdout",
     "output_type": "stream",
     "text": [
      "생성된 대답: 학사일정 정보를 찾지 못했습니다.\n",
      "질문: 이번 학기 공휴일은 어떻게 돼요?\n",
      "투표 결과: Counter({2: 5}), 최종 선택: 2\n",
      "질문: 이번 학기 공휴일은 어떻게 돼요?\n",
      "투표 결과: Counter({2: 5}), 최종 선택: 2\n"
     ]
    },
    {
     "name": "stderr",
     "output_type": "stream",
     "text": [
      "randomized_korean_questions_result.json:  62%|████████████████▉          | 65/104 [1:09:57<24:51, 38.25s/it]"
     ]
    },
    {
     "name": "stdout",
     "output_type": "stream",
     "text": [
      "생성된 대답: 학사일정 정보를 찾지 못했습니다.\n",
      "질문: 2학기 중간고사 기간은 언제예요?\n",
      "투표 결과: Counter({2: 5}), 최종 선택: 2\n",
      "질문: 2학기 중간고사 기간은 언제예요?\n",
      "투표 결과: Counter({2: 5}), 최종 선택: 2\n"
     ]
    },
    {
     "name": "stderr",
     "output_type": "stream",
     "text": [
      "randomized_korean_questions_result.json:  63%|█████████████████▏         | 66/104 [1:10:01<17:49, 28.15s/it]"
     ]
    },
    {
     "name": "stdout",
     "output_type": "stream",
     "text": [
      "생성된 대답: 학사일정 정보를 찾지 못했습니다.\n",
      "질문: 이번 주 공지 중에 중요한 거 뭐 있어요?\n",
      "투표 결과: Counter({1: 5}), 최종 선택: 1\n",
      "질문: 이번 주 공지 중에 중요한 거 뭐 있어요?\n",
      "투표 결과: Counter({1: 5}), 최종 선택: 1\n"
     ]
    }
   ],
   "source": [
    "import json\n",
    "from pathlib import Path\n",
    "from tqdm import tqdm\n",
    "\n",
    "# data/question directory relative to this notebook\n",
    "base_dir = Path('../data/question') if Path('../data/question').exists() else Path('data/question')\n",
    "output_dir = Path('../outputs') if Path('../outputs').exists() else Path('outputs')\n",
    "output_dir.mkdir(parents=True, exist_ok=True)\n",
    "\n",
    "for path in base_dir.glob('*.json'):\n",
    "    with path.open('r', encoding='utf-8') as f:\n",
    "        questions_data = json.load(f)\n",
    "    results = []  # question-label pairs\n",
    "    qa_results = []  # question-answer pairs\n",
    "    for item in tqdm(questions_data, desc=path.name):\n",
    "        question = item['question']\n",
    "        label, _ = classify_query(question)  # VARCO 모델 사용\n",
    "        answer = generate_response(question)  # 모델이 생성한 대답\n",
    "        print(f\"생성된 대답: {answer}\")\n",
    "        results.append({'question': question, 'label': label})\n",
    "        qa_results.append({'question': question, 'answer': answer})\n",
    "    out_file = output_dir / f\"{path.stem}_output.json\"\n",
    "    qa_file = output_dir / f\"{path.stem}_answer_output.json\"\n",
    "    with out_file.open('w', encoding='utf-8') as f:\n",
    "        json.dump(results, f, ensure_ascii=False, indent=2)\n",
    "    with qa_file.open('w', encoding='utf-8') as f:\n",
    "        json.dump(qa_results, f, ensure_ascii=False, indent=2)\n",
    "    print(f'✅ {out_file} 저장 완료')\n",
    "    print(f'✅ {qa_file} 저장 완료')\n"
   ]
  },
  {
   "cell_type": "code",
   "execution_count": null,
   "id": "7b84323d-ee2f-4f72-9239-58ee5ce85aa5",
   "metadata": {},
   "outputs": [],
   "source": [
    "import time\n",
    "import json\n",
    "from pathlib import Path\n",
    "import shutil\n",
    "from IPython.display import display, clear_output\n",
    "from datetime import datetime\n",
    "\n",
    "# --- 1. 경로 설정 ---\n",
    "# 웹 UI가 질문을 저장하는 폴더 (입력)\n",
    "QUESTION_DIR = Path('../question')\n",
    "\n",
    "# 분류된 답변을 저장하는 폴더 (출력)\n",
    "ANSWER_DIR = Path('../answer')\n",
    "\n",
    "# 처리가 완료된 질문을 옮길 폴더\n",
    "PROCESSED_DIR = QUESTION_DIR / 'processed'\n",
    "\n",
    "# 오류 발생 시 질문을 옮길 폴더\n",
    "ERROR_DIR = QUESTION_DIR / 'error'\n",
    "\n",
    "# 폴더가 없는 경우 생성\n",
    "QUESTION_DIR.mkdir(exist_ok=True)\n",
    "ANSWER_DIR.mkdir(exist_ok=True)\n",
    "PROCESSED_DIR.mkdir(exist_ok=True)\n",
    "ERROR_DIR.mkdir(exist_ok=True)\n",
    "\n",
    "\n",
    "print(f\"'{QUESTION_DIR}' 폴더를 실시간으로 감지합니다...\")\n",
    "print(\"노트북 셀을 중단(Interrupt)하면 감지가 종료됩니다.\")\n",
    "\n",
    "# --- 2. 실시간 감지 및 처리 루프 ---\n",
    "try:\n",
    "    while True:\n",
    "        # question 폴더에서 아직 처리되지 않은 질문 파일 목록을 가져옴\n",
    "        # 파일 이름이 'q_'로 시작하는 json 파일만 대상으로 함\n",
    "        question_files = list(QUESTION_DIR.glob('q_*.json'))\n",
    "\n",
    "        # 처리할 파일이 없으면 5초 대기 후 다시 확인\n",
    "        if not question_files:\n",
    "            time.sleep(5)\n",
    "            continue\n",
    "\n",
    "        # 새로운 질문 파일을 하나씩 처리\n",
    "        for q_path in question_files:\n",
    "            try:\n",
    "                # 1. 질문 파일 읽기\n",
    "                with q_path.open('r', encoding='utf-8') as f:\n",
    "                    q_data = json.load(f)\n",
    "                \n",
    "                question_text = q_data.get('text', '')\n",
    "                question_id = q_data.get('question_id', q_path.stem)\n",
    "\n",
    "                # 2. 질문 분류 (기존에 정의된 classify_query 함수 사용)\n",
    "                label, label_text = classify_query(question_text)\n",
    "\n",
    "                # 3. 답변 파일 생성\n",
    "                # 웹 UI가 질문(q_id)에 맞는 답변(a_id)을 찾을 수 있도록 파일 이름을 맞춤\n",
    "                answer_id = question_id.replace('q_', 'a_')\n",
    "                answer_path = ANSWER_DIR / f\"{answer_id}.json\"\n",
    "                \n",
    "                answer_data = {\n",
    "                    'question_id': question_id,\n",
    "                    'original_question': question_text,\n",
    "                    'label': label,\n",
    "                    'label_text': label_text,\n",
    "                    'classified_at': datetime.now().isoformat()\n",
    "                }\n",
    "\n",
    "                # 답변 파일을 JSON 형식으로 저장\n",
    "                with answer_path.open('w', encoding='utf-8') as f:\n",
    "                    json.dump(answer_data, f, ensure_ascii=False, indent=2)\n",
    "\n",
    "                # 4. 처리 완료된 질문 파일을 processed 폴더로 이동\n",
    "                shutil.move(str(q_path), PROCESSED_DIR / q_path.name)\n",
    "                \n",
    "                # 5. 노트북에 처리 로그 출력\n",
    "                clear_output(wait=True) # 이전 출력 지우기\n",
    "                print(f\"'{QUESTION_DIR}' 폴더를 실시간으로 감지합니다...\")\n",
    "                print(\"노트북 셀을 중단(Interrupt)하면 감지가 종료됩니다.\\n\")\n",
    "                print(f\"[{datetime.now().strftime('%Y-%m-%d %H:%M:%S')}] 처리 완료:\")\n",
    "                print(f\"  - 질문 ID: {question_id}\")\n",
    "                print(f\"  - 내   용: \\\"{question_text}\\\"\")\n",
    "                print(f\"  - 분   류: {label} ({label_text})\")\n",
    "                print(f\"  - 답변 파일: {answer_path}\\n\")\n",
    "                print(\"다음 질문을 기다립니다...\")\n",
    "\n",
    "            except Exception as e:\n",
    "                print(f\"파일 처리 중 오류 발생: {q_path.name}, 오류: {e}\")\n",
    "                # 오류 발생 시 해당 파일을 error 폴더로 이동\n",
    "                shutil.move(str(q_path), ERROR_DIR / q_path.name)\n",
    "\n",
    "# 사용자가 직접 셀 실행을 중단할 경우 (KeyboardInterrupt) 루프 종료\n",
    "except KeyboardInterrupt:\n",
    "    print(\"\\n실시간 분류 프로세스를 중단합니다.\")"
   ]
  }
 ],
 "metadata": {
  "accelerator": "GPU",
  "colab": {
   "gpuType": "T4",
   "provenance": []
  },
  "kernelspec": {
   "display_name": "Python 3 (ipykernel)",
   "language": "python",
   "name": "python3"
  },
  "language_info": {
   "codemirror_mode": {
    "name": "ipython",
    "version": 3
   },
   "file_extension": ".py",
   "mimetype": "text/x-python",
   "name": "python",
   "nbconvert_exporter": "python",
   "pygments_lexer": "ipython3",
   "version": "3.10.12"
  }
 },
 "nbformat": 4,
 "nbformat_minor": 5
}
