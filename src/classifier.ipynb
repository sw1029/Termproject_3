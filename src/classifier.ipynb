{
 "cells": [
  {
   "cell_type": "code",
   "execution_count": 1,
   "id": "2433a10dd2a47b83",
   "metadata": {
    "scrolled": true
   },
   "outputs": [
    {
     "name": "stdout",
     "output_type": "stream",
     "text": [
      "Requirement already satisfied: torch==2.5.1 in /home/ysw/anaconda3/envs/term/lib/python3.10/site-packages (2.5.1)\n",
      "Requirement already satisfied: filelock in /home/ysw/.local/lib/python3.10/site-packages (from torch==2.5.1) (3.18.0)\n",
      "Requirement already satisfied: typing-extensions>=4.8.0 in /home/ysw/anaconda3/envs/term/lib/python3.10/site-packages (from torch==2.5.1) (4.14.0)\n",
      "Requirement already satisfied: networkx in /home/ysw/anaconda3/envs/term/lib/python3.10/site-packages (from torch==2.5.1) (3.4.2)\n",
      "Requirement already satisfied: jinja2 in /home/ysw/anaconda3/envs/term/lib/python3.10/site-packages (from torch==2.5.1) (3.1.6)\n",
      "Requirement already satisfied: fsspec in /home/ysw/anaconda3/envs/term/lib/python3.10/site-packages (from torch==2.5.1) (2025.5.1)\n",
      "Requirement already satisfied: nvidia-cuda-nvrtc-cu12==12.4.127 in /home/ysw/anaconda3/envs/term/lib/python3.10/site-packages (from torch==2.5.1) (12.4.127)\n",
      "Requirement already satisfied: nvidia-cuda-runtime-cu12==12.4.127 in /home/ysw/anaconda3/envs/term/lib/python3.10/site-packages (from torch==2.5.1) (12.4.127)\n",
      "Requirement already satisfied: nvidia-cuda-cupti-cu12==12.4.127 in /home/ysw/anaconda3/envs/term/lib/python3.10/site-packages (from torch==2.5.1) (12.4.127)\n",
      "Requirement already satisfied: nvidia-cudnn-cu12==9.1.0.70 in /home/ysw/anaconda3/envs/term/lib/python3.10/site-packages (from torch==2.5.1) (9.1.0.70)\n",
      "Requirement already satisfied: nvidia-cublas-cu12==12.4.5.8 in /home/ysw/anaconda3/envs/term/lib/python3.10/site-packages (from torch==2.5.1) (12.4.5.8)\n",
      "Requirement already satisfied: nvidia-cufft-cu12==11.2.1.3 in /home/ysw/anaconda3/envs/term/lib/python3.10/site-packages (from torch==2.5.1) (11.2.1.3)\n",
      "Requirement already satisfied: nvidia-curand-cu12==10.3.5.147 in /home/ysw/anaconda3/envs/term/lib/python3.10/site-packages (from torch==2.5.1) (10.3.5.147)\n",
      "Requirement already satisfied: nvidia-cusolver-cu12==11.6.1.9 in /home/ysw/anaconda3/envs/term/lib/python3.10/site-packages (from torch==2.5.1) (11.6.1.9)\n",
      "Requirement already satisfied: nvidia-cusparse-cu12==12.3.1.170 in /home/ysw/anaconda3/envs/term/lib/python3.10/site-packages (from torch==2.5.1) (12.3.1.170)\n",
      "Requirement already satisfied: nvidia-nccl-cu12==2.21.5 in /home/ysw/anaconda3/envs/term/lib/python3.10/site-packages (from torch==2.5.1) (2.21.5)\n",
      "Requirement already satisfied: nvidia-nvtx-cu12==12.4.127 in /home/ysw/anaconda3/envs/term/lib/python3.10/site-packages (from torch==2.5.1) (12.4.127)\n",
      "Requirement already satisfied: nvidia-nvjitlink-cu12==12.4.127 in /home/ysw/anaconda3/envs/term/lib/python3.10/site-packages (from torch==2.5.1) (12.4.127)\n",
      "Requirement already satisfied: triton==3.1.0 in /home/ysw/anaconda3/envs/term/lib/python3.10/site-packages (from torch==2.5.1) (3.1.0)\n",
      "Requirement already satisfied: sympy==1.13.1 in /home/ysw/anaconda3/envs/term/lib/python3.10/site-packages (from torch==2.5.1) (1.13.1)\n",
      "Requirement already satisfied: mpmath<1.4,>=1.1.0 in /home/ysw/anaconda3/envs/term/lib/python3.10/site-packages (from sympy==1.13.1->torch==2.5.1) (1.3.0)\n",
      "Requirement already satisfied: MarkupSafe>=2.0 in /home/ysw/anaconda3/envs/term/lib/python3.10/site-packages (from jinja2->torch==2.5.1) (3.0.2)\n"
     ]
    }
   ],
   "source": [
    "!pip install torch==2.5.1"
   ]
  },
  {
   "cell_type": "code",
   "execution_count": 5,
   "id": "7836ecf9-ab1b-4e4f-94cd-d29654876973",
   "metadata": {
    "scrolled": true
   },
   "outputs": [
    {
     "name": "stdout",
     "output_type": "stream",
     "text": [
      "Requirement already satisfied: bitsandbytes in /home/ysw/anaconda3/envs/term/lib/python3.10/site-packages (0.46.0)\n",
      "Requirement already satisfied: accelerate in /home/ysw/anaconda3/envs/term/lib/python3.10/site-packages (1.7.0)\n",
      "Requirement already satisfied: transformers in /home/ysw/anaconda3/envs/term/lib/python3.10/site-packages (4.52.4)\n",
      "Requirement already satisfied: torch<3,>=2.2 in /home/ysw/anaconda3/envs/term/lib/python3.10/site-packages (from bitsandbytes) (2.5.1)\n",
      "Requirement already satisfied: numpy>=1.17 in /home/ysw/anaconda3/envs/term/lib/python3.10/site-packages (from bitsandbytes) (2.2.6)\n",
      "Requirement already satisfied: filelock in /home/ysw/.local/lib/python3.10/site-packages (from torch<3,>=2.2->bitsandbytes) (3.18.0)\n",
      "Requirement already satisfied: typing-extensions>=4.8.0 in /home/ysw/anaconda3/envs/term/lib/python3.10/site-packages (from torch<3,>=2.2->bitsandbytes) (4.14.0)\n",
      "Requirement already satisfied: networkx in /home/ysw/anaconda3/envs/term/lib/python3.10/site-packages (from torch<3,>=2.2->bitsandbytes) (3.4.2)\n",
      "Requirement already satisfied: jinja2 in /home/ysw/anaconda3/envs/term/lib/python3.10/site-packages (from torch<3,>=2.2->bitsandbytes) (3.1.6)\n",
      "Requirement already satisfied: fsspec in /home/ysw/anaconda3/envs/term/lib/python3.10/site-packages (from torch<3,>=2.2->bitsandbytes) (2025.5.1)\n",
      "Requirement already satisfied: nvidia-cuda-nvrtc-cu12==12.4.127 in /home/ysw/anaconda3/envs/term/lib/python3.10/site-packages (from torch<3,>=2.2->bitsandbytes) (12.4.127)\n",
      "Requirement already satisfied: nvidia-cuda-runtime-cu12==12.4.127 in /home/ysw/anaconda3/envs/term/lib/python3.10/site-packages (from torch<3,>=2.2->bitsandbytes) (12.4.127)\n",
      "Requirement already satisfied: nvidia-cuda-cupti-cu12==12.4.127 in /home/ysw/anaconda3/envs/term/lib/python3.10/site-packages (from torch<3,>=2.2->bitsandbytes) (12.4.127)\n",
      "Requirement already satisfied: nvidia-cudnn-cu12==9.1.0.70 in /home/ysw/anaconda3/envs/term/lib/python3.10/site-packages (from torch<3,>=2.2->bitsandbytes) (9.1.0.70)\n",
      "Requirement already satisfied: nvidia-cublas-cu12==12.4.5.8 in /home/ysw/anaconda3/envs/term/lib/python3.10/site-packages (from torch<3,>=2.2->bitsandbytes) (12.4.5.8)\n",
      "Requirement already satisfied: nvidia-cufft-cu12==11.2.1.3 in /home/ysw/anaconda3/envs/term/lib/python3.10/site-packages (from torch<3,>=2.2->bitsandbytes) (11.2.1.3)\n",
      "Requirement already satisfied: nvidia-curand-cu12==10.3.5.147 in /home/ysw/anaconda3/envs/term/lib/python3.10/site-packages (from torch<3,>=2.2->bitsandbytes) (10.3.5.147)\n",
      "Requirement already satisfied: nvidia-cusolver-cu12==11.6.1.9 in /home/ysw/anaconda3/envs/term/lib/python3.10/site-packages (from torch<3,>=2.2->bitsandbytes) (11.6.1.9)\n",
      "Requirement already satisfied: nvidia-cusparse-cu12==12.3.1.170 in /home/ysw/anaconda3/envs/term/lib/python3.10/site-packages (from torch<3,>=2.2->bitsandbytes) (12.3.1.170)\n",
      "Requirement already satisfied: nvidia-nccl-cu12==2.21.5 in /home/ysw/anaconda3/envs/term/lib/python3.10/site-packages (from torch<3,>=2.2->bitsandbytes) (2.21.5)\n",
      "Requirement already satisfied: nvidia-nvtx-cu12==12.4.127 in /home/ysw/anaconda3/envs/term/lib/python3.10/site-packages (from torch<3,>=2.2->bitsandbytes) (12.4.127)\n",
      "Requirement already satisfied: nvidia-nvjitlink-cu12==12.4.127 in /home/ysw/anaconda3/envs/term/lib/python3.10/site-packages (from torch<3,>=2.2->bitsandbytes) (12.4.127)\n",
      "Requirement already satisfied: triton==3.1.0 in /home/ysw/anaconda3/envs/term/lib/python3.10/site-packages (from torch<3,>=2.2->bitsandbytes) (3.1.0)\n",
      "Requirement already satisfied: sympy==1.13.1 in /home/ysw/anaconda3/envs/term/lib/python3.10/site-packages (from torch<3,>=2.2->bitsandbytes) (1.13.1)\n",
      "Requirement already satisfied: mpmath<1.4,>=1.1.0 in /home/ysw/anaconda3/envs/term/lib/python3.10/site-packages (from sympy==1.13.1->torch<3,>=2.2->bitsandbytes) (1.3.0)\n",
      "Requirement already satisfied: packaging>=20.0 in /home/ysw/anaconda3/envs/term/lib/python3.10/site-packages (from accelerate) (25.0)\n",
      "Requirement already satisfied: psutil in /home/ysw/anaconda3/envs/term/lib/python3.10/site-packages (from accelerate) (7.0.0)\n",
      "Requirement already satisfied: pyyaml in /home/ysw/anaconda3/envs/term/lib/python3.10/site-packages (from accelerate) (6.0.2)\n",
      "Requirement already satisfied: huggingface-hub>=0.21.0 in /home/ysw/anaconda3/envs/term/lib/python3.10/site-packages (from accelerate) (0.32.4)\n",
      "Requirement already satisfied: safetensors>=0.4.3 in /home/ysw/anaconda3/envs/term/lib/python3.10/site-packages (from accelerate) (0.5.3)\n",
      "Requirement already satisfied: regex!=2019.12.17 in /home/ysw/anaconda3/envs/term/lib/python3.10/site-packages (from transformers) (2024.11.6)\n",
      "Requirement already satisfied: requests in /home/ysw/anaconda3/envs/term/lib/python3.10/site-packages (from transformers) (2.32.3)\n",
      "Requirement already satisfied: tokenizers<0.22,>=0.21 in /home/ysw/anaconda3/envs/term/lib/python3.10/site-packages (from transformers) (0.21.1)\n",
      "Requirement already satisfied: tqdm>=4.27 in /home/ysw/anaconda3/envs/term/lib/python3.10/site-packages (from transformers) (4.67.1)\n",
      "Requirement already satisfied: hf-xet<2.0.0,>=1.1.2 in /home/ysw/anaconda3/envs/term/lib/python3.10/site-packages (from huggingface-hub>=0.21.0->accelerate) (1.1.3)\n",
      "Requirement already satisfied: MarkupSafe>=2.0 in /home/ysw/anaconda3/envs/term/lib/python3.10/site-packages (from jinja2->torch<3,>=2.2->bitsandbytes) (3.0.2)\n",
      "Requirement already satisfied: charset_normalizer<4,>=2 in /home/ysw/anaconda3/envs/term/lib/python3.10/site-packages (from requests->transformers) (3.4.2)\n",
      "Requirement already satisfied: idna<4,>=2.5 in /home/ysw/anaconda3/envs/term/lib/python3.10/site-packages (from requests->transformers) (3.10)\n",
      "Requirement already satisfied: urllib3<3,>=1.21.1 in /home/ysw/anaconda3/envs/term/lib/python3.10/site-packages (from requests->transformers) (2.4.0)\n",
      "Requirement already satisfied: certifi>=2017.4.17 in /home/ysw/anaconda3/envs/term/lib/python3.10/site-packages (from requests->transformers) (2025.4.26)\n"
     ]
    }
   ],
   "source": [
    "!pip install bitsandbytes accelerate transformers"
   ]
  },
  {
   "cell_type": "code",
   "execution_count": 3,
   "id": "22635c2b-7ab8-4fea-bd9a-0b3960ae4c10",
   "metadata": {
    "scrolled": true
   },
   "outputs": [
    {
     "name": "stdout",
     "output_type": "stream",
     "text": [
      "Requirement already satisfied: beautifulsoup4==4.13.4 in /home/ysw/anaconda3/envs/term/lib/python3.10/site-packages (from -r ../requirements.txt (line 1)) (4.13.4)\n",
      "Collecting fastapi==0.115.12 (from -r ../requirements.txt (line 2))\n",
      "  Using cached fastapi-0.115.12-py3-none-any.whl.metadata (27 kB)\n",
      "Collecting Flask==3.1.1 (from -r ../requirements.txt (line 3))\n",
      "  Using cached flask-3.1.1-py3-none-any.whl.metadata (3.0 kB)\n",
      "Collecting Flask-SocketIO==5.5.1 (from -r ../requirements.txt (line 4))\n",
      "  Using cached Flask_SocketIO-5.5.1-py3-none-any.whl.metadata (2.6 kB)\n",
      "Collecting loguru==0.7.3 (from -r ../requirements.txt (line 5))\n",
      "  Using cached loguru-0.7.3-py3-none-any.whl.metadata (22 kB)\n",
      "Collecting lxml==5.4.0 (from -r ../requirements.txt (line 6))\n",
      "  Using cached lxml-5.4.0-cp310-cp310-manylinux_2_28_x86_64.whl.metadata (3.5 kB)\n",
      "Collecting pandas==2.3.0 (from -r ../requirements.txt (line 7))\n",
      "  Using cached pandas-2.3.0-cp310-cp310-manylinux_2_17_x86_64.manylinux2014_x86_64.whl.metadata (91 kB)\n",
      "Collecting pdfplumber==0.11.6 (from -r ../requirements.txt (line 8))\n",
      "  Using cached pdfplumber-0.11.6-py3-none-any.whl.metadata (42 kB)\n",
      "Collecting pydantic==2.11.5 (from -r ../requirements.txt (line 9))\n",
      "  Using cached pydantic-2.11.5-py3-none-any.whl.metadata (67 kB)\n",
      "Requirement already satisfied: requests==2.32.3 in /home/ysw/anaconda3/envs/term/lib/python3.10/site-packages (from -r ../requirements.txt (line 10)) (2.32.3)\n",
      "Requirement already satisfied: tqdm==4.67.1 in /home/ysw/anaconda3/envs/term/lib/python3.10/site-packages (from -r ../requirements.txt (line 11)) (4.67.1)\n",
      "Requirement already satisfied: transformers==4.52.4 in /home/ysw/anaconda3/envs/term/lib/python3.10/site-packages (from -r ../requirements.txt (line 12)) (4.52.4)\n",
      "Collecting uvicorn==0.34.3 (from -r ../requirements.txt (line 13))\n",
      "  Using cached uvicorn-0.34.3-py3-none-any.whl.metadata (6.5 kB)\n",
      "Requirement already satisfied: soupsieve>1.2 in /home/ysw/anaconda3/envs/term/lib/python3.10/site-packages (from beautifulsoup4==4.13.4->-r ../requirements.txt (line 1)) (2.7)\n",
      "Requirement already satisfied: typing-extensions>=4.0.0 in /home/ysw/anaconda3/envs/term/lib/python3.10/site-packages (from beautifulsoup4==4.13.4->-r ../requirements.txt (line 1)) (4.14.0)\n",
      "Collecting starlette<0.47.0,>=0.40.0 (from fastapi==0.115.12->-r ../requirements.txt (line 2))\n",
      "  Using cached starlette-0.46.2-py3-none-any.whl.metadata (6.2 kB)\n",
      "Collecting annotated-types>=0.6.0 (from pydantic==2.11.5->-r ../requirements.txt (line 9))\n",
      "  Using cached annotated_types-0.7.0-py3-none-any.whl.metadata (15 kB)\n",
      "Collecting pydantic-core==2.33.2 (from pydantic==2.11.5->-r ../requirements.txt (line 9))\n",
      "  Using cached pydantic_core-2.33.2-cp310-cp310-manylinux_2_17_x86_64.manylinux2014_x86_64.whl.metadata (6.8 kB)\n",
      "Collecting typing-inspection>=0.4.0 (from pydantic==2.11.5->-r ../requirements.txt (line 9))\n",
      "  Using cached typing_inspection-0.4.1-py3-none-any.whl.metadata (2.6 kB)\n",
      "Collecting blinker>=1.9.0 (from Flask==3.1.1->-r ../requirements.txt (line 3))\n",
      "  Using cached blinker-1.9.0-py3-none-any.whl.metadata (1.6 kB)\n",
      "Collecting click>=8.1.3 (from Flask==3.1.1->-r ../requirements.txt (line 3))\n",
      "  Using cached click-8.2.1-py3-none-any.whl.metadata (2.5 kB)\n",
      "Collecting itsdangerous>=2.2.0 (from Flask==3.1.1->-r ../requirements.txt (line 3))\n",
      "  Using cached itsdangerous-2.2.0-py3-none-any.whl.metadata (1.9 kB)\n",
      "Requirement already satisfied: jinja2>=3.1.2 in /home/ysw/anaconda3/envs/term/lib/python3.10/site-packages (from Flask==3.1.1->-r ../requirements.txt (line 3)) (3.1.6)\n",
      "Requirement already satisfied: markupsafe>=2.1.1 in /home/ysw/anaconda3/envs/term/lib/python3.10/site-packages (from Flask==3.1.1->-r ../requirements.txt (line 3)) (3.0.2)\n",
      "Collecting werkzeug>=3.1.0 (from Flask==3.1.1->-r ../requirements.txt (line 3))\n",
      "  Using cached werkzeug-3.1.3-py3-none-any.whl.metadata (3.7 kB)\n",
      "Collecting python-socketio>=5.12.0 (from Flask-SocketIO==5.5.1->-r ../requirements.txt (line 4))\n",
      "  Using cached python_socketio-5.13.0-py3-none-any.whl.metadata (3.2 kB)\n",
      "Requirement already satisfied: numpy>=1.22.4 in /home/ysw/anaconda3/envs/term/lib/python3.10/site-packages (from pandas==2.3.0->-r ../requirements.txt (line 7)) (2.2.6)\n",
      "Requirement already satisfied: python-dateutil>=2.8.2 in /home/ysw/anaconda3/envs/term/lib/python3.10/site-packages (from pandas==2.3.0->-r ../requirements.txt (line 7)) (2.9.0.post0)\n",
      "Requirement already satisfied: pytz>=2020.1 in /home/ysw/anaconda3/envs/term/lib/python3.10/site-packages (from pandas==2.3.0->-r ../requirements.txt (line 7)) (2025.2)\n",
      "Collecting tzdata>=2022.7 (from pandas==2.3.0->-r ../requirements.txt (line 7))\n",
      "  Using cached tzdata-2025.2-py2.py3-none-any.whl.metadata (1.4 kB)\n",
      "Collecting pdfminer.six==20250327 (from pdfplumber==0.11.6->-r ../requirements.txt (line 8))\n",
      "  Using cached pdfminer_six-20250327-py3-none-any.whl.metadata (4.1 kB)\n",
      "Collecting Pillow>=9.1 (from pdfplumber==0.11.6->-r ../requirements.txt (line 8))\n",
      "  Using cached pillow-11.2.1-cp310-cp310-manylinux_2_28_x86_64.whl.metadata (8.9 kB)\n",
      "Collecting pypdfium2>=4.18.0 (from pdfplumber==0.11.6->-r ../requirements.txt (line 8))\n",
      "  Using cached pypdfium2-4.30.1-py3-none-manylinux_2_17_x86_64.manylinux2014_x86_64.whl.metadata (48 kB)\n",
      "Requirement already satisfied: charset_normalizer<4,>=2 in /home/ysw/anaconda3/envs/term/lib/python3.10/site-packages (from requests==2.32.3->-r ../requirements.txt (line 10)) (3.4.2)\n",
      "Requirement already satisfied: idna<4,>=2.5 in /home/ysw/anaconda3/envs/term/lib/python3.10/site-packages (from requests==2.32.3->-r ../requirements.txt (line 10)) (3.10)\n",
      "Requirement already satisfied: urllib3<3,>=1.21.1 in /home/ysw/anaconda3/envs/term/lib/python3.10/site-packages (from requests==2.32.3->-r ../requirements.txt (line 10)) (2.4.0)\n",
      "Requirement already satisfied: certifi>=2017.4.17 in /home/ysw/anaconda3/envs/term/lib/python3.10/site-packages (from requests==2.32.3->-r ../requirements.txt (line 10)) (2025.4.26)\n",
      "Requirement already satisfied: filelock in /home/ysw/.local/lib/python3.10/site-packages (from transformers==4.52.4->-r ../requirements.txt (line 12)) (3.18.0)\n",
      "Requirement already satisfied: huggingface-hub<1.0,>=0.30.0 in /home/ysw/anaconda3/envs/term/lib/python3.10/site-packages (from transformers==4.52.4->-r ../requirements.txt (line 12)) (0.32.4)\n",
      "Requirement already satisfied: packaging>=20.0 in /home/ysw/anaconda3/envs/term/lib/python3.10/site-packages (from transformers==4.52.4->-r ../requirements.txt (line 12)) (25.0)\n",
      "Requirement already satisfied: pyyaml>=5.1 in /home/ysw/anaconda3/envs/term/lib/python3.10/site-packages (from transformers==4.52.4->-r ../requirements.txt (line 12)) (6.0.2)\n",
      "Requirement already satisfied: regex!=2019.12.17 in /home/ysw/anaconda3/envs/term/lib/python3.10/site-packages (from transformers==4.52.4->-r ../requirements.txt (line 12)) (2024.11.6)\n",
      "Requirement already satisfied: tokenizers<0.22,>=0.21 in /home/ysw/anaconda3/envs/term/lib/python3.10/site-packages (from transformers==4.52.4->-r ../requirements.txt (line 12)) (0.21.1)\n",
      "Requirement already satisfied: safetensors>=0.4.3 in /home/ysw/anaconda3/envs/term/lib/python3.10/site-packages (from transformers==4.52.4->-r ../requirements.txt (line 12)) (0.5.3)\n",
      "Requirement already satisfied: h11>=0.8 in /home/ysw/anaconda3/envs/term/lib/python3.10/site-packages (from uvicorn==0.34.3->-r ../requirements.txt (line 13)) (0.16.0)\n",
      "Collecting cryptography>=36.0.0 (from pdfminer.six==20250327->pdfplumber==0.11.6->-r ../requirements.txt (line 8))\n",
      "  Using cached cryptography-45.0.3-cp37-abi3-manylinux_2_34_x86_64.whl.metadata (5.7 kB)\n",
      "Requirement already satisfied: fsspec>=2023.5.0 in /home/ysw/anaconda3/envs/term/lib/python3.10/site-packages (from huggingface-hub<1.0,>=0.30.0->transformers==4.52.4->-r ../requirements.txt (line 12)) (2025.5.1)\n",
      "Requirement already satisfied: hf-xet<2.0.0,>=1.1.2 in /home/ysw/anaconda3/envs/term/lib/python3.10/site-packages (from huggingface-hub<1.0,>=0.30.0->transformers==4.52.4->-r ../requirements.txt (line 12)) (1.1.3)\n",
      "Requirement already satisfied: anyio<5,>=3.6.2 in /home/ysw/anaconda3/envs/term/lib/python3.10/site-packages (from starlette<0.47.0,>=0.40.0->fastapi==0.115.12->-r ../requirements.txt (line 2)) (4.9.0)\n",
      "Requirement already satisfied: exceptiongroup>=1.0.2 in /home/ysw/anaconda3/envs/term/lib/python3.10/site-packages (from anyio<5,>=3.6.2->starlette<0.47.0,>=0.40.0->fastapi==0.115.12->-r ../requirements.txt (line 2)) (1.3.0)\n",
      "Requirement already satisfied: sniffio>=1.1 in /home/ysw/anaconda3/envs/term/lib/python3.10/site-packages (from anyio<5,>=3.6.2->starlette<0.47.0,>=0.40.0->fastapi==0.115.12->-r ../requirements.txt (line 2)) (1.3.1)\n",
      "Requirement already satisfied: cffi>=1.14 in /home/ysw/anaconda3/envs/term/lib/python3.10/site-packages (from cryptography>=36.0.0->pdfminer.six==20250327->pdfplumber==0.11.6->-r ../requirements.txt (line 8)) (1.17.1)\n",
      "Requirement already satisfied: pycparser in /home/ysw/anaconda3/envs/term/lib/python3.10/site-packages (from cffi>=1.14->cryptography>=36.0.0->pdfminer.six==20250327->pdfplumber==0.11.6->-r ../requirements.txt (line 8)) (2.22)\n",
      "Requirement already satisfied: six>=1.5 in /home/ysw/anaconda3/envs/term/lib/python3.10/site-packages (from python-dateutil>=2.8.2->pandas==2.3.0->-r ../requirements.txt (line 7)) (1.17.0)\n",
      "Collecting bidict>=0.21.0 (from python-socketio>=5.12.0->Flask-SocketIO==5.5.1->-r ../requirements.txt (line 4))\n",
      "  Using cached bidict-0.23.1-py3-none-any.whl.metadata (8.7 kB)\n",
      "Collecting python-engineio>=4.11.0 (from python-socketio>=5.12.0->Flask-SocketIO==5.5.1->-r ../requirements.txt (line 4))\n",
      "  Using cached python_engineio-4.12.2-py3-none-any.whl.metadata (2.2 kB)\n",
      "Collecting simple-websocket>=0.10.0 (from python-engineio>=4.11.0->python-socketio>=5.12.0->Flask-SocketIO==5.5.1->-r ../requirements.txt (line 4))\n",
      "  Using cached simple_websocket-1.1.0-py3-none-any.whl.metadata (1.5 kB)\n",
      "Collecting wsproto (from simple-websocket>=0.10.0->python-engineio>=4.11.0->python-socketio>=5.12.0->Flask-SocketIO==5.5.1->-r ../requirements.txt (line 4))\n",
      "  Using cached wsproto-1.2.0-py3-none-any.whl.metadata (5.6 kB)\n",
      "Using cached fastapi-0.115.12-py3-none-any.whl (95 kB)\n",
      "Using cached pydantic-2.11.5-py3-none-any.whl (444 kB)\n",
      "Using cached flask-3.1.1-py3-none-any.whl (103 kB)\n",
      "Using cached Flask_SocketIO-5.5.1-py3-none-any.whl (18 kB)\n",
      "Using cached loguru-0.7.3-py3-none-any.whl (61 kB)\n",
      "Using cached lxml-5.4.0-cp310-cp310-manylinux_2_28_x86_64.whl (5.1 MB)\n",
      "Using cached pandas-2.3.0-cp310-cp310-manylinux_2_17_x86_64.manylinux2014_x86_64.whl (12.3 MB)\n",
      "Using cached pdfplumber-0.11.6-py3-none-any.whl (60 kB)\n",
      "Using cached uvicorn-0.34.3-py3-none-any.whl (62 kB)\n",
      "Using cached pdfminer_six-20250327-py3-none-any.whl (5.6 MB)\n",
      "Using cached pydantic_core-2.33.2-cp310-cp310-manylinux_2_17_x86_64.manylinux2014_x86_64.whl (2.0 MB)\n",
      "Using cached starlette-0.46.2-py3-none-any.whl (72 kB)\n",
      "Using cached annotated_types-0.7.0-py3-none-any.whl (13 kB)\n",
      "Using cached blinker-1.9.0-py3-none-any.whl (8.5 kB)\n",
      "Using cached click-8.2.1-py3-none-any.whl (102 kB)\n",
      "Using cached cryptography-45.0.3-cp37-abi3-manylinux_2_34_x86_64.whl (4.5 MB)\n",
      "Using cached itsdangerous-2.2.0-py3-none-any.whl (16 kB)\n",
      "Using cached pillow-11.2.1-cp310-cp310-manylinux_2_28_x86_64.whl (4.6 MB)\n",
      "Using cached pypdfium2-4.30.1-py3-none-manylinux_2_17_x86_64.manylinux2014_x86_64.whl (2.9 MB)\n",
      "Using cached python_socketio-5.13.0-py3-none-any.whl (77 kB)\n",
      "Using cached bidict-0.23.1-py3-none-any.whl (32 kB)\n",
      "Using cached python_engineio-4.12.2-py3-none-any.whl (59 kB)\n",
      "Using cached simple_websocket-1.1.0-py3-none-any.whl (13 kB)\n",
      "Using cached typing_inspection-0.4.1-py3-none-any.whl (14 kB)\n",
      "Using cached tzdata-2025.2-py2.py3-none-any.whl (347 kB)\n",
      "Using cached werkzeug-3.1.3-py3-none-any.whl (224 kB)\n",
      "Using cached wsproto-1.2.0-py3-none-any.whl (24 kB)\n",
      "Installing collected packages: wsproto, werkzeug, tzdata, typing-inspection, pypdfium2, pydantic-core, Pillow, lxml, loguru, itsdangerous, click, blinker, bidict, annotated-types, uvicorn, simple-websocket, pydantic, pandas, Flask, cryptography, starlette, python-engineio, pdfminer.six, python-socketio, pdfplumber, fastapi, Flask-SocketIO\n",
      "\u001B[2K   \u001B[90m━━━━━━━━━━━━━━━━━━━━━━━━━━━━━━━━━━━━━━━━\u001B[0m \u001B[32m27/27\u001B[0m [Flask-SocketIO]m [pdfminer.six]]\n",
      "\u001B[1A\u001B[2KSuccessfully installed Flask-3.1.1 Flask-SocketIO-5.5.1 Pillow-11.2.1 annotated-types-0.7.0 bidict-0.23.1 blinker-1.9.0 click-8.2.1 cryptography-45.0.3 fastapi-0.115.12 itsdangerous-2.2.0 loguru-0.7.3 lxml-5.4.0 pandas-2.3.0 pdfminer.six-20250327 pdfplumber-0.11.6 pydantic-2.11.5 pydantic-core-2.33.2 pypdfium2-4.30.1 python-engineio-4.12.2 python-socketio-5.13.0 simple-websocket-1.1.0 starlette-0.46.2 typing-inspection-0.4.1 tzdata-2025.2 uvicorn-0.34.3 werkzeug-3.1.3 wsproto-1.2.0\n"
     ]
    }
   ],
   "source": [
    "!pip install -r ../requirements.txt"
   ]
  },
  {
   "cell_type": "code",
   "execution_count": 4,
   "id": "253b2224-7543-4116-90d9-b65c406bbc27",
   "metadata": {
    "ExecuteTime": {
     "end_time": "2025-06-07T11:39:01.621368Z",
     "start_time": "2025-06-07T11:38:59.776684Z"
    },
    "colab": {
     "base_uri": "https://localhost:8080/"
    },
    "id": "253b2224-7543-4116-90d9-b65c406bbc27",
    "outputId": "e60cdfb8-2617-4263-fb2b-ca67f469efc0"
   },
   "outputs": [
    {
     "data": {
      "application/vnd.jupyter.widget-view+json": {
       "model_id": "b0a38dc5001f43649b095814bcfe8f71",
       "version_major": 2,
       "version_minor": 0
      },
      "text/plain": [
       "Loading checkpoint shards:   0%|          | 0/4 [00:00<?, ?it/s]"
      ]
     },
     "metadata": {},
     "output_type": "display_data"
    }
   ],
   "source": [
    "import torch\n",
    "from transformers import AutoTokenizer, AutoModelForCausalLM, BitsAndBytesConfig\n",
    "\n",
    "# 1. 모델 및 토크나이저 로드\n",
    "model_name = \"dnotitia/Llama-DNA-1.0-8B-Instruct\"\n",
    "\n",
    "bnb_config = BitsAndBytesConfig(\n",
    "    load_in_4bit=True,                # 4-bit 양자화\n",
    "    bnb_4bit_use_double_quant=True,   # 2단계 양자화 사용 (효율성 향상)\n",
    "    bnb_4bit_quant_type=\"nf4\",        # 양자화 타입 (nf4 추천)\n",
    "    bnb_4bit_compute_dtype=torch.bfloat16  # 연산 dtype (bf16 또는 float16)\n",
    ")\n",
    "\n",
    "tokenizer = AutoTokenizer.from_pretrained(model_name)\n",
    "model = AutoModelForCausalLM.from_pretrained(\n",
    "    model_name,\n",
    "    quantization_config=bnb_config,   # 양자화 config 전달\n",
    "    device_map=\"auto\",\n",
    "    resume_download=True\n",
    ")\n",
    "\n",
    "\n",
    "categories = {\n",
    "    0: \"졸업요건\",\n",
    "    1: \"학교 공지사항\",\n",
    "    2: \"학사일정\",\n",
    "    3: \"식단 안내\",\n",
    "    4: \"통학/셔틀 버스\"\n",
    "}\n",
    "\n",
    "\n",
    "import random\n",
    "\n",
    "def classify_query(user_query):\n",
    "    \"\"\"\n",
    "    사용자 질의를 입력받아 5가지 카테고리 중 하나로 분류합니다.\n",
    "    실패 시 무작위(0~4)로 fallback하여 절대 실패하지 않습니다.\n",
    "    \"\"\"\n",
    "\n",
    "    prompt = f\"\"\"다음은 사용자 질문과 관련된 카테고리 목록입니다:\n",
    "0: 졸업요건 (예: 졸업까지 몇 학점을 들어야 하나요?)\n",
    "1: 학교 공지사항 (예: 이번에 올라온 공지사항 어디서 볼 수 있어요?)\n",
    "2: 학사일정 (예: 이번 학기 수강신청은 언제 시작하나요?)\n",
    "3: 식단 안내 (예: 오늘 학식 뭐 나와요?)\n",
    "4: 통학/셔틀 버스 (예: 다음주에 셔틀버스는 정상 운행하나요?)\n",
    "\n",
    "사용자 질문: \"{user_query}\"\n",
    "위 질문은 어떤 카테고리에 가장 적합한가요? 숫자 레이블만 대답해주세요 (0, 1, 2, 3, 4 중 하나).\n",
    "\n",
    "가장 적합한 카테고리 번호: \"\"\"\n",
    "\n",
    "\n",
    "    inputs = tokenizer(prompt, return_tensors=\"pt\").to(model.device)\n",
    "\n",
    "    outputs = model.generate(\n",
    "        **inputs,\n",
    "        max_new_tokens=5,\n",
    "        eos_token_id=tokenizer.eos_token_id,\n",
    "        pad_token_id=tokenizer.pad_token_id,\n",
    "        do_sample=True,\n",
    "        temperature=0.5\n",
    "    )\n",
    "\n",
    "    response_text = tokenizer.decode(outputs[0][inputs.input_ids.shape[1]:], skip_special_tokens=True).strip()\n",
    "\n",
    "    try:\n",
    "        predicted_label_str = ''.join(filter(str.isdigit, response_text))\n",
    "        if predicted_label_str:\n",
    "            predicted_label = int(predicted_label_str[0])\n",
    "            if predicted_label in categories:\n",
    "                return predicted_label, categories[predicted_label]\n",
    "    except Exception:\n",
    "        pass\n",
    "\n",
    "    category_examples = {\n",
    "        0: \"졸업 요건, 졸업 학점, 졸업 논문, 졸업 자격, 졸업 인증, 유예 신청, 졸업 필수 조건\",\n",
    "        1: \"학교 공지사항, 안내문, 공고, 공지 업데이트, 휴강 안내, 장학금 공지, 긴급 알림\",\n",
    "        2: \"수강 신청, 시험 기간, 성적 발표, 개강일, 종강일, 학사 일정, 수업 일정, 등록 일정\",\n",
    "        3: \"학식, 학생 식당, 식단표, 조식, 중식, 석식, 오늘 메뉴, 급식 시간, 식단 운영\",\n",
    "        4: \"셔틀버스, 통학버스, 운행 시간표, 버스 노선, 정류장 위치, 셔틀 예약, 통학 교통\"\n",
    "    }\n",
    "\n",
    "\n",
    "    best_score = 0\n",
    "    best_label = None\n",
    "    for label, example in category_examples.items():\n",
    "        score = difflib.SequenceMatcher(None, user_query, example).ratio()\n",
    "        if score > best_score:\n",
    "            best_score = score\n",
    "            best_label = label\n",
    "\n",
    "    return best_label, categories[best_label]"
   ]
  },
  {
   "cell_type": "code",
   "execution_count": 5,
   "id": "e421ce51-b4e7-44a1-8dfb-530191149afa",
   "metadata": {
    "id": "e421ce51-b4e7-44a1-8dfb-530191149afa"
   },
   "outputs": [
    {
     "name": "stderr",
     "output_type": "stream",
     "text": [
      "randomized_korean_questions_result.json: 100%|████████████████████████████| 104/104 [00:29<00:00,  3.58it/s]\n"
     ]
    },
    {
     "name": "stdout",
     "output_type": "stream",
     "text": [
      "✅ ../outputs/randomized_korean_questions_result_output.json 저장 완료\n"
     ]
    },
    {
     "name": "stderr",
     "output_type": "stream",
     "text": [
      "classifier_questions_only_result.json: 100%|██████████████████████████████| 147/147 [00:41<00:00,  3.55it/s]"
     ]
    },
    {
     "name": "stdout",
     "output_type": "stream",
     "text": [
      "✅ ../outputs/classifier_questions_only_result_output.json 저장 완료\n"
     ]
    },
    {
     "name": "stderr",
     "output_type": "stream",
     "text": [
      "\n"
     ]
    }
   ],
   "source": [
    "import json\n",
    "from pathlib import Path\n",
    "from tqdm import tqdm\n",
    "\n",
    "# data/question directory relative to this notebook\n",
    "base_dir = Path('../data/question') if Path('../data/question').exists() else Path('data/question')\n",
    "output_dir = Path('../outputs') if Path('../outputs').exists() else Path('outputs')\n",
    "output_dir.mkdir(parents=True, exist_ok=True)\n",
    "\n",
    "for path in base_dir.glob('*.json'):\n",
    "    with path.open('r', encoding='utf-8') as f:\n",
    "        questions_data = json.load(f)\n",
    "    results = []\n",
    "    for item in tqdm(questions_data, desc=path.name):\n",
    "        question = item['question']\n",
    "        label, _ = classify_query(question)  # VARCO 모델 사용\n",
    "        results.append({'question': question, 'label': label})\n",
    "    out_file = output_dir / f\"{path.stem}_output.json\"\n",
    "    with out_file.open('w', encoding='utf-8') as f:\n",
    "        json.dump(results, f, ensure_ascii=False, indent=2)\n",
    "    print(f'✅ {out_file} 저장 완료')\n"
   ]
  }
 ],
 "metadata": {
  "accelerator": "GPU",
  "colab": {
   "gpuType": "T4",
   "provenance": []
  },
  "kernelspec": {
   "display_name": "Python 3 (ipykernel)",
   "language": "python",
   "name": "python3"
  },
  "language_info": {
   "codemirror_mode": {
    "name": "ipython",
    "version": 3
   },
   "file_extension": ".py",
   "mimetype": "text/x-python",
   "name": "python",
   "nbconvert_exporter": "python",
   "pygments_lexer": "ipython3",
   "version": "3.10.12"
  }
 },
 "nbformat": 4,
 "nbformat_minor": 5
}
